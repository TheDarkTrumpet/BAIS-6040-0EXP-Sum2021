{
 "cells": [
  {
   "cell_type": "markdown",
   "metadata": {
    "collapsed": true,
    "pycharm": {
     "name": "#%% md\n"
    }
   },
   "source": [
    "# Midterm\n",
    "\n",
    "## Purpose\n",
    "\n",
    "This midterm attempts to touch on a little bit of everything we covered in this course up to this point.  We won't be including Pandas in this midterm, and required knowledge is up through and including NumPy.\n",
    "\n",
    "There will be 5 main sections of this.  We'll go over types into lists, then sets, then into dictionaries functions, then NumPy.\n",
    "\n",
    "Some sections tie to other sections, so it's recommended you work on this top down.  I do recommend reading through everything, studying the output, and come up with a \"game plan\" before you get started.  Try to avoid the urge of starting to code right away, and give yourself plenty of time to figure out the strategy.  The actual coding of this shouldn't take too long.\n",
    "\n",
    "Readability will count.  Remember that too much in one cell can cause readability issues and can cause difficulty in tracing code.  Like statements in one cell is fine, just avoid putting too much."
   ]
  },
  {
   "cell_type": "code",
   "execution_count": null,
   "outputs": [],
   "source": [
    "import random as rnd\n",
    "import numpy as np\n",
    "\n",
    "rnd.seed(78223)\n",
    "np.random.seed(83433)"
   ],
   "metadata": {
    "collapsed": false,
    "pycharm": {
     "name": "#%%\n"
    }
   }
  },
  {
   "cell_type": "code",
   "execution_count": null,
   "outputs": [],
   "source": [
    "# Helper functions go in a block near the top"
   ],
   "metadata": {
    "collapsed": false,
    "pycharm": {
     "name": "#%%\n"
    }
   }
  },
  {
   "cell_type": "markdown",
   "source": [
    "# Part 1 - Types\n",
    "\n",
    "In this section, please create 4 different lists, each with 10 elements.  Below are the types, and formats/ranges\n",
    "\n",
    "| Type  | Length | Range/Format |\n",
    "|-------|--------|--------------|\n",
    "| integer | 10 elements | 3-12  |\n",
    "| float   | 10 elements | 0-1.0 (0.01, 0.02, ..., 1.0 |\n",
    "| Boolean | 10 elements | True/False  |\n",
    "| String  | 10 elements | format: \"number (X)\", 1 < X < 10, keep the parentheses |\n",
    "\n",
    "You can use For, While, or List Comprehension.  Do not use sample.\n",
    "\n",
    "Print the name of the variable, the type of the collection, and the elements contained - for each of the 4 variables we created above."
   ],
   "metadata": {
    "collapsed": false,
    "pycharm": {
     "name": "#%% md\n"
    }
   }
  },
  {
   "cell_type": "code",
   "execution_count": null,
   "outputs": [],
   "source": [],
   "metadata": {
    "collapsed": false,
    "pycharm": {
     "name": "#%%\n"
    }
   }
  },
  {
   "cell_type": "markdown",
   "source": [
    "# Part 2 - Sets\n",
    "\n",
    "In this section, please take the variables from part 1, and convert them to sets.  For each one, print out the variable, the type of collection, and the elements contained."
   ],
   "metadata": {
    "collapsed": false,
    "pycharm": {
     "name": "#%% md\n"
    }
   }
  },
  {
   "cell_type": "code",
   "execution_count": null,
   "outputs": [],
   "source": [],
   "metadata": {
    "collapsed": false,
    "pycharm": {
     "name": "#%%\n"
    }
   }
  },
  {
   "cell_type": "markdown",
   "source": [
    "# Part 3 - Dictionaries\n",
    "\n",
    "In this section, please create a dictionary that has 4 keys.  One key for each of the variables in part 2.  The values should be the corresponding values of those variables in part 2.\n",
    "\n",
    "After that, please create a loop that will iterate over the dictionary and prints the key, then the value elements.  There are many ways to approach this problem.  Please read through the following site (since we haven't covered iteration over a dictionary), and evaluate for yourself which makes the most sense to you and implementat that one.\n",
    "\n",
    "https://realpython.com/iterate-through-dictionary-python/\n",
    "\n",
    "After the implementation, please create a markdown cell and explain your choice."
   ],
   "metadata": {
    "collapsed": false,
    "pycharm": {
     "name": "#%% md\n"
    }
   }
  },
  {
   "cell_type": "code",
   "execution_count": null,
   "outputs": [],
   "source": [],
   "metadata": {
    "collapsed": false,
    "pycharm": {
     "name": "#%%\n"
    }
   }
  },
  {
   "cell_type": "markdown",
   "source": [
    "# Part 4 - Functions\n",
    "\n",
    "In the previous sections, part 1-3, we have a lot of duplicated code.  In this section, we'll resolve one of those issues - and that being the print and format of the statement.\n",
    "\n",
    "In this section, please write a function that takes an collection (List, Set, Tuple, Dictionary), and prints out the following information about it:\n",
    "\n",
    "* Object Type - List, Set, Tuple, etc.\n",
    "* The first 5 elements of the collection.\n",
    "\n",
    "This is a bit more tricky than it'll appear at first.  But, I caution you not to overthink this problem too much.  So you don't need to use \"enumerate\" (which would allow us to iterate over a list.  Think simply about it.  A list can be iterated, what can we do about a set?  Dictionary is another special case, but conceptually that was done in part 3.  So what's left is the ability to check the types and deal with them appropriately.\n",
    "\n",
    "One hint I will give, outside that, is you only need an if statement with two parts (if, else).\n",
    "\n",
    "Another hint I'll give is that your function may end up fairly large if not careful.  You can break up a function into multiple functions, and have that main function call the other functions, if desired.  Consider the readability in all this."
   ],
   "metadata": {
    "collapsed": false,
    "pycharm": {
     "name": "#%% md\n"
    }
   }
  },
  {
   "cell_type": "code",
   "execution_count": null,
   "outputs": [],
   "source": [],
   "metadata": {
    "collapsed": false,
    "pycharm": {
     "name": "#%%\n"
    }
   }
  },
  {
   "cell_type": "code",
   "execution_count": null,
   "outputs": [],
   "source": [
    "# Part 5 - NumPy"
   ],
   "metadata": {
    "collapsed": false,
    "pycharm": {
     "name": "#%%\n"
    }
   }
  }
 ],
 "metadata": {
  "kernelspec": {
   "display_name": "Python 3",
   "language": "python",
   "name": "python3"
  },
  "language_info": {
   "codemirror_mode": {
    "name": "ipython",
    "version": 2
   },
   "file_extension": ".py",
   "mimetype": "text/x-python",
   "name": "python",
   "nbconvert_exporter": "python",
   "pygments_lexer": "ipython2",
   "version": "2.7.6"
  }
 },
 "nbformat": 4,
 "nbformat_minor": 0
}