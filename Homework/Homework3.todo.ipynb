{
 "cells": [
  {
   "cell_type": "markdown",
   "metadata": {
    "collapsed": true,
    "pycharm": {
     "name": "#%% md\n"
    }
   },
   "source": [
    "# Homework3.todo.ipynb\n",
    "\n",
    "## Purpose\n",
    "\n",
    "The previous homework worked primarily with lists, iterating through them and picking elements.\n",
    "\n",
    "This homework will deal with the other types besides list, including conversion from one type to another.\n",
    "\n",
    "This particular homework will build on each other as one giant \"problem\" vs smaller individual problems.  If you end up getting stuck in any one spot in particular, then create the values by hand.  It's better to turn in what you can.\n",
    "\n",
    "## Requirements\n",
    "\n",
    "Readability will count more starting in this homework than in the previous ones.  Some tips, as a reminder:\n",
    "\n",
    "1. Name your variables to describe the use of it.\n",
    "2. When calling similar code (with minor changes), make a function.  You will find two big cases here where a function is valuable, if not more.\n",
    "3. Some documentation and 'chunking' up code is very useful.  Not everything should live in one cell, keep that in mind.\n",
    "\n",
    "One notebook will be required as a turn-in.  Please do not zip up the notebook before submitting, just turn it in.\n",
    "\n",
    "# Problem Description\n",
    "\n",
    "Let's assume we're balancing the books for a fish shop.  We want to generate fixture information that'll later be used for analysis.  We have the following properties we'll want to develop against in the future (when we get the revenue, we're planning an algorithm here - pretending):\n",
    "\n",
    "- Date\n",
    "- Fish Sold\n",
    "- Gross Revenue\n",
    "- Expenses\n",
    "- Net Revenue\n",
    "\n",
    "Here, we'll generate the fixture information for these properties, which we'll show why it's useful at the very end."
   ]
  },
  {
   "cell_type": "code",
   "execution_count": 1,
   "outputs": [],
   "source": [
    "# Import any required modules here, set seed here too."
   ],
   "metadata": {
    "collapsed": false,
    "pycharm": {
     "name": "#%%\n"
    }
   }
  },
  {
   "cell_type": "code",
   "execution_count": 2,
   "outputs": [],
   "source": [
    "# This space is for helper functions, do not put anything here til you figure out the helper functions to use"
   ],
   "metadata": {
    "collapsed": false,
    "pycharm": {
     "name": "#%%\n"
    }
   }
  },
  {
   "cell_type": "markdown",
   "source": [
    "# Step 1\n",
    "\n",
    "We're going to work in the month of June (which has 30 days).  Let's generate the fixture information for Date and Fish Sold.\n",
    "\n",
    "For the Date, don't worry about the actual 'Date' object.  We can use it as a string.  One hint on this, remember that f-strings can return strings.  Generate 30 dates.\n",
    "\n",
    "For the fish sold, generate a random number between 1 and 100, 30 times.  Print both values and verify by hand it's what you want."
   ],
   "metadata": {
    "collapsed": false,
    "pycharm": {
     "name": "#%% md\n"
    }
   }
  },
  {
   "cell_type": "code",
   "execution_count": 3,
   "outputs": [],
   "source": [],
   "metadata": {
    "collapsed": false,
    "pycharm": {
     "name": "#%%\n"
    }
   }
  },
  {
   "cell_type": "code",
   "execution_count": 4,
   "outputs": [
    {
     "name": "stdout",
     "output_type": "stream",
     "text": [
      "['2021/06/1', '2021/06/2', '2021/06/3', '2021/06/4', '2021/06/5', '2021/06/6', '2021/06/7', '2021/06/8', '2021/06/9', '2021/06/10', '2021/06/11', '2021/06/12', '2021/06/13', '2021/06/14', '2021/06/15', '2021/06/16', '2021/06/17', '2021/06/18', '2021/06/19', '2021/06/20', '2021/06/21', '2021/06/22', '2021/06/23', '2021/06/24', '2021/06/25', '2021/06/26', '2021/06/27', '2021/06/28', '2021/06/29', '2021/06/30']\n",
      "[3, 62, 50, 42, 67, 13, 57, 66, 47, 93, 92, 48, 50, 13, 92, 96, 18, 50, 14, 53, 20, 56, 61, 58, 95, 68, 45, 79, 78, 12]\n"
     ]
    }
   ],
   "source": [],
   "metadata": {
    "collapsed": false,
    "pycharm": {
     "name": "#%%\n"
    }
   }
  },
  {
   "cell_type": "markdown",
   "source": [
    "# Step 2\n",
    "\n",
    "We're now going to do something similar for the Gross Revenue and Expenses.  But, to get some practice with the notion of sets, we're going to use them for this part.  In this step, generate 30 random integer values under the following conditions, to their respective variables:\n",
    "\n",
    "| Element | Lower  | Upper |\n",
    "|---------|--------|-------|\n",
    "|Gross Revenue | 300 | 3000|\n",
    "|Expenses      | 100 | 500 |\n",
    "\n",
    "- Do **NOT** generate as a list then cast into a dictionary.\n",
    "- Print out the result"
   ],
   "metadata": {
    "collapsed": false,
    "pycharm": {
     "name": "#%% md\n"
    }
   }
  },
  {
   "cell_type": "code",
   "execution_count": 5,
   "outputs": [],
   "source": [],
   "metadata": {
    "collapsed": false,
    "pycharm": {
     "name": "#%%\n"
    }
   }
  },
  {
   "cell_type": "code",
   "execution_count": 6,
   "outputs": [
    {
     "name": "stdout",
     "output_type": "stream",
     "text": [
      "{636, 642, 387, 388, 1669, 2182, 1666, 397, 1047, 1818, 795, 1311, 672, 934, 2600, 1709, 953, 313, 444, 1981, 1470, 959, 719, 852, 1238, 2906, 1893, 1782, 1532, 2686}\n",
      "{131, 134, 269, 142, 148, 405, 150, 412, 285, 416, 418, 296, 299, 436, 310, 189, 318, 195, 454, 461, 336, 209, 337, 472, 231, 364, 117, 119, 381, 254}\n"
     ]
    }
   ],
   "source": [],
   "metadata": {
    "collapsed": false,
    "pycharm": {
     "name": "#%%\n"
    }
   }
  },
  {
   "cell_type": "markdown",
   "source": [
    "# Step 3\n",
    "\n",
    "Since working with sets for the next part will be a bit more difficult, cast both of these sets back into a list.  You can overwrite the previous variable (use the same variable).  For the gross revenue, call .sort() on the list when finished (not explicitly covered but is pretty simple).  It'll make the conclusion a bit more interesting."
   ],
   "metadata": {
    "collapsed": false,
    "pycharm": {
     "name": "#%% md\n"
    }
   }
  },
  {
   "cell_type": "code",
   "execution_count": 7,
   "outputs": [],
   "source": [],
   "metadata": {
    "collapsed": false,
    "pycharm": {
     "name": "#%%\n"
    }
   }
  },
  {
   "cell_type": "markdown",
   "source": [
    "# Step 4\n",
    "\n",
    "We're now going to calculate the Net Revenue based off the Gross Revenue and Expenses.  This'll be a new variable, a list, that contains 30 elements using the following equation:\n",
    "\n",
    "$Net = Gross - Expenses$\n",
    "\n",
    "Much like every other step, print the result of this out."
   ],
   "metadata": {
    "collapsed": false,
    "pycharm": {
     "name": "#%% md\n"
    }
   }
  },
  {
   "cell_type": "code",
   "execution_count": 8,
   "outputs": [],
   "source": [],
   "metadata": {
    "collapsed": false,
    "pycharm": {
     "name": "#%%\n"
    }
   }
  },
  {
   "cell_type": "markdown",
   "source": [
    "# Step 5\n",
    "\n",
    "We're now going to put all this together into one object.  We'll see why in the 'Conclusion' part of this.  But, let's make a dictionary that takes the following format:\n",
    "\n",
    "```\n",
    "{\n",
    "   'Date': [ .... ],\n",
    "   'Fish Sold': [ .... ],\n",
    "   'Gross Revenue': [ .... ],\n",
    "   'Expenses': [ .... ],\n",
    "   'Revenue': [ .... ]\n",
    "}\n",
    "```\n",
    "\n",
    "Be sure to name this shopMarchFinances, it'll be important in the conclusion."
   ],
   "metadata": {
    "collapsed": false,
    "pycharm": {
     "name": "#%% md\n"
    }
   }
  },
  {
   "cell_type": "code",
   "execution_count": 9,
   "outputs": [],
   "source": [],
   "metadata": {
    "collapsed": false,
    "pycharm": {
     "name": "#%%\n"
    }
   }
  },
  {
   "cell_type": "markdown",
   "source": [
    "# Conclusion\n",
    "\n",
    "Now, you may have asked yourself by now what the purpose of the above is, when it comes to analysis.  It's a good question, and the conclusion here is aimed to help answer that.\n",
    "\n",
    "The short version is that you may find it easier at times to work with pure python vs some of the libraries, such as pandas for some operations.  It's useful to know and understand how to transfer between the two on a regular basis to solve your problem.  In the case of the fixtures information, you could think:  What if the system generating said information isn't ready, and I want to work on it (which is our use case for this particular homework)?\n",
    "\n",
    "If you set everything up properly, the code below should be able to be run.  Don't worry about the code below, this isn't something you have to worry about for now.  But, we'll be covering it later on and gives you a hint of what's to come, and why I'm teaching what I'm teaching now."
   ],
   "metadata": {
    "collapsed": false,
    "pycharm": {
     "name": "#%% md\n"
    }
   }
  },
  {
   "cell_type": "code",
   "execution_count": 10,
   "outputs": [],
   "source": [
    "import pandas as pd\n",
    "import seaborn as sns\n",
    "import matplotlib.pyplot as plt"
   ],
   "metadata": {
    "collapsed": false,
    "pycharm": {
     "name": "#%%\n"
    }
   }
  },
  {
   "cell_type": "code",
   "execution_count": 11,
   "outputs": [
    {
     "data": {
      "text/plain": "            Fish Sold  Gross Revenue  Expenses  Net Revenue\nDate                                                       \n2021/06/1           3            313       131          182\n2021/06/2          62            387       134          253\n2021/06/3          50            388       269          119\n2021/06/4          42            397       142          255\n2021/06/5          67            444       148          296\n2021/06/6          13            636       405          231\n2021/06/7          57            642       150          492\n2021/06/8          66            672       412          260\n2021/06/9          47            719       285          434\n2021/06/10         93            795       416          379\n2021/06/11         92            852       418          434\n2021/06/12         48            934       296          638\n2021/06/13         50            953       299          654\n2021/06/14         13            959       436          523\n2021/06/15         92           1047       310          737\n2021/06/16         96           1238       189         1049\n2021/06/17         18           1311       318          993\n2021/06/18         50           1470       195         1275\n2021/06/19         14           1532       454         1078\n2021/06/20         53           1666       461         1205\n2021/06/21         20           1669       336         1333\n2021/06/22         56           1709       209         1500\n2021/06/23         61           1782       337         1445\n2021/06/24         58           1818       472         1346\n2021/06/25         95           1893       231         1662\n2021/06/26         68           1981       364         1617\n2021/06/27         45           2182       117         2065\n2021/06/28         79           2600       119         2481\n2021/06/29         78           2686       381         2305\n2021/06/30         12           2906       254         2652",
      "text/html": "<div>\n<style scoped>\n    .dataframe tbody tr th:only-of-type {\n        vertical-align: middle;\n    }\n\n    .dataframe tbody tr th {\n        vertical-align: top;\n    }\n\n    .dataframe thead th {\n        text-align: right;\n    }\n</style>\n<table border=\"1\" class=\"dataframe\">\n  <thead>\n    <tr style=\"text-align: right;\">\n      <th></th>\n      <th>Fish Sold</th>\n      <th>Gross Revenue</th>\n      <th>Expenses</th>\n      <th>Net Revenue</th>\n    </tr>\n    <tr>\n      <th>Date</th>\n      <th></th>\n      <th></th>\n      <th></th>\n      <th></th>\n    </tr>\n  </thead>\n  <tbody>\n    <tr>\n      <th>2021/06/1</th>\n      <td>3</td>\n      <td>313</td>\n      <td>131</td>\n      <td>182</td>\n    </tr>\n    <tr>\n      <th>2021/06/2</th>\n      <td>62</td>\n      <td>387</td>\n      <td>134</td>\n      <td>253</td>\n    </tr>\n    <tr>\n      <th>2021/06/3</th>\n      <td>50</td>\n      <td>388</td>\n      <td>269</td>\n      <td>119</td>\n    </tr>\n    <tr>\n      <th>2021/06/4</th>\n      <td>42</td>\n      <td>397</td>\n      <td>142</td>\n      <td>255</td>\n    </tr>\n    <tr>\n      <th>2021/06/5</th>\n      <td>67</td>\n      <td>444</td>\n      <td>148</td>\n      <td>296</td>\n    </tr>\n    <tr>\n      <th>2021/06/6</th>\n      <td>13</td>\n      <td>636</td>\n      <td>405</td>\n      <td>231</td>\n    </tr>\n    <tr>\n      <th>2021/06/7</th>\n      <td>57</td>\n      <td>642</td>\n      <td>150</td>\n      <td>492</td>\n    </tr>\n    <tr>\n      <th>2021/06/8</th>\n      <td>66</td>\n      <td>672</td>\n      <td>412</td>\n      <td>260</td>\n    </tr>\n    <tr>\n      <th>2021/06/9</th>\n      <td>47</td>\n      <td>719</td>\n      <td>285</td>\n      <td>434</td>\n    </tr>\n    <tr>\n      <th>2021/06/10</th>\n      <td>93</td>\n      <td>795</td>\n      <td>416</td>\n      <td>379</td>\n    </tr>\n    <tr>\n      <th>2021/06/11</th>\n      <td>92</td>\n      <td>852</td>\n      <td>418</td>\n      <td>434</td>\n    </tr>\n    <tr>\n      <th>2021/06/12</th>\n      <td>48</td>\n      <td>934</td>\n      <td>296</td>\n      <td>638</td>\n    </tr>\n    <tr>\n      <th>2021/06/13</th>\n      <td>50</td>\n      <td>953</td>\n      <td>299</td>\n      <td>654</td>\n    </tr>\n    <tr>\n      <th>2021/06/14</th>\n      <td>13</td>\n      <td>959</td>\n      <td>436</td>\n      <td>523</td>\n    </tr>\n    <tr>\n      <th>2021/06/15</th>\n      <td>92</td>\n      <td>1047</td>\n      <td>310</td>\n      <td>737</td>\n    </tr>\n    <tr>\n      <th>2021/06/16</th>\n      <td>96</td>\n      <td>1238</td>\n      <td>189</td>\n      <td>1049</td>\n    </tr>\n    <tr>\n      <th>2021/06/17</th>\n      <td>18</td>\n      <td>1311</td>\n      <td>318</td>\n      <td>993</td>\n    </tr>\n    <tr>\n      <th>2021/06/18</th>\n      <td>50</td>\n      <td>1470</td>\n      <td>195</td>\n      <td>1275</td>\n    </tr>\n    <tr>\n      <th>2021/06/19</th>\n      <td>14</td>\n      <td>1532</td>\n      <td>454</td>\n      <td>1078</td>\n    </tr>\n    <tr>\n      <th>2021/06/20</th>\n      <td>53</td>\n      <td>1666</td>\n      <td>461</td>\n      <td>1205</td>\n    </tr>\n    <tr>\n      <th>2021/06/21</th>\n      <td>20</td>\n      <td>1669</td>\n      <td>336</td>\n      <td>1333</td>\n    </tr>\n    <tr>\n      <th>2021/06/22</th>\n      <td>56</td>\n      <td>1709</td>\n      <td>209</td>\n      <td>1500</td>\n    </tr>\n    <tr>\n      <th>2021/06/23</th>\n      <td>61</td>\n      <td>1782</td>\n      <td>337</td>\n      <td>1445</td>\n    </tr>\n    <tr>\n      <th>2021/06/24</th>\n      <td>58</td>\n      <td>1818</td>\n      <td>472</td>\n      <td>1346</td>\n    </tr>\n    <tr>\n      <th>2021/06/25</th>\n      <td>95</td>\n      <td>1893</td>\n      <td>231</td>\n      <td>1662</td>\n    </tr>\n    <tr>\n      <th>2021/06/26</th>\n      <td>68</td>\n      <td>1981</td>\n      <td>364</td>\n      <td>1617</td>\n    </tr>\n    <tr>\n      <th>2021/06/27</th>\n      <td>45</td>\n      <td>2182</td>\n      <td>117</td>\n      <td>2065</td>\n    </tr>\n    <tr>\n      <th>2021/06/28</th>\n      <td>79</td>\n      <td>2600</td>\n      <td>119</td>\n      <td>2481</td>\n    </tr>\n    <tr>\n      <th>2021/06/29</th>\n      <td>78</td>\n      <td>2686</td>\n      <td>381</td>\n      <td>2305</td>\n    </tr>\n    <tr>\n      <th>2021/06/30</th>\n      <td>12</td>\n      <td>2906</td>\n      <td>254</td>\n      <td>2652</td>\n    </tr>\n  </tbody>\n</table>\n</div>"
     },
     "execution_count": 11,
     "metadata": {},
     "output_type": "execute_result"
    }
   ],
   "source": [
    "pdShopMarchFinances = pd.DataFrame.from_dict(shopMarchFinances)\n",
    "pdShopMarchFinances.set_index('Date', inplace=True)\n",
    "pdShopMarchFinances"
   ],
   "metadata": {
    "collapsed": false,
    "pycharm": {
     "name": "#%%\n"
    }
   }
  },
  {
   "cell_type": "code",
   "execution_count": 12,
   "outputs": [
    {
     "data": {
      "text/plain": "<Figure size 1080x720 with 1 Axes>",
      "image/png": "[encoded data removed]"
     },
     "metadata": {},
     "output_type": "display_data"
    }
   ],
   "source": [
    "sns.set_style(\"whitegrid\")\n",
    "fig, axis = plt.subplots(figsize=(15, 10))\n",
    "plt.xticks(rotation=45)\n",
    "axis.set_title(\"Revenue by Fish Sold at Fish Shop\")\n",
    "scatter = sns.scatterplot(ax=axis, data=pdShopMarchFinances,\n",
    "            x=\"Date\", y=\"Net Revenue\", size=\"Fish Sold\", hue=\"Fish Sold\", sizes=(50, 200))"
   ],
   "metadata": {
    "collapsed": false,
    "pycharm": {
     "name": "#%%\n"
    }
   }
  },
  {
   "cell_type": "code",
   "execution_count": 12,
   "outputs": [],
   "source": [],
   "metadata": {
    "collapsed": false,
    "pycharm": {
     "name": "#%%\n"
    }
   }
  }
 ],
 "metadata": {
  "kernelspec": {
   "display_name": "Python 3",
   "language": "python",
   "name": "python3"
  },
  "language_info": {
   "codemirror_mode": {
    "name": "ipython",
    "version": 2
   },
   "file_extension": ".py",
   "mimetype": "text/x-python",
   "name": "python",
   "nbconvert_exporter": "python",
   "pygments_lexer": "ipython2",
   "version": "2.7.6"
  }
 },
 "nbformat": 4,
 "nbformat_minor": 0
}