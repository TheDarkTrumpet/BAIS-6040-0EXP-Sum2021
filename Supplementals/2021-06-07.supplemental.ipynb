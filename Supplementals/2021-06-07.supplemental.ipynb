{
 "cells": [
  {
   "cell_type": "markdown",
   "metadata": {
    "collapsed": true,
    "pycharm": {
     "name": "#%% md\n"
    }
   },
   "source": [
    "# Supplemental Activity #2\n",
    "\n",
    "* Date: 2021/06/07\n",
    "* Supplemental Activity"
   ]
  },
  {
   "cell_type": "code",
   "execution_count": 1,
   "outputs": [
    {
     "data": {
      "text/plain": "[]"
     },
     "execution_count": 1,
     "metadata": {},
     "output_type": "execute_result"
    }
   ],
   "source": [
    "aList = []\n",
    "aList"
   ],
   "metadata": {
    "collapsed": false,
    "pycharm": {
     "name": "#%%\n"
    }
   }
  },
  {
   "cell_type": "code",
   "execution_count": 2,
   "outputs": [
    {
     "data": {
      "text/plain": "[5, 'Cat']"
     },
     "execution_count": 2,
     "metadata": {},
     "output_type": "execute_result"
    }
   ],
   "source": [
    "aList.append(5)\n",
    "aList.append(\"Cat\")\n",
    "aList"
   ],
   "metadata": {
    "collapsed": false,
    "pycharm": {
     "name": "#%%\n"
    }
   }
  },
  {
   "cell_type": "code",
   "execution_count": 3,
   "outputs": [
    {
     "data": {
      "text/plain": "[6, 5, 'Cat']"
     },
     "execution_count": 3,
     "metadata": {},
     "output_type": "execute_result"
    }
   ],
   "source": [
    "aList.insert(0, 6)\n",
    "aList"
   ],
   "metadata": {
    "collapsed": false,
    "pycharm": {
     "name": "#%%\n"
    }
   }
  },
  {
   "cell_type": "code",
   "execution_count": 4,
   "outputs": [
    {
     "data": {
      "text/plain": "[6, 5, 'Dog', 'Cat']"
     },
     "execution_count": 4,
     "metadata": {},
     "output_type": "execute_result"
    }
   ],
   "source": [
    "aList.insert(2, \"Dog\")\n",
    "aList"
   ],
   "metadata": {
    "collapsed": false,
    "pycharm": {
     "name": "#%%\n"
    }
   }
  },
  {
   "cell_type": "markdown",
   "source": [
    "# Definitions\n",
    "\n",
    "## Types:\n",
    "\n",
    "* List:  A collection of objects (string, int, bool, etc.)  Can all be different objects in the same set.  Mutable (can be changed)\n",
    "* Set:   A collection of objects, but must be unique.  Mutable (can be changed)\n",
    "* Tuple: A collection of objects (...)  Same as List except is immutable (cannot be changed)\n",
    "* Dictionary:  A key-value pair collection, where the keys must be unique.  Mutable (can be changed)"
   ],
   "metadata": {
    "collapsed": false,
    "pycharm": {
     "name": "#%% md\n"
    }
   }
  },
  {
   "cell_type": "code",
   "execution_count": 5,
   "outputs": [
    {
     "name": "stdout",
     "output_type": "stream",
     "text": [
      "This is the type: <class 'set'>, this is contents: {4, 5, 6}\n"
     ]
    }
   ],
   "source": [
    "aSet = {4, 5, 6}\n",
    "print(f\"This is the type: {type(aSet)}, this is contents: {aSet}\")"
   ],
   "metadata": {
    "collapsed": false,
    "pycharm": {
     "name": "#%%\n"
    }
   }
  },
  {
   "cell_type": "code",
   "execution_count": 6,
   "outputs": [
    {
     "data": {
      "text/plain": "\"This is the type: <class 'set'>, this is contents: {4, 5, 6}\""
     },
     "execution_count": 6,
     "metadata": {},
     "output_type": "execute_result"
    }
   ],
   "source": [
    "f\"This is the type: {type(aSet)}, this is contents: {aSet}\""
   ],
   "metadata": {
    "collapsed": false,
    "pycharm": {
     "name": "#%%\n"
    }
   }
  },
  {
   "cell_type": "code",
   "execution_count": 7,
   "outputs": [
    {
     "data": {
      "text/plain": "['0 something creative to say, yay',\n '1 something creative to say, yay',\n '2 something creative to say, yay',\n '3 something creative to say, yay',\n '4 something creative to say, yay',\n '5 something creative to say, yay',\n '6 something creative to say, yay',\n '7 something creative to say, yay',\n '8 something creative to say, yay',\n '9 something creative to say, yay',\n '10 something creative to say, yay',\n '11 something creative to say, yay',\n '12 something creative to say, yay',\n '13 something creative to say, yay',\n '14 something creative to say, yay',\n '15 something creative to say, yay',\n '16 something creative to say, yay',\n '17 something creative to say, yay',\n '18 something creative to say, yay',\n '19 something creative to say, yay',\n '20 something creative to say, yay',\n '21 something creative to say, yay',\n '22 something creative to say, yay',\n '23 something creative to say, yay',\n '24 something creative to say, yay',\n '25 something creative to say, yay',\n '26 something creative to say, yay',\n '27 something creative to say, yay',\n '28 something creative to say, yay',\n '29 something creative to say, yay']"
     },
     "execution_count": 7,
     "metadata": {},
     "output_type": "execute_result"
    }
   ],
   "source": [
    "my30stringlist = [f\"{x} something creative to say, yay\" for x in range(30)]\n",
    "my30stringlist"
   ],
   "metadata": {
    "collapsed": false,
    "pycharm": {
     "name": "#%%\n"
    }
   }
  },
  {
   "cell_type": "code",
   "execution_count": 8,
   "outputs": [],
   "source": [
    "aSet.add(10)"
   ],
   "metadata": {
    "collapsed": false,
    "pycharm": {
     "name": "#%%\n"
    }
   }
  },
  {
   "cell_type": "code",
   "execution_count": 9,
   "outputs": [
    {
     "data": {
      "text/plain": "{4, 5, 6, 10}"
     },
     "execution_count": 9,
     "metadata": {},
     "output_type": "execute_result"
    }
   ],
   "source": [
    "aSet\n"
   ],
   "metadata": {
    "collapsed": false,
    "pycharm": {
     "name": "#%%\n"
    }
   }
  },
  {
   "cell_type": "code",
   "execution_count": 10,
   "outputs": [],
   "source": [
    "aSet.update([100, 101, 102])"
   ],
   "metadata": {
    "collapsed": false,
    "pycharm": {
     "name": "#%%\n"
    }
   }
  },
  {
   "cell_type": "code",
   "execution_count": 11,
   "outputs": [],
   "source": [
    "import random as rnd\n",
    "\n",
    "rnd.seed(\"laksjdlkfjaslk;j239874u9283674yaoshjdfhljkshafdljasldfkjsl;jfdlkjasjflaj98236749862734r\")"
   ],
   "metadata": {
    "collapsed": false,
    "pycharm": {
     "name": "#%%\n"
    }
   }
  },
  {
   "cell_type": "code",
   "execution_count": 12,
   "outputs": [],
   "source": [
    "# [ x for x in range(...) ]\n",
    "# [ rnd.randint(1, 20) for _ in range(20) ]\n",
    "aSet.update([rnd.randint(rnd.randint(1, 10), rnd.randint(100, 1000)) for _ in range(rnd.randint(1, 100))])"
   ],
   "metadata": {
    "collapsed": false,
    "pycharm": {
     "name": "#%%\n"
    }
   }
  },
  {
   "cell_type": "code",
   "execution_count": 13,
   "outputs": [],
   "source": [
    "# This is equivalent to the above\n",
    "rangePicked = range(rnd.randint(1, 100))\n",
    "chosenValues = []\n",
    "for x in rangePicked:\n",
    "    lowerValue = rnd.randint(1, 10)\n",
    "    higherValue = rnd.randint(100, 1000)\n",
    "    chosenValue = rnd.randint(lowerValue, higherValue)\n",
    "    chosenValues.append(chosenValue)\n",
    "    # aSet.add(chosenValue) <-- can do this without append to list and update at end.\n",
    "aSet.update(chosenValues)\n"
   ],
   "metadata": {
    "collapsed": false,
    "pycharm": {
     "name": "#%%\n"
    }
   }
  },
  {
   "cell_type": "code",
   "execution_count": 14,
   "outputs": [
    {
     "data": {
      "text/plain": "{311,\n 395,\n 407,\n 413,\n 434,\n 462,\n 498,\n 537,\n 544,\n 567,\n 621,\n 665,\n 666,\n 736,\n 759,\n 774,\n 865,\n 947,\n 984,\n 1135,\n 1183,\n 1235,\n 1352,\n 1535,\n 1762,\n 1788,\n 1814,\n 2023,\n 2172,\n 2744}"
     },
     "execution_count": 14,
     "metadata": {},
     "output_type": "execute_result"
    }
   ],
   "source": [
    "# Other option/question\n",
    "testSet = set()  # { }\n",
    "testSet.update([rnd.randint(rnd.randint(100, 500), rnd.randint(501, 3000)) for _ in range(30)])\n",
    "testSet"
   ],
   "metadata": {
    "collapsed": false,
    "pycharm": {
     "name": "#%%\n"
    }
   }
  },
  {
   "cell_type": "code",
   "execution_count": 15,
   "outputs": [],
   "source": [
    "# Functions\n",
    "def someName(a, b=\"A default value\", c=\"Another default value\"):\n",
    "    print(f\"a => {a}, b => {b}, c => {c}\")"
   ],
   "metadata": {
    "collapsed": false,
    "pycharm": {
     "name": "#%%\n"
    }
   }
  },
  {
   "cell_type": "code",
   "execution_count": 16,
   "outputs": [
    {
     "name": "stdout",
     "output_type": "stream",
     "text": [
      "a => 5, b => A default value, c => Another default value\n"
     ]
    }
   ],
   "source": [
    "someName(5)"
   ],
   "metadata": {
    "collapsed": false,
    "pycharm": {
     "name": "#%%\n"
    }
   }
  },
  {
   "cell_type": "code",
   "execution_count": 17,
   "outputs": [
    {
     "name": "stdout",
     "output_type": "stream",
     "text": [
      "a => 7, b => 12, c => Another default value\n"
     ]
    }
   ],
   "source": [
    "someName(7, 12)"
   ],
   "metadata": {
    "collapsed": false,
    "pycharm": {
     "name": "#%%\n"
    }
   }
  },
  {
   "cell_type": "code",
   "execution_count": 18,
   "outputs": [
    {
     "ename": "TypeError",
     "evalue": "someName() missing 1 required positional argument: 'a'",
     "output_type": "error",
     "traceback": [
      "\u001B[0;31m---------------------------------------------------------------------------\u001B[0m",
      "\u001B[0;31mTypeError\u001B[0m                                 Traceback (most recent call last)",
      "\u001B[0;32m<ipython-input-18-f77c217cd790>\u001B[0m in \u001B[0;36m<module>\u001B[0;34m\u001B[0m\n\u001B[0;32m----> 1\u001B[0;31m \u001B[0msomeName\u001B[0m\u001B[0;34m(\u001B[0m\u001B[0;34m)\u001B[0m  \u001B[0;31m#<--- a must be defined\u001B[0m\u001B[0;34m\u001B[0m\u001B[0;34m\u001B[0m\u001B[0m\n\u001B[0m\u001B[1;32m      2\u001B[0m \u001B[0;34m\u001B[0m\u001B[0m\n",
      "\u001B[0;31mTypeError\u001B[0m: someName() missing 1 required positional argument: 'a'"
     ]
    }
   ],
   "source": [
    "someName()  #<--- a must be defined"
   ],
   "metadata": {
    "collapsed": false,
    "pycharm": {
     "name": "#%%\n"
    }
   }
  },
  {
   "cell_type": "code",
   "execution_count": null,
   "outputs": [],
   "source": [
    "someName(1, 2, 3)\n"
   ],
   "metadata": {
    "collapsed": false,
    "pycharm": {
     "name": "#%%\n"
    }
   }
  },
  {
   "cell_type": "code",
   "execution_count": null,
   "outputs": [],
   "source": [
    "# Making as a function\n",
    "def appendToSet(numberToAdd=(1, 100), lower=(1, 10), upper=(100, 1000)):\n",
    "    rangePicked = range(rnd.randint(numberToAdd[0], numberToAdd[1]))\n",
    "    chosenValues = []\n",
    "    for x in rangePicked:\n",
    "        lowerValue = rnd.randint(lower[0], lower[1])\n",
    "        higherValue = rnd.randint(upper[0], upper[1])\n",
    "        chosenValue = rnd.randint(lowerValue, higherValue)\n",
    "        chosenValues.append(chosenValue)\n",
    "    aSet.update(chosenValues)"
   ],
   "metadata": {
    "collapsed": false,
    "pycharm": {
     "name": "#%%\n"
    }
   }
  },
  {
   "cell_type": "code",
   "execution_count": null,
   "outputs": [],
   "source": [
    "appendToSet()"
   ],
   "metadata": {
    "collapsed": false,
    "pycharm": {
     "name": "#%%\n"
    }
   }
  },
  {
   "cell_type": "code",
   "execution_count": null,
   "outputs": [],
   "source": [
    "appendToSet(upper=(10000, 100000))"
   ],
   "metadata": {
    "collapsed": false,
    "pycharm": {
     "name": "#%%\n"
    }
   }
  },
  {
   "cell_type": "code",
   "execution_count": null,
   "outputs": [],
   "source": [
    "appendToSet((1, 1), (1, 1), (2, 2))"
   ],
   "metadata": {
    "collapsed": false,
    "pycharm": {
     "name": "#%%\n"
    }
   }
  },
  {
   "cell_type": "code",
   "execution_count": null,
   "outputs": [],
   "source": [
    "# .pop\n",
    "while len(aSet) > 0:\n",
    "    aSet.pop()"
   ],
   "metadata": {
    "collapsed": false,
    "pycharm": {
     "name": "#%%\n"
    }
   }
  },
  {
   "cell_type": "code",
   "execution_count": null,
   "outputs": [],
   "source": [
    "# Don't ever do this!  Run multiple times to understand why, count the values\n",
    "someValue = {rnd.randint(1, 10) for x in range(10)}\n",
    "someValue"
   ],
   "metadata": {
    "collapsed": false,
    "pycharm": {
     "name": "#%%\n"
    }
   }
  },
  {
   "cell_type": "code",
   "execution_count": null,
   "outputs": [],
   "source": [
    "someValues = [rnd.randint(1, 10) for x in range(10)]\n",
    "someValues"
   ],
   "metadata": {
    "collapsed": false,
    "pycharm": {
     "name": "#%%\n"
    }
   }
  },
  {
   "cell_type": "code",
   "execution_count": null,
   "outputs": [],
   "source": [
    "set(someValues)"
   ],
   "metadata": {
    "collapsed": false,
    "pycharm": {
     "name": "#%%\n"
    }
   }
  },
  {
   "cell_type": "code",
   "execution_count": 25,
   "outputs": [
    {
     "name": "stdout",
     "output_type": "stream",
     "text": [
      "Number of times to gather set: 13\n"
     ]
    },
    {
     "data": {
      "text/plain": "{3, 4, 5, 8, 10, 12, 16, 17, 18, 19}"
     },
     "execution_count": 25,
     "metadata": {},
     "output_type": "execute_result"
    }
   ],
   "source": [
    "something = set()\n",
    "numberIterated = 1\n",
    "while len(something) < 10:\n",
    "    #print(f\"On iteration: {numberIterated}\")\n",
    "    something.add(rnd.randint(3, 20))\n",
    "    numberIterated = numberIterated + 1\n",
    "print(f\"Number of times to gather set: {numberIterated}\")\n",
    "something"
   ],
   "metadata": {
    "collapsed": false,
    "pycharm": {
     "name": "#%%\n"
    }
   }
  },
  {
   "cell_type": "code",
   "execution_count": null,
   "outputs": [],
   "source": [],
   "metadata": {
    "collapsed": false,
    "pycharm": {
     "name": "#%%\n"
    }
   }
  }
 ],
 "metadata": {
  "kernelspec": {
   "display_name": "Python 3",
   "language": "python",
   "name": "python3"
  },
  "language_info": {
   "codemirror_mode": {
    "name": "ipython",
    "version": 2
   },
   "file_extension": ".py",
   "mimetype": "text/x-python",
   "name": "python",
   "nbconvert_exporter": "python",
   "pygments_lexer": "ipython2",
   "version": "2.7.6"
  }
 },
 "nbformat": 4,
 "nbformat_minor": 0
}