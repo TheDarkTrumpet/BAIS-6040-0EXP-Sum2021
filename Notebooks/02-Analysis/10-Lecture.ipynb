{
 "cells": [
  {
   "cell_type": "markdown",
   "metadata": {
    "collapsed": true,
    "pycharm": {
     "name": "#%% md\n"
    }
   },
   "source": [
    "# 10-Lecture\n",
    "\n",
    "# Agenda\n",
    "\n",
    "- Due Dates\n",
    "- Grading Update\n",
    "  - Grading Policy/criteria\n",
    "  - Homework 8\n",
    "- Final Exam\n",
    "- Class Project\n",
    "- New Material\n",
    "  - Flask, high level overview of it\n",
    "- Group breakouts (class project)"
   ]
  },
  {
   "cell_type": "markdown",
   "source": [
    "# Due Dates\n",
    "| Date | Activity |\n",
    "|------|----------|\n",
    "| 2021-07-21 | Module 10 Start - Flask   |\n",
    "| <i></i>    | Final Practical Released  |\n",
    "| <i></i>    | Homework 7 due            |\n",
    "| 2021-07-28 | Module 11 Start (Last day of class) |\n",
    "| <i></i>    | Final Practical Due       |\n",
    "| <i></i>    | Final Project Due         |\n",
    "| <i></i>    | Team Feedback Due         |\n",
    "| <i></i>    | Homework 8 due            |"
   ],
   "metadata": {
    "collapsed": false,
    "pycharm": {
     "name": "#%% md\n"
    }
   }
  },
  {
   "cell_type": "markdown",
   "source": [
    "# Grading Update\n",
    "\n",
    "1.  All homework, midterm, etc. graded up to Homework 7\n",
    "2.  Homework 8\n",
    "    - Designed to be a 'redo' of a previous homework\n",
    "      - Notebook: Points differential / 2 + Old Homework Grade\n",
    "        - Example:  50/100 on homework X, 90 on homework 8 => $90 - 50 => 40 / 2 => 20 + 50 => 70/100$ on homework X\n",
    "      - In-Class Activity: Straight up replacement.\n",
    "        - Example:  5/10 on activity 6a, 15/20 on activity 8a.  15/20 => .75, 75% of X/10 => 7.5/10\n",
    "        - Example 2:  5/20 on activity 7a, 15/20 on activity 8a.  15/20 on 7a\n",
    "        - Example 3:  10/20 on activity 7a, 3/20 on activity 8a.  10/20 on 7a (won't change)\n",
    "3.  Grading Criteria\n",
    "    - 1/2 class get A, 1/2 get B\n",
    "    - Regardless of where the curve hits (right now ~91%)\n",
    "    - Exception:  If you aren't trying, missing turn-ins, etc.  I'll look over all the work for those students, and see if I can see improvement in material.  If having asked questions prior to now (and yes, will verify that too), then that's good."
   ],
   "metadata": {
    "collapsed": false,
    "pycharm": {
     "name": "#%% md\n"
    }
   }
  },
  {
   "cell_type": "markdown",
   "source": [
    "# Final Exam\n",
    "\n",
    "## Practical\n",
    "- Practical is up on Github/ICON now.\n",
    "- Worth 50 points\n",
    "- Covers Pandas on up (but not including ML/Flask).\n",
    "- Because it covers a very narrow scope, the conceptual will be worth more points (50 points)\n",
    "\n",
    "## Conceptual\n",
    "- Given next week, class time\n",
    "- Will require webcam\n",
    "- Format similar to midterm conceptual\n",
    "- Worth 50 points.  Aiming between 20-30 questions\n",
    "- Time will be 30 minutes\n",
    "- You won't have to code anything, but will be expected to interpret code presented\n",
    "- Expect to see at least one question for **each** module, this includes Flask"
   ],
   "metadata": {
    "collapsed": false,
    "pycharm": {
     "name": "#%% md\n"
    }
   }
  },
  {
   "cell_type": "markdown",
   "source": [
    "# Class Project\n",
    "\n",
    "Due next week (everything's due next week):\n",
    "- Zip file for the class project, include your data set, any supplemental materials, etc.\n",
    "- Mirror that of like how a research paper is done.\n",
    "- Make the main report concise, to the point, and answering a specific question or set of questions.  Don't include extra, unnecessary work.  Put those in the supplemental files.\n",
    "- Evaluations for your classmates\n",
    "  - See word file on ICON (under last module)\n",
    "  - Upload that word file, filled out.  DO NOT use something other than word (ICON is picky about what it'll render)"
   ],
   "metadata": {
    "collapsed": false,
    "pycharm": {
     "name": "#%% md\n"
    }
   }
  },
  {
   "cell_type": "markdown",
   "source": [
    "# New Material\n",
    "\n",
    "Flask\n",
    "* How to launch in Anaconda and PyCharm\n",
    "* Advanced Flask is available for those that want to know more about how to make a more useful website."
   ],
   "metadata": {
    "collapsed": false,
    "pycharm": {
     "name": "#%% md\n"
    }
   }
  }
 ],
 "metadata": {
  "kernelspec": {
   "display_name": "Python 3",
   "language": "python",
   "name": "python3"
  },
  "language_info": {
   "codemirror_mode": {
    "name": "ipython",
    "version": 2
   },
   "file_extension": ".py",
   "mimetype": "text/x-python",
   "name": "python",
   "nbconvert_exporter": "python",
   "pygments_lexer": "ipython2",
   "version": "2.7.6"
  }
 },
 "nbformat": 4,
 "nbformat_minor": 0
}