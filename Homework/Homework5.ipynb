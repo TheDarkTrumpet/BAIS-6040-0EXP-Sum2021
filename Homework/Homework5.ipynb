{
 "cells": [
  {
   "cell_type": "markdown",
   "metadata": {
    "collapsed": true,
    "pycharm": {
     "name": "#%% md\n"
    }
   },
   "source": [
    "# Homework5.ipynb\n",
    "\n",
    "## Purpose\n",
    "This notebook is intended to give some practice with Pandas, including reading/writing from files and pulling information from the object in various ways.\n",
    "\n",
    "## Required Hand-in\n",
    "\n",
    "(Fill in!)"
   ]
  },
  {
   "cell_type": "markdown",
   "source": [
    "# Part 1: Preparation\n",
    "\n",
    "## Part 1a: Loading the data set\n",
    "In module 06.01.01, we talk about importing CSV files.  Inside the git repository, under data, we have the `MLB_Batting.csv` file.  We want to load this into a DataFrame to start with.\n",
    "\n",
    "* Be mindful of your \"working directory\" in Python.  You may need to point to the file directly with what's called an \"absolute location\".  By \"absolute\", I mean `C:\\Users\\<YourUser>\\BAIS-6040-0EXP-Summer\\data\\MLB_Batting.csv`, or something like that - where the drive is specified. You can also use relative URLs, too. Use Windows Explorer to determine the location of the data folder and go to the title bar and copy/paste it in.\n",
    "* Please do NOT load this through links on Github.  e.g. https://github.com/.... - using this after class will rely on you knowing how to import the data.\n",
    "\n",
    "Please print the result of the data load (avoid using the print statement, just have it exist on its own cell).  Also call info (https://pandas.pydata.org/pandas-docs/stable/reference/api/pandas.DataFrame.info.html) to show information about it."
   ],
   "metadata": {
    "collapsed": false,
    "pycharm": {
     "name": "#%% md\n"
    }
   }
  },
  {
   "cell_type": "code",
   "execution_count": 1,
   "outputs": [],
   "source": [
    "import pandas as pd"
   ],
   "metadata": {
    "collapsed": false,
    "pycharm": {
     "name": "#%%\n"
    }
   }
  },
  {
   "cell_type": "code",
   "execution_count": 2,
   "outputs": [
    {
     "data": {
      "text/plain": "         playerID  yearID  stint teamID lgID    G   AB   R    H  2B  ...  \\\n0       abercda01    1871      1    TRO  NaN    1    4   0    0   0  ...   \n1        addybo01    1871      1    RC1  NaN   25  118  30   32   6  ...   \n2       allisar01    1871      1    CL1  NaN   29  137  28   40   4  ...   \n3       allisdo01    1871      1    WS3  NaN   27  133  28   44  10  ...   \n4       ansonca01    1871      1    RC1  NaN   25  120  29   39  11  ...   \n...           ...     ...    ...    ...  ...  ...  ...  ..  ...  ..  ...   \n105856  zimmebr01    2018      1    CLE   AL   34  106  14   24   5  ...   \n105857  zimmejo02    2018      1    DET   AL   25    2   0    0   0  ...   \n105858  zimmery01    2018      1    WAS   NL   85  288  33   76  21  ...   \n105859  zobribe01    2018      1    CHN   NL  139  455  67  139  28  ...   \n105860  zuninmi01    2018      1    SEA   AL  113  373  37   75  18  ...   \n\n         RBI   SB   CS  BB     SO  IBB  HBP   SH   SF  GIDP  \n0        0.0  0.0  0.0   0    0.0  NaN  NaN  NaN  NaN   0.0  \n1       13.0  8.0  1.0   4    0.0  NaN  NaN  NaN  NaN   0.0  \n2       19.0  3.0  1.0   2    5.0  NaN  NaN  NaN  NaN   1.0  \n3       27.0  1.0  1.0   0    2.0  NaN  NaN  NaN  NaN   0.0  \n4       16.0  6.0  2.0   2    1.0  NaN  NaN  NaN  NaN   0.0  \n...      ...  ...  ...  ..    ...  ...  ...  ...  ...   ...  \n105856   9.0  4.0  1.0   7   44.0  0.0  1.0  0.0  0.0   1.0  \n105857   0.0  0.0  0.0   0    2.0  0.0  0.0  0.0  0.0   0.0  \n105858  51.0  1.0  1.0  30   55.0  1.0  3.0  0.0  2.0  10.0  \n105859  58.0  3.0  4.0  55   60.0  1.0  2.0  1.0  7.0   8.0  \n105860  44.0  0.0  0.0  24  150.0  0.0  6.0  0.0  2.0   7.0  \n\n[105861 rows x 22 columns]",
      "text/html": "<div>\n<style scoped>\n    .dataframe tbody tr th:only-of-type {\n        vertical-align: middle;\n    }\n\n    .dataframe tbody tr th {\n        vertical-align: top;\n    }\n\n    .dataframe thead th {\n        text-align: right;\n    }\n</style>\n<table border=\"1\" class=\"dataframe\">\n  <thead>\n    <tr style=\"text-align: right;\">\n      <th></th>\n      <th>playerID</th>\n      <th>yearID</th>\n      <th>stint</th>\n      <th>teamID</th>\n      <th>lgID</th>\n      <th>G</th>\n      <th>AB</th>\n      <th>R</th>\n      <th>H</th>\n      <th>2B</th>\n      <th>...</th>\n      <th>RBI</th>\n      <th>SB</th>\n      <th>CS</th>\n      <th>BB</th>\n      <th>SO</th>\n      <th>IBB</th>\n      <th>HBP</th>\n      <th>SH</th>\n      <th>SF</th>\n      <th>GIDP</th>\n    </tr>\n  </thead>\n  <tbody>\n    <tr>\n      <th>0</th>\n      <td>abercda01</td>\n      <td>1871</td>\n      <td>1</td>\n      <td>TRO</td>\n      <td>NaN</td>\n      <td>1</td>\n      <td>4</td>\n      <td>0</td>\n      <td>0</td>\n      <td>0</td>\n      <td>...</td>\n      <td>0.0</td>\n      <td>0.0</td>\n      <td>0.0</td>\n      <td>0</td>\n      <td>0.0</td>\n      <td>NaN</td>\n      <td>NaN</td>\n      <td>NaN</td>\n      <td>NaN</td>\n      <td>0.0</td>\n    </tr>\n    <tr>\n      <th>1</th>\n      <td>addybo01</td>\n      <td>1871</td>\n      <td>1</td>\n      <td>RC1</td>\n      <td>NaN</td>\n      <td>25</td>\n      <td>118</td>\n      <td>30</td>\n      <td>32</td>\n      <td>6</td>\n      <td>...</td>\n      <td>13.0</td>\n      <td>8.0</td>\n      <td>1.0</td>\n      <td>4</td>\n      <td>0.0</td>\n      <td>NaN</td>\n      <td>NaN</td>\n      <td>NaN</td>\n      <td>NaN</td>\n      <td>0.0</td>\n    </tr>\n    <tr>\n      <th>2</th>\n      <td>allisar01</td>\n      <td>1871</td>\n      <td>1</td>\n      <td>CL1</td>\n      <td>NaN</td>\n      <td>29</td>\n      <td>137</td>\n      <td>28</td>\n      <td>40</td>\n      <td>4</td>\n      <td>...</td>\n      <td>19.0</td>\n      <td>3.0</td>\n      <td>1.0</td>\n      <td>2</td>\n      <td>5.0</td>\n      <td>NaN</td>\n      <td>NaN</td>\n      <td>NaN</td>\n      <td>NaN</td>\n      <td>1.0</td>\n    </tr>\n    <tr>\n      <th>3</th>\n      <td>allisdo01</td>\n      <td>1871</td>\n      <td>1</td>\n      <td>WS3</td>\n      <td>NaN</td>\n      <td>27</td>\n      <td>133</td>\n      <td>28</td>\n      <td>44</td>\n      <td>10</td>\n      <td>...</td>\n      <td>27.0</td>\n      <td>1.0</td>\n      <td>1.0</td>\n      <td>0</td>\n      <td>2.0</td>\n      <td>NaN</td>\n      <td>NaN</td>\n      <td>NaN</td>\n      <td>NaN</td>\n      <td>0.0</td>\n    </tr>\n    <tr>\n      <th>4</th>\n      <td>ansonca01</td>\n      <td>1871</td>\n      <td>1</td>\n      <td>RC1</td>\n      <td>NaN</td>\n      <td>25</td>\n      <td>120</td>\n      <td>29</td>\n      <td>39</td>\n      <td>11</td>\n      <td>...</td>\n      <td>16.0</td>\n      <td>6.0</td>\n      <td>2.0</td>\n      <td>2</td>\n      <td>1.0</td>\n      <td>NaN</td>\n      <td>NaN</td>\n      <td>NaN</td>\n      <td>NaN</td>\n      <td>0.0</td>\n    </tr>\n    <tr>\n      <th>...</th>\n      <td>...</td>\n      <td>...</td>\n      <td>...</td>\n      <td>...</td>\n      <td>...</td>\n      <td>...</td>\n      <td>...</td>\n      <td>...</td>\n      <td>...</td>\n      <td>...</td>\n      <td>...</td>\n      <td>...</td>\n      <td>...</td>\n      <td>...</td>\n      <td>...</td>\n      <td>...</td>\n      <td>...</td>\n      <td>...</td>\n      <td>...</td>\n      <td>...</td>\n      <td>...</td>\n    </tr>\n    <tr>\n      <th>105856</th>\n      <td>zimmebr01</td>\n      <td>2018</td>\n      <td>1</td>\n      <td>CLE</td>\n      <td>AL</td>\n      <td>34</td>\n      <td>106</td>\n      <td>14</td>\n      <td>24</td>\n      <td>5</td>\n      <td>...</td>\n      <td>9.0</td>\n      <td>4.0</td>\n      <td>1.0</td>\n      <td>7</td>\n      <td>44.0</td>\n      <td>0.0</td>\n      <td>1.0</td>\n      <td>0.0</td>\n      <td>0.0</td>\n      <td>1.0</td>\n    </tr>\n    <tr>\n      <th>105857</th>\n      <td>zimmejo02</td>\n      <td>2018</td>\n      <td>1</td>\n      <td>DET</td>\n      <td>AL</td>\n      <td>25</td>\n      <td>2</td>\n      <td>0</td>\n      <td>0</td>\n      <td>0</td>\n      <td>...</td>\n      <td>0.0</td>\n      <td>0.0</td>\n      <td>0.0</td>\n      <td>0</td>\n      <td>2.0</td>\n      <td>0.0</td>\n      <td>0.0</td>\n      <td>0.0</td>\n      <td>0.0</td>\n      <td>0.0</td>\n    </tr>\n    <tr>\n      <th>105858</th>\n      <td>zimmery01</td>\n      <td>2018</td>\n      <td>1</td>\n      <td>WAS</td>\n      <td>NL</td>\n      <td>85</td>\n      <td>288</td>\n      <td>33</td>\n      <td>76</td>\n      <td>21</td>\n      <td>...</td>\n      <td>51.0</td>\n      <td>1.0</td>\n      <td>1.0</td>\n      <td>30</td>\n      <td>55.0</td>\n      <td>1.0</td>\n      <td>3.0</td>\n      <td>0.0</td>\n      <td>2.0</td>\n      <td>10.0</td>\n    </tr>\n    <tr>\n      <th>105859</th>\n      <td>zobribe01</td>\n      <td>2018</td>\n      <td>1</td>\n      <td>CHN</td>\n      <td>NL</td>\n      <td>139</td>\n      <td>455</td>\n      <td>67</td>\n      <td>139</td>\n      <td>28</td>\n      <td>...</td>\n      <td>58.0</td>\n      <td>3.0</td>\n      <td>4.0</td>\n      <td>55</td>\n      <td>60.0</td>\n      <td>1.0</td>\n      <td>2.0</td>\n      <td>1.0</td>\n      <td>7.0</td>\n      <td>8.0</td>\n    </tr>\n    <tr>\n      <th>105860</th>\n      <td>zuninmi01</td>\n      <td>2018</td>\n      <td>1</td>\n      <td>SEA</td>\n      <td>AL</td>\n      <td>113</td>\n      <td>373</td>\n      <td>37</td>\n      <td>75</td>\n      <td>18</td>\n      <td>...</td>\n      <td>44.0</td>\n      <td>0.0</td>\n      <td>0.0</td>\n      <td>24</td>\n      <td>150.0</td>\n      <td>0.0</td>\n      <td>6.0</td>\n      <td>0.0</td>\n      <td>2.0</td>\n      <td>7.0</td>\n    </tr>\n  </tbody>\n</table>\n<p>105861 rows × 22 columns</p>\n</div>"
     },
     "execution_count": 2,
     "metadata": {},
     "output_type": "execute_result"
    }
   ],
   "source": [
    "mlbBattingData = pd.read_csv(\"../data/MLB_Batting.csv\")\n",
    "mlbBattingData"
   ],
   "metadata": {
    "collapsed": false,
    "pycharm": {
     "name": "#%%\n"
    }
   }
  },
  {
   "cell_type": "code",
   "execution_count": 3,
   "outputs": [
    {
     "name": "stdout",
     "output_type": "stream",
     "text": [
      "<class 'pandas.core.frame.DataFrame'>\n",
      "RangeIndex: 105861 entries, 0 to 105860\n",
      "Data columns (total 22 columns):\n",
      " #   Column    Non-Null Count   Dtype  \n",
      "---  ------    --------------   -----  \n",
      " 0   playerID  105861 non-null  object \n",
      " 1   yearID    105861 non-null  int64  \n",
      " 2   stint     105861 non-null  int64  \n",
      " 3   teamID    105861 non-null  object \n",
      " 4   lgID      105123 non-null  object \n",
      " 5   G         105861 non-null  int64  \n",
      " 6   AB        105861 non-null  int64  \n",
      " 7   R         105861 non-null  int64  \n",
      " 8   H         105861 non-null  int64  \n",
      " 9   2B        105861 non-null  int64  \n",
      " 10  3B        105861 non-null  int64  \n",
      " 11  HR        105861 non-null  int64  \n",
      " 12  RBI       105105 non-null  float64\n",
      " 13  SB        103493 non-null  float64\n",
      " 14  CS        82320 non-null   float64\n",
      " 15  BB        105861 non-null  int64  \n",
      " 16  SO        103761 non-null  float64\n",
      " 17  IBB       69210 non-null   float64\n",
      " 18  HBP       103044 non-null  float64\n",
      " 19  SH        99792 non-null   float64\n",
      " 20  SF        69757 non-null   float64\n",
      " 21  GIDP      80420 non-null   float64\n",
      "dtypes: float64(9), int64(10), object(3)\n",
      "memory usage: 17.8+ MB\n"
     ]
    }
   ],
   "source": [
    "mlbBattingData.info()"
   ],
   "metadata": {
    "collapsed": false,
    "pycharm": {
     "name": "#%%\n"
    }
   }
  },
  {
   "cell_type": "markdown",
   "source": [
    "## Part 1b: Slicing Data\n",
    "\n",
    "Please pull, from the DataFrame, data that in 1990"
   ],
   "metadata": {
    "collapsed": false,
    "pycharm": {
     "name": "#%% md\n"
    }
   }
  },
  {
   "cell_type": "code",
   "execution_count": 4,
   "outputs": [
    {
     "data": {
      "text/plain": "        playerID  yearID  stint teamID lgID    G   AB   R    H  2B  ...   RBI  \\\n67426   aasedo01    1990      1    LAN   NL   32    0   0    0   0  ...   0.0   \n67427  abbotji01    1990      1    CAL   AL   33    0   0    0   0  ...   0.0   \n67428  abbotpa01    1990      1    MIN   AL    7    0   0    0   0  ...   0.0   \n67429  abnersh01    1990      1    SDN   NL   91  184  17   45   9  ...  15.0   \n67430  ackerji01    1990      1    TOR   AL   59    0   0    0   0  ...   0.0   \n...          ...     ...    ...    ...  ...  ...  ...  ..  ...  ..  ...   ...   \n68536  youngcu01    1990      1    OAK   AL   28    0   0    0   0  ...   0.0   \n68537  youngge02    1990      1    HOU   NL   57  154  15   27   4  ...   4.0   \n68538  youngma01    1990      1    SEA   AL   34    0   0    0   0  ...   0.0   \n68539  yountro01    1990      1    ML4   AL  158  587  98  145  17  ...  77.0   \n68540  zeileto01    1990      1    SLN   NL  144  495  62  121  25  ...  57.0   \n\n         SB   CS  BB    SO  IBB  HBP   SH   SF  GIDP  \n67426   0.0  0.0   0   0.0  0.0  0.0  0.0  0.0   0.0  \n67427   0.0  0.0   0   0.0  0.0  0.0  0.0  0.0   0.0  \n67428   0.0  0.0   0   0.0  0.0  0.0  0.0  0.0   0.0  \n67429   2.0  3.0   9  28.0  1.0  2.0  2.0  1.0   3.0  \n67430   0.0  0.0   0   0.0  0.0  0.0  0.0  0.0   0.0  \n...     ...  ...  ..   ...  ...  ...  ...  ...   ...  \n68536   0.0  0.0   0   0.0  0.0  0.0  0.0  0.0   0.0  \n68537   6.0  3.0  20  23.0  0.0  0.0  4.0  1.0   3.0  \n68538   0.0  0.0   0   0.0  0.0  0.0  0.0  0.0   0.0  \n68539  15.0  8.0  78  89.0  6.0  6.0  4.0  8.0   7.0  \n68540   2.0  4.0  67  77.0  3.0  2.0  0.0  6.0  11.0  \n\n[1115 rows x 22 columns]",
      "text/html": "<div>\n<style scoped>\n    .dataframe tbody tr th:only-of-type {\n        vertical-align: middle;\n    }\n\n    .dataframe tbody tr th {\n        vertical-align: top;\n    }\n\n    .dataframe thead th {\n        text-align: right;\n    }\n</style>\n<table border=\"1\" class=\"dataframe\">\n  <thead>\n    <tr style=\"text-align: right;\">\n      <th></th>\n      <th>playerID</th>\n      <th>yearID</th>\n      <th>stint</th>\n      <th>teamID</th>\n      <th>lgID</th>\n      <th>G</th>\n      <th>AB</th>\n      <th>R</th>\n      <th>H</th>\n      <th>2B</th>\n      <th>...</th>\n      <th>RBI</th>\n      <th>SB</th>\n      <th>CS</th>\n      <th>BB</th>\n      <th>SO</th>\n      <th>IBB</th>\n      <th>HBP</th>\n      <th>SH</th>\n      <th>SF</th>\n      <th>GIDP</th>\n    </tr>\n  </thead>\n  <tbody>\n    <tr>\n      <th>67426</th>\n      <td>aasedo01</td>\n      <td>1990</td>\n      <td>1</td>\n      <td>LAN</td>\n      <td>NL</td>\n      <td>32</td>\n      <td>0</td>\n      <td>0</td>\n      <td>0</td>\n      <td>0</td>\n      <td>...</td>\n      <td>0.0</td>\n      <td>0.0</td>\n      <td>0.0</td>\n      <td>0</td>\n      <td>0.0</td>\n      <td>0.0</td>\n      <td>0.0</td>\n      <td>0.0</td>\n      <td>0.0</td>\n      <td>0.0</td>\n    </tr>\n    <tr>\n      <th>67427</th>\n      <td>abbotji01</td>\n      <td>1990</td>\n      <td>1</td>\n      <td>CAL</td>\n      <td>AL</td>\n      <td>33</td>\n      <td>0</td>\n      <td>0</td>\n      <td>0</td>\n      <td>0</td>\n      <td>...</td>\n      <td>0.0</td>\n      <td>0.0</td>\n      <td>0.0</td>\n      <td>0</td>\n      <td>0.0</td>\n      <td>0.0</td>\n      <td>0.0</td>\n      <td>0.0</td>\n      <td>0.0</td>\n      <td>0.0</td>\n    </tr>\n    <tr>\n      <th>67428</th>\n      <td>abbotpa01</td>\n      <td>1990</td>\n      <td>1</td>\n      <td>MIN</td>\n      <td>AL</td>\n      <td>7</td>\n      <td>0</td>\n      <td>0</td>\n      <td>0</td>\n      <td>0</td>\n      <td>...</td>\n      <td>0.0</td>\n      <td>0.0</td>\n      <td>0.0</td>\n      <td>0</td>\n      <td>0.0</td>\n      <td>0.0</td>\n      <td>0.0</td>\n      <td>0.0</td>\n      <td>0.0</td>\n      <td>0.0</td>\n    </tr>\n    <tr>\n      <th>67429</th>\n      <td>abnersh01</td>\n      <td>1990</td>\n      <td>1</td>\n      <td>SDN</td>\n      <td>NL</td>\n      <td>91</td>\n      <td>184</td>\n      <td>17</td>\n      <td>45</td>\n      <td>9</td>\n      <td>...</td>\n      <td>15.0</td>\n      <td>2.0</td>\n      <td>3.0</td>\n      <td>9</td>\n      <td>28.0</td>\n      <td>1.0</td>\n      <td>2.0</td>\n      <td>2.0</td>\n      <td>1.0</td>\n      <td>3.0</td>\n    </tr>\n    <tr>\n      <th>67430</th>\n      <td>ackerji01</td>\n      <td>1990</td>\n      <td>1</td>\n      <td>TOR</td>\n      <td>AL</td>\n      <td>59</td>\n      <td>0</td>\n      <td>0</td>\n      <td>0</td>\n      <td>0</td>\n      <td>...</td>\n      <td>0.0</td>\n      <td>0.0</td>\n      <td>0.0</td>\n      <td>0</td>\n      <td>0.0</td>\n      <td>0.0</td>\n      <td>0.0</td>\n      <td>0.0</td>\n      <td>0.0</td>\n      <td>0.0</td>\n    </tr>\n    <tr>\n      <th>...</th>\n      <td>...</td>\n      <td>...</td>\n      <td>...</td>\n      <td>...</td>\n      <td>...</td>\n      <td>...</td>\n      <td>...</td>\n      <td>...</td>\n      <td>...</td>\n      <td>...</td>\n      <td>...</td>\n      <td>...</td>\n      <td>...</td>\n      <td>...</td>\n      <td>...</td>\n      <td>...</td>\n      <td>...</td>\n      <td>...</td>\n      <td>...</td>\n      <td>...</td>\n      <td>...</td>\n    </tr>\n    <tr>\n      <th>68536</th>\n      <td>youngcu01</td>\n      <td>1990</td>\n      <td>1</td>\n      <td>OAK</td>\n      <td>AL</td>\n      <td>28</td>\n      <td>0</td>\n      <td>0</td>\n      <td>0</td>\n      <td>0</td>\n      <td>...</td>\n      <td>0.0</td>\n      <td>0.0</td>\n      <td>0.0</td>\n      <td>0</td>\n      <td>0.0</td>\n      <td>0.0</td>\n      <td>0.0</td>\n      <td>0.0</td>\n      <td>0.0</td>\n      <td>0.0</td>\n    </tr>\n    <tr>\n      <th>68537</th>\n      <td>youngge02</td>\n      <td>1990</td>\n      <td>1</td>\n      <td>HOU</td>\n      <td>NL</td>\n      <td>57</td>\n      <td>154</td>\n      <td>15</td>\n      <td>27</td>\n      <td>4</td>\n      <td>...</td>\n      <td>4.0</td>\n      <td>6.0</td>\n      <td>3.0</td>\n      <td>20</td>\n      <td>23.0</td>\n      <td>0.0</td>\n      <td>0.0</td>\n      <td>4.0</td>\n      <td>1.0</td>\n      <td>3.0</td>\n    </tr>\n    <tr>\n      <th>68538</th>\n      <td>youngma01</td>\n      <td>1990</td>\n      <td>1</td>\n      <td>SEA</td>\n      <td>AL</td>\n      <td>34</td>\n      <td>0</td>\n      <td>0</td>\n      <td>0</td>\n      <td>0</td>\n      <td>...</td>\n      <td>0.0</td>\n      <td>0.0</td>\n      <td>0.0</td>\n      <td>0</td>\n      <td>0.0</td>\n      <td>0.0</td>\n      <td>0.0</td>\n      <td>0.0</td>\n      <td>0.0</td>\n      <td>0.0</td>\n    </tr>\n    <tr>\n      <th>68539</th>\n      <td>yountro01</td>\n      <td>1990</td>\n      <td>1</td>\n      <td>ML4</td>\n      <td>AL</td>\n      <td>158</td>\n      <td>587</td>\n      <td>98</td>\n      <td>145</td>\n      <td>17</td>\n      <td>...</td>\n      <td>77.0</td>\n      <td>15.0</td>\n      <td>8.0</td>\n      <td>78</td>\n      <td>89.0</td>\n      <td>6.0</td>\n      <td>6.0</td>\n      <td>4.0</td>\n      <td>8.0</td>\n      <td>7.0</td>\n    </tr>\n    <tr>\n      <th>68540</th>\n      <td>zeileto01</td>\n      <td>1990</td>\n      <td>1</td>\n      <td>SLN</td>\n      <td>NL</td>\n      <td>144</td>\n      <td>495</td>\n      <td>62</td>\n      <td>121</td>\n      <td>25</td>\n      <td>...</td>\n      <td>57.0</td>\n      <td>2.0</td>\n      <td>4.0</td>\n      <td>67</td>\n      <td>77.0</td>\n      <td>3.0</td>\n      <td>2.0</td>\n      <td>0.0</td>\n      <td>6.0</td>\n      <td>11.0</td>\n    </tr>\n  </tbody>\n</table>\n<p>1115 rows × 22 columns</p>\n</div>"
     },
     "execution_count": 4,
     "metadata": {},
     "output_type": "execute_result"
    }
   ],
   "source": [
    "mlbBatting1990 = mlbBattingData[(mlbBattingData[\"yearID\"] == 1990)]\n",
    "mlbBatting1990"
   ],
   "metadata": {
    "collapsed": false,
    "pycharm": {
     "name": "#%%\n"
    }
   }
  },
  {
   "cell_type": "markdown",
   "source": [
    "From the result above, pull all rows where RBI > 0"
   ],
   "metadata": {
    "collapsed": false,
    "pycharm": {
     "name": "#%% md\n"
    }
   }
  },
  {
   "cell_type": "code",
   "execution_count": 5,
   "outputs": [
    {
     "data": {
      "text/plain": "        playerID  yearID  stint teamID lgID    G   AB   R    H  2B  ...   RBI  \\\n67429  abnersh01    1990      1    SDN   NL   91  184  17   45   9  ...  15.0   \n67432  afenitr01    1990      1    OAK   AL   14   14   0    2   0  ...   2.0   \n67436  aldremi01    1990      1    MON   NL   96  161  22   39   7  ...  18.0   \n67440  allrebe01    1990      1    CLE   AL    4   16   2    3   1  ...   2.0   \n67441  alomaro01    1990      1    SDN   NL  147  586  80  168  27  ...  60.0   \n...          ...     ...    ...    ...  ...  ...  ...  ..  ...  ..  ...   ...   \n68531  wynnema01    1990      1    CHN   NL   92  186  21   38   8  ...  19.0   \n68532  yeldier01    1990      1    HOU   NL  142  511  69  130   9  ...  28.0   \n68537  youngge02    1990      1    HOU   NL   57  154  15   27   4  ...   4.0   \n68539  yountro01    1990      1    ML4   AL  158  587  98  145  17  ...  77.0   \n68540  zeileto01    1990      1    SLN   NL  144  495  62  121  25  ...  57.0   \n\n         SB    CS  BB    SO  IBB  HBP   SH   SF  GIDP  \n67429   2.0   3.0   9  28.0  1.0  2.0  2.0  1.0   3.0  \n67432   0.0   0.0   0   6.0  0.0  0.0  0.0  1.0   0.0  \n67436   1.0   2.0  37  31.0  2.0  1.0  0.0  1.0   2.0  \n67440   0.0   0.0   2   3.0  0.0  0.0  0.0  0.0   0.0  \n67441  24.0   7.0  48  72.0  1.0  2.0  5.0  5.0  16.0  \n...     ...   ...  ..   ...  ...  ...  ...  ...   ...  \n68531   3.0   2.0  14  25.0  3.0  1.0  1.0  0.0   4.0  \n68532  64.0  25.0  39  87.0  1.0  0.0  4.0  5.0  11.0  \n68537   6.0   3.0  20  23.0  0.0  0.0  4.0  1.0   3.0  \n68539  15.0   8.0  78  89.0  6.0  6.0  4.0  8.0   7.0  \n68540   2.0   4.0  67  77.0  3.0  2.0  0.0  6.0  11.0  \n\n[613 rows x 22 columns]",
      "text/html": "<div>\n<style scoped>\n    .dataframe tbody tr th:only-of-type {\n        vertical-align: middle;\n    }\n\n    .dataframe tbody tr th {\n        vertical-align: top;\n    }\n\n    .dataframe thead th {\n        text-align: right;\n    }\n</style>\n<table border=\"1\" class=\"dataframe\">\n  <thead>\n    <tr style=\"text-align: right;\">\n      <th></th>\n      <th>playerID</th>\n      <th>yearID</th>\n      <th>stint</th>\n      <th>teamID</th>\n      <th>lgID</th>\n      <th>G</th>\n      <th>AB</th>\n      <th>R</th>\n      <th>H</th>\n      <th>2B</th>\n      <th>...</th>\n      <th>RBI</th>\n      <th>SB</th>\n      <th>CS</th>\n      <th>BB</th>\n      <th>SO</th>\n      <th>IBB</th>\n      <th>HBP</th>\n      <th>SH</th>\n      <th>SF</th>\n      <th>GIDP</th>\n    </tr>\n  </thead>\n  <tbody>\n    <tr>\n      <th>67429</th>\n      <td>abnersh01</td>\n      <td>1990</td>\n      <td>1</td>\n      <td>SDN</td>\n      <td>NL</td>\n      <td>91</td>\n      <td>184</td>\n      <td>17</td>\n      <td>45</td>\n      <td>9</td>\n      <td>...</td>\n      <td>15.0</td>\n      <td>2.0</td>\n      <td>3.0</td>\n      <td>9</td>\n      <td>28.0</td>\n      <td>1.0</td>\n      <td>2.0</td>\n      <td>2.0</td>\n      <td>1.0</td>\n      <td>3.0</td>\n    </tr>\n    <tr>\n      <th>67432</th>\n      <td>afenitr01</td>\n      <td>1990</td>\n      <td>1</td>\n      <td>OAK</td>\n      <td>AL</td>\n      <td>14</td>\n      <td>14</td>\n      <td>0</td>\n      <td>2</td>\n      <td>0</td>\n      <td>...</td>\n      <td>2.0</td>\n      <td>0.0</td>\n      <td>0.0</td>\n      <td>0</td>\n      <td>6.0</td>\n      <td>0.0</td>\n      <td>0.0</td>\n      <td>0.0</td>\n      <td>1.0</td>\n      <td>0.0</td>\n    </tr>\n    <tr>\n      <th>67436</th>\n      <td>aldremi01</td>\n      <td>1990</td>\n      <td>1</td>\n      <td>MON</td>\n      <td>NL</td>\n      <td>96</td>\n      <td>161</td>\n      <td>22</td>\n      <td>39</td>\n      <td>7</td>\n      <td>...</td>\n      <td>18.0</td>\n      <td>1.0</td>\n      <td>2.0</td>\n      <td>37</td>\n      <td>31.0</td>\n      <td>2.0</td>\n      <td>1.0</td>\n      <td>0.0</td>\n      <td>1.0</td>\n      <td>2.0</td>\n    </tr>\n    <tr>\n      <th>67440</th>\n      <td>allrebe01</td>\n      <td>1990</td>\n      <td>1</td>\n      <td>CLE</td>\n      <td>AL</td>\n      <td>4</td>\n      <td>16</td>\n      <td>2</td>\n      <td>3</td>\n      <td>1</td>\n      <td>...</td>\n      <td>2.0</td>\n      <td>0.0</td>\n      <td>0.0</td>\n      <td>2</td>\n      <td>3.0</td>\n      <td>0.0</td>\n      <td>0.0</td>\n      <td>0.0</td>\n      <td>0.0</td>\n      <td>0.0</td>\n    </tr>\n    <tr>\n      <th>67441</th>\n      <td>alomaro01</td>\n      <td>1990</td>\n      <td>1</td>\n      <td>SDN</td>\n      <td>NL</td>\n      <td>147</td>\n      <td>586</td>\n      <td>80</td>\n      <td>168</td>\n      <td>27</td>\n      <td>...</td>\n      <td>60.0</td>\n      <td>24.0</td>\n      <td>7.0</td>\n      <td>48</td>\n      <td>72.0</td>\n      <td>1.0</td>\n      <td>2.0</td>\n      <td>5.0</td>\n      <td>5.0</td>\n      <td>16.0</td>\n    </tr>\n    <tr>\n      <th>...</th>\n      <td>...</td>\n      <td>...</td>\n      <td>...</td>\n      <td>...</td>\n      <td>...</td>\n      <td>...</td>\n      <td>...</td>\n      <td>...</td>\n      <td>...</td>\n      <td>...</td>\n      <td>...</td>\n      <td>...</td>\n      <td>...</td>\n      <td>...</td>\n      <td>...</td>\n      <td>...</td>\n      <td>...</td>\n      <td>...</td>\n      <td>...</td>\n      <td>...</td>\n      <td>...</td>\n    </tr>\n    <tr>\n      <th>68531</th>\n      <td>wynnema01</td>\n      <td>1990</td>\n      <td>1</td>\n      <td>CHN</td>\n      <td>NL</td>\n      <td>92</td>\n      <td>186</td>\n      <td>21</td>\n      <td>38</td>\n      <td>8</td>\n      <td>...</td>\n      <td>19.0</td>\n      <td>3.0</td>\n      <td>2.0</td>\n      <td>14</td>\n      <td>25.0</td>\n      <td>3.0</td>\n      <td>1.0</td>\n      <td>1.0</td>\n      <td>0.0</td>\n      <td>4.0</td>\n    </tr>\n    <tr>\n      <th>68532</th>\n      <td>yeldier01</td>\n      <td>1990</td>\n      <td>1</td>\n      <td>HOU</td>\n      <td>NL</td>\n      <td>142</td>\n      <td>511</td>\n      <td>69</td>\n      <td>130</td>\n      <td>9</td>\n      <td>...</td>\n      <td>28.0</td>\n      <td>64.0</td>\n      <td>25.0</td>\n      <td>39</td>\n      <td>87.0</td>\n      <td>1.0</td>\n      <td>0.0</td>\n      <td>4.0</td>\n      <td>5.0</td>\n      <td>11.0</td>\n    </tr>\n    <tr>\n      <th>68537</th>\n      <td>youngge02</td>\n      <td>1990</td>\n      <td>1</td>\n      <td>HOU</td>\n      <td>NL</td>\n      <td>57</td>\n      <td>154</td>\n      <td>15</td>\n      <td>27</td>\n      <td>4</td>\n      <td>...</td>\n      <td>4.0</td>\n      <td>6.0</td>\n      <td>3.0</td>\n      <td>20</td>\n      <td>23.0</td>\n      <td>0.0</td>\n      <td>0.0</td>\n      <td>4.0</td>\n      <td>1.0</td>\n      <td>3.0</td>\n    </tr>\n    <tr>\n      <th>68539</th>\n      <td>yountro01</td>\n      <td>1990</td>\n      <td>1</td>\n      <td>ML4</td>\n      <td>AL</td>\n      <td>158</td>\n      <td>587</td>\n      <td>98</td>\n      <td>145</td>\n      <td>17</td>\n      <td>...</td>\n      <td>77.0</td>\n      <td>15.0</td>\n      <td>8.0</td>\n      <td>78</td>\n      <td>89.0</td>\n      <td>6.0</td>\n      <td>6.0</td>\n      <td>4.0</td>\n      <td>8.0</td>\n      <td>7.0</td>\n    </tr>\n    <tr>\n      <th>68540</th>\n      <td>zeileto01</td>\n      <td>1990</td>\n      <td>1</td>\n      <td>SLN</td>\n      <td>NL</td>\n      <td>144</td>\n      <td>495</td>\n      <td>62</td>\n      <td>121</td>\n      <td>25</td>\n      <td>...</td>\n      <td>57.0</td>\n      <td>2.0</td>\n      <td>4.0</td>\n      <td>67</td>\n      <td>77.0</td>\n      <td>3.0</td>\n      <td>2.0</td>\n      <td>0.0</td>\n      <td>6.0</td>\n      <td>11.0</td>\n    </tr>\n  </tbody>\n</table>\n<p>613 rows × 22 columns</p>\n</div>"
     },
     "execution_count": 5,
     "metadata": {},
     "output_type": "execute_result"
    }
   ],
   "source": [
    "mlbBatting1990RBI = mlbBatting1990[(mlbBatting1990[\"RBI\"] > 0)]\n",
    "mlbBatting1990RBI"
   ],
   "metadata": {
    "collapsed": false,
    "pycharm": {
     "name": "#%%\n"
    }
   }
  },
  {
   "cell_type": "markdown",
   "source": [
    "One thing to note.  Pay attention to the bottom of each DataFrame on how many rows are returned.  What did we start out with, and how has it decreased?  Also pay attention to the column index on the left side.\n",
    "\n",
    "It's also worth noting that these are \"shallow copies\", and are linked to the original data source.  Let's copy out the RBI call above and store it."
   ],
   "metadata": {
    "collapsed": false,
    "pycharm": {
     "name": "#%% md\n"
    }
   }
  },
  {
   "cell_type": "code",
   "execution_count": 6,
   "outputs": [
    {
     "data": {
      "text/plain": "        playerID  yearID  stint teamID lgID    G   AB   R    H  2B  ...   RBI  \\\n67429  abnersh01    1990      1    SDN   NL   91  184  17   45   9  ...  15.0   \n67432  afenitr01    1990      1    OAK   AL   14   14   0    2   0  ...   2.0   \n67436  aldremi01    1990      1    MON   NL   96  161  22   39   7  ...  18.0   \n67440  allrebe01    1990      1    CLE   AL    4   16   2    3   1  ...   2.0   \n67441  alomaro01    1990      1    SDN   NL  147  586  80  168  27  ...  60.0   \n...          ...     ...    ...    ...  ...  ...  ...  ..  ...  ..  ...   ...   \n68531  wynnema01    1990      1    CHN   NL   92  186  21   38   8  ...  19.0   \n68532  yeldier01    1990      1    HOU   NL  142  511  69  130   9  ...  28.0   \n68537  youngge02    1990      1    HOU   NL   57  154  15   27   4  ...   4.0   \n68539  yountro01    1990      1    ML4   AL  158  587  98  145  17  ...  77.0   \n68540  zeileto01    1990      1    SLN   NL  144  495  62  121  25  ...  57.0   \n\n         SB    CS  BB    SO  IBB  HBP   SH   SF  GIDP  \n67429   2.0   3.0   9  28.0  1.0  2.0  2.0  1.0   3.0  \n67432   0.0   0.0   0   6.0  0.0  0.0  0.0  1.0   0.0  \n67436   1.0   2.0  37  31.0  2.0  1.0  0.0  1.0   2.0  \n67440   0.0   0.0   2   3.0  0.0  0.0  0.0  0.0   0.0  \n67441  24.0   7.0  48  72.0  1.0  2.0  5.0  5.0  16.0  \n...     ...   ...  ..   ...  ...  ...  ...  ...   ...  \n68531   3.0   2.0  14  25.0  3.0  1.0  1.0  0.0   4.0  \n68532  64.0  25.0  39  87.0  1.0  0.0  4.0  5.0  11.0  \n68537   6.0   3.0  20  23.0  0.0  0.0  4.0  1.0   3.0  \n68539  15.0   8.0  78  89.0  6.0  6.0  4.0  8.0   7.0  \n68540   2.0   4.0  67  77.0  3.0  2.0  0.0  6.0  11.0  \n\n[613 rows x 22 columns]",
      "text/html": "<div>\n<style scoped>\n    .dataframe tbody tr th:only-of-type {\n        vertical-align: middle;\n    }\n\n    .dataframe tbody tr th {\n        vertical-align: top;\n    }\n\n    .dataframe thead th {\n        text-align: right;\n    }\n</style>\n<table border=\"1\" class=\"dataframe\">\n  <thead>\n    <tr style=\"text-align: right;\">\n      <th></th>\n      <th>playerID</th>\n      <th>yearID</th>\n      <th>stint</th>\n      <th>teamID</th>\n      <th>lgID</th>\n      <th>G</th>\n      <th>AB</th>\n      <th>R</th>\n      <th>H</th>\n      <th>2B</th>\n      <th>...</th>\n      <th>RBI</th>\n      <th>SB</th>\n      <th>CS</th>\n      <th>BB</th>\n      <th>SO</th>\n      <th>IBB</th>\n      <th>HBP</th>\n      <th>SH</th>\n      <th>SF</th>\n      <th>GIDP</th>\n    </tr>\n  </thead>\n  <tbody>\n    <tr>\n      <th>67429</th>\n      <td>abnersh01</td>\n      <td>1990</td>\n      <td>1</td>\n      <td>SDN</td>\n      <td>NL</td>\n      <td>91</td>\n      <td>184</td>\n      <td>17</td>\n      <td>45</td>\n      <td>9</td>\n      <td>...</td>\n      <td>15.0</td>\n      <td>2.0</td>\n      <td>3.0</td>\n      <td>9</td>\n      <td>28.0</td>\n      <td>1.0</td>\n      <td>2.0</td>\n      <td>2.0</td>\n      <td>1.0</td>\n      <td>3.0</td>\n    </tr>\n    <tr>\n      <th>67432</th>\n      <td>afenitr01</td>\n      <td>1990</td>\n      <td>1</td>\n      <td>OAK</td>\n      <td>AL</td>\n      <td>14</td>\n      <td>14</td>\n      <td>0</td>\n      <td>2</td>\n      <td>0</td>\n      <td>...</td>\n      <td>2.0</td>\n      <td>0.0</td>\n      <td>0.0</td>\n      <td>0</td>\n      <td>6.0</td>\n      <td>0.0</td>\n      <td>0.0</td>\n      <td>0.0</td>\n      <td>1.0</td>\n      <td>0.0</td>\n    </tr>\n    <tr>\n      <th>67436</th>\n      <td>aldremi01</td>\n      <td>1990</td>\n      <td>1</td>\n      <td>MON</td>\n      <td>NL</td>\n      <td>96</td>\n      <td>161</td>\n      <td>22</td>\n      <td>39</td>\n      <td>7</td>\n      <td>...</td>\n      <td>18.0</td>\n      <td>1.0</td>\n      <td>2.0</td>\n      <td>37</td>\n      <td>31.0</td>\n      <td>2.0</td>\n      <td>1.0</td>\n      <td>0.0</td>\n      <td>1.0</td>\n      <td>2.0</td>\n    </tr>\n    <tr>\n      <th>67440</th>\n      <td>allrebe01</td>\n      <td>1990</td>\n      <td>1</td>\n      <td>CLE</td>\n      <td>AL</td>\n      <td>4</td>\n      <td>16</td>\n      <td>2</td>\n      <td>3</td>\n      <td>1</td>\n      <td>...</td>\n      <td>2.0</td>\n      <td>0.0</td>\n      <td>0.0</td>\n      <td>2</td>\n      <td>3.0</td>\n      <td>0.0</td>\n      <td>0.0</td>\n      <td>0.0</td>\n      <td>0.0</td>\n      <td>0.0</td>\n    </tr>\n    <tr>\n      <th>67441</th>\n      <td>alomaro01</td>\n      <td>1990</td>\n      <td>1</td>\n      <td>SDN</td>\n      <td>NL</td>\n      <td>147</td>\n      <td>586</td>\n      <td>80</td>\n      <td>168</td>\n      <td>27</td>\n      <td>...</td>\n      <td>60.0</td>\n      <td>24.0</td>\n      <td>7.0</td>\n      <td>48</td>\n      <td>72.0</td>\n      <td>1.0</td>\n      <td>2.0</td>\n      <td>5.0</td>\n      <td>5.0</td>\n      <td>16.0</td>\n    </tr>\n    <tr>\n      <th>...</th>\n      <td>...</td>\n      <td>...</td>\n      <td>...</td>\n      <td>...</td>\n      <td>...</td>\n      <td>...</td>\n      <td>...</td>\n      <td>...</td>\n      <td>...</td>\n      <td>...</td>\n      <td>...</td>\n      <td>...</td>\n      <td>...</td>\n      <td>...</td>\n      <td>...</td>\n      <td>...</td>\n      <td>...</td>\n      <td>...</td>\n      <td>...</td>\n      <td>...</td>\n      <td>...</td>\n    </tr>\n    <tr>\n      <th>68531</th>\n      <td>wynnema01</td>\n      <td>1990</td>\n      <td>1</td>\n      <td>CHN</td>\n      <td>NL</td>\n      <td>92</td>\n      <td>186</td>\n      <td>21</td>\n      <td>38</td>\n      <td>8</td>\n      <td>...</td>\n      <td>19.0</td>\n      <td>3.0</td>\n      <td>2.0</td>\n      <td>14</td>\n      <td>25.0</td>\n      <td>3.0</td>\n      <td>1.0</td>\n      <td>1.0</td>\n      <td>0.0</td>\n      <td>4.0</td>\n    </tr>\n    <tr>\n      <th>68532</th>\n      <td>yeldier01</td>\n      <td>1990</td>\n      <td>1</td>\n      <td>HOU</td>\n      <td>NL</td>\n      <td>142</td>\n      <td>511</td>\n      <td>69</td>\n      <td>130</td>\n      <td>9</td>\n      <td>...</td>\n      <td>28.0</td>\n      <td>64.0</td>\n      <td>25.0</td>\n      <td>39</td>\n      <td>87.0</td>\n      <td>1.0</td>\n      <td>0.0</td>\n      <td>4.0</td>\n      <td>5.0</td>\n      <td>11.0</td>\n    </tr>\n    <tr>\n      <th>68537</th>\n      <td>youngge02</td>\n      <td>1990</td>\n      <td>1</td>\n      <td>HOU</td>\n      <td>NL</td>\n      <td>57</td>\n      <td>154</td>\n      <td>15</td>\n      <td>27</td>\n      <td>4</td>\n      <td>...</td>\n      <td>4.0</td>\n      <td>6.0</td>\n      <td>3.0</td>\n      <td>20</td>\n      <td>23.0</td>\n      <td>0.0</td>\n      <td>0.0</td>\n      <td>4.0</td>\n      <td>1.0</td>\n      <td>3.0</td>\n    </tr>\n    <tr>\n      <th>68539</th>\n      <td>yountro01</td>\n      <td>1990</td>\n      <td>1</td>\n      <td>ML4</td>\n      <td>AL</td>\n      <td>158</td>\n      <td>587</td>\n      <td>98</td>\n      <td>145</td>\n      <td>17</td>\n      <td>...</td>\n      <td>77.0</td>\n      <td>15.0</td>\n      <td>8.0</td>\n      <td>78</td>\n      <td>89.0</td>\n      <td>6.0</td>\n      <td>6.0</td>\n      <td>4.0</td>\n      <td>8.0</td>\n      <td>7.0</td>\n    </tr>\n    <tr>\n      <th>68540</th>\n      <td>zeileto01</td>\n      <td>1990</td>\n      <td>1</td>\n      <td>SLN</td>\n      <td>NL</td>\n      <td>144</td>\n      <td>495</td>\n      <td>62</td>\n      <td>121</td>\n      <td>25</td>\n      <td>...</td>\n      <td>57.0</td>\n      <td>2.0</td>\n      <td>4.0</td>\n      <td>67</td>\n      <td>77.0</td>\n      <td>3.0</td>\n      <td>2.0</td>\n      <td>0.0</td>\n      <td>6.0</td>\n      <td>11.0</td>\n    </tr>\n  </tbody>\n</table>\n<p>613 rows × 22 columns</p>\n</div>"
     },
     "execution_count": 6,
     "metadata": {},
     "output_type": "execute_result"
    }
   ],
   "source": [
    "mlbBatting1990RBI = mlbBatting1990RBI.copy()\n",
    "mlbBatting1990RBI"
   ],
   "metadata": {
    "collapsed": false,
    "pycharm": {
     "name": "#%%\n"
    }
   }
  },
  {
   "cell_type": "code",
   "execution_count": 7,
   "outputs": [
    {
     "data": {
      "text/plain": "      playerID  yearID  stint teamID lgID    G   AB   R    H  2B  ...   RBI  \\\n0    abnersh01    1990      1    SDN   NL   91  184  17   45   9  ...  15.0   \n1    afenitr01    1990      1    OAK   AL   14   14   0    2   0  ...   2.0   \n2    aldremi01    1990      1    MON   NL   96  161  22   39   7  ...  18.0   \n3    allrebe01    1990      1    CLE   AL    4   16   2    3   1  ...   2.0   \n4    alomaro01    1990      1    SDN   NL  147  586  80  168  27  ...  60.0   \n..         ...     ...    ...    ...  ...  ...  ...  ..  ...  ..  ...   ...   \n608  wynnema01    1990      1    CHN   NL   92  186  21   38   8  ...  19.0   \n609  yeldier01    1990      1    HOU   NL  142  511  69  130   9  ...  28.0   \n610  youngge02    1990      1    HOU   NL   57  154  15   27   4  ...   4.0   \n611  yountro01    1990      1    ML4   AL  158  587  98  145  17  ...  77.0   \n612  zeileto01    1990      1    SLN   NL  144  495  62  121  25  ...  57.0   \n\n       SB    CS  BB    SO  IBB  HBP   SH   SF  GIDP  \n0     2.0   3.0   9  28.0  1.0  2.0  2.0  1.0   3.0  \n1     0.0   0.0   0   6.0  0.0  0.0  0.0  1.0   0.0  \n2     1.0   2.0  37  31.0  2.0  1.0  0.0  1.0   2.0  \n3     0.0   0.0   2   3.0  0.0  0.0  0.0  0.0   0.0  \n4    24.0   7.0  48  72.0  1.0  2.0  5.0  5.0  16.0  \n..    ...   ...  ..   ...  ...  ...  ...  ...   ...  \n608   3.0   2.0  14  25.0  3.0  1.0  1.0  0.0   4.0  \n609  64.0  25.0  39  87.0  1.0  0.0  4.0  5.0  11.0  \n610   6.0   3.0  20  23.0  0.0  0.0  4.0  1.0   3.0  \n611  15.0   8.0  78  89.0  6.0  6.0  4.0  8.0   7.0  \n612   2.0   4.0  67  77.0  3.0  2.0  0.0  6.0  11.0  \n\n[613 rows x 22 columns]",
      "text/html": "<div>\n<style scoped>\n    .dataframe tbody tr th:only-of-type {\n        vertical-align: middle;\n    }\n\n    .dataframe tbody tr th {\n        vertical-align: top;\n    }\n\n    .dataframe thead th {\n        text-align: right;\n    }\n</style>\n<table border=\"1\" class=\"dataframe\">\n  <thead>\n    <tr style=\"text-align: right;\">\n      <th></th>\n      <th>playerID</th>\n      <th>yearID</th>\n      <th>stint</th>\n      <th>teamID</th>\n      <th>lgID</th>\n      <th>G</th>\n      <th>AB</th>\n      <th>R</th>\n      <th>H</th>\n      <th>2B</th>\n      <th>...</th>\n      <th>RBI</th>\n      <th>SB</th>\n      <th>CS</th>\n      <th>BB</th>\n      <th>SO</th>\n      <th>IBB</th>\n      <th>HBP</th>\n      <th>SH</th>\n      <th>SF</th>\n      <th>GIDP</th>\n    </tr>\n  </thead>\n  <tbody>\n    <tr>\n      <th>0</th>\n      <td>abnersh01</td>\n      <td>1990</td>\n      <td>1</td>\n      <td>SDN</td>\n      <td>NL</td>\n      <td>91</td>\n      <td>184</td>\n      <td>17</td>\n      <td>45</td>\n      <td>9</td>\n      <td>...</td>\n      <td>15.0</td>\n      <td>2.0</td>\n      <td>3.0</td>\n      <td>9</td>\n      <td>28.0</td>\n      <td>1.0</td>\n      <td>2.0</td>\n      <td>2.0</td>\n      <td>1.0</td>\n      <td>3.0</td>\n    </tr>\n    <tr>\n      <th>1</th>\n      <td>afenitr01</td>\n      <td>1990</td>\n      <td>1</td>\n      <td>OAK</td>\n      <td>AL</td>\n      <td>14</td>\n      <td>14</td>\n      <td>0</td>\n      <td>2</td>\n      <td>0</td>\n      <td>...</td>\n      <td>2.0</td>\n      <td>0.0</td>\n      <td>0.0</td>\n      <td>0</td>\n      <td>6.0</td>\n      <td>0.0</td>\n      <td>0.0</td>\n      <td>0.0</td>\n      <td>1.0</td>\n      <td>0.0</td>\n    </tr>\n    <tr>\n      <th>2</th>\n      <td>aldremi01</td>\n      <td>1990</td>\n      <td>1</td>\n      <td>MON</td>\n      <td>NL</td>\n      <td>96</td>\n      <td>161</td>\n      <td>22</td>\n      <td>39</td>\n      <td>7</td>\n      <td>...</td>\n      <td>18.0</td>\n      <td>1.0</td>\n      <td>2.0</td>\n      <td>37</td>\n      <td>31.0</td>\n      <td>2.0</td>\n      <td>1.0</td>\n      <td>0.0</td>\n      <td>1.0</td>\n      <td>2.0</td>\n    </tr>\n    <tr>\n      <th>3</th>\n      <td>allrebe01</td>\n      <td>1990</td>\n      <td>1</td>\n      <td>CLE</td>\n      <td>AL</td>\n      <td>4</td>\n      <td>16</td>\n      <td>2</td>\n      <td>3</td>\n      <td>1</td>\n      <td>...</td>\n      <td>2.0</td>\n      <td>0.0</td>\n      <td>0.0</td>\n      <td>2</td>\n      <td>3.0</td>\n      <td>0.0</td>\n      <td>0.0</td>\n      <td>0.0</td>\n      <td>0.0</td>\n      <td>0.0</td>\n    </tr>\n    <tr>\n      <th>4</th>\n      <td>alomaro01</td>\n      <td>1990</td>\n      <td>1</td>\n      <td>SDN</td>\n      <td>NL</td>\n      <td>147</td>\n      <td>586</td>\n      <td>80</td>\n      <td>168</td>\n      <td>27</td>\n      <td>...</td>\n      <td>60.0</td>\n      <td>24.0</td>\n      <td>7.0</td>\n      <td>48</td>\n      <td>72.0</td>\n      <td>1.0</td>\n      <td>2.0</td>\n      <td>5.0</td>\n      <td>5.0</td>\n      <td>16.0</td>\n    </tr>\n    <tr>\n      <th>...</th>\n      <td>...</td>\n      <td>...</td>\n      <td>...</td>\n      <td>...</td>\n      <td>...</td>\n      <td>...</td>\n      <td>...</td>\n      <td>...</td>\n      <td>...</td>\n      <td>...</td>\n      <td>...</td>\n      <td>...</td>\n      <td>...</td>\n      <td>...</td>\n      <td>...</td>\n      <td>...</td>\n      <td>...</td>\n      <td>...</td>\n      <td>...</td>\n      <td>...</td>\n      <td>...</td>\n    </tr>\n    <tr>\n      <th>608</th>\n      <td>wynnema01</td>\n      <td>1990</td>\n      <td>1</td>\n      <td>CHN</td>\n      <td>NL</td>\n      <td>92</td>\n      <td>186</td>\n      <td>21</td>\n      <td>38</td>\n      <td>8</td>\n      <td>...</td>\n      <td>19.0</td>\n      <td>3.0</td>\n      <td>2.0</td>\n      <td>14</td>\n      <td>25.0</td>\n      <td>3.0</td>\n      <td>1.0</td>\n      <td>1.0</td>\n      <td>0.0</td>\n      <td>4.0</td>\n    </tr>\n    <tr>\n      <th>609</th>\n      <td>yeldier01</td>\n      <td>1990</td>\n      <td>1</td>\n      <td>HOU</td>\n      <td>NL</td>\n      <td>142</td>\n      <td>511</td>\n      <td>69</td>\n      <td>130</td>\n      <td>9</td>\n      <td>...</td>\n      <td>28.0</td>\n      <td>64.0</td>\n      <td>25.0</td>\n      <td>39</td>\n      <td>87.0</td>\n      <td>1.0</td>\n      <td>0.0</td>\n      <td>4.0</td>\n      <td>5.0</td>\n      <td>11.0</td>\n    </tr>\n    <tr>\n      <th>610</th>\n      <td>youngge02</td>\n      <td>1990</td>\n      <td>1</td>\n      <td>HOU</td>\n      <td>NL</td>\n      <td>57</td>\n      <td>154</td>\n      <td>15</td>\n      <td>27</td>\n      <td>4</td>\n      <td>...</td>\n      <td>4.0</td>\n      <td>6.0</td>\n      <td>3.0</td>\n      <td>20</td>\n      <td>23.0</td>\n      <td>0.0</td>\n      <td>0.0</td>\n      <td>4.0</td>\n      <td>1.0</td>\n      <td>3.0</td>\n    </tr>\n    <tr>\n      <th>611</th>\n      <td>yountro01</td>\n      <td>1990</td>\n      <td>1</td>\n      <td>ML4</td>\n      <td>AL</td>\n      <td>158</td>\n      <td>587</td>\n      <td>98</td>\n      <td>145</td>\n      <td>17</td>\n      <td>...</td>\n      <td>77.0</td>\n      <td>15.0</td>\n      <td>8.0</td>\n      <td>78</td>\n      <td>89.0</td>\n      <td>6.0</td>\n      <td>6.0</td>\n      <td>4.0</td>\n      <td>8.0</td>\n      <td>7.0</td>\n    </tr>\n    <tr>\n      <th>612</th>\n      <td>zeileto01</td>\n      <td>1990</td>\n      <td>1</td>\n      <td>SLN</td>\n      <td>NL</td>\n      <td>144</td>\n      <td>495</td>\n      <td>62</td>\n      <td>121</td>\n      <td>25</td>\n      <td>...</td>\n      <td>57.0</td>\n      <td>2.0</td>\n      <td>4.0</td>\n      <td>67</td>\n      <td>77.0</td>\n      <td>3.0</td>\n      <td>2.0</td>\n      <td>0.0</td>\n      <td>6.0</td>\n      <td>11.0</td>\n    </tr>\n  </tbody>\n</table>\n<p>613 rows × 22 columns</p>\n</div>"
     },
     "execution_count": 7,
     "metadata": {},
     "output_type": "execute_result"
    }
   ],
   "source": [
    "# Now, reset the index (the far left side) so it's auto incrementing starting at 0\n",
    "# Read the documentation or notebooks I provided on reset_index\n",
    "# You shouldn't have an index column when you're done.\n",
    "mlbBatting1990RBI.reset_index(drop=True, inplace=True)\n",
    "mlbBatting1990RBI"
   ],
   "metadata": {
    "collapsed": false,
    "pycharm": {
     "name": "#%%\n"
    }
   }
  },
  {
   "cell_type": "markdown",
   "source": [
    "If you don't need all the columns, it's good to remove (or select) the ones we're interested in.  Only keep the playerID, teamID, and RBI as a DataFrame.  Remember your naming matters here since we're losing the 1990 representation in the data."
   ],
   "metadata": {
    "collapsed": false
   }
  },
  {
   "cell_type": "code",
   "execution_count": 8,
   "outputs": [
    {
     "data": {
      "text/plain": "      playerID teamID   RBI\n0    abnersh01    SDN  15.0\n1    afenitr01    OAK   2.0\n2    aldremi01    MON  18.0\n3    allrebe01    CLE   2.0\n4    alomaro01    SDN  60.0\n..         ...    ...   ...\n608  wynnema01    CHN  19.0\n609  yeldier01    HOU  28.0\n610  youngge02    HOU   4.0\n611  yountro01    ML4  77.0\n612  zeileto01    SLN  57.0\n\n[613 rows x 3 columns]",
      "text/html": "<div>\n<style scoped>\n    .dataframe tbody tr th:only-of-type {\n        vertical-align: middle;\n    }\n\n    .dataframe tbody tr th {\n        vertical-align: top;\n    }\n\n    .dataframe thead th {\n        text-align: right;\n    }\n</style>\n<table border=\"1\" class=\"dataframe\">\n  <thead>\n    <tr style=\"text-align: right;\">\n      <th></th>\n      <th>playerID</th>\n      <th>teamID</th>\n      <th>RBI</th>\n    </tr>\n  </thead>\n  <tbody>\n    <tr>\n      <th>0</th>\n      <td>abnersh01</td>\n      <td>SDN</td>\n      <td>15.0</td>\n    </tr>\n    <tr>\n      <th>1</th>\n      <td>afenitr01</td>\n      <td>OAK</td>\n      <td>2.0</td>\n    </tr>\n    <tr>\n      <th>2</th>\n      <td>aldremi01</td>\n      <td>MON</td>\n      <td>18.0</td>\n    </tr>\n    <tr>\n      <th>3</th>\n      <td>allrebe01</td>\n      <td>CLE</td>\n      <td>2.0</td>\n    </tr>\n    <tr>\n      <th>4</th>\n      <td>alomaro01</td>\n      <td>SDN</td>\n      <td>60.0</td>\n    </tr>\n    <tr>\n      <th>...</th>\n      <td>...</td>\n      <td>...</td>\n      <td>...</td>\n    </tr>\n    <tr>\n      <th>608</th>\n      <td>wynnema01</td>\n      <td>CHN</td>\n      <td>19.0</td>\n    </tr>\n    <tr>\n      <th>609</th>\n      <td>yeldier01</td>\n      <td>HOU</td>\n      <td>28.0</td>\n    </tr>\n    <tr>\n      <th>610</th>\n      <td>youngge02</td>\n      <td>HOU</td>\n      <td>4.0</td>\n    </tr>\n    <tr>\n      <th>611</th>\n      <td>yountro01</td>\n      <td>ML4</td>\n      <td>77.0</td>\n    </tr>\n    <tr>\n      <th>612</th>\n      <td>zeileto01</td>\n      <td>SLN</td>\n      <td>57.0</td>\n    </tr>\n  </tbody>\n</table>\n<p>613 rows × 3 columns</p>\n</div>"
     },
     "execution_count": 8,
     "metadata": {},
     "output_type": "execute_result"
    }
   ],
   "source": [
    "mlbPlayerTeamRBI1990 = mlbBatting1990RBI[[\"playerID\", \"teamID\", \"RBI\"]]\n",
    "mlbPlayerTeamRBI1990"
   ],
   "metadata": {
    "collapsed": false,
    "pycharm": {
     "name": "#%%\n"
    }
   }
  },
  {
   "cell_type": "markdown",
   "source": [
    "# Part 3: Analysis\n"
   ],
   "metadata": {
    "collapsed": false,
    "pycharm": {
     "name": "#%% md\n"
    }
   }
  }
 ],
 "metadata": {
  "kernelspec": {
   "display_name": "Python 3",
   "language": "python",
   "name": "python3"
  },
  "language_info": {
   "codemirror_mode": {
    "name": "ipython",
    "version": 2
   },
   "file_extension": ".py",
   "mimetype": "text/x-python",
   "name": "python",
   "nbconvert_exporter": "python",
   "pygments_lexer": "ipython2",
   "version": "2.7.6"
  }
 },
 "nbformat": 4,
 "nbformat_minor": 0
}