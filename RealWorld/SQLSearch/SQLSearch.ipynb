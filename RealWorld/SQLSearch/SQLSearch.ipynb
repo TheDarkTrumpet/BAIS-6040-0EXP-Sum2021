{
 "cells": [
  {
   "cell_type": "markdown",
   "metadata": {
    "collapsed": true,
    "pycharm": {
     "name": "#%% md\n"
    }
   },
   "source": [
    "# SQLSearch.ipynb\n",
    "\n",
    "An implementation of some simple SQL Searching and Reporting."
   ]
  },
  {
   "cell_type": "code",
   "execution_count": 1,
   "outputs": [],
   "source": [
    "# User configurable variables\n",
    "tableSearch = \"Customer\""
   ],
   "metadata": {
    "collapsed": false,
    "pycharm": {
     "name": "#%%\n"
    }
   }
  },
  {
   "cell_type": "code",
   "execution_count": 2,
   "outputs": [],
   "source": [
    "# The below can safely be ignored\n",
    "import sqlalchemy as sa\n",
    "import pandas as pd\n",
    "from IPython.display import display, HTML"
   ],
   "metadata": {
    "collapsed": false,
    "pycharm": {
     "name": "#%%\n"
    }
   }
  },
  {
   "cell_type": "code",
   "execution_count": 3,
   "outputs": [],
   "source": [
    "tableSelectAllQuery = f\"select s.name as SchemaName, t.name as TableName from sys.tables t join sys.schemas s on (t.schema_id = s.schema_id) where t.name LIKE '%{tableSearch}%'\"\n",
    "\n",
    "def connectToDatabase():\n",
    "    connectionString = f\"mssql+pyodbc://mssql.ad.tdt/WideWorldImporters?driver=ODBC+Driver+17+for+SQL+Server&Trusted_Connection=yes\"\n",
    "    engine = sa.create_engine(connectionString)\n",
    "    return engine\n",
    "\n",
    "def getTableSample(schema, table, engine):\n",
    "    return pd.read_sql(f'select top 5 * from {schema}.{table}', engine)"
   ],
   "metadata": {
    "collapsed": false,
    "pycharm": {
     "name": "#%%\n"
    }
   }
  },
  {
   "cell_type": "code",
   "execution_count": 4,
   "outputs": [],
   "source": [
    "engine = connectToDatabase()"
   ],
   "metadata": {
    "collapsed": false,
    "pycharm": {
     "name": "#%%\n"
    }
   }
  },
  {
   "cell_type": "code",
   "execution_count": 5,
   "outputs": [
    {
     "name": "stdout",
     "output_type": "stream",
     "text": [
      "Table: Sales.CustomerTransactions\n"
     ]
    },
    {
     "data": {
      "text/plain": "<IPython.core.display.HTML object>",
      "text/html": "<table border=\"1\" class=\"dataframe\">\n  <thead>\n    <tr style=\"text-align: right;\">\n      <th></th>\n      <th>CustomerTransactionID</th>\n      <th>CustomerID</th>\n      <th>TransactionTypeID</th>\n      <th>InvoiceID</th>\n      <th>PaymentMethodID</th>\n      <th>TransactionDate</th>\n      <th>AmountExcludingTax</th>\n      <th>TaxAmount</th>\n      <th>TransactionAmount</th>\n      <th>OutstandingBalance</th>\n      <th>FinalizationDate</th>\n      <th>IsFinalized</th>\n      <th>LastEditedBy</th>\n      <th>LastEditedWhen</th>\n    </tr>\n  </thead>\n  <tbody>\n    <tr>\n      <th>0</th>\n      <td>2</td>\n      <td>832</td>\n      <td>1</td>\n      <td>1</td>\n      <td>None</td>\n      <td>2013-01-01</td>\n      <td>2300.0</td>\n      <td>345.00</td>\n      <td>2645.00</td>\n      <td>0.0</td>\n      <td>2013-01-02</td>\n      <td>True</td>\n      <td>10</td>\n      <td>2013-01-02 11:30:00</td>\n    </tr>\n    <tr>\n      <th>1</th>\n      <td>5</td>\n      <td>803</td>\n      <td>1</td>\n      <td>2</td>\n      <td>None</td>\n      <td>2013-01-01</td>\n      <td>405.0</td>\n      <td>60.75</td>\n      <td>465.75</td>\n      <td>0.0</td>\n      <td>2013-01-02</td>\n      <td>True</td>\n      <td>10</td>\n      <td>2013-01-02 11:30:00</td>\n    </tr>\n    <tr>\n      <th>2</th>\n      <td>7</td>\n      <td>1</td>\n      <td>1</td>\n      <td>3</td>\n      <td>None</td>\n      <td>2013-01-01</td>\n      <td>90.0</td>\n      <td>13.50</td>\n      <td>103.50</td>\n      <td>0.0</td>\n      <td>2013-01-02</td>\n      <td>True</td>\n      <td>10</td>\n      <td>2013-01-02 11:30:00</td>\n    </tr>\n    <tr>\n      <th>3</th>\n      <td>11</td>\n      <td>1</td>\n      <td>1</td>\n      <td>4</td>\n      <td>None</td>\n      <td>2013-01-01</td>\n      <td>445.2</td>\n      <td>66.78</td>\n      <td>511.98</td>\n      <td>0.0</td>\n      <td>2013-01-02</td>\n      <td>True</td>\n      <td>10</td>\n      <td>2013-01-02 11:30:00</td>\n    </tr>\n    <tr>\n      <th>4</th>\n      <td>15</td>\n      <td>905</td>\n      <td>1</td>\n      <td>5</td>\n      <td>None</td>\n      <td>2013-01-01</td>\n      <td>704.0</td>\n      <td>105.60</td>\n      <td>809.60</td>\n      <td>0.0</td>\n      <td>2013-01-02</td>\n      <td>True</td>\n      <td>10</td>\n      <td>2013-01-02 11:30:00</td>\n    </tr>\n  </tbody>\n</table>"
     },
     "metadata": {},
     "output_type": "display_data"
    },
    {
     "name": "stdout",
     "output_type": "stream",
     "text": [
      "Table: Sales.Customers\n",
      "!! SQL Data type exception found, unable to sample\n",
      "Table: Sales.Customers_Archive\n",
      "!! SQL Data type exception found, unable to sample\n",
      "Table: Sales.CustomerCategories\n"
     ]
    },
    {
     "data": {
      "text/plain": "<IPython.core.display.HTML object>",
      "text/html": "<table border=\"1\" class=\"dataframe\">\n  <thead>\n    <tr style=\"text-align: right;\">\n      <th></th>\n      <th>CustomerCategoryID</th>\n      <th>CustomerCategoryName</th>\n      <th>LastEditedBy</th>\n      <th>ValidFrom</th>\n      <th>ValidTo</th>\n    </tr>\n  </thead>\n  <tbody>\n    <tr>\n      <th>0</th>\n      <td>1</td>\n      <td>Agent</td>\n      <td>1</td>\n      <td>2013-01-01</td>\n      <td>9999-12-31 23:59:59.999999</td>\n    </tr>\n    <tr>\n      <th>1</th>\n      <td>2</td>\n      <td>Wholesaler</td>\n      <td>1</td>\n      <td>2013-01-01</td>\n      <td>9999-12-31 23:59:59.999999</td>\n    </tr>\n    <tr>\n      <th>2</th>\n      <td>3</td>\n      <td>Novelty Shop</td>\n      <td>1</td>\n      <td>2013-01-01</td>\n      <td>9999-12-31 23:59:59.999999</td>\n    </tr>\n    <tr>\n      <th>3</th>\n      <td>4</td>\n      <td>Supermarket</td>\n      <td>1</td>\n      <td>2013-01-01</td>\n      <td>9999-12-31 23:59:59.999999</td>\n    </tr>\n    <tr>\n      <th>4</th>\n      <td>5</td>\n      <td>Computer Store</td>\n      <td>1</td>\n      <td>2013-01-01</td>\n      <td>9999-12-31 23:59:59.999999</td>\n    </tr>\n  </tbody>\n</table>"
     },
     "metadata": {},
     "output_type": "display_data"
    },
    {
     "name": "stdout",
     "output_type": "stream",
     "text": [
      "Table: Sales.CustomerCategories_Archive\n"
     ]
    },
    {
     "data": {
      "text/plain": "<IPython.core.display.HTML object>",
      "text/html": "<table border=\"1\" class=\"dataframe\">\n  <thead>\n    <tr style=\"text-align: right;\">\n      <th></th>\n      <th>CustomerCategoryID</th>\n      <th>CustomerCategoryName</th>\n      <th>LastEditedBy</th>\n      <th>ValidFrom</th>\n      <th>ValidTo</th>\n    </tr>\n  </thead>\n  <tbody>\n    <tr>\n      <th>0</th>\n      <td>8</td>\n      <td>Retailer</td>\n      <td>1</td>\n      <td>2014-01-01 16:00:00</td>\n      <td>2014-01-01 16:15:00</td>\n    </tr>\n  </tbody>\n</table>"
     },
     "metadata": {},
     "output_type": "display_data"
    }
   ],
   "source": [
    "for index, row in pd.read_sql(tableSelectAllQuery, engine).iterrows():\n",
    "    schema = row[\"SchemaName\"]\n",
    "    table = row[\"TableName\"]\n",
    "    print(f\"Table: {schema}.{table}\")\n",
    "    try:\n",
    "        display(HTML(getTableSample(schema, table, engine).to_html()))\n",
    "    except:\n",
    "        print(f'!! SQL Data type exception found, unable to sample')"
   ],
   "metadata": {
    "collapsed": false,
    "pycharm": {
     "name": "#%%\n"
    }
   }
  }
 ],
 "metadata": {
  "kernelspec": {
   "display_name": "Python 3",
   "language": "python",
   "name": "python3"
  },
  "language_info": {
   "codemirror_mode": {
    "name": "ipython",
    "version": 2
   },
   "file_extension": ".py",
   "mimetype": "text/x-python",
   "name": "python",
   "nbconvert_exporter": "python",
   "pygments_lexer": "ipython2",
   "version": "2.7.6"
  }
 },
 "nbformat": 4,
 "nbformat_minor": 0
}