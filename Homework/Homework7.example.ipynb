{
 "cells": [
  {
   "cell_type": "markdown",
   "metadata": {
    "collapsed": true,
    "pycharm": {
     "name": "#%% md\n"
    }
   },
   "source": [
    "# Homework7.example.ipynb\n",
    "\n",
    "## Purpose\n",
    "\n",
    "This notebook is to give an example of how one could slice information so that you can get more use out of the data set.  Note, I'm not going to do any ML over it, just how to prep the data."
   ]
  },
  {
   "cell_type": "code",
   "execution_count": 1,
   "outputs": [],
   "source": [
    "import pandas as pd"
   ],
   "metadata": {
    "collapsed": false,
    "pycharm": {
     "name": "#%%\n"
    }
   }
  },
  {
   "cell_type": "code",
   "execution_count": 3,
   "outputs": [
    {
     "data": {
      "text/plain": "         STATION             NAME    STATE  LATITUDE  LONGITUDE  ELEVATION  \\\n0    USC00020060    AGUILA, AZ US  Arizona   33.9433  -113.1875      659.9   \n1    USC00020060    AGUILA, AZ US  Arizona   33.9433  -113.1875      659.9   \n2    USC00020060    AGUILA, AZ US  Arizona   33.9433  -113.1875      659.9   \n3    USC00020060    AGUILA, AZ US  Arizona   33.9433  -113.1875      659.9   \n4    USC00020060    AGUILA, AZ US  Arizona   33.9433  -113.1875      659.9   \n..           ...              ...      ...       ...        ...        ...   \n425  USW00053168  AJO 29 S, AZ US  Arizona   31.9497  -112.8013      506.3   \n426  USW00053168  AJO 29 S, AZ US  Arizona   31.9497  -112.8013      506.3   \n427  USW00053168  AJO 29 S, AZ US  Arizona   31.9497  -112.8013      506.3   \n428  USW00053168  AJO 29 S, AZ US  Arizona   31.9497  -112.8013      506.3   \n429  USW00053168  AJO 29 S, AZ US  Arizona   31.9497  -112.8013      506.3   \n\n           DATE  TMAX TMAX_ATTRIBUTES  TMIN TMIN_ATTRIBUTES  TOBS  \\\n0    2010-01-01   NaN             NaN   NaN             NaN   NaN   \n1    2010-01-02   NaN             NaN   NaN             NaN   NaN   \n2    2010-01-03   NaN             NaN   NaN             NaN   NaN   \n3    2010-01-04   NaN             NaN   NaN             NaN   NaN   \n4    2010-01-05   NaN             NaN   NaN             NaN   NaN   \n..          ...   ...             ...   ...             ...   ...   \n425  2010-12-27  64.0             ,,R  45.0             ,,R   NaN   \n426  2010-12-28  65.0             ,,R  37.0             ,,R   NaN   \n427  2010-12-29  60.0             ,,R  38.0             ,,R   NaN   \n428  2010-12-30  53.0             ,,R  28.0             ,,R   NaN   \n429  2010-12-31  50.0             ,,R  25.0             ,,R   NaN   \n\n    TOBS_ATTRIBUTES  \n0               NaN  \n1               NaN  \n2               NaN  \n3               NaN  \n4               NaN  \n..              ...  \n425             NaN  \n426             NaN  \n427             NaN  \n428             NaN  \n429             NaN  \n\n[430 rows x 13 columns]",
      "text/html": "<div>\n<style scoped>\n    .dataframe tbody tr th:only-of-type {\n        vertical-align: middle;\n    }\n\n    .dataframe tbody tr th {\n        vertical-align: top;\n    }\n\n    .dataframe thead th {\n        text-align: right;\n    }\n</style>\n<table border=\"1\" class=\"dataframe\">\n  <thead>\n    <tr style=\"text-align: right;\">\n      <th></th>\n      <th>STATION</th>\n      <th>NAME</th>\n      <th>STATE</th>\n      <th>LATITUDE</th>\n      <th>LONGITUDE</th>\n      <th>ELEVATION</th>\n      <th>DATE</th>\n      <th>TMAX</th>\n      <th>TMAX_ATTRIBUTES</th>\n      <th>TMIN</th>\n      <th>TMIN_ATTRIBUTES</th>\n      <th>TOBS</th>\n      <th>TOBS_ATTRIBUTES</th>\n    </tr>\n  </thead>\n  <tbody>\n    <tr>\n      <th>0</th>\n      <td>USC00020060</td>\n      <td>AGUILA, AZ US</td>\n      <td>Arizona</td>\n      <td>33.9433</td>\n      <td>-113.1875</td>\n      <td>659.9</td>\n      <td>2010-01-01</td>\n      <td>NaN</td>\n      <td>NaN</td>\n      <td>NaN</td>\n      <td>NaN</td>\n      <td>NaN</td>\n      <td>NaN</td>\n    </tr>\n    <tr>\n      <th>1</th>\n      <td>USC00020060</td>\n      <td>AGUILA, AZ US</td>\n      <td>Arizona</td>\n      <td>33.9433</td>\n      <td>-113.1875</td>\n      <td>659.9</td>\n      <td>2010-01-02</td>\n      <td>NaN</td>\n      <td>NaN</td>\n      <td>NaN</td>\n      <td>NaN</td>\n      <td>NaN</td>\n      <td>NaN</td>\n    </tr>\n    <tr>\n      <th>2</th>\n      <td>USC00020060</td>\n      <td>AGUILA, AZ US</td>\n      <td>Arizona</td>\n      <td>33.9433</td>\n      <td>-113.1875</td>\n      <td>659.9</td>\n      <td>2010-01-03</td>\n      <td>NaN</td>\n      <td>NaN</td>\n      <td>NaN</td>\n      <td>NaN</td>\n      <td>NaN</td>\n      <td>NaN</td>\n    </tr>\n    <tr>\n      <th>3</th>\n      <td>USC00020060</td>\n      <td>AGUILA, AZ US</td>\n      <td>Arizona</td>\n      <td>33.9433</td>\n      <td>-113.1875</td>\n      <td>659.9</td>\n      <td>2010-01-04</td>\n      <td>NaN</td>\n      <td>NaN</td>\n      <td>NaN</td>\n      <td>NaN</td>\n      <td>NaN</td>\n      <td>NaN</td>\n    </tr>\n    <tr>\n      <th>4</th>\n      <td>USC00020060</td>\n      <td>AGUILA, AZ US</td>\n      <td>Arizona</td>\n      <td>33.9433</td>\n      <td>-113.1875</td>\n      <td>659.9</td>\n      <td>2010-01-05</td>\n      <td>NaN</td>\n      <td>NaN</td>\n      <td>NaN</td>\n      <td>NaN</td>\n      <td>NaN</td>\n      <td>NaN</td>\n    </tr>\n    <tr>\n      <th>...</th>\n      <td>...</td>\n      <td>...</td>\n      <td>...</td>\n      <td>...</td>\n      <td>...</td>\n      <td>...</td>\n      <td>...</td>\n      <td>...</td>\n      <td>...</td>\n      <td>...</td>\n      <td>...</td>\n      <td>...</td>\n      <td>...</td>\n    </tr>\n    <tr>\n      <th>425</th>\n      <td>USW00053168</td>\n      <td>AJO 29 S, AZ US</td>\n      <td>Arizona</td>\n      <td>31.9497</td>\n      <td>-112.8013</td>\n      <td>506.3</td>\n      <td>2010-12-27</td>\n      <td>64.0</td>\n      <td>,,R</td>\n      <td>45.0</td>\n      <td>,,R</td>\n      <td>NaN</td>\n      <td>NaN</td>\n    </tr>\n    <tr>\n      <th>426</th>\n      <td>USW00053168</td>\n      <td>AJO 29 S, AZ US</td>\n      <td>Arizona</td>\n      <td>31.9497</td>\n      <td>-112.8013</td>\n      <td>506.3</td>\n      <td>2010-12-28</td>\n      <td>65.0</td>\n      <td>,,R</td>\n      <td>37.0</td>\n      <td>,,R</td>\n      <td>NaN</td>\n      <td>NaN</td>\n    </tr>\n    <tr>\n      <th>427</th>\n      <td>USW00053168</td>\n      <td>AJO 29 S, AZ US</td>\n      <td>Arizona</td>\n      <td>31.9497</td>\n      <td>-112.8013</td>\n      <td>506.3</td>\n      <td>2010-12-29</td>\n      <td>60.0</td>\n      <td>,,R</td>\n      <td>38.0</td>\n      <td>,,R</td>\n      <td>NaN</td>\n      <td>NaN</td>\n    </tr>\n    <tr>\n      <th>428</th>\n      <td>USW00053168</td>\n      <td>AJO 29 S, AZ US</td>\n      <td>Arizona</td>\n      <td>31.9497</td>\n      <td>-112.8013</td>\n      <td>506.3</td>\n      <td>2010-12-30</td>\n      <td>53.0</td>\n      <td>,,R</td>\n      <td>28.0</td>\n      <td>,,R</td>\n      <td>NaN</td>\n      <td>NaN</td>\n    </tr>\n    <tr>\n      <th>429</th>\n      <td>USW00053168</td>\n      <td>AJO 29 S, AZ US</td>\n      <td>Arizona</td>\n      <td>31.9497</td>\n      <td>-112.8013</td>\n      <td>506.3</td>\n      <td>2010-12-31</td>\n      <td>50.0</td>\n      <td>,,R</td>\n      <td>25.0</td>\n      <td>,,R</td>\n      <td>NaN</td>\n      <td>NaN</td>\n    </tr>\n  </tbody>\n</table>\n<p>430 rows × 13 columns</p>\n</div>"
     },
     "execution_count": 3,
     "metadata": {},
     "output_type": "execute_result"
    }
   ],
   "source": [
    "arizonaWeather = pd.read_csv(\"../data/arizona_2010.csv\")\n",
    "arizonaWeather"
   ],
   "metadata": {
    "collapsed": false,
    "pycharm": {
     "name": "#%%\n"
    }
   }
  },
  {
   "cell_type": "code",
   "execution_count": 5,
   "outputs": [
    {
     "data": {
      "text/plain": "array(['USC00020060', 'USW00053168'], dtype=object)"
     },
     "execution_count": 5,
     "metadata": {},
     "output_type": "execute_result"
    }
   ],
   "source": [
    "arizonaWeather[\"STATION\"].unique()"
   ],
   "metadata": {
    "collapsed": false,
    "pycharm": {
     "name": "#%%\n"
    }
   }
  },
  {
   "cell_type": "markdown",
   "source": [
    "* Student A: Given Latitude and Longitude, get the station name.\n",
    "* Student B: Given Elevation, get the station name\n",
    "* Student C: Given temperature and elevation, get station name\n",
    "* Student D: Given date and elevation, get the likely temperature."
   ],
   "metadata": {
    "collapsed": false,
    "pycharm": {
     "name": "#%% md\n"
    }
   }
  }
 ],
 "metadata": {
  "kernelspec": {
   "display_name": "Python 3",
   "language": "python",
   "name": "python3"
  },
  "language_info": {
   "codemirror_mode": {
    "name": "ipython",
    "version": 2
   },
   "file_extension": ".py",
   "mimetype": "text/x-python",
   "name": "python",
   "nbconvert_exporter": "python",
   "pygments_lexer": "ipython2",
   "version": "2.7.6"
  }
 },
 "nbformat": 4,
 "nbformat_minor": 0
}