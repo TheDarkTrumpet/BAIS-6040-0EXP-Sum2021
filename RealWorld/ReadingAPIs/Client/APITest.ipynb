{
 "cells": [
  {
   "cell_type": "code",
   "execution_count": 1,
   "metadata": {
    "collapsed": true
   },
   "outputs": [],
   "source": [
    "import pandas as pd"
   ]
  },
  {
   "cell_type": "code",
   "execution_count": 2,
   "outputs": [
    {
     "data": {
      "text/plain": "          Date  Location  MinTemp  MaxTemp  Rainfall  Evaporation  Sunshine  \\\n0   2007-11-01  Canberra      8.0     24.3       0.0          3.4       6.3   \n1   2007-11-02  Canberra     14.0     26.9       3.6          4.4       9.7   \n2   2007-11-03  Canberra     13.7     23.4       3.6          5.8       3.3   \n3   2007-11-04  Canberra     13.3     15.5      39.8          7.2       9.1   \n4   2007-11-05  Canberra      7.6     16.1       2.8          5.6      10.6   \n..         ...       ...      ...      ...       ...          ...       ...   \n361 2008-10-27  Canberra      9.0     30.7       0.0          7.6      12.1   \n362 2008-10-28  Canberra      7.1     28.4       0.0         11.6      12.7   \n363 2008-10-29  Canberra     12.5     19.9       0.0          8.4       5.3   \n364 2008-10-30  Canberra     12.5     26.9       0.0          5.0       7.1   \n365 2008-10-31  Canberra     12.3     30.2       0.0          6.0      12.6   \n\n    WindGustDir  WindGustSpeed WindDir9am  ... Humidity3pm  Pressure9am  \\\n0            NW           30.0         SW  ...          29       1019.7   \n1           ENE           39.0          E  ...          36       1012.4   \n2            NW           85.0          N  ...          69       1009.5   \n3            NW           54.0        WNW  ...          56       1005.5   \n4           SSE           50.0        SSE  ...          49       1018.3   \n..          ...            ...        ...  ...         ...          ...   \n361         NNW           76.0        SSE  ...          15       1016.1   \n362           N           48.0        NNW  ...          22       1020.0   \n363         ESE           43.0        ENE  ...          47       1024.0   \n364          NW           46.0        SSW  ...          39       1021.0   \n365          NW           78.0         NW  ...          13       1009.6   \n\n     Pressure3pm  Cloud9am  Cloud3pm  Temp9am  Temp3pm  RainToday  RISK_MM  \\\n0         1015.0         7         7     14.4     23.6         No      3.6   \n1         1008.4         5         3     17.5     25.7        Yes      3.6   \n2         1007.2         8         7     15.4     20.2        Yes     39.8   \n3         1007.0         2         7     13.5     14.1        Yes      2.8   \n4         1018.5         7         7     11.1     15.4        Yes      0.0   \n..           ...       ...       ...      ...      ...        ...      ...   \n361       1010.8         1         3     20.4     30.0         No      0.0   \n362       1016.9         0         1     17.2     28.2         No      0.0   \n363       1022.8         3         2     14.5     18.3         No      0.0   \n364       1016.2         6         7     15.8     25.9         No      0.0   \n365       1009.2         1         1     23.8     28.6         No      0.0   \n\n     RainTomorrow  \n0             Yes  \n1             Yes  \n2             Yes  \n3             Yes  \n4              No  \n..            ...  \n361            No  \n362            No  \n363            No  \n364            No  \n365            No  \n\n[366 rows x 24 columns]",
      "text/html": "<div>\n<style scoped>\n    .dataframe tbody tr th:only-of-type {\n        vertical-align: middle;\n    }\n\n    .dataframe tbody tr th {\n        vertical-align: top;\n    }\n\n    .dataframe thead th {\n        text-align: right;\n    }\n</style>\n<table border=\"1\" class=\"dataframe\">\n  <thead>\n    <tr style=\"text-align: right;\">\n      <th></th>\n      <th>Date</th>\n      <th>Location</th>\n      <th>MinTemp</th>\n      <th>MaxTemp</th>\n      <th>Rainfall</th>\n      <th>Evaporation</th>\n      <th>Sunshine</th>\n      <th>WindGustDir</th>\n      <th>WindGustSpeed</th>\n      <th>WindDir9am</th>\n      <th>...</th>\n      <th>Humidity3pm</th>\n      <th>Pressure9am</th>\n      <th>Pressure3pm</th>\n      <th>Cloud9am</th>\n      <th>Cloud3pm</th>\n      <th>Temp9am</th>\n      <th>Temp3pm</th>\n      <th>RainToday</th>\n      <th>RISK_MM</th>\n      <th>RainTomorrow</th>\n    </tr>\n  </thead>\n  <tbody>\n    <tr>\n      <th>0</th>\n      <td>2007-11-01</td>\n      <td>Canberra</td>\n      <td>8.0</td>\n      <td>24.3</td>\n      <td>0.0</td>\n      <td>3.4</td>\n      <td>6.3</td>\n      <td>NW</td>\n      <td>30.0</td>\n      <td>SW</td>\n      <td>...</td>\n      <td>29</td>\n      <td>1019.7</td>\n      <td>1015.0</td>\n      <td>7</td>\n      <td>7</td>\n      <td>14.4</td>\n      <td>23.6</td>\n      <td>No</td>\n      <td>3.6</td>\n      <td>Yes</td>\n    </tr>\n    <tr>\n      <th>1</th>\n      <td>2007-11-02</td>\n      <td>Canberra</td>\n      <td>14.0</td>\n      <td>26.9</td>\n      <td>3.6</td>\n      <td>4.4</td>\n      <td>9.7</td>\n      <td>ENE</td>\n      <td>39.0</td>\n      <td>E</td>\n      <td>...</td>\n      <td>36</td>\n      <td>1012.4</td>\n      <td>1008.4</td>\n      <td>5</td>\n      <td>3</td>\n      <td>17.5</td>\n      <td>25.7</td>\n      <td>Yes</td>\n      <td>3.6</td>\n      <td>Yes</td>\n    </tr>\n    <tr>\n      <th>2</th>\n      <td>2007-11-03</td>\n      <td>Canberra</td>\n      <td>13.7</td>\n      <td>23.4</td>\n      <td>3.6</td>\n      <td>5.8</td>\n      <td>3.3</td>\n      <td>NW</td>\n      <td>85.0</td>\n      <td>N</td>\n      <td>...</td>\n      <td>69</td>\n      <td>1009.5</td>\n      <td>1007.2</td>\n      <td>8</td>\n      <td>7</td>\n      <td>15.4</td>\n      <td>20.2</td>\n      <td>Yes</td>\n      <td>39.8</td>\n      <td>Yes</td>\n    </tr>\n    <tr>\n      <th>3</th>\n      <td>2007-11-04</td>\n      <td>Canberra</td>\n      <td>13.3</td>\n      <td>15.5</td>\n      <td>39.8</td>\n      <td>7.2</td>\n      <td>9.1</td>\n      <td>NW</td>\n      <td>54.0</td>\n      <td>WNW</td>\n      <td>...</td>\n      <td>56</td>\n      <td>1005.5</td>\n      <td>1007.0</td>\n      <td>2</td>\n      <td>7</td>\n      <td>13.5</td>\n      <td>14.1</td>\n      <td>Yes</td>\n      <td>2.8</td>\n      <td>Yes</td>\n    </tr>\n    <tr>\n      <th>4</th>\n      <td>2007-11-05</td>\n      <td>Canberra</td>\n      <td>7.6</td>\n      <td>16.1</td>\n      <td>2.8</td>\n      <td>5.6</td>\n      <td>10.6</td>\n      <td>SSE</td>\n      <td>50.0</td>\n      <td>SSE</td>\n      <td>...</td>\n      <td>49</td>\n      <td>1018.3</td>\n      <td>1018.5</td>\n      <td>7</td>\n      <td>7</td>\n      <td>11.1</td>\n      <td>15.4</td>\n      <td>Yes</td>\n      <td>0.0</td>\n      <td>No</td>\n    </tr>\n    <tr>\n      <th>...</th>\n      <td>...</td>\n      <td>...</td>\n      <td>...</td>\n      <td>...</td>\n      <td>...</td>\n      <td>...</td>\n      <td>...</td>\n      <td>...</td>\n      <td>...</td>\n      <td>...</td>\n      <td>...</td>\n      <td>...</td>\n      <td>...</td>\n      <td>...</td>\n      <td>...</td>\n      <td>...</td>\n      <td>...</td>\n      <td>...</td>\n      <td>...</td>\n      <td>...</td>\n      <td>...</td>\n    </tr>\n    <tr>\n      <th>361</th>\n      <td>2008-10-27</td>\n      <td>Canberra</td>\n      <td>9.0</td>\n      <td>30.7</td>\n      <td>0.0</td>\n      <td>7.6</td>\n      <td>12.1</td>\n      <td>NNW</td>\n      <td>76.0</td>\n      <td>SSE</td>\n      <td>...</td>\n      <td>15</td>\n      <td>1016.1</td>\n      <td>1010.8</td>\n      <td>1</td>\n      <td>3</td>\n      <td>20.4</td>\n      <td>30.0</td>\n      <td>No</td>\n      <td>0.0</td>\n      <td>No</td>\n    </tr>\n    <tr>\n      <th>362</th>\n      <td>2008-10-28</td>\n      <td>Canberra</td>\n      <td>7.1</td>\n      <td>28.4</td>\n      <td>0.0</td>\n      <td>11.6</td>\n      <td>12.7</td>\n      <td>N</td>\n      <td>48.0</td>\n      <td>NNW</td>\n      <td>...</td>\n      <td>22</td>\n      <td>1020.0</td>\n      <td>1016.9</td>\n      <td>0</td>\n      <td>1</td>\n      <td>17.2</td>\n      <td>28.2</td>\n      <td>No</td>\n      <td>0.0</td>\n      <td>No</td>\n    </tr>\n    <tr>\n      <th>363</th>\n      <td>2008-10-29</td>\n      <td>Canberra</td>\n      <td>12.5</td>\n      <td>19.9</td>\n      <td>0.0</td>\n      <td>8.4</td>\n      <td>5.3</td>\n      <td>ESE</td>\n      <td>43.0</td>\n      <td>ENE</td>\n      <td>...</td>\n      <td>47</td>\n      <td>1024.0</td>\n      <td>1022.8</td>\n      <td>3</td>\n      <td>2</td>\n      <td>14.5</td>\n      <td>18.3</td>\n      <td>No</td>\n      <td>0.0</td>\n      <td>No</td>\n    </tr>\n    <tr>\n      <th>364</th>\n      <td>2008-10-30</td>\n      <td>Canberra</td>\n      <td>12.5</td>\n      <td>26.9</td>\n      <td>0.0</td>\n      <td>5.0</td>\n      <td>7.1</td>\n      <td>NW</td>\n      <td>46.0</td>\n      <td>SSW</td>\n      <td>...</td>\n      <td>39</td>\n      <td>1021.0</td>\n      <td>1016.2</td>\n      <td>6</td>\n      <td>7</td>\n      <td>15.8</td>\n      <td>25.9</td>\n      <td>No</td>\n      <td>0.0</td>\n      <td>No</td>\n    </tr>\n    <tr>\n      <th>365</th>\n      <td>2008-10-31</td>\n      <td>Canberra</td>\n      <td>12.3</td>\n      <td>30.2</td>\n      <td>0.0</td>\n      <td>6.0</td>\n      <td>12.6</td>\n      <td>NW</td>\n      <td>78.0</td>\n      <td>NW</td>\n      <td>...</td>\n      <td>13</td>\n      <td>1009.6</td>\n      <td>1009.2</td>\n      <td>1</td>\n      <td>1</td>\n      <td>23.8</td>\n      <td>28.6</td>\n      <td>No</td>\n      <td>0.0</td>\n      <td>No</td>\n    </tr>\n  </tbody>\n</table>\n<p>366 rows × 24 columns</p>\n</div>"
     },
     "execution_count": 2,
     "metadata": {},
     "output_type": "execute_result"
    }
   ],
   "source": [
    "dataFrame = pd.read_json(\"http://localhost:8000/api/weather\")\n",
    "dataFrame"
   ],
   "metadata": {
    "collapsed": false,
    "pycharm": {
     "name": "#%%\n"
    }
   }
  },
  {
   "cell_type": "code",
   "execution_count": 3,
   "outputs": [
    {
     "data": {
      "text/plain": "                                                review\n0    One of the other reviewers has mentioned that ...\n1    A wonderful little production. <br /><br />The...\n10   Phil the Alien is one of those quirky films wh...\n100  This short film that inspired the soon-to-be f...\n101  Okay, last night, August 18th, 2004, I had the...\n..                                                 ...\n995  Nothing is sacred. Just ask Ernie Fosselius. T...\n996  I hated it. I hate self-aware pretentious inan...\n997  I usually try to be professional and construct...\n998  If you like me is going to see this in a film ...\n999  This is like a zoology textbook, given that it...\n\n[1000 rows x 1 columns]",
      "text/html": "<div>\n<style scoped>\n    .dataframe tbody tr th:only-of-type {\n        vertical-align: middle;\n    }\n\n    .dataframe tbody tr th {\n        vertical-align: top;\n    }\n\n    .dataframe thead th {\n        text-align: right;\n    }\n</style>\n<table border=\"1\" class=\"dataframe\">\n  <thead>\n    <tr style=\"text-align: right;\">\n      <th></th>\n      <th>review</th>\n    </tr>\n  </thead>\n  <tbody>\n    <tr>\n      <th>0</th>\n      <td>One of the other reviewers has mentioned that ...</td>\n    </tr>\n    <tr>\n      <th>1</th>\n      <td>A wonderful little production. &lt;br /&gt;&lt;br /&gt;The...</td>\n    </tr>\n    <tr>\n      <th>10</th>\n      <td>Phil the Alien is one of those quirky films wh...</td>\n    </tr>\n    <tr>\n      <th>100</th>\n      <td>This short film that inspired the soon-to-be f...</td>\n    </tr>\n    <tr>\n      <th>101</th>\n      <td>Okay, last night, August 18th, 2004, I had the...</td>\n    </tr>\n    <tr>\n      <th>...</th>\n      <td>...</td>\n    </tr>\n    <tr>\n      <th>995</th>\n      <td>Nothing is sacred. Just ask Ernie Fosselius. T...</td>\n    </tr>\n    <tr>\n      <th>996</th>\n      <td>I hated it. I hate self-aware pretentious inan...</td>\n    </tr>\n    <tr>\n      <th>997</th>\n      <td>I usually try to be professional and construct...</td>\n    </tr>\n    <tr>\n      <th>998</th>\n      <td>If you like me is going to see this in a film ...</td>\n    </tr>\n    <tr>\n      <th>999</th>\n      <td>This is like a zoology textbook, given that it...</td>\n    </tr>\n  </tbody>\n</table>\n<p>1000 rows × 1 columns</p>\n</div>"
     },
     "execution_count": 3,
     "metadata": {},
     "output_type": "execute_result"
    }
   ],
   "source": [
    "dataFrame = pd.read_json(\"http://localhost:8000/api/imbd\")\n",
    "dataFrame"
   ],
   "metadata": {
    "collapsed": false,
    "pycharm": {
     "name": "#%%\n"
    }
   }
  },
  {
   "cell_type": "code",
   "execution_count": null,
   "outputs": [],
   "source": [],
   "metadata": {
    "collapsed": false,
    "pycharm": {
     "name": "#%%\n"
    }
   }
  }
 ],
 "metadata": {
  "kernelspec": {
   "display_name": "Python 3",
   "language": "python",
   "name": "python3"
  },
  "language_info": {
   "codemirror_mode": {
    "name": "ipython",
    "version": 2
   },
   "file_extension": ".py",
   "mimetype": "text/x-python",
   "name": "python",
   "nbconvert_exporter": "python",
   "pygments_lexer": "ipython2",
   "version": "2.7.6"
  }
 },
 "nbformat": 4,
 "nbformat_minor": 0
}