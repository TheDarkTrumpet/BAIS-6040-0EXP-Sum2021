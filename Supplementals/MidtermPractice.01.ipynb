{
 "cells": [
  {
   "cell_type": "markdown",
   "metadata": {
    "collapsed": true,
    "pycharm": {
     "name": "#%% md\n"
    }
   },
   "source": [
    "# MidtermPractice.01.ipynb\n",
    "\n",
    "# Purpose\n",
    "This is a set of exercises designed to help test for the **practical** knowledge related to the midterm exam.  The format will be similar between the two."
   ]
  },
  {
   "cell_type": "markdown",
   "source": [
    "# Types\n",
    "\n",
    "Generate a list of 10 random float elements, between 0 and 1 [0, 0.01, 0.02, ..., 0.99, 1] using both a for and while loop (not a comprehension).  The numbers should be a precision of 2."
   ],
   "metadata": {
    "collapsed": false,
    "pycharm": {
     "name": "#%% md\n"
    }
   }
  },
  {
   "cell_type": "code",
   "execution_count": 2,
   "outputs": [],
   "source": [
    "import random as rnd\n",
    "rnd.seed(50923)"
   ],
   "metadata": {
    "collapsed": false,
    "pycharm": {
     "name": "#%%\n"
    }
   }
  },
  {
   "cell_type": "code",
   "execution_count": 3,
   "outputs": [
    {
     "data": {
      "text/plain": "[0.06, 0.67, 0.17, 0.6, 0.81, 0.6, 0.37, 0.69, 0.57, 0.41]"
     },
     "execution_count": 3,
     "metadata": {},
     "output_type": "execute_result"
    }
   ],
   "source": [
    "randomListFor = []\n",
    "for x in range(10):\n",
    "    randomListFor.append(rnd.randint(1, 100)/100)\n",
    "randomListFor"
   ],
   "metadata": {
    "collapsed": false,
    "pycharm": {
     "name": "#%%\n"
    }
   }
  },
  {
   "cell_type": "code",
   "execution_count": 5,
   "outputs": [
    {
     "data": {
      "text/plain": "[0.97, 0.25, 0.53, 0.69, 0.56, 0.63, 0.88, 0.71, 0.68, 1.0]"
     },
     "execution_count": 5,
     "metadata": {},
     "output_type": "execute_result"
    }
   ],
   "source": [
    "randomoListWhile = []\n",
    "while len(randomoListWhile) < 10:\n",
    "    randomoListWhile.append(rnd.randint(1, 100)/100)\n",
    "randomoListWhile"
   ],
   "metadata": {
    "collapsed": false,
    "pycharm": {
     "name": "#%%\n"
    }
   }
  },
  {
   "cell_type": "markdown",
   "source": [
    "# Grouping elements\n",
    "Write a function that accepts a list.  For very two elements in the list, group them together in a tuple, and return, in the end, a list of tuples.  This function should be durable, not reliant on a specific number of elements, and it should be able to handle both even and odds.  Pay attention to the output of this."
   ],
   "metadata": {
    "collapsed": false,
    "pycharm": {
     "name": "#%% md\n"
    }
   }
  },
  {
   "cell_type": "code",
   "execution_count": 9,
   "outputs": [],
   "source": [
    "import math\n",
    "def groupElements(inElements):\n",
    "    middlePoint = math.floor(len(inElements))\n",
    "    counter = 0\n",
    "    returnStructure = []\n",
    "    while counter < middlePoint:\n",
    "        curElement = inElements[counter]\n",
    "        nextElemnt = None\n",
    "        if counter + 1 < len(inElements):\n",
    "            nextElemnt = inElements[counter+1]\n",
    "        returnStructure.append((curElement, nextElemnt))\n",
    "        counter += 2\n",
    "    return returnStructure"
   ],
   "metadata": {
    "collapsed": false,
    "pycharm": {
     "name": "#%%\n"
    }
   }
  },
  {
   "cell_type": "code",
   "execution_count": 10,
   "outputs": [
    {
     "data": {
      "text/plain": "[(1, 5), (9, None)]"
     },
     "execution_count": 10,
     "metadata": {},
     "output_type": "execute_result"
    }
   ],
   "source": [
    "groupElements([1, 5, 9])"
   ],
   "metadata": {
    "collapsed": false,
    "pycharm": {
     "name": "#%%\n"
    }
   }
  },
  {
   "cell_type": "code",
   "execution_count": 11,
   "outputs": [
    {
     "data": {
      "text/plain": "[(5, 8), (9, 2)]"
     },
     "execution_count": 11,
     "metadata": {},
     "output_type": "execute_result"
    }
   ],
   "source": [
    "groupElements([5, 8, 9, 2])"
   ],
   "metadata": {
    "collapsed": false,
    "pycharm": {
     "name": "#%%\n"
    }
   }
  }
 ],
 "metadata": {
  "kernelspec": {
   "display_name": "Python 3",
   "language": "python",
   "name": "python3"
  },
  "language_info": {
   "codemirror_mode": {
    "name": "ipython",
    "version": 2
   },
   "file_extension": ".py",
   "mimetype": "text/x-python",
   "name": "python",
   "nbconvert_exporter": "python",
   "pygments_lexer": "ipython2",
   "version": "2.7.6"
  }
 },
 "nbformat": 4,
 "nbformat_minor": 0
}