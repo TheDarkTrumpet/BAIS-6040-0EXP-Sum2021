{
 "cells": [
  {
   "cell_type": "markdown",
   "metadata": {
    "collapsed": true,
    "pycharm": {
     "name": "#%% md\n"
    }
   },
   "source": [
    "# final.conceptual\n",
    "\n",
    "## Purpose\n",
    "\n",
    "This notebook demonstrates and acts as a reference for questions that show up on the final conceptual exam."
   ]
  },
  {
   "cell_type": "markdown",
   "source": [
    "# Question 1 - Simple Types\n",
    "\n",
    "Covered in module 1"
   ],
   "metadata": {
    "collapsed": false,
    "pycharm": {
     "name": "#%% md\n"
    }
   }
  },
  {
   "cell_type": "code",
   "execution_count": 2,
   "outputs": [
    {
     "name": "stdout",
     "output_type": "stream",
     "text": [
      "Element: 1 - type <class 'int'>\n",
      "Element: 2.0 - type <class 'float'>\n",
      "Element: True - type <class 'bool'>\n",
      "Element: True - type <class 'bool'>\n",
      "Element: Why, hello there - type <class 'str'>\n"
     ]
    }
   ],
   "source": [
    "aCollection = [1, 2., True, bool(1), \"Why, hello there\"]\n",
    "\n",
    "for element in aCollection:\n",
    "    print(f\"Element: {element} - type {type(element)}\")"
   ],
   "metadata": {
    "collapsed": false,
    "pycharm": {
     "name": "#%%\n"
    }
   }
  },
  {
   "cell_type": "markdown",
   "source": [
    "# Question 2 - Operators and Types\n",
    "\n",
    "Covered in 01.01.02/01.02.01"
   ],
   "metadata": {
    "collapsed": false,
    "pycharm": {
     "name": "#%% md\n"
    }
   }
  },
  {
   "cell_type": "code",
   "execution_count": 5,
   "outputs": [
    {
     "ename": "TypeError",
     "evalue": "can only concatenate str (not \"int\") to str",
     "output_type": "error",
     "traceback": [
      "\u001B[0;31m---------------------------------------------------------------------------\u001B[0m",
      "\u001B[0;31mTypeError\u001B[0m                                 Traceback (most recent call last)",
      "\u001B[0;32m<ipython-input-5-acc3796e6b69>\u001B[0m in \u001B[0;36m<module>\u001B[0;34m\u001B[0m\n\u001B[1;32m      2\u001B[0m \u001B[0mvalue2\u001B[0m \u001B[0;34m=\u001B[0m \u001B[0;36m5\u001B[0m\u001B[0;34m\u001B[0m\u001B[0;34m\u001B[0m\u001B[0m\n\u001B[1;32m      3\u001B[0m \u001B[0;34m\u001B[0m\u001B[0m\n\u001B[0;32m----> 4\u001B[0;31m \u001B[0mvalue1\u001B[0m \u001B[0;34m+\u001B[0m \u001B[0mvalue2\u001B[0m\u001B[0;34m\u001B[0m\u001B[0;34m\u001B[0m\u001B[0m\n\u001B[0m",
      "\u001B[0;31mTypeError\u001B[0m: can only concatenate str (not \"int\") to str"
     ]
    }
   ],
   "source": [
    "value1 = \"True\"\n",
    "value2 = 5\n",
    "\n",
    "value1 + value2"
   ],
   "metadata": {
    "collapsed": false,
    "pycharm": {
     "name": "#%%\n"
    }
   }
  },
  {
   "cell_type": "markdown",
   "source": [
    "# Question 3 - Operators and Types (part 2)\n",
    "Covered in 01.01.02/01.02.01"
   ],
   "metadata": {
    "collapsed": false,
    "pycharm": {
     "name": "#%% md\n"
    }
   }
  },
  {
   "cell_type": "code",
   "execution_count": 6,
   "outputs": [
    {
     "data": {
      "text/plain": "6"
     },
     "execution_count": 6,
     "metadata": {},
     "output_type": "execute_result"
    }
   ],
   "source": [
    "value1 = True\n",
    "value2 = 5\n",
    "\n",
    "value1 + value2"
   ],
   "metadata": {
    "collapsed": false,
    "pycharm": {
     "name": "#%%\n"
    }
   }
  },
  {
   "cell_type": "markdown",
   "source": [
    "# Question 4 - F-Strings\n",
    "Covered in 01.01.02"
   ],
   "metadata": {
    "collapsed": false,
    "pycharm": {
     "name": "#%% md\n"
    }
   }
  },
  {
   "cell_type": "code",
   "execution_count": 7,
   "outputs": [
    {
     "data": {
      "text/plain": "'Something, something [1, 1, 1], and something else 22'"
     },
     "execution_count": 7,
     "metadata": {},
     "output_type": "execute_result"
    }
   ],
   "source": [
    "value1 = f\"Something, something {[1, 1, 1]}, and something else {sum(map(lambda x: x * 2, [5, 1, 5]))}\"\n",
    "value1"
   ],
   "metadata": {
    "collapsed": false,
    "pycharm": {
     "name": "#%%\n"
    }
   }
  },
  {
   "cell_type": "markdown",
   "source": [
    "# Question 5 - Complex Types\n",
    "\n",
    "Covered in module 02.01.01"
   ],
   "metadata": {
    "collapsed": false,
    "pycharm": {
     "name": "#%% md\n"
    }
   }
  },
  {
   "cell_type": "code",
   "execution_count": 3,
   "outputs": [
    {
     "name": "stdout",
     "output_type": "stream",
     "text": [
      "Element: [1, 2, 1] - type <class 'list'>\n",
      "Element: {1, 3, 5} - type <class 'set'>\n",
      "Element: (1, 5, 5) - type <class 'tuple'>\n",
      "Element: {'a': 'b', 'c': 'd'} - type <class 'dict'>\n"
     ]
    }
   ],
   "source": [
    "aCollection = [[1, 2, 1], {1, 5, 3}, (1, 5, 5), {\"a\": \"b\", \"c\": \"d\"}]\n",
    "for element in aCollection:\n",
    "    print(f\"Element: {element} - type {type(element)}\")"
   ],
   "metadata": {
    "collapsed": false,
    "pycharm": {
     "name": "#%%\n"
    }
   }
  },
  {
   "cell_type": "markdown",
   "source": [
    "# Question 6 - Flow Control\n",
    "\n",
    "Covered in module 02.02.01"
   ],
   "metadata": {
    "collapsed": false,
    "pycharm": {
     "name": "#%% md\n"
    }
   }
  },
  {
   "cell_type": "code",
   "execution_count": 8,
   "outputs": [
    {
     "name": "stdout",
     "output_type": "stream",
     "text": [
      "value1 >= 100\n"
     ]
    }
   ],
   "source": [
    "value1 = 100\n",
    "\n",
    "if value1 > 100:\n",
    "    print(\"value1 > 100\")\n",
    "elif value1 >= 100:\n",
    "    print(\"value1 >= 100\")\n",
    "else:\n",
    "    print(\"value1 not >= 100\")"
   ],
   "metadata": {
    "collapsed": false,
    "pycharm": {
     "name": "#%%\n"
    }
   }
  },
  {
   "cell_type": "markdown",
   "source": [
    "# Question 7 - List Comprehension\n",
    "\n",
    "Covered in module 02.03.01"
   ],
   "metadata": {
    "collapsed": false,
    "pycharm": {
     "name": "#%% md\n"
    }
   }
  },
  {
   "cell_type": "code",
   "execution_count": 9,
   "outputs": [
    {
     "data": {
      "text/plain": "[0, 1, 2, 3, 4, 5, 6, 7, 8, 9]"
     },
     "execution_count": 9,
     "metadata": {},
     "output_type": "execute_result"
    }
   ],
   "source": [
    "value1 = [x for x in range(10)]\n",
    "value1"
   ],
   "metadata": {
    "collapsed": false,
    "pycharm": {
     "name": "#%%\n"
    }
   }
  },
  {
   "cell_type": "markdown",
   "source": [
    "# Question 8 - Map\n",
    "\n",
    "Covered in module 02.03.01"
   ],
   "metadata": {
    "collapsed": false,
    "pycharm": {
     "name": "#%% md\n"
    }
   }
  },
  {
   "cell_type": "code",
   "execution_count": 12,
   "outputs": [
    {
     "data": {
      "text/plain": "<map at 0x10d336dc0>"
     },
     "execution_count": 12,
     "metadata": {},
     "output_type": "execute_result"
    }
   ],
   "source": [
    "value1 = map(lambda x: x % 2 == 0, range(5))\n",
    "value1"
   ],
   "metadata": {
    "collapsed": false,
    "pycharm": {
     "name": "#%%\n"
    }
   }
  },
  {
   "cell_type": "code",
   "execution_count": 13,
   "outputs": [
    {
     "data": {
      "text/plain": "[True, False, True, False, True]"
     },
     "execution_count": 13,
     "metadata": {},
     "output_type": "execute_result"
    }
   ],
   "source": [
    "# Note, map doesn't evaluate til we actually need it, hence why we call list() on it so much.\n",
    "list(value1)"
   ],
   "metadata": {
    "collapsed": false,
    "pycharm": {
     "name": "#%%\n"
    }
   }
  },
  {
   "cell_type": "markdown",
   "source": [
    "# Question 9 - Filter\n",
    "\n",
    "Covered in module 02.03.01"
   ],
   "metadata": {
    "collapsed": false,
    "pycharm": {
     "name": "#%% md\n"
    }
   }
  },
  {
   "cell_type": "code",
   "execution_count": 15,
   "outputs": [
    {
     "data": {
      "text/plain": "<filter at 0x10d3b86d0>"
     },
     "execution_count": 15,
     "metadata": {},
     "output_type": "execute_result"
    }
   ],
   "source": [
    "value1 = filter(lambda x: x, map(lambda x: x % 2 == 0, range(5)))\n",
    "value1"
   ],
   "metadata": {
    "collapsed": false,
    "pycharm": {
     "name": "#%%\n"
    }
   }
  },
  {
   "cell_type": "code",
   "execution_count": 16,
   "outputs": [
    {
     "data": {
      "text/plain": "[True, True, True]"
     },
     "execution_count": 16,
     "metadata": {},
     "output_type": "execute_result"
    }
   ],
   "source": [
    "# Much like map, filter doesn't get evaluated til we need it\n",
    "list(value1)"
   ],
   "metadata": {
    "collapsed": false,
    "pycharm": {
     "name": "#%%\n"
    }
   }
  },
  {
   "cell_type": "markdown",
   "source": [
    "# Question 10, 11, 12 - Functions\n",
    "\n",
    "Covered in 03.01.01"
   ],
   "metadata": {
    "collapsed": false,
    "pycharm": {
     "name": "#%% md\n"
    }
   }
  },
  {
   "cell_type": "code",
   "execution_count": 23,
   "outputs": [
    {
     "name": "stdout",
     "output_type": "stream",
     "text": [
      "v => 3.5, Something\n",
      "v => 4.5, Something\n",
      "v => 14, BOOOOO!\n",
      "v => 7, SOMETHING!\n"
     ]
    },
    {
     "ename": "TypeError",
     "evalue": "something() missing 1 required positional argument: 'v'",
     "output_type": "error",
     "traceback": [
      "\u001B[0;31m---------------------------------------------------------------------------\u001B[0m",
      "\u001B[0;31mTypeError\u001B[0m                                 Traceback (most recent call last)",
      "\u001B[0;32m<ipython-input-23-249827146f37>\u001B[0m in \u001B[0;36m<module>\u001B[0;34m\u001B[0m\n\u001B[1;32m     10\u001B[0m \u001B[0;31m# Question 11 (Yes, you can omit an argument if explicitly referenced, optional only)\u001B[0m\u001B[0;34m\u001B[0m\u001B[0;34m\u001B[0m\u001B[0;34m\u001B[0m\u001B[0m\n\u001B[1;32m     11\u001B[0m \u001B[0msomething\u001B[0m\u001B[0;34m(\u001B[0m\u001B[0;36m5\u001B[0m\u001B[0;34m,\u001B[0m \u001B[0mv2\u001B[0m\u001B[0;34m=\u001B[0m\u001B[0;34m\"SOMETHING!\"\u001B[0m\u001B[0;34m)\u001B[0m\u001B[0;34m\u001B[0m\u001B[0;34m\u001B[0m\u001B[0m\n\u001B[0;32m---> 12\u001B[0;31m \u001B[0msomething\u001B[0m\u001B[0;34m(\u001B[0m\u001B[0mv2\u001B[0m \u001B[0;34m=\u001B[0m \u001B[0;36m500\u001B[0m\u001B[0;34m)\u001B[0m\u001B[0;34m\u001B[0m\u001B[0;34m\u001B[0m\u001B[0m\n\u001B[0m\u001B[1;32m     13\u001B[0m \u001B[0mv\u001B[0m \u001B[0;34m=\u001B[0m \u001B[0msomething\u001B[0m\u001B[0;34m(\u001B[0m\u001B[0;36m1.5\u001B[0m\u001B[0;34m,\u001B[0m \u001B[0;36m3\u001B[0m\u001B[0;34m,\u001B[0m \u001B[0;36m9\u001B[0m\u001B[0;34m)\u001B[0m\u001B[0;34m\u001B[0m\u001B[0;34m\u001B[0m\u001B[0m\n\u001B[1;32m     14\u001B[0m \u001B[0mtype\u001B[0m\u001B[0;34m(\u001B[0m\u001B[0mv\u001B[0m\u001B[0;34m)\u001B[0m\u001B[0;34m\u001B[0m\u001B[0;34m\u001B[0m\u001B[0m\n",
      "\u001B[0;31mTypeError\u001B[0m: something() missing 1 required positional argument: 'v'"
     ]
    }
   ],
   "source": [
    "def something(v, v1 = 2, v2 = \"Something\"):\n",
    "    v = v + v1\n",
    "    print(f\"v => {v}, {v2}\")\n",
    "\n",
    "# Question 10 (2nd and 3rd are optional)\n",
    "something(1.5)\n",
    "something(1.5, 3)\n",
    "something(5, 9, \"BOOOOO!\")\n",
    "\n",
    "# Question 11 (Yes, you can omit an argument if explicitly referenced, optional only)\n",
    "something(5, v2=\"SOMETHING!\")\n",
    "# something(v2 = 500)  # <--- doesn't work, we have to have v passed in.\n",
    "\n",
    "# Question 12 - If you don't return a value, a NoneType is returned.\n",
    "v = something(1.5, 3, 9)\n",
    "type(v)"
   ],
   "metadata": {
    "collapsed": false,
    "pycharm": {
     "name": "#%%\n"
    }
   }
  },
  {
   "cell_type": "markdown",
   "source": [
    "# Question 13 - Exceptions"
   ],
   "metadata": {
    "collapsed": false,
    "pycharm": {
     "name": "#%% md\n"
    }
   }
  }
 ],
 "metadata": {
  "kernelspec": {
   "display_name": "Python 3",
   "language": "python",
   "name": "python3"
  },
  "language_info": {
   "codemirror_mode": {
    "name": "ipython",
    "version": 2
   },
   "file_extension": ".py",
   "mimetype": "text/x-python",
   "name": "python",
   "nbconvert_exporter": "python",
   "pygments_lexer": "ipython2",
   "version": "2.7.6"
  }
 },
 "nbformat": 4,
 "nbformat_minor": 0
}