{
 "cells": [
  {
   "cell_type": "markdown",
   "metadata": {
    "collapsed": true,
    "pycharm": {
     "name": "#%% md\n"
    }
   },
   "source": [
    "# draft1.ipynb\n",
    "\n",
    "## Purpose\n",
    "This expands upon the 02-InvestigationAndTest and starts to formalize our structure a bit more."
   ]
  },
  {
   "cell_type": "code",
   "execution_count": 1,
   "outputs": [],
   "source": [
    "# User-Editable variables\n",
    "credsFile = \"/home/dthole/.creds/azure-blob-sync.creds\"\n",
    "inputDirectory = '/home/dthole/temp/blob-tutorial/'"
   ],
   "metadata": {
    "collapsed": false,
    "pycharm": {
     "name": "#%%\n"
    }
   }
  },
  {
   "cell_type": "code",
   "execution_count": 2,
   "outputs": [],
   "source": [
    "# Should not need to be modified past this section\n",
    "import os, uuid\n",
    "import glob\n",
    "import os.path\n",
    "from azure.storage.blob import BlobServiceClient, BlobClient, ContainerClient, __version__\n",
    "\n",
    "\n",
    "def load_credentials(cFile = credsFile):\n",
    "    \"\"\"This function loads credentials from a file.\"\"\"\n",
    "    with open(credsFile, \"r\") as creds:\n",
    "        connect_str = creds.readline()\n",
    "    return connect_str\n",
    "\n",
    "def create_service_client(connectionString):\n",
    "    return BlobServiceClient.from_connection_string(connectionString)\n",
    "\n",
    "def get_service_container(serviceClient, containerName = None):\n",
    "    if containerName is None:\n",
    "        container = list(serviceClient.list_containers())[0]\n",
    "    else:\n",
    "        container = list(serviceClient.list_containers(name_starts_with=containerName))[0]\n",
    "    return serviceClient.get_container_client(container)\n",
    "\n",
    "def upload_file(containerClient, filename, overwrite=False):\n",
    "    basename = os.path.basename(filename)\n",
    "    with open(filename, \"rb\") as data:\n",
    "        containerClient.upload_blob(name=basename, data=data, overwrite=overwrite)\n",
    "\n",
    "def upload_files(serviceClient, directoryPath, overwrite=False):\n",
    "    container = get_service_container(serviceClient, \"blob-tutorial\")\n",
    "    for filename in glob.glob(directoryPath):\n",
    "        print(f\"Currently processing, {filename}\")\n",
    "        upload_file(container, filename, overwrite=True)\n",
    "        print(f\"Finished processing, {filename}\")"
   ],
   "metadata": {
    "collapsed": false,
    "pycharm": {
     "name": "#%%\n"
    }
   }
  },
  {
   "cell_type": "code",
   "execution_count": 3,
   "outputs": [
    {
     "name": "stdout",
     "output_type": "stream",
     "text": [
      "Currently processing, /home/dthole/temp/blob-tutorial/test-file4.bin\n",
      "Finished processing, /home/dthole/temp/blob-tutorial/test-file4.bin\n",
      "Currently processing, /home/dthole/temp/blob-tutorial/test-file5.bin\n",
      "Finished processing, /home/dthole/temp/blob-tutorial/test-file5.bin\n",
      "Currently processing, /home/dthole/temp/blob-tutorial/test-file3.bin\n",
      "Finished processing, /home/dthole/temp/blob-tutorial/test-file3.bin\n",
      "Currently processing, /home/dthole/temp/blob-tutorial/test-file2.bin\n",
      "Finished processing, /home/dthole/temp/blob-tutorial/test-file2.bin\n",
      "Currently processing, /home/dthole/temp/blob-tutorial/test-file.bin\n",
      "Finished processing, /home/dthole/temp/blob-tutorial/test-file.bin\n"
     ]
    }
   ],
   "source": [
    "serviceClient = create_service_client(load_credentials())\n",
    "upload_files(serviceClient, f\"{inputDirectory}/*\")\n"
   ],
   "metadata": {
    "collapsed": false,
    "pycharm": {
     "name": "#%%\n"
    }
   }
  }
 ],
 "metadata": {
  "kernelspec": {
   "display_name": "Python 3",
   "language": "python",
   "name": "python3"
  },
  "language_info": {
   "codemirror_mode": {
    "name": "ipython",
    "version": 2
   },
   "file_extension": ".py",
   "mimetype": "text/x-python",
   "name": "python",
   "nbconvert_exporter": "python",
   "pygments_lexer": "ipython2",
   "version": "2.7.6"
  }
 },
 "nbformat": 4,
 "nbformat_minor": 0
}