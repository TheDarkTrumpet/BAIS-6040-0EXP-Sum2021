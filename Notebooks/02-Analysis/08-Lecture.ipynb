{
 "cells": [
  {
   "cell_type": "markdown",
   "metadata": {
    "collapsed": true,
    "pycharm": {
     "name": "#%% md\n"
    }
   },
   "source": [
    "# 08-Lecture.ipynb\n",
    "\n",
    "# Agenda\n",
    "\n",
    "- Due Date Overview (3m)\n",
    "  - Final Class: Open discussion, but conceptual will be 40m like before + explanation on both.  Will likely allow for the option to extend the class so that questions can be asked.\n",
    "- Homework 6, 7, and 8 Explanations (format) (3m)\n",
    "- In-Class Activity (15m)\n",
    "- Midterm/In-Class Explanation (The above through this ending at 6:50PM sharp, regardless if finished)\n",
    "- Breakout Sessions (til 7:30)\n",
    "- After class: Optional 30m to answer questions (HW5, Midterm, etc.)\n",
    "\n",
    "# Due Dates\n",
    "| Date | Activity |\n",
    "|------|----------|\n",
    "| 2021-07-07 | Module 8 Start - Graphing |\n",
    "| 2021-07-10 | Homework 5 due            |\n",
    "| 2021-07-14 | Module 9 Start - ML       |\n",
    "| <i></i>    | Homework 6 due            |\n",
    "| 2021-07-21 | Module 10 Start - Flask   |\n",
    "| <i></i>    | Final Practical Released  |\n",
    "| <i></i>    | Homework 7 due            |\n",
    "| 2021-07-28 | Module 11 Start (Last day of class) |\n",
    "| <i></i>    | Final Practical Due       |\n",
    "| <i></i>    | Final Project Due         |\n",
    "| <i></i>    | Team Feedback Due         |\n",
    "| <i></i>    | Homework 8 due            |\n",
    "\n",
    "\n",
    "# Homework 6, 7, and 8 Explanations (format)\n",
    "\n",
    "There will be two parts of each homework.  For homework 6 and 7 there's a group component that makes up the majority of the grade on the homework.  Data sets can be what I'm providing or from your group project (for both sets).  This is a good chance to make headway in your project and apply it as a homework, too.\n",
    "\n",
    "There will be in-class activities for homework 6, 7, and 8.  These will cover lecture contents.  Starting today.  This is the individual component for your lecture.\n",
    "\n",
    "# In-Class Activity\n",
    "\n",
    "Counts as homework, will be published in ICON.  Questions are multiple choice (only), and go over the contents of the recent lectures.\n",
    "\n",
    "Closed book/material.  Limited time for the quiz.  Avoid over thinking things.\n",
    "\n",
    "Answers provided with timestamps to the videos.\n",
    "\n",
    "# Midterm/In-Class Activity Explanations"
   ]
  },
  {
   "cell_type": "code",
   "execution_count": null,
   "outputs": [],
   "source": [],
   "metadata": {
    "collapsed": false,
    "pycharm": {
     "name": "#%%\n"
    }
   }
  },
  {
   "cell_type": "markdown",
   "source": [
    "# Breakout Sessions\n",
    "Please go to your groups, and talk over Homework 6.  Read the description, and parse out what's being asked.  Divide the work for your group.\n",
    "\n",
    "There's a 'help video' (08.04) if there are questions about it.\n",
    "\n",
    "# After class: Optional 30m to answer questions (HW5, Midterm, etc.)\n",
    "\n",
    "Note this will not be recorded, but what we go through, textual, will be below.\n",
    "\n",
    "You do not have to attend this, you can leave if you wish."
   ],
   "metadata": {
    "collapsed": false,
    "pycharm": {
     "name": "#%% md\n"
    }
   }
  },
  {
   "cell_type": "code",
   "execution_count": null,
   "outputs": [],
   "source": [],
   "metadata": {
    "collapsed": false,
    "pycharm": {
     "name": "#%%\n"
    }
   }
  }
 ],
 "metadata": {
  "kernelspec": {
   "display_name": "Python 3",
   "language": "python",
   "name": "python3"
  },
  "language_info": {
   "codemirror_mode": {
    "name": "ipython",
    "version": 2
   },
   "file_extension": ".py",
   "mimetype": "text/x-python",
   "name": "python",
   "nbconvert_exporter": "python",
   "pygments_lexer": "ipython2",
   "version": "2.7.6"
  }
 },
 "nbformat": 4,
 "nbformat_minor": 0
}