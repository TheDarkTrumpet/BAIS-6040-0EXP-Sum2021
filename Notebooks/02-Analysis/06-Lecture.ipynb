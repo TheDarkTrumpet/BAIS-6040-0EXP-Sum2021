{
 "cells": [
  {
   "cell_type": "markdown",
   "metadata": {
    "collapsed": true,
    "pycharm": {
     "name": "#%% md\n"
    }
   },
   "source": [
    "# Agenda\n",
    "\n",
    "- Midterm Explanation\n",
    "- New class material (pulling in external sources in Pandas)\n",
    "- Open questions on homework/etc.\n",
    "- Group work for the checkpoint\n",
    "\n",
    "# Due Dates\n",
    "| Date | Activity |\n",
    "|------|----------|\n",
    "|2021-06-16 | Pandas (Start) |\n",
    "|2021-06-23 | Pandas (Continued), external files |\n",
    "|2021-06-23 | Practical Release |\n",
    "|2021-06-30 | Conceptual Midterm Exam |\n",
    "|2021-06-30 | Project Checkpoint |\n",
    "|2021-07-03 | Practical Midterm Due |"
   ]
  },
  {
   "cell_type": "markdown",
   "source": [
    "# Midterm Explanation\n",
    "\n",
    "- Available in the Homework section"
   ],
   "metadata": {
    "collapsed": false,
    "pycharm": {
     "name": "#%% md\n"
    }
   }
  },
  {
   "cell_type": "markdown",
   "source": [
    "# New Class Material\n",
    "\n",
    "- Available in Notebooks/02-Analysis/06.*.ipynb\n",
    "- No homework this last week and this week - next week will be over Pandas/External Sources"
   ],
   "metadata": {
    "collapsed": false,
    "pycharm": {
     "name": "#%% md\n"
    }
   }
  },
  {
   "cell_type": "markdown",
   "source": [
    "# Open questions on homework/etc."
   ],
   "metadata": {
    "collapsed": false,
    "pycharm": {
     "name": "#%% md\n"
    }
   }
  },
  {
   "cell_type": "markdown",
   "source": [
    "# Group work on checkpoint"
   ],
   "metadata": {
    "collapsed": false,
    "pycharm": {
     "name": "#%% md\n"
    }
   }
  }
 ],
 "metadata": {
  "kernelspec": {
   "display_name": "Python 3",
   "language": "python",
   "name": "python3"
  },
  "language_info": {
   "codemirror_mode": {
    "name": "ipython",
    "version": 2
   },
   "file_extension": ".py",
   "mimetype": "text/x-python",
   "name": "python",
   "nbconvert_exporter": "python",
   "pygments_lexer": "ipython2",
   "version": "2.7.6"
  }
 },
 "nbformat": 4,
 "nbformat_minor": 0
}