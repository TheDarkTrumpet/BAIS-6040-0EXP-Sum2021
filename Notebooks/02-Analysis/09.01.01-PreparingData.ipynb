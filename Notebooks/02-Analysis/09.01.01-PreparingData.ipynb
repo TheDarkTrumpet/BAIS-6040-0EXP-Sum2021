{
 "cells": [
  {
   "cell_type": "markdown",
   "metadata": {
    "pycharm": {
     "name": "#%% md\n"
    }
   },
   "source": [
    "# 09.01.01 - PreparingData\n",
    "\n",
    "## Purpose\n",
    "\n",
    "This notebook is intended to act as an extension for pandas using a new reference/sample set, and how to prepare the data accordingly\n",
    "\n",
    "## Libraries\n",
    "\n",
    "* Pandas\n",
    "* Seaborn\n",
    "\n",
    "## References/Reading\n",
    "* Seaborn load_dataset - https://seaborn.pydata.org/generated/seaborn.load_dataset.html\n",
    "* Pandas get_dummies - https://pandas.pydata.org/pandas-docs/stable/reference/api/pandas.get_dummies.html\n",
    "* Tutorial including more visualization - https://www.geeksforgeeks.org/python-titanic-data-eda-using-seaborn/"
   ]
  },
  {
   "cell_type": "code",
   "execution_count": 1,
   "metadata": {
    "collapsed": false,
    "jupyter": {
     "outputs_hidden": false
    },
    "pycharm": {
     "name": "#%%\n"
    }
   },
   "outputs": [],
   "source": [
    "import pandas as pd\n",
    "from seaborn import load_dataset"
   ]
  },
  {
   "cell_type": "code",
   "execution_count": 2,
   "metadata": {
    "collapsed": false,
    "jupyter": {
     "outputs_hidden": false
    },
    "pycharm": {
     "name": "#%%\n"
    }
   },
   "outputs": [
    {
     "data": {
      "text/plain": "     survived  pclass     sex   age  sibsp  parch     fare embarked   class  \\\n0           0       3    male  22.0      1      0   7.2500        S   Third   \n1           1       1  female  38.0      1      0  71.2833        C   First   \n2           1       3  female  26.0      0      0   7.9250        S   Third   \n3           1       1  female  35.0      1      0  53.1000        S   First   \n4           0       3    male  35.0      0      0   8.0500        S   Third   \n..        ...     ...     ...   ...    ...    ...      ...      ...     ...   \n886         0       2    male  27.0      0      0  13.0000        S  Second   \n887         1       1  female  19.0      0      0  30.0000        S   First   \n888         0       3  female   NaN      1      2  23.4500        S   Third   \n889         1       1    male  26.0      0      0  30.0000        C   First   \n890         0       3    male  32.0      0      0   7.7500        Q   Third   \n\n       who  adult_male deck  embark_town alive  alone  \n0      man        True  NaN  Southampton    no  False  \n1    woman       False    C    Cherbourg   yes  False  \n2    woman       False  NaN  Southampton   yes   True  \n3    woman       False    C  Southampton   yes  False  \n4      man        True  NaN  Southampton    no   True  \n..     ...         ...  ...          ...   ...    ...  \n886    man        True  NaN  Southampton    no   True  \n887  woman       False    B  Southampton   yes   True  \n888  woman       False  NaN  Southampton    no  False  \n889    man        True    C    Cherbourg   yes   True  \n890    man        True  NaN   Queenstown    no   True  \n\n[891 rows x 15 columns]",
      "text/html": "<div>\n<style scoped>\n    .dataframe tbody tr th:only-of-type {\n        vertical-align: middle;\n    }\n\n    .dataframe tbody tr th {\n        vertical-align: top;\n    }\n\n    .dataframe thead th {\n        text-align: right;\n    }\n</style>\n<table border=\"1\" class=\"dataframe\">\n  <thead>\n    <tr style=\"text-align: right;\">\n      <th></th>\n      <th>survived</th>\n      <th>pclass</th>\n      <th>sex</th>\n      <th>age</th>\n      <th>sibsp</th>\n      <th>parch</th>\n      <th>fare</th>\n      <th>embarked</th>\n      <th>class</th>\n      <th>who</th>\n      <th>adult_male</th>\n      <th>deck</th>\n      <th>embark_town</th>\n      <th>alive</th>\n      <th>alone</th>\n    </tr>\n  </thead>\n  <tbody>\n    <tr>\n      <th>0</th>\n      <td>0</td>\n      <td>3</td>\n      <td>male</td>\n      <td>22.0</td>\n      <td>1</td>\n      <td>0</td>\n      <td>7.2500</td>\n      <td>S</td>\n      <td>Third</td>\n      <td>man</td>\n      <td>True</td>\n      <td>NaN</td>\n      <td>Southampton</td>\n      <td>no</td>\n      <td>False</td>\n    </tr>\n    <tr>\n      <th>1</th>\n      <td>1</td>\n      <td>1</td>\n      <td>female</td>\n      <td>38.0</td>\n      <td>1</td>\n      <td>0</td>\n      <td>71.2833</td>\n      <td>C</td>\n      <td>First</td>\n      <td>woman</td>\n      <td>False</td>\n      <td>C</td>\n      <td>Cherbourg</td>\n      <td>yes</td>\n      <td>False</td>\n    </tr>\n    <tr>\n      <th>2</th>\n      <td>1</td>\n      <td>3</td>\n      <td>female</td>\n      <td>26.0</td>\n      <td>0</td>\n      <td>0</td>\n      <td>7.9250</td>\n      <td>S</td>\n      <td>Third</td>\n      <td>woman</td>\n      <td>False</td>\n      <td>NaN</td>\n      <td>Southampton</td>\n      <td>yes</td>\n      <td>True</td>\n    </tr>\n    <tr>\n      <th>3</th>\n      <td>1</td>\n      <td>1</td>\n      <td>female</td>\n      <td>35.0</td>\n      <td>1</td>\n      <td>0</td>\n      <td>53.1000</td>\n      <td>S</td>\n      <td>First</td>\n      <td>woman</td>\n      <td>False</td>\n      <td>C</td>\n      <td>Southampton</td>\n      <td>yes</td>\n      <td>False</td>\n    </tr>\n    <tr>\n      <th>4</th>\n      <td>0</td>\n      <td>3</td>\n      <td>male</td>\n      <td>35.0</td>\n      <td>0</td>\n      <td>0</td>\n      <td>8.0500</td>\n      <td>S</td>\n      <td>Third</td>\n      <td>man</td>\n      <td>True</td>\n      <td>NaN</td>\n      <td>Southampton</td>\n      <td>no</td>\n      <td>True</td>\n    </tr>\n    <tr>\n      <th>...</th>\n      <td>...</td>\n      <td>...</td>\n      <td>...</td>\n      <td>...</td>\n      <td>...</td>\n      <td>...</td>\n      <td>...</td>\n      <td>...</td>\n      <td>...</td>\n      <td>...</td>\n      <td>...</td>\n      <td>...</td>\n      <td>...</td>\n      <td>...</td>\n      <td>...</td>\n    </tr>\n    <tr>\n      <th>886</th>\n      <td>0</td>\n      <td>2</td>\n      <td>male</td>\n      <td>27.0</td>\n      <td>0</td>\n      <td>0</td>\n      <td>13.0000</td>\n      <td>S</td>\n      <td>Second</td>\n      <td>man</td>\n      <td>True</td>\n      <td>NaN</td>\n      <td>Southampton</td>\n      <td>no</td>\n      <td>True</td>\n    </tr>\n    <tr>\n      <th>887</th>\n      <td>1</td>\n      <td>1</td>\n      <td>female</td>\n      <td>19.0</td>\n      <td>0</td>\n      <td>0</td>\n      <td>30.0000</td>\n      <td>S</td>\n      <td>First</td>\n      <td>woman</td>\n      <td>False</td>\n      <td>B</td>\n      <td>Southampton</td>\n      <td>yes</td>\n      <td>True</td>\n    </tr>\n    <tr>\n      <th>888</th>\n      <td>0</td>\n      <td>3</td>\n      <td>female</td>\n      <td>NaN</td>\n      <td>1</td>\n      <td>2</td>\n      <td>23.4500</td>\n      <td>S</td>\n      <td>Third</td>\n      <td>woman</td>\n      <td>False</td>\n      <td>NaN</td>\n      <td>Southampton</td>\n      <td>no</td>\n      <td>False</td>\n    </tr>\n    <tr>\n      <th>889</th>\n      <td>1</td>\n      <td>1</td>\n      <td>male</td>\n      <td>26.0</td>\n      <td>0</td>\n      <td>0</td>\n      <td>30.0000</td>\n      <td>C</td>\n      <td>First</td>\n      <td>man</td>\n      <td>True</td>\n      <td>C</td>\n      <td>Cherbourg</td>\n      <td>yes</td>\n      <td>True</td>\n    </tr>\n    <tr>\n      <th>890</th>\n      <td>0</td>\n      <td>3</td>\n      <td>male</td>\n      <td>32.0</td>\n      <td>0</td>\n      <td>0</td>\n      <td>7.7500</td>\n      <td>Q</td>\n      <td>Third</td>\n      <td>man</td>\n      <td>True</td>\n      <td>NaN</td>\n      <td>Queenstown</td>\n      <td>no</td>\n      <td>True</td>\n    </tr>\n  </tbody>\n</table>\n<p>891 rows × 15 columns</p>\n</div>"
     },
     "execution_count": 2,
     "metadata": {},
     "output_type": "execute_result"
    }
   ],
   "source": [
    "titanicDataSet = load_dataset(\"titanic\")\n",
    "titanicDataSet"
   ]
  },
  {
   "cell_type": "code",
   "execution_count": 3,
   "metadata": {
    "collapsed": false,
    "jupyter": {
     "outputs_hidden": false
    },
    "pycharm": {
     "name": "#%%\n"
    }
   },
   "outputs": [
    {
     "data": {
      "text/plain": "(891, 15)"
     },
     "execution_count": 3,
     "metadata": {},
     "output_type": "execute_result"
    }
   ],
   "source": [
    "# We have two helper methods that can help us see more details, although the above already gives the shape\n",
    "titanicDataSet.shape"
   ]
  },
  {
   "cell_type": "code",
   "execution_count": 4,
   "metadata": {
    "collapsed": false,
    "jupyter": {
     "outputs_hidden": false
    },
    "pycharm": {
     "name": "#%%\n"
    }
   },
   "outputs": [
    {
     "name": "stdout",
     "output_type": "stream",
     "text": [
      "<class 'pandas.core.frame.DataFrame'>\n",
      "RangeIndex: 891 entries, 0 to 890\n",
      "Data columns (total 15 columns):\n",
      " #   Column       Non-Null Count  Dtype   \n",
      "---  ------       --------------  -----   \n",
      " 0   survived     891 non-null    int64   \n",
      " 1   pclass       891 non-null    int64   \n",
      " 2   sex          891 non-null    object  \n",
      " 3   age          714 non-null    float64 \n",
      " 4   sibsp        891 non-null    int64   \n",
      " 5   parch        891 non-null    int64   \n",
      " 6   fare         891 non-null    float64 \n",
      " 7   embarked     889 non-null    object  \n",
      " 8   class        891 non-null    category\n",
      " 9   who          891 non-null    object  \n",
      " 10  adult_male   891 non-null    bool    \n",
      " 11  deck         203 non-null    category\n",
      " 12  embark_town  889 non-null    object  \n",
      " 13  alive        891 non-null    object  \n",
      " 14  alone        891 non-null    bool    \n",
      "dtypes: bool(2), category(2), float64(2), int64(4), object(5)\n",
      "memory usage: 80.7+ KB\n"
     ]
    }
   ],
   "source": [
    "# We've seen this before, this helps tell us what type of data we have in different\n",
    "# columns.  In the context before, we were worried about the date ones.  now we\n",
    "# want to pay attention to non-nonumbers (objects, for example)\n",
    "titanicDataSet.info()"
   ]
  },
  {
   "cell_type": "markdown",
   "metadata": {
    "pycharm": {
     "name": "#%% md\n"
    }
   },
   "source": [
    "# Defining a data dictionary, understanding the data\n",
    "\n",
    "It's important that you understand the type of data you're dealing with and what is included.  Lets take a few columns and run unique on these.  You can document this elsewhere, or in a summary object if needed"
   ]
  },
  {
   "cell_type": "code",
   "execution_count": 5,
   "metadata": {
    "collapsed": false,
    "jupyter": {
     "outputs_hidden": false
    },
    "pycharm": {
     "name": "#%%\n"
    }
   },
   "outputs": [
    {
     "data": {
      "text/plain": "array([0, 1])"
     },
     "execution_count": 5,
     "metadata": {},
     "output_type": "execute_result"
    }
   ],
   "source": [
    "titanicDataSet['survived'].unique()"
   ]
  },
  {
   "cell_type": "code",
   "execution_count": 6,
   "metadata": {
    "collapsed": false,
    "jupyter": {
     "outputs_hidden": false
    },
    "pycharm": {
     "name": "#%%\n"
    }
   },
   "outputs": [
    {
     "data": {
      "text/plain": "array(['male', 'female'], dtype=object)"
     },
     "execution_count": 6,
     "metadata": {},
     "output_type": "execute_result"
    }
   ],
   "source": [
    "titanicDataSet['sex'].unique()"
   ]
  },
  {
   "cell_type": "code",
   "execution_count": 7,
   "metadata": {
    "collapsed": false,
    "jupyter": {
     "outputs_hidden": false
    },
    "pycharm": {
     "name": "#%%\n"
    }
   },
   "outputs": [
    {
     "data": {
      "text/plain": "array([3, 1, 2])"
     },
     "execution_count": 7,
     "metadata": {},
     "output_type": "execute_result"
    }
   ],
   "source": [
    "titanicDataSet['pclass'].unique()"
   ]
  },
  {
   "cell_type": "code",
   "execution_count": 8,
   "metadata": {
    "collapsed": false,
    "jupyter": {
     "outputs_hidden": false
    },
    "pycharm": {
     "name": "#%%\n"
    }
   },
   "outputs": [],
   "source": [
    "# Lets make a small helper function/etc to help us out\n",
    "def generateDictionary(dataFrame, columnsOfInterest, friendlyNames):\n",
    "    dataDictionary = {}\n",
    "    while len(columnsOfInterest) > 0 and len(friendlyNames) > 0:\n",
    "        col = columnsOfInterest.pop()\n",
    "        columnFriendlyName = friendlyNames.pop()\n",
    "        dataDictionary[col] = {\n",
    "            \"FriendlyName\": columnFriendlyName,\n",
    "            \"Values\" : dataFrame[col].unique()\n",
    "        }\n",
    "    return dataDictionary"
   ]
  },
  {
   "cell_type": "code",
   "execution_count": 9,
   "metadata": {
    "collapsed": false,
    "jupyter": {
     "outputs_hidden": false
    },
    "pycharm": {
     "name": "#%%\n"
    }
   },
   "outputs": [],
   "source": [
    "# Now lets define the inputs\n",
    "columns = [\"survived\", \"pclass\", \"sex\", \"age\", \"sibsp\", \"parch\", \"fare\", \"embarked\"]\n",
    "names = [\"Survival\", \"Ticket class\", \"Sex\", \"Age in years\", \"# of siblings / spouses aboard\",\n",
    "         \"# of parents / children aboard\", \"Passenger fare\",\n",
    "         \"Port of Embarkation  C = Cherbourg, Q = Queenstown, S = Southhampton\"]\n",
    "\n"
   ]
  },
  {
   "cell_type": "code",
   "execution_count": 10,
   "metadata": {
    "collapsed": false,
    "jupyter": {
     "outputs_hidden": false
    },
    "pycharm": {
     "name": "#%%\n"
    }
   },
   "outputs": [],
   "source": [
    "dataDictionary = generateDictionary(titanicDataSet, columns, names)"
   ]
  },
  {
   "cell_type": "code",
   "execution_count": 11,
   "metadata": {
    "collapsed": false,
    "jupyter": {
     "outputs_hidden": false
    },
    "pycharm": {
     "name": "#%%\n"
    }
   },
   "outputs": [
    {
     "data": {
      "text/plain": "{'embarked': {'FriendlyName': 'Port of Embarkation  C = Cherbourg, Q = Queenstown, S = Southhampton',\n  'Values': array(['S', 'C', 'Q', nan], dtype=object)},\n 'fare': {'FriendlyName': 'Passenger fare',\n  'Values': array([  7.25  ,  71.2833,   7.925 ,  53.1   ,   8.05  ,   8.4583,\n          51.8625,  21.075 ,  11.1333,  30.0708,  16.7   ,  26.55  ,\n          31.275 ,   7.8542,  16.    ,  29.125 ,  13.    ,  18.    ,\n           7.225 ,  26.    ,   8.0292,  35.5   ,  31.3875, 263.    ,\n           7.8792,   7.8958,  27.7208, 146.5208,   7.75  ,  10.5   ,\n          82.1708,  52.    ,   7.2292,  11.2417,   9.475 ,  21.    ,\n          41.5792,  15.5   ,  21.6792,  17.8   ,  39.6875,   7.8   ,\n          76.7292,  61.9792,  27.75  ,  46.9   ,  80.    ,  83.475 ,\n          27.9   ,  15.2458,   8.1583,   8.6625,  73.5   ,  14.4542,\n          56.4958,   7.65  ,  29.    ,  12.475 ,   9.    ,   9.5   ,\n           7.7875,  47.1   ,  15.85  ,  34.375 ,  61.175 ,  20.575 ,\n          34.6542,  63.3583,  23.    ,  77.2875,   8.6542,   7.775 ,\n          24.15  ,   9.825 ,  14.4583, 247.5208,   7.1417,  22.3583,\n           6.975 ,   7.05  ,  14.5   ,  15.0458,  26.2833,   9.2167,\n          79.2   ,   6.75  ,  11.5   ,  36.75  ,   7.7958,  12.525 ,\n          66.6   ,   7.3125,  61.3792,   7.7333,  69.55  ,  16.1   ,\n          15.75  ,  20.525 ,  55.    ,  25.925 ,  33.5   ,  30.6958,\n          25.4667,  28.7125,   0.    ,  15.05  ,  39.    ,  22.025 ,\n          50.    ,   8.4042,   6.4958,  10.4625,  18.7875,  31.    ,\n         113.275 ,  27.    ,  76.2917,  90.    ,   9.35  ,  13.5   ,\n           7.55  ,  26.25  ,  12.275 ,   7.125 ,  52.5542,  20.2125,\n          86.5   , 512.3292,  79.65  , 153.4625, 135.6333,  19.5   ,\n          29.7   ,  77.9583,  20.25  ,  78.85  ,  91.0792,  12.875 ,\n           8.85  , 151.55  ,  30.5   ,  23.25  ,  12.35  , 110.8833,\n         108.9   ,  24.    ,  56.9292,  83.1583, 262.375 ,  14.    ,\n         164.8667, 134.5   ,   6.2375,  57.9792,  28.5   , 133.65  ,\n          15.9   ,   9.225 ,  35.    ,  75.25  ,  69.3   ,  55.4417,\n         211.5   ,   4.0125, 227.525 ,  15.7417,   7.7292,  12.    ,\n         120.    ,  12.65  ,  18.75  ,   6.8583,  32.5   ,   7.875 ,\n          14.4   ,  55.9   ,   8.1125,  81.8583,  19.2583,  19.9667,\n          89.1042,  38.5   ,   7.725 ,  13.7917,   9.8375,   7.0458,\n           7.5208,  12.2875,   9.5875,  49.5042,  78.2667,  15.1   ,\n           7.6292,  22.525 ,  26.2875,  59.4   ,   7.4958,  34.0208,\n          93.5   , 221.7792, 106.425 ,  49.5   ,  71.    ,  13.8625,\n           7.8292,  39.6   ,  17.4   ,  51.4792,  26.3875,  30.    ,\n          40.125 ,   8.7125,  15.    ,  33.    ,  42.4   ,  15.55  ,\n          65.    ,  32.3208,   7.0542,   8.4333,  25.5875,   9.8417,\n           8.1375,  10.1708, 211.3375,  57.    ,  13.4167,   7.7417,\n           9.4833,   7.7375,   8.3625,  23.45  ,  25.9292,   8.6833,\n           8.5167,   7.8875,  37.0042,   6.45  ,   6.95  ,   8.3   ,\n           6.4375,  39.4   ,  14.1083,  13.8583,  50.4958,   5.    ,\n           9.8458,  10.5167])},\n 'parch': {'FriendlyName': '# of parents / children aboard',\n  'Values': array([0, 1, 2, 5, 3, 4, 6])},\n 'sibsp': {'FriendlyName': '# of siblings / spouses aboard',\n  'Values': array([1, 0, 3, 4, 2, 5, 8])},\n 'age': {'FriendlyName': 'Age in years',\n  'Values': array([22.  , 38.  , 26.  , 35.  ,   nan, 54.  ,  2.  , 27.  , 14.  ,\n          4.  , 58.  , 20.  , 39.  , 55.  , 31.  , 34.  , 15.  , 28.  ,\n          8.  , 19.  , 40.  , 66.  , 42.  , 21.  , 18.  ,  3.  ,  7.  ,\n         49.  , 29.  , 65.  , 28.5 ,  5.  , 11.  , 45.  , 17.  , 32.  ,\n         16.  , 25.  ,  0.83, 30.  , 33.  , 23.  , 24.  , 46.  , 59.  ,\n         71.  , 37.  , 47.  , 14.5 , 70.5 , 32.5 , 12.  ,  9.  , 36.5 ,\n         51.  , 55.5 , 40.5 , 44.  ,  1.  , 61.  , 56.  , 50.  , 36.  ,\n         45.5 , 20.5 , 62.  , 41.  , 52.  , 63.  , 23.5 ,  0.92, 43.  ,\n         60.  , 10.  , 64.  , 13.  , 48.  ,  0.75, 53.  , 57.  , 80.  ,\n         70.  , 24.5 ,  6.  ,  0.67, 30.5 ,  0.42, 34.5 , 74.  ])},\n 'sex': {'FriendlyName': 'Sex',\n  'Values': array(['male', 'female'], dtype=object)},\n 'pclass': {'FriendlyName': 'Ticket class', 'Values': array([3, 1, 2])},\n 'survived': {'FriendlyName': 'Survival', 'Values': array([0, 1])}}"
     },
     "execution_count": 11,
     "metadata": {},
     "output_type": "execute_result"
    }
   ],
   "source": [
    "dataDictionary\n"
   ]
  },
  {
   "cell_type": "code",
   "execution_count": 12,
   "metadata": {
    "collapsed": false,
    "jupyter": {
     "outputs_hidden": false
    },
    "pycharm": {
     "name": "#%%\n"
    }
   },
   "outputs": [
    {
     "name": "stdout",
     "output_type": "stream",
     "text": [
      "{   'age': {   'FriendlyName': 'Age in years',\n",
      "               'Values': array([22.  , 38.  , 26.  , 35.  ,   nan, 54.  ,  2.  , 27.  , 14.  ,\n",
      "        4.  , 58.  , 20.  , 39.  , 55.  , 31.  , 34.  , 15.  , 28.  ,\n",
      "        8.  , 19.  , 40.  , 66.  , 42.  , 21.  , 18.  ,  3.  ,  7.  ,\n",
      "       49.  , 29.  , 65.  , 28.5 ,  5.  , 11.  , 45.  , 17.  , 32.  ,\n",
      "       16.  , 25.  ,  0.83, 30.  , 33.  , 23.  , 24.  , 46.  , 59.  ,\n",
      "       71.  , 37.  , 47.  , 14.5 , 70.5 , 32.5 , 12.  ,  9.  , 36.5 ,\n",
      "       51.  , 55.5 , 40.5 , 44.  ,  1.  , 61.  , 56.  , 50.  , 36.  ,\n",
      "       45.5 , 20.5 , 62.  , 41.  , 52.  , 63.  , 23.5 ,  0.92, 43.  ,\n",
      "       60.  , 10.  , 64.  , 13.  , 48.  ,  0.75, 53.  , 57.  , 80.  ,\n",
      "       70.  , 24.5 ,  6.  ,  0.67, 30.5 ,  0.42, 34.5 , 74.  ])},\n",
      "    'embarked': {   'FriendlyName': 'Port of Embarkation  C = Cherbourg, Q = '\n",
      "                                    'Queenstown, S = Southhampton',\n",
      "                    'Values': array(['S', 'C', 'Q', nan], dtype=object)},\n",
      "    'fare': {   'FriendlyName': 'Passenger fare',\n",
      "                'Values': array([  7.25  ,  71.2833,   7.925 ,  53.1   ,   8.05  ,   8.4583,\n",
      "        51.8625,  21.075 ,  11.1333,  30.0708,  16.7   ,  26.55  ,\n",
      "        31.275 ,   7.8542,  16.    ,  29.125 ,  13.    ,  18.    ,\n",
      "         7.225 ,  26.    ,   8.0292,  35.5   ,  31.3875, 263.    ,\n",
      "         7.8792,   7.8958,  27.7208, 146.5208,   7.75  ,  10.5   ,\n",
      "        82.1708,  52.    ,   7.2292,  11.2417,   9.475 ,  21.    ,\n",
      "        41.5792,  15.5   ,  21.6792,  17.8   ,  39.6875,   7.8   ,\n",
      "        76.7292,  61.9792,  27.75  ,  46.9   ,  80.    ,  83.475 ,\n",
      "        27.9   ,  15.2458,   8.1583,   8.6625,  73.5   ,  14.4542,\n",
      "        56.4958,   7.65  ,  29.    ,  12.475 ,   9.    ,   9.5   ,\n",
      "         7.7875,  47.1   ,  15.85  ,  34.375 ,  61.175 ,  20.575 ,\n",
      "        34.6542,  63.3583,  23.    ,  77.2875,   8.6542,   7.775 ,\n",
      "        24.15  ,   9.825 ,  14.4583, 247.5208,   7.1417,  22.3583,\n",
      "         6.975 ,   7.05  ,  14.5   ,  15.0458,  26.2833,   9.2167,\n",
      "        79.2   ,   6.75  ,  11.5   ,  36.75  ,   7.7958,  12.525 ,\n",
      "        66.6   ,   7.3125,  61.3792,   7.7333,  69.55  ,  16.1   ,\n",
      "        15.75  ,  20.525 ,  55.    ,  25.925 ,  33.5   ,  30.6958,\n",
      "        25.4667,  28.7125,   0.    ,  15.05  ,  39.    ,  22.025 ,\n",
      "        50.    ,   8.4042,   6.4958,  10.4625,  18.7875,  31.    ,\n",
      "       113.275 ,  27.    ,  76.2917,  90.    ,   9.35  ,  13.5   ,\n",
      "         7.55  ,  26.25  ,  12.275 ,   7.125 ,  52.5542,  20.2125,\n",
      "        86.5   , 512.3292,  79.65  , 153.4625, 135.6333,  19.5   ,\n",
      "        29.7   ,  77.9583,  20.25  ,  78.85  ,  91.0792,  12.875 ,\n",
      "         8.85  , 151.55  ,  30.5   ,  23.25  ,  12.35  , 110.8833,\n",
      "       108.9   ,  24.    ,  56.9292,  83.1583, 262.375 ,  14.    ,\n",
      "       164.8667, 134.5   ,   6.2375,  57.9792,  28.5   , 133.65  ,\n",
      "        15.9   ,   9.225 ,  35.    ,  75.25  ,  69.3   ,  55.4417,\n",
      "       211.5   ,   4.0125, 227.525 ,  15.7417,   7.7292,  12.    ,\n",
      "       120.    ,  12.65  ,  18.75  ,   6.8583,  32.5   ,   7.875 ,\n",
      "        14.4   ,  55.9   ,   8.1125,  81.8583,  19.2583,  19.9667,\n",
      "        89.1042,  38.5   ,   7.725 ,  13.7917,   9.8375,   7.0458,\n",
      "         7.5208,  12.2875,   9.5875,  49.5042,  78.2667,  15.1   ,\n",
      "         7.6292,  22.525 ,  26.2875,  59.4   ,   7.4958,  34.0208,\n",
      "        93.5   , 221.7792, 106.425 ,  49.5   ,  71.    ,  13.8625,\n",
      "         7.8292,  39.6   ,  17.4   ,  51.4792,  26.3875,  30.    ,\n",
      "        40.125 ,   8.7125,  15.    ,  33.    ,  42.4   ,  15.55  ,\n",
      "        65.    ,  32.3208,   7.0542,   8.4333,  25.5875,   9.8417,\n",
      "         8.1375,  10.1708, 211.3375,  57.    ,  13.4167,   7.7417,\n",
      "         9.4833,   7.7375,   8.3625,  23.45  ,  25.9292,   8.6833,\n",
      "         8.5167,   7.8875,  37.0042,   6.45  ,   6.95  ,   8.3   ,\n",
      "         6.4375,  39.4   ,  14.1083,  13.8583,  50.4958,   5.    ,\n",
      "         9.8458,  10.5167])},\n",
      "    'parch': {   'FriendlyName': '# of parents / children aboard',\n",
      "                 'Values': array([0, 1, 2, 5, 3, 4, 6])},\n",
      "    'pclass': {'FriendlyName': 'Ticket class', 'Values': array([3, 1, 2])},\n",
      "    'sex': {   'FriendlyName': 'Sex',\n",
      "               'Values': array(['male', 'female'], dtype=object)},\n",
      "    'sibsp': {   'FriendlyName': '# of siblings / spouses aboard',\n",
      "                 'Values': array([1, 0, 3, 4, 2, 5, 8])},\n",
      "    'survived': {'FriendlyName': 'Survival', 'Values': array([0, 1])}}\n"
     ]
    }
   ],
   "source": [
    "import pprint\n",
    "pp = pprint.PrettyPrinter(indent = 4)\n",
    "pp.pprint(dataDictionary)\n"
   ]
  },
  {
   "cell_type": "markdown",
   "metadata": {
    "pycharm": {
     "name": "#%% md\n"
    }
   },
   "source": [
    "# Evaluating sample data\n",
    "Still not the most readable, but we could make this better by creating a renderer.  Needless to say, we can get what we need out of this.  We have some data that's more categorical in nature, and some that are more numerical in basis.  Looking at the above:\n",
    "\n",
    "| Field | Type |\n",
    "|-------|------|\n",
    "| age   | Number |\n",
    "| embarked | Categorical |\n",
    "| fare    | Number |\n",
    "| parch   | Number |\n",
    "| pclass  | Categorical-ish *  |\n",
    "| sex     | Categorical    |\n",
    "| sibsp   | Number |\n",
    "| Survived | Binary  |\n",
    "\n",
    "So, with the categorical-based ones, we'll have to deal with those.  And, there are a number of ways to do this but we want to be careful here because we want to make sure there's no implied hierarchy associated with it.  Binary is, often times, the best representation regarding categorical data.\n",
    "\n",
    "Another thing to note is we have a lot of null values.  This is bad, we'll have to deal with those, as most ML systems don't deal with it well.  Now, in practice, we should desire to have a strategy for those null values.  That may not be just dropping them, and it's a case by case basis.  We'll end up dropping them, but first we need to do a bit of extra work before we get there."
   ]
  },
  {
   "cell_type": "code",
   "execution_count": 13,
   "metadata": {
    "collapsed": false,
    "jupyter": {
     "outputs_hidden": false
    },
    "pycharm": {
     "name": "#%%\n"
    }
   },
   "outputs": [
    {
     "data": {
      "text/plain": "['survived', 'pclass', 'sex', 'age', 'sibsp', 'parch', 'fare', 'embarked']"
     },
     "execution_count": 13,
     "metadata": {},
     "output_type": "execute_result"
    }
   ],
   "source": [
    "columns = [\"survived\", \"pclass\", \"sex\", \"age\", \"sibsp\", \"parch\", \"fare\", \"embarked\"]\n",
    "columns"
   ]
  },
  {
   "cell_type": "code",
   "execution_count": 14,
   "metadata": {
    "collapsed": false,
    "jupyter": {
     "outputs_hidden": false
    },
    "pycharm": {
     "name": "#%%\n"
    }
   },
   "outputs": [
    {
     "name": "stdout",
     "output_type": "stream",
     "text": [
      "<class 'pandas.core.frame.DataFrame'>\n",
      "RangeIndex: 891 entries, 0 to 890\n",
      "Data columns (total 8 columns):\n",
      " #   Column    Non-Null Count  Dtype  \n",
      "---  ------    --------------  -----  \n",
      " 0   survived  891 non-null    int64  \n",
      " 1   pclass    891 non-null    int64  \n",
      " 2   sex       891 non-null    object \n",
      " 3   age       714 non-null    float64\n",
      " 4   sibsp     891 non-null    int64  \n",
      " 5   parch     891 non-null    int64  \n",
      " 6   fare      891 non-null    float64\n",
      " 7   embarked  889 non-null    object \n",
      "dtypes: float64(2), int64(4), object(2)\n",
      "memory usage: 55.8+ KB\n"
     ]
    }
   ],
   "source": [
    "# Get the columns we actually care about, out of the titanic data set\n",
    "titanicDataSet = titanicDataSet[columns]\n",
    "# Pay attention to the number of non-null counts.  age is our biggest problem, but we have others too.\n",
    "titanicDataSet.info()"
   ]
  },
  {
   "cell_type": "code",
   "execution_count": 15,
   "metadata": {
    "collapsed": false,
    "jupyter": {
     "outputs_hidden": false
    },
    "pycharm": {
     "name": "#%%\n"
    }
   },
   "outputs": [
    {
     "name": "stdout",
     "output_type": "stream",
     "text": [
      "<class 'pandas.core.frame.DataFrame'>\n",
      "Int64Index: 712 entries, 0 to 890\n",
      "Data columns (total 8 columns):\n",
      " #   Column    Non-Null Count  Dtype  \n",
      "---  ------    --------------  -----  \n",
      " 0   survived  712 non-null    int64  \n",
      " 1   pclass    712 non-null    int64  \n",
      " 2   sex       712 non-null    object \n",
      " 3   age       712 non-null    float64\n",
      " 4   sibsp     712 non-null    int64  \n",
      " 5   parch     712 non-null    int64  \n",
      " 6   fare      712 non-null    float64\n",
      " 7   embarked  712 non-null    object \n",
      "dtypes: float64(2), int64(4), object(2)\n",
      "memory usage: 50.1+ KB\n"
     ]
    },
    {
     "name": "stderr",
     "output_type": "stream",
     "text": [
      "<ipython-input-15-1cebe844b16c>:1: SettingWithCopyWarning: \n",
      "A value is trying to be set on a copy of a slice from a DataFrame\n",
      "\n",
      "See the caveats in the documentation: https://pandas.pydata.org/pandas-docs/stable/user_guide/indexing.html#returning-a-view-versus-a-copy\n",
      "  titanicDataSet.dropna(inplace=True)\n"
     ]
    }
   ],
   "source": [
    "titanicDataSet.dropna(inplace=True)\n",
    "titanicDataSet.info()"
   ]
  },
  {
   "cell_type": "markdown",
   "metadata": {
    "pycharm": {
     "name": "#%% md\n"
    }
   },
   "source": [
    "# Dealing with the categories\n",
    "\n",
    "As mentioned earlier, binary options are good for categories, but an integer range can cause us a headache going forward.  Largely because an integer range can fit the data set in a way that's what we don't want.  Think binary as just \"on/off\", where an integer range can actually weight.\n",
    "\n",
    "We'll use a new library we've never seen before, called \"get_dummies\". You can read more about it at:\n",
    "\n",
    "https://pandas.pydata.org/pandas-docs/stable/reference/api/pandas.get_dummies.html"
   ]
  },
  {
   "cell_type": "code",
   "execution_count": 16,
   "metadata": {
    "collapsed": false,
    "jupyter": {
     "outputs_hidden": false
    },
    "pycharm": {
     "name": "#%%\n"
    }
   },
   "outputs": [
    {
     "data": {
      "text/plain": "     C  Q  S\n0    0  0  1\n1    1  0  0\n2    0  0  1\n3    0  0  1\n4    0  0  1\n..  .. .. ..\n885  0  1  0\n886  0  0  1\n887  0  0  1\n889  1  0  0\n890  0  1  0\n\n[712 rows x 3 columns]",
      "text/html": "<div>\n<style scoped>\n    .dataframe tbody tr th:only-of-type {\n        vertical-align: middle;\n    }\n\n    .dataframe tbody tr th {\n        vertical-align: top;\n    }\n\n    .dataframe thead th {\n        text-align: right;\n    }\n</style>\n<table border=\"1\" class=\"dataframe\">\n  <thead>\n    <tr style=\"text-align: right;\">\n      <th></th>\n      <th>C</th>\n      <th>Q</th>\n      <th>S</th>\n    </tr>\n  </thead>\n  <tbody>\n    <tr>\n      <th>0</th>\n      <td>0</td>\n      <td>0</td>\n      <td>1</td>\n    </tr>\n    <tr>\n      <th>1</th>\n      <td>1</td>\n      <td>0</td>\n      <td>0</td>\n    </tr>\n    <tr>\n      <th>2</th>\n      <td>0</td>\n      <td>0</td>\n      <td>1</td>\n    </tr>\n    <tr>\n      <th>3</th>\n      <td>0</td>\n      <td>0</td>\n      <td>1</td>\n    </tr>\n    <tr>\n      <th>4</th>\n      <td>0</td>\n      <td>0</td>\n      <td>1</td>\n    </tr>\n    <tr>\n      <th>...</th>\n      <td>...</td>\n      <td>...</td>\n      <td>...</td>\n    </tr>\n    <tr>\n      <th>885</th>\n      <td>0</td>\n      <td>1</td>\n      <td>0</td>\n    </tr>\n    <tr>\n      <th>886</th>\n      <td>0</td>\n      <td>0</td>\n      <td>1</td>\n    </tr>\n    <tr>\n      <th>887</th>\n      <td>0</td>\n      <td>0</td>\n      <td>1</td>\n    </tr>\n    <tr>\n      <th>889</th>\n      <td>1</td>\n      <td>0</td>\n      <td>0</td>\n    </tr>\n    <tr>\n      <th>890</th>\n      <td>0</td>\n      <td>1</td>\n      <td>0</td>\n    </tr>\n  </tbody>\n</table>\n<p>712 rows × 3 columns</p>\n</div>"
     },
     "execution_count": 16,
     "metadata": {},
     "output_type": "execute_result"
    }
   ],
   "source": [
    "# Most basic usage.  Note how embarked isn't really shown here.  This makes it less optimal\n",
    "pd.get_dummies(titanicDataSet[\"embarked\"], prefix_sep= \"::\", drop_first = False)"
   ]
  },
  {
   "cell_type": "code",
   "execution_count": 17,
   "metadata": {},
   "outputs": [
    {
     "name": "stdout",
     "output_type": "stream",
     "text": [
      " type => <class 'pandas.core.series.Series'>\n",
      " type => <class 'pandas.core.frame.DataFrame'>\n"
     ]
    }
   ],
   "source": [
    "print(f\" type => {type(titanicDataSet['embarked'])}\")\n",
    "print(f\" type => {type(titanicDataSet[['embarked']])}\")"
   ]
  },
  {
   "cell_type": "code",
   "execution_count": 18,
   "metadata": {
    "collapsed": false,
    "jupyter": {
     "outputs_hidden": false
    },
    "pycharm": {
     "name": "#%%\n"
    }
   },
   "outputs": [
    {
     "data": {
      "text/plain": "     embarked::C  embarked::Q  embarked::S\n0              0            0            1\n1              1            0            0\n2              0            0            1\n3              0            0            1\n4              0            0            1\n..           ...          ...          ...\n885            0            1            0\n886            0            0            1\n887            0            0            1\n889            1            0            0\n890            0            1            0\n\n[712 rows x 3 columns]",
      "text/html": "<div>\n<style scoped>\n    .dataframe tbody tr th:only-of-type {\n        vertical-align: middle;\n    }\n\n    .dataframe tbody tr th {\n        vertical-align: top;\n    }\n\n    .dataframe thead th {\n        text-align: right;\n    }\n</style>\n<table border=\"1\" class=\"dataframe\">\n  <thead>\n    <tr style=\"text-align: right;\">\n      <th></th>\n      <th>embarked::C</th>\n      <th>embarked::Q</th>\n      <th>embarked::S</th>\n    </tr>\n  </thead>\n  <tbody>\n    <tr>\n      <th>0</th>\n      <td>0</td>\n      <td>0</td>\n      <td>1</td>\n    </tr>\n    <tr>\n      <th>1</th>\n      <td>1</td>\n      <td>0</td>\n      <td>0</td>\n    </tr>\n    <tr>\n      <th>2</th>\n      <td>0</td>\n      <td>0</td>\n      <td>1</td>\n    </tr>\n    <tr>\n      <th>3</th>\n      <td>0</td>\n      <td>0</td>\n      <td>1</td>\n    </tr>\n    <tr>\n      <th>4</th>\n      <td>0</td>\n      <td>0</td>\n      <td>1</td>\n    </tr>\n    <tr>\n      <th>...</th>\n      <td>...</td>\n      <td>...</td>\n      <td>...</td>\n    </tr>\n    <tr>\n      <th>885</th>\n      <td>0</td>\n      <td>1</td>\n      <td>0</td>\n    </tr>\n    <tr>\n      <th>886</th>\n      <td>0</td>\n      <td>0</td>\n      <td>1</td>\n    </tr>\n    <tr>\n      <th>887</th>\n      <td>0</td>\n      <td>0</td>\n      <td>1</td>\n    </tr>\n    <tr>\n      <th>889</th>\n      <td>1</td>\n      <td>0</td>\n      <td>0</td>\n    </tr>\n    <tr>\n      <th>890</th>\n      <td>0</td>\n      <td>1</td>\n      <td>0</td>\n    </tr>\n  </tbody>\n</table>\n<p>712 rows × 3 columns</p>\n</div>"
     },
     "execution_count": 18,
     "metadata": {},
     "output_type": "execute_result"
    }
   ],
   "source": [
    "# To fix this, lets use a slightly different selector.  This is much better\n",
    "pd.get_dummies(titanicDataSet[[\"embarked\"]], prefix_sep= \"::\", drop_first = False)"
   ]
  },
  {
   "cell_type": "code",
   "execution_count": 19,
   "metadata": {
    "collapsed": false,
    "jupyter": {
     "outputs_hidden": false
    },
    "pycharm": {
     "name": "#%%\n"
    }
   },
   "outputs": [
    {
     "data": {
      "text/plain": "     embarked::Q  embarked::S\n0              0            1\n1              0            0\n2              0            1\n3              0            1\n4              0            1\n..           ...          ...\n885            1            0\n886            0            1\n887            0            1\n889            0            0\n890            1            0\n\n[712 rows x 2 columns]",
      "text/html": "<div>\n<style scoped>\n    .dataframe tbody tr th:only-of-type {\n        vertical-align: middle;\n    }\n\n    .dataframe tbody tr th {\n        vertical-align: top;\n    }\n\n    .dataframe thead th {\n        text-align: right;\n    }\n</style>\n<table border=\"1\" class=\"dataframe\">\n  <thead>\n    <tr style=\"text-align: right;\">\n      <th></th>\n      <th>embarked::Q</th>\n      <th>embarked::S</th>\n    </tr>\n  </thead>\n  <tbody>\n    <tr>\n      <th>0</th>\n      <td>0</td>\n      <td>1</td>\n    </tr>\n    <tr>\n      <th>1</th>\n      <td>0</td>\n      <td>0</td>\n    </tr>\n    <tr>\n      <th>2</th>\n      <td>0</td>\n      <td>1</td>\n    </tr>\n    <tr>\n      <th>3</th>\n      <td>0</td>\n      <td>1</td>\n    </tr>\n    <tr>\n      <th>4</th>\n      <td>0</td>\n      <td>1</td>\n    </tr>\n    <tr>\n      <th>...</th>\n      <td>...</td>\n      <td>...</td>\n    </tr>\n    <tr>\n      <th>885</th>\n      <td>1</td>\n      <td>0</td>\n    </tr>\n    <tr>\n      <th>886</th>\n      <td>0</td>\n      <td>1</td>\n    </tr>\n    <tr>\n      <th>887</th>\n      <td>0</td>\n      <td>1</td>\n    </tr>\n    <tr>\n      <th>889</th>\n      <td>0</td>\n      <td>0</td>\n    </tr>\n    <tr>\n      <th>890</th>\n      <td>1</td>\n      <td>0</td>\n    </tr>\n  </tbody>\n</table>\n<p>712 rows × 2 columns</p>\n</div>"
     },
     "execution_count": 19,
     "metadata": {},
     "output_type": "execute_result"
    }
   ],
   "source": [
    "# Now, we have an implied column, which is C.  If the other two are 0, then C is implied.  lets drop it\n",
    "pd.get_dummies(titanicDataSet[[\"embarked\"]], prefix_sep= \"::\", drop_first = True)"
   ]
  },
  {
   "cell_type": "code",
   "execution_count": 20,
   "metadata": {
    "collapsed": false,
    "jupyter": {
     "outputs_hidden": false
    },
    "pycharm": {
     "name": "#%%\n"
    }
   },
   "outputs": [],
   "source": [
    "# Lets create a helper method to assist a bit more.\n",
    "def createCategoricalDummies(dataFrame, categoryList):\n",
    "    return pd.get_dummies(dataFrame[categoryList], prefix_sep = \"::\", drop_first = True)"
   ]
  },
  {
   "cell_type": "code",
   "execution_count": 21,
   "metadata": {
    "collapsed": false,
    "jupyter": {
     "outputs_hidden": false
    },
    "pycharm": {
     "name": "#%%\n"
    }
   },
   "outputs": [
    {
     "data": {
      "text/plain": "     survived  pclass   age  sibsp  parch     fare  embarked::Q  embarked::S  \\\n0           0       3  22.0      1      0   7.2500            0            1   \n1           1       1  38.0      1      0  71.2833            0            0   \n2           1       3  26.0      0      0   7.9250            0            1   \n3           1       1  35.0      1      0  53.1000            0            1   \n4           0       3  35.0      0      0   8.0500            0            1   \n..        ...     ...   ...    ...    ...      ...          ...          ...   \n885         0       3  39.0      0      5  29.1250            1            0   \n886         0       2  27.0      0      0  13.0000            0            1   \n887         1       1  19.0      0      0  30.0000            0            1   \n889         1       1  26.0      0      0  30.0000            0            0   \n890         0       3  32.0      0      0   7.7500            1            0   \n\n     sex::male  \n0            1  \n1            0  \n2            0  \n3            0  \n4            1  \n..         ...  \n885          0  \n886          1  \n887          0  \n889          1  \n890          1  \n\n[712 rows x 9 columns]",
      "text/html": "<div>\n<style scoped>\n    .dataframe tbody tr th:only-of-type {\n        vertical-align: middle;\n    }\n\n    .dataframe tbody tr th {\n        vertical-align: top;\n    }\n\n    .dataframe thead th {\n        text-align: right;\n    }\n</style>\n<table border=\"1\" class=\"dataframe\">\n  <thead>\n    <tr style=\"text-align: right;\">\n      <th></th>\n      <th>survived</th>\n      <th>pclass</th>\n      <th>age</th>\n      <th>sibsp</th>\n      <th>parch</th>\n      <th>fare</th>\n      <th>embarked::Q</th>\n      <th>embarked::S</th>\n      <th>sex::male</th>\n    </tr>\n  </thead>\n  <tbody>\n    <tr>\n      <th>0</th>\n      <td>0</td>\n      <td>3</td>\n      <td>22.0</td>\n      <td>1</td>\n      <td>0</td>\n      <td>7.2500</td>\n      <td>0</td>\n      <td>1</td>\n      <td>1</td>\n    </tr>\n    <tr>\n      <th>1</th>\n      <td>1</td>\n      <td>1</td>\n      <td>38.0</td>\n      <td>1</td>\n      <td>0</td>\n      <td>71.2833</td>\n      <td>0</td>\n      <td>0</td>\n      <td>0</td>\n    </tr>\n    <tr>\n      <th>2</th>\n      <td>1</td>\n      <td>3</td>\n      <td>26.0</td>\n      <td>0</td>\n      <td>0</td>\n      <td>7.9250</td>\n      <td>0</td>\n      <td>1</td>\n      <td>0</td>\n    </tr>\n    <tr>\n      <th>3</th>\n      <td>1</td>\n      <td>1</td>\n      <td>35.0</td>\n      <td>1</td>\n      <td>0</td>\n      <td>53.1000</td>\n      <td>0</td>\n      <td>1</td>\n      <td>0</td>\n    </tr>\n    <tr>\n      <th>4</th>\n      <td>0</td>\n      <td>3</td>\n      <td>35.0</td>\n      <td>0</td>\n      <td>0</td>\n      <td>8.0500</td>\n      <td>0</td>\n      <td>1</td>\n      <td>1</td>\n    </tr>\n    <tr>\n      <th>...</th>\n      <td>...</td>\n      <td>...</td>\n      <td>...</td>\n      <td>...</td>\n      <td>...</td>\n      <td>...</td>\n      <td>...</td>\n      <td>...</td>\n      <td>...</td>\n    </tr>\n    <tr>\n      <th>885</th>\n      <td>0</td>\n      <td>3</td>\n      <td>39.0</td>\n      <td>0</td>\n      <td>5</td>\n      <td>29.1250</td>\n      <td>1</td>\n      <td>0</td>\n      <td>0</td>\n    </tr>\n    <tr>\n      <th>886</th>\n      <td>0</td>\n      <td>2</td>\n      <td>27.0</td>\n      <td>0</td>\n      <td>0</td>\n      <td>13.0000</td>\n      <td>0</td>\n      <td>1</td>\n      <td>1</td>\n    </tr>\n    <tr>\n      <th>887</th>\n      <td>1</td>\n      <td>1</td>\n      <td>19.0</td>\n      <td>0</td>\n      <td>0</td>\n      <td>30.0000</td>\n      <td>0</td>\n      <td>1</td>\n      <td>0</td>\n    </tr>\n    <tr>\n      <th>889</th>\n      <td>1</td>\n      <td>1</td>\n      <td>26.0</td>\n      <td>0</td>\n      <td>0</td>\n      <td>30.0000</td>\n      <td>0</td>\n      <td>0</td>\n      <td>1</td>\n    </tr>\n    <tr>\n      <th>890</th>\n      <td>0</td>\n      <td>3</td>\n      <td>32.0</td>\n      <td>0</td>\n      <td>0</td>\n      <td>7.7500</td>\n      <td>1</td>\n      <td>0</td>\n      <td>1</td>\n    </tr>\n  </tbody>\n</table>\n<p>712 rows × 9 columns</p>\n</div>"
     },
     "execution_count": 21,
     "metadata": {},
     "output_type": "execute_result"
    }
   ],
   "source": [
    "# Lets modify the original dataFrame to deal with both categories, and add this on, and drop those\n",
    "categories = [\"embarked\", \"sex\"]\n",
    "\n",
    "titanicDataSet = pd.concat(\n",
    "    [titanicDataSet.drop(categories, axis=1), createCategoricalDummies(titanicDataSet, categories)], axis= 1)\n",
    "titanicDataSet"
   ]
  },
  {
   "cell_type": "code",
   "execution_count": 22,
   "metadata": {
    "collapsed": false,
    "jupyter": {
     "outputs_hidden": false
    },
    "pycharm": {
     "name": "#%%\n"
    }
   },
   "outputs": [
    {
     "name": "stdout",
     "output_type": "stream",
     "text": [
      "<class 'pandas.core.frame.DataFrame'>\n",
      "Int64Index: 712 entries, 0 to 890\n",
      "Data columns (total 9 columns):\n",
      " #   Column       Non-Null Count  Dtype  \n",
      "---  ------       --------------  -----  \n",
      " 0   survived     712 non-null    int64  \n",
      " 1   pclass       712 non-null    int64  \n",
      " 2   age          712 non-null    float64\n",
      " 3   sibsp        712 non-null    int64  \n",
      " 4   parch        712 non-null    int64  \n",
      " 5   fare         712 non-null    float64\n",
      " 6   embarked::Q  712 non-null    uint8  \n",
      " 7   embarked::S  712 non-null    uint8  \n",
      " 8   sex::male    712 non-null    uint8  \n",
      "dtypes: float64(2), int64(4), uint8(3)\n",
      "memory usage: 41.0 KB\n"
     ]
    }
   ],
   "source": [
    "titanicDataSet.info()\n"
   ]
  },
  {
   "cell_type": "code",
   "execution_count": 22,
   "metadata": {
    "collapsed": false,
    "jupyter": {
     "outputs_hidden": false
    },
    "pycharm": {
     "name": "#%%\n"
    }
   },
   "outputs": [],
   "source": []
  }
 ],
 "metadata": {
  "kernelspec": {
   "display_name": "Python 3",
   "language": "python",
   "name": "python3"
  },
  "language_info": {
   "codemirror_mode": {
    "name": "ipython",
    "version": 3
   },
   "file_extension": ".py",
   "mimetype": "text/x-python",
   "name": "python",
   "nbconvert_exporter": "python",
   "pygments_lexer": "ipython3",
   "version": "3.8.5"
  }
 },
 "nbformat": 4,
 "nbformat_minor": 4
}