{
 "cells": [
  {
   "cell_type": "markdown",
   "metadata": {
    "collapsed": true,
    "pycharm": {
     "name": "#%% md\n"
    }
   },
   "source": [
    "# 2021-06-21.supplemental\n",
    "\n",
    "# True/False and Numpy"
   ]
  },
  {
   "cell_type": "code",
   "execution_count": 4,
   "outputs": [
    {
     "name": "stdout",
     "output_type": "stream",
     "text": [
      "aList => <class 'list'> contents: [5, 7, 2]\n"
     ]
    }
   ],
   "source": [
    "import numpy as np\n",
    "\n",
    "aList = [5, 7, 2]\n",
    "print(f\"aList => {type(aList)} contents: {aList}\")"
   ],
   "metadata": {
    "collapsed": false,
    "pycharm": {
     "name": "#%%\n"
    }
   }
  },
  {
   "cell_type": "code",
   "execution_count": 5,
   "outputs": [
    {
     "name": "stdout",
     "output_type": "stream",
     "text": [
      "aList => <class 'numpy.ndarray'> contents: [5 7 2]\n"
     ]
    }
   ],
   "source": [
    "aNumPyArray = np.asarray(aList)\n",
    "print(f\"aList => {type(aNumPyArray)} contents: {aNumPyArray}\")"
   ],
   "metadata": {
    "collapsed": false,
    "pycharm": {
     "name": "#%%\n"
    }
   }
  },
  {
   "cell_type": "code",
   "execution_count": 6,
   "outputs": [
    {
     "name": "stdout",
     "output_type": "stream",
     "text": [
      "aList => <class 'list'> contents: [[1, 2, 3], [4, 5, 6]]\n"
     ]
    }
   ],
   "source": [
    "aMultiDimensionalList = [[1, 2, 3], [4, 5, 6]]\n",
    "print(f\"aList => {type(aMultiDimensionalList)} contents: {aMultiDimensionalList}\")"
   ],
   "metadata": {
    "collapsed": false,
    "pycharm": {
     "name": "#%%\n"
    }
   }
  },
  {
   "cell_type": "code",
   "execution_count": 8,
   "outputs": [
    {
     "name": "stdout",
     "output_type": "stream",
     "text": [
      "aList => <class 'numpy.ndarray'> contents: [[1 2 3]\n",
      " [4 5 6]]\n"
     ]
    },
    {
     "data": {
      "text/plain": "array([[1, 2, 3],\n       [4, 5, 6]])"
     },
     "execution_count": 8,
     "metadata": {},
     "output_type": "execute_result"
    }
   ],
   "source": [
    "aMultiDimensionalArray = np.asarray(aMultiDimensionalList)\n",
    "print(f\"aList => {type(aMultiDimensionalArray)} contents: {aMultiDimensionalArray}\")\n",
    "aMultiDimensionalArray"
   ],
   "metadata": {
    "collapsed": false,
    "pycharm": {
     "name": "#%%\n"
    }
   }
  },
  {
   "cell_type": "code",
   "execution_count": 10,
   "outputs": [
    {
     "data": {
      "text/plain": "[7]"
     },
     "execution_count": 10,
     "metadata": {},
     "output_type": "execute_result"
    }
   ],
   "source": [
    "list(filter(lambda x: x, aList))   # Returns Everything\n",
    "list(filter(lambda x: x>5, aList)) # Returns just 7"
   ],
   "metadata": {
    "collapsed": false,
    "pycharm": {
     "name": "#%%\n"
    }
   }
  },
  {
   "cell_type": "code",
   "execution_count": 12,
   "outputs": [
    {
     "data": {
      "text/plain": "array([5, 2])"
     },
     "execution_count": 12,
     "metadata": {},
     "output_type": "execute_result"
    }
   ],
   "source": [
    "aTruthList = [True, False, True]\n",
    "aNumPyArray[aTruthList]"
   ],
   "metadata": {
    "collapsed": false,
    "pycharm": {
     "name": "#%%\n"
    }
   }
  },
  {
   "cell_type": "code",
   "execution_count": 22,
   "outputs": [
    {
     "name": "stderr",
     "output_type": "stream",
     "text": [
      "<ipython-input-22-d44bec444b07>:3: FutureWarning: Using a non-tuple sequence for multidimensional indexing is deprecated; use `arr[tuple(seq)]` instead of `arr[seq]`. In the future this will be interpreted as an array index, `arr[np.array(seq)]`, which will result either in an error or a different result.\n",
      "  aMultiDimensionalArray[aMultiDimensionalTruth]\n"
     ]
    },
    {
     "data": {
      "text/plain": "array([1, 2, 3, 4, 6])"
     },
     "execution_count": 22,
     "metadata": {},
     "output_type": "execute_result"
    }
   ],
   "source": [
    "# If you use the below, it's a list with 1 element (represented as 2 dimension\n",
    "aMultiDimensionalTruth = [[[True,True,True],[True,True,True]]]\n",
    "aMultiDimensionalArray[aMultiDimensionalTruth]"
   ],
   "metadata": {
    "collapsed": false,
    "pycharm": {
     "name": "#%%\n"
    }
   }
  },
  {
   "cell_type": "code",
   "execution_count": 21,
   "outputs": [
    {
     "data": {
      "text/plain": "array([1, 2, 3, 4, 5, 6])"
     },
     "execution_count": 21,
     "metadata": {},
     "output_type": "execute_result"
    }
   ],
   "source": [
    "# Alternative way to the above\n",
    "aMultiDimensionalTruth = [[True,True,True],[True,True,True]]\n",
    "aMultiDimensionalTruthArray = np.asarray(aMultiDimensionalTruth)\n",
    "aMultiDimensionalArray[aMultiDimensionalTruthArray]"
   ],
   "metadata": {
    "collapsed": false,
    "pycharm": {
     "name": "#%%\n"
    }
   }
  },
  {
   "cell_type": "code",
   "execution_count": null,
   "outputs": [],
   "source": [],
   "metadata": {
    "collapsed": false,
    "pycharm": {
     "name": "#%%\n"
    }
   }
  },
  {
   "cell_type": "markdown",
   "source": [
    "# Documentation\n",
    "\n",
    "Be comfortable reading documentation, what's required and not."
   ],
   "metadata": {
    "collapsed": false,
    "pycharm": {
     "name": "#%% md\n"
    }
   }
  },
  {
   "cell_type": "code",
   "execution_count": null,
   "outputs": [],
   "source": [],
   "metadata": {
    "collapsed": false,
    "pycharm": {
     "name": "#%%\n"
    }
   }
  },
  {
   "cell_type": "markdown",
   "source": [
    "# Nested Loops"
   ],
   "metadata": {
    "collapsed": false,
    "pycharm": {
     "name": "#%% md\n"
    }
   }
  },
  {
   "cell_type": "code",
   "execution_count": 25,
   "outputs": [
    {
     "name": "stdout",
     "output_type": "stream",
     "text": [
      "x => 0, y => 5\n",
      "x => 0, y => 6\n",
      "x => 0, y => 7\n",
      "x => 0, y => 8\n",
      "x => 0, y => 9\n",
      "x => 1, y => 5\n",
      "x => 1, y => 6\n",
      "x => 1, y => 7\n",
      "x => 1, y => 8\n",
      "x => 1, y => 9\n",
      "x => 2, y => 5\n",
      "x => 2, y => 6\n",
      "x => 2, y => 7\n",
      "x => 2, y => 8\n",
      "x => 2, y => 9\n",
      "x => 3, y => 5\n",
      "x => 3, y => 6\n",
      "x => 3, y => 7\n",
      "x => 3, y => 8\n",
      "x => 3, y => 9\n",
      "x => 4, y => 5\n",
      "x => 4, y => 6\n",
      "x => 4, y => 7\n",
      "x => 4, y => 8\n",
      "x => 4, y => 9\n"
     ]
    }
   ],
   "source": [
    "for x in range(5):\n",
    "    for y in range(5, 10):\n",
    "        print(f\"x => {x}, y => {y}\")"
   ],
   "metadata": {
    "collapsed": false,
    "pycharm": {
     "name": "#%%\n"
    }
   }
  },
  {
   "cell_type": "code",
   "execution_count": 26,
   "outputs": [
    {
     "name": "stdout",
     "output_type": "stream",
     "text": [
      "x => 0, y => 5\n",
      "x => 0, y => 6\n",
      "x => 0, y => 7\n",
      "x => 0, y => 8\n",
      "x => 0, y => 9\n",
      "x => 1, y => 5\n",
      "x => 1, y => 6\n",
      "x => 1, y => 7\n",
      "x => 1, y => 8\n",
      "x => 1, y => 9\n",
      "x => 2, y => 5\n",
      "x => 2, y => 6\n",
      "x => 2, y => 7\n",
      "x => 2, y => 8\n",
      "x => 2, y => 9\n",
      "x => 3, y => 5\n",
      "x => 3, y => 6\n",
      "x => 3, y => 7\n",
      "x => 3, y => 8\n",
      "x => 3, y => 9\n",
      "x => 4, y => 5\n",
      "x => 4, y => 6\n",
      "x => 4, y => 7\n",
      "x => 4, y => 8\n",
      "x => 4, y => 9\n"
     ]
    }
   ],
   "source": [
    "x = 0\n",
    "while x < 5:\n",
    "    y = 5\n",
    "    while y < 10:\n",
    "        print(f\"x => {x}, y => {y}\")\n",
    "        y += 1\n",
    "    x += 1"
   ],
   "metadata": {
    "collapsed": false,
    "pycharm": {
     "name": "#%%\n"
    }
   }
  },
  {
   "cell_type": "code",
   "execution_count": 27,
   "outputs": [
    {
     "name": "stdout",
     "output_type": "stream",
     "text": [
      "here\n",
      "here\n",
      "here\n",
      "here\n",
      "here\n"
     ]
    }
   ],
   "source": [
    "def aFunction():\n",
    "    print(\"here\")\n",
    "\n",
    "x = 0\n",
    "while x < 5:\n",
    "    aFunction()\n",
    "    x += 1"
   ],
   "metadata": {
    "collapsed": false,
    "pycharm": {
     "name": "#%%\n"
    }
   }
  },
  {
   "cell_type": "code",
   "execution_count": 28,
   "outputs": [
    {
     "data": {
      "text/plain": "array([[1, 2, 3],\n       [4, 5, 6]])"
     },
     "execution_count": 28,
     "metadata": {},
     "output_type": "execute_result"
    }
   ],
   "source": [
    "aMultiDimensionalArray"
   ],
   "metadata": {
    "collapsed": false,
    "pycharm": {
     "name": "#%%\n"
    }
   }
  },
  {
   "cell_type": "code",
   "execution_count": 30,
   "outputs": [
    {
     "name": "stdout",
     "output_type": "stream",
     "text": [
      "1\n",
      "4\n",
      "2\n",
      "5\n",
      "3\n",
      "6\n"
     ]
    }
   ],
   "source": [
    "x = y = 0\n",
    "while x < 3:\n",
    "    y = 0\n",
    "    while y < 2:\n",
    "        print(f\"{aMultiDimensionalArray[y,x]}\")\n",
    "        y += 1\n",
    "    x += 1"
   ],
   "metadata": {
    "collapsed": false,
    "pycharm": {
     "name": "#%%\n"
    }
   }
  },
  {
   "cell_type": "code",
   "execution_count": null,
   "outputs": [],
   "source": [],
   "metadata": {
    "collapsed": false,
    "pycharm": {
     "name": "#%%\n"
    }
   }
  },
  {
   "cell_type": "markdown",
   "source": [
    "# Lambdas"
   ],
   "metadata": {
    "collapsed": false,
    "pycharm": {
     "name": "#%% md\n"
    }
   }
  },
  {
   "cell_type": "code",
   "execution_count": 34,
   "outputs": [],
   "source": [
    "def aFunction(x, y, default = 0):\n",
    "    print(f\"Incoming variables: {x}, {y}, {default}\")\n",
    "    return (x + y) * default"
   ],
   "metadata": {
    "collapsed": false,
    "pycharm": {
     "name": "#%%\n"
    }
   }
  },
  {
   "cell_type": "code",
   "execution_count": 32,
   "outputs": [
    {
     "data": {
      "text/plain": "<function __main__.aFunction(x, y, default=0)>"
     },
     "execution_count": 32,
     "metadata": {},
     "output_type": "execute_result"
    }
   ],
   "source": [
    "aFunction"
   ],
   "metadata": {
    "collapsed": false,
    "pycharm": {
     "name": "#%%\n"
    }
   }
  },
  {
   "cell_type": "code",
   "execution_count": 35,
   "outputs": [
    {
     "name": "stdout",
     "output_type": "stream",
     "text": [
      "Incoming variables: 5, 3, 3\n"
     ]
    },
    {
     "data": {
      "text/plain": "24"
     },
     "execution_count": 35,
     "metadata": {},
     "output_type": "execute_result"
    }
   ],
   "source": [
    "aFunction(5, 3, 3)"
   ],
   "metadata": {
    "collapsed": false,
    "pycharm": {
     "name": "#%%\n"
    }
   }
  },
  {
   "cell_type": "code",
   "execution_count": 36,
   "outputs": [],
   "source": [
    "aFunction = lambda x, y, default = 0: (x + y) * default"
   ],
   "metadata": {
    "collapsed": false,
    "pycharm": {
     "name": "#%%\n"
    }
   }
  },
  {
   "cell_type": "code",
   "execution_count": 37,
   "outputs": [
    {
     "data": {
      "text/plain": "24"
     },
     "execution_count": 37,
     "metadata": {},
     "output_type": "execute_result"
    }
   ],
   "source": [
    "aFunction(5, 3, 3)\n"
   ],
   "metadata": {
    "collapsed": false,
    "pycharm": {
     "name": "#%%\n"
    }
   }
  },
  {
   "cell_type": "code",
   "execution_count": 42,
   "outputs": [
    {
     "data": {
      "text/plain": "<map at 0x7f1e6d7e2340>"
     },
     "execution_count": 42,
     "metadata": {},
     "output_type": "execute_result"
    }
   ],
   "source": [
    "aFunctionFiveElements = map(lambda x, y, default = 0: (x + y) * default, [1, 2, 3, 4, 5], [6, 7, 8, 9, 10], [5, 5, 5, 5, 5])\n",
    "aFunctionFiveElements"
   ],
   "metadata": {
    "collapsed": false,
    "pycharm": {
     "name": "#%%\n"
    }
   }
  },
  {
   "cell_type": "code",
   "execution_count": 43,
   "outputs": [
    {
     "data": {
      "text/plain": "[35, 45, 55, 65, 75]"
     },
     "execution_count": 43,
     "metadata": {},
     "output_type": "execute_result"
    }
   ],
   "source": [
    "list(aFunctionFiveElements)"
   ],
   "metadata": {
    "collapsed": false,
    "pycharm": {
     "name": "#%%\n"
    }
   }
  },
  {
   "cell_type": "code",
   "execution_count": 66,
   "outputs": [
    {
     "data": {
      "text/plain": "<map at 0x7f1e6c72ae50>"
     },
     "execution_count": 66,
     "metadata": {},
     "output_type": "execute_result"
    }
   ],
   "source": [
    "aFunctionFiveElements2 = map(aFunction, [1, 2, 3, 4, 5], [6, 7, 8, 9, 10], [5, 5, 5, 5, 5])\n",
    "aFunctionFiveElements2"
   ],
   "metadata": {
    "collapsed": false,
    "pycharm": {
     "name": "#%%\n"
    }
   }
  },
  {
   "cell_type": "code",
   "execution_count": 64,
   "outputs": [
    {
     "data": {
      "text/plain": "[35, 45, 55, 65, 75]"
     },
     "execution_count": 64,
     "metadata": {},
     "output_type": "execute_result"
    }
   ],
   "source": [
    "#aFunctionFiveElements2"
   ],
   "metadata": {
    "collapsed": false,
    "pycharm": {
     "name": "#%%\n"
    }
   }
  },
  {
   "cell_type": "code",
   "execution_count": 67,
   "outputs": [
    {
     "data": {
      "text/plain": "[35, 45, 55]"
     },
     "execution_count": 67,
     "metadata": {},
     "output_type": "execute_result"
    }
   ],
   "source": [
    "list(filter(lambda x: x <= 55, aFunctionFiveElements2))"
   ],
   "metadata": {
    "collapsed": false,
    "pycharm": {
     "name": "#%%\n"
    }
   }
  },
  {
   "cell_type": "code",
   "execution_count": null,
   "outputs": [],
   "source": [],
   "metadata": {
    "collapsed": false,
    "pycharm": {
     "name": "#%%\n"
    }
   }
  }
 ],
 "metadata": {
  "kernelspec": {
   "display_name": "Python 3",
   "language": "python",
   "name": "python3"
  },
  "language_info": {
   "codemirror_mode": {
    "name": "ipython",
    "version": 2
   },
   "file_extension": ".py",
   "mimetype": "text/x-python",
   "name": "python",
   "nbconvert_exporter": "python",
   "pygments_lexer": "ipython2",
   "version": "2.7.6"
  }
 },
 "nbformat": 4,
 "nbformat_minor": 0
}