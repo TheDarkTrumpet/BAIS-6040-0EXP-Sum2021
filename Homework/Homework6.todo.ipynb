{
 "cells": [
  {
   "cell_type": "markdown",
   "metadata": {
    "collapsed": true,
    "pycharm": {
     "name": "#%% md\n"
    }
   },
   "source": [
    "# Homework6.todo.ipynb\n",
    "\n",
    "## Purpose\n",
    "\n",
    "This homework is designed to give you practice on creating graphs and charts using the libraries provided in this course.\n",
    "\n",
    "## Requirements\n",
    "\n",
    "This is a group assignment.  Take a data set (either one provided, or using your group project data set), develop graphs using elements in your data set.  3 libraries were covered in this module, each student is to create 3 graphs, using each library to create that graph.  No two graphs should be the same. They can use the same style (e.g. 2x line graphs), but must then differ on the data points used.\n",
    "\n",
    "It's recommended that you get this done very quickly, and as a group review them.  There will be extra things graded in this homework:\n",
    "\n",
    "1.  Do you include labels, title, and relevant information about the graph.\n",
    "2.  Does it render properly.\n",
    "3.  Does the code used to generate said graph make sense, follow best practices as outlined in this course, and so on?\n",
    "\n",
    "\n",
    "## Required Hand-in\n",
    "\n",
    "One notebook should be handed in.  Following best practices I've outlined.  This homework is graded as a group homework.  The data set you pick to do graphs off of can be either one I'm providing as part of the repo, or of your group project.\n",
    "\n",
    "Please label each graph with the original author (in code, comment above the implementation). You may group them by graph type (MatPlotlib all together, Seaborn all together, etc.) or by author (Student A all together, Student B all together, etc.)\n",
    "\n",
    "Do not use the .todo as your template.  Analysis of the results of each graph isn't necessary, but do indicate the graphs you find represent the data you have most accurately.\n",
    "\n",
    "## Other notes\n",
    "\n",
    "This homework will be graded as a group.  Meaning, you all will get the same grade, regardless if a specific student's implementation is poorly done.  It will count for 60 points.  I strongly recommend you discuss as a group who will do what, then meet up at least a few days before the assignment is to be turned in and do a code review and merge of the individual notebooks."
   ]
  }
 ],
 "metadata": {
  "kernelspec": {
   "display_name": "Python 3",
   "language": "python",
   "name": "python3"
  },
  "language_info": {
   "codemirror_mode": {
    "name": "ipython",
    "version": 2
   },
   "file_extension": ".py",
   "mimetype": "text/x-python",
   "name": "python",
   "nbconvert_exporter": "python",
   "pygments_lexer": "ipython2",
   "version": "2.7.6"
  }
 },
 "nbformat": 4,
 "nbformat_minor": 0
}