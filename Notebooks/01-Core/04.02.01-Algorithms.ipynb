{
 "cells": [
  {
   "cell_type": "markdown",
   "metadata": {
    "collapsed": true,
    "pycharm": {
     "name": "#%% md\n"
    }
   },
   "source": [
    "# 04.02.01 - Algorithms\n",
    "\n",
    "## Purpose\n",
    "\n",
    "This notebook is the output from lecture 04.02.01, talking about algorithms, why they're important, and what it matters for us."
   ]
  },
  {
   "cell_type": "code",
   "execution_count": 1,
   "outputs": [],
   "source": [
    "import random as rnd\n",
    "rnd.seed(1024)"
   ],
   "metadata": {
    "collapsed": false,
    "pycharm": {
     "name": "#%%\n"
    }
   }
  },
  {
   "cell_type": "code",
   "execution_count": 2,
   "outputs": [],
   "source": [
    "# Assumption made that we want random integers, 500 of them.\n",
    "# Full file may have something different.\n",
    "randomIntegers = [rnd.randint(1, 1000) for _ in range(500)]"
   ],
   "metadata": {
    "collapsed": false,
    "pycharm": {
     "name": "#%%\n"
    }
   }
  },
  {
   "cell_type": "code",
   "execution_count": 3,
   "outputs": [],
   "source": [
    "def pickSeventhOdd(elements):\n",
    "    collectedElements = []\n",
    "    seventhCheck = 0\n",
    "    for element in elements:\n",
    "        if seventhCheck == 6:\n",
    "            if element % 2 >= 1:\n",
    "                collectedElements.append(element)\n",
    "            seventhCheck = 0\n",
    "        else:\n",
    "            seventhCheck += 1\n",
    "    return collectedElements"
   ],
   "metadata": {
    "collapsed": false,
    "pycharm": {
     "name": "#%%\n"
    }
   }
  },
  {
   "cell_type": "code",
   "execution_count": 4,
   "outputs": [],
   "source": [
    "# Can be removed but leaving in so others can see the full process before the function call.\n",
    "collectedElements = []\n",
    "seventhCheck = 0\n",
    "for element in randomIntegers:\n",
    "    if seventhCheck == 6:\n",
    "        if element % 2 >= 1:\n",
    "            collectedElements.append(element)\n",
    "        seventhCheck = 0\n",
    "    else:\n",
    "        seventhCheck += 1"
   ],
   "metadata": {
    "collapsed": false,
    "pycharm": {
     "name": "#%%\n"
    }
   }
  },
  {
   "cell_type": "code",
   "execution_count": 5,
   "outputs": [
    {
     "name": "stdout",
     "output_type": "stream",
     "text": [
      "[375, 817, 457, 789, 893, 927, 23, 771, 473, 393, 971, 529, 929, 869, 665, 671, 153, 263, 345, 765, 405, 647, 481, 499, 621, 131, 939, 859, 937, 39, 923, 133, 465, 311, 211, 143, 689, 851]\n"
     ]
    }
   ],
   "source": [
    "# Last part, print the collected elements\n",
    "print(collectedElements)"
   ],
   "metadata": {
    "collapsed": false,
    "pycharm": {
     "name": "#%%\n"
    }
   }
  },
  {
   "cell_type": "code",
   "execution_count": 6,
   "outputs": [
    {
     "data": {
      "text/plain": "[375,\n 817,\n 457,\n 789,\n 893,\n 927,\n 23,\n 771,\n 473,\n 393,\n 971,\n 529,\n 929,\n 869,\n 665,\n 671,\n 153,\n 263,\n 345,\n 765,\n 405,\n 647,\n 481,\n 499,\n 621,\n 131,\n 939,\n 859,\n 937,\n 39,\n 923,\n 133,\n 465,\n 311,\n 211,\n 143,\n 689,\n 851]"
     },
     "execution_count": 6,
     "metadata": {},
     "output_type": "execute_result"
    }
   ],
   "source": [
    "pickSeventhOdd(randomIntegers)\n"
   ],
   "metadata": {
    "collapsed": false,
    "pycharm": {
     "name": "#%%\n"
    }
   }
  },
  {
   "cell_type": "markdown",
   "source": [
    "# Optimal Option\n",
    "\n",
    "Often times, you can reduce overall complexity by using a different structure.  This allows code to scale better when encountering larger data sets.  Using the above example, we have..."
   ],
   "metadata": {
    "collapsed": false,
    "pycharm": {
     "name": "#%% md\n"
    }
   }
  },
  {
   "cell_type": "code",
   "execution_count": 31,
   "outputs": [
    {
     "data": {
      "text/plain": "[375,\n 817,\n 457,\n 789,\n 893,\n 927,\n 23,\n 771,\n 473,\n 393,\n 971,\n 529,\n 929,\n 869,\n 665,\n 671,\n 153,\n 263,\n 345,\n 765,\n 405,\n 647,\n 481,\n 499,\n 621,\n 131,\n 939,\n 859,\n 937,\n 39,\n 923,\n 133,\n 465,\n 311,\n 211,\n 143,\n 689,\n 851]"
     },
     "execution_count": 31,
     "metadata": {},
     "output_type": "execute_result"
    }
   ],
   "source": [
    "collectedElements = []\n",
    "counter = 6\n",
    "while counter < len(randomIntegers):\n",
    "    if randomIntegers[counter] % 2 >= 1:\n",
    "        collectedElements.append(randomIntegers[counter])\n",
    "    counter += 7\n",
    "collectedElements"
   ],
   "metadata": {
    "collapsed": false,
    "pycharm": {
     "name": "#%%\n"
    }
   }
  },
  {
   "cell_type": "markdown",
   "source": [
    "With some more advanced python, we can do something like the following:"
   ],
   "metadata": {
    "collapsed": false,
    "pycharm": {
     "name": "#%% md\n"
    }
   }
  },
  {
   "cell_type": "code",
   "execution_count": 8,
   "outputs": [
    {
     "data": {
      "text/plain": "[375,\n 817,\n 457,\n 789,\n 893,\n 927,\n 23,\n 771,\n 473,\n 393,\n 971,\n 529,\n 929,\n 869,\n 665,\n 671,\n 153,\n 263,\n 345,\n 765,\n 405,\n 647,\n 481,\n 499,\n 621,\n 131,\n 939,\n 859,\n 937,\n 39,\n 923,\n 133,\n 465,\n 311,\n 211,\n 143,\n 689,\n 851]"
     },
     "execution_count": 8,
     "metadata": {},
     "output_type": "execute_result"
    }
   ],
   "source": [
    "newCollectedElements = []\n",
    "for element in randomIntegers[6::7]:\n",
    "    if element % 2 >= 1:\n",
    "        newCollectedElements.append(element)\n",
    "newCollectedElements"
   ],
   "metadata": {
    "collapsed": false,
    "pycharm": {
     "name": "#%%\n"
    }
   }
  },
  {
   "cell_type": "code",
   "execution_count": 8,
   "outputs": [],
   "source": [],
   "metadata": {
    "collapsed": false,
    "pycharm": {
     "name": "#%%\n"
    }
   }
  },
  {
   "cell_type": "markdown",
   "source": [
    "Which can be rewritten even better as:"
   ],
   "metadata": {
    "collapsed": false,
    "pycharm": {
     "name": "#%% md\n"
    }
   }
  },
  {
   "cell_type": "code",
   "execution_count": 12,
   "outputs": [
    {
     "data": {
      "text/plain": "[375,\n 817,\n 457,\n 789,\n 893,\n 927,\n 23,\n 771,\n 473,\n 393,\n 971,\n 529,\n 929,\n 869,\n 665,\n 671,\n 153,\n 263,\n 345,\n 765,\n 405,\n 647,\n 481,\n 499,\n 621,\n 131,\n 939,\n 859,\n 937,\n 39,\n 923,\n 133,\n 465,\n 311,\n 211,\n 143,\n 689,\n 851]"
     },
     "execution_count": 12,
     "metadata": {},
     "output_type": "execute_result"
    }
   ],
   "source": [
    "newCollectedElements2 = list(filter(lambda x: x %2 >= 1, randomIntegers[6::7]))\n",
    "newCollectedElements2"
   ],
   "metadata": {
    "collapsed": false,
    "pycharm": {
     "name": "#%%\n"
    }
   }
  },
  {
   "cell_type": "markdown",
   "source": [
    "It's useful to learn to generalize functionality when possible.  The most optimal solution above, written as a function would be:"
   ],
   "metadata": {
    "collapsed": false,
    "pycharm": {
     "name": "#%% md\n"
    }
   }
  },
  {
   "cell_type": "code",
   "execution_count": 32,
   "outputs": [
    {
     "data": {
      "text/plain": "[375,\n 817,\n 457,\n 789,\n 893,\n 927,\n 23,\n 771,\n 473,\n 393,\n 971,\n 529,\n 929,\n 869,\n 665,\n 671,\n 153,\n 263,\n 345,\n 765,\n 405,\n 647,\n 481,\n 499,\n 621,\n 131,\n 939,\n 859,\n 937,\n 39,\n 923,\n 133,\n 465,\n 311,\n 211,\n 143,\n 689,\n 851]"
     },
     "execution_count": 32,
     "metadata": {},
     "output_type": "execute_result"
    }
   ],
   "source": [
    "def pickOdd(collection, start = 6):\n",
    "    return list(filter(lambda x: x%2 >= 1, collection[start::start+1]))\n",
    "\n",
    "pickOdd(randomIntegers, 6)\n"
   ],
   "metadata": {
    "collapsed": false,
    "pycharm": {
     "name": "#%%\n"
    }
   }
  }
 ],
 "metadata": {
  "kernelspec": {
   "display_name": "Python 3",
   "language": "python",
   "name": "python3"
  },
  "language_info": {
   "codemirror_mode": {
    "name": "ipython",
    "version": 2
   },
   "file_extension": ".py",
   "mimetype": "text/x-python",
   "name": "python",
   "nbconvert_exporter": "python",
   "pygments_lexer": "ipython2",
   "version": "2.7.6"
  }
 },
 "nbformat": 4,
 "nbformat_minor": 0
}