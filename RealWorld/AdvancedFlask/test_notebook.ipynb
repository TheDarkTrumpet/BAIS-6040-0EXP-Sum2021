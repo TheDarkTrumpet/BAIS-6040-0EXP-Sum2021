{
 "cells": [
  {
   "cell_type": "markdown",
   "source": [
    "# test_notebook.ipynb\n",
    "\n",
    "## Purpose\n",
    "\n",
    "This notebook is a very simple set of operations, in two blocks.  First block is receiving data from the server (both as json and pandas).  The second block is submitting a new person to the server."
   ],
   "metadata": {
    "collapsed": false,
    "pycharm": {
     "name": "#%% md\n"
    }
   }
  },
  {
   "cell_type": "code",
   "execution_count": 6,
   "outputs": [],
   "source": [
    "import json\n",
    "import requests\n",
    "import pandas as pd\n",
    "\n",
    "baseURL = 'http://localhost:5000/api/people'"
   ],
   "metadata": {
    "collapsed": false,
    "pycharm": {
     "name": "#%%\n"
    }
   }
  },
  {
   "cell_type": "markdown",
   "metadata": {
    "collapsed": true,
    "pycharm": {
     "name": "#%% md\n"
    }
   },
   "source": [
    "# Part 1: Receiving Requests\n",
    "## Part1a: Receiving requests (raw)"
   ]
  },
  {
   "cell_type": "code",
   "execution_count": 7,
   "outputs": [
    {
     "name": "stdout",
     "output_type": "stream",
     "text": [
      "Result code returned: 200\n"
     ]
    },
    {
     "data": {
      "text/plain": "'[{\"FirstName\": \"Fred\", \"LastName\": \"F\", \"Address\": \"1121 Yama Ave\", \"Phone\": \"111-22-3333\"}, {\"FirstName\": \"Marge\", \"LastName\": \"F\", \"Address\": \"1121 Yama Ave\", \"Phone\": \"111-222-3333\"}, {\"FirstName\": \"Dera\", \"LastName\": \"G\", \"Address\": \"1120 Yama Ave\", \"Phone\": \"552-123-3355\"}, {\"FirstName\": \"Fred\", \"LastName\": \"F\", \"Address\": \"1119 Yama Ave\", \"Phone\": \"111-321-3391\"}, {\"FirstName\": \"Fred\", \"LastName\": \"F\", \"Address\": \"1118 Yama Ave\", \"Phone\": \"111-989-2311\"}, {\"FirstName\": \"Fred\", \"LastName\": \"F\", \"Address\": \"1117 Yama Ave\", \"Phone\": \"523-12-3211\"}, {\"FirstName\": \"sdf\", \"LastName\": \"sdf\", \"Address\": \"sdfsdf\", \"Phone\": \"sdfsdf\"}, {\"FirstName\": \"A first name!\", \"LastName\": \"A last name\", \"Address\": \"12111 Hover Street\", \"Phone\": \"121-121-8211\"}, {\"FirstName\": \"A first name!\", \"LastName\": \"A last name\", \"Address\": \"12111 Hover Street\", \"Phone\": \"121-121-8211\"}, {\"FirstName\": \"A first name!\", \"LastName\": \"A last name\", \"Address\": \"12111 Hover Street\", \"Phone\": \"121-121-8211\"}, {\"FirstName\": \"A first name!\", \"LastName\": \"A last name\", \"Address\": \"12111 Hover Street\", \"Phone\": \"121-121-8211\"}, {\"FirstName\": \"A first name!\", \"LastName\": \"A last name\", \"Address\": \"12111 Hover Street\", \"Phone\": \"121-121-8211\"}, {\"FirstName\": \"lkjlkjsdflj\", \"LastName\": \"lkjlkjsdflj234\", \"Address\": \"98789273sdf\", \"Phone\": \"132-12-1231\"}, {\"FirstName\": \"234234\", \"LastName\": \"234234\", \"Address\": \"234234\", \"Phone\": \"111-111-1111\"}]'"
     },
     "execution_count": 7,
     "metadata": {},
     "output_type": "execute_result"
    }
   ],
   "source": [
    "# Test Get methods here (API)\n",
    "result = requests.get(baseURL)\n",
    "print(f\"Result code returned: {result.status_code}\")\n",
    "result.text"
   ],
   "metadata": {
    "collapsed": false,
    "pycharm": {
     "name": "#%%\n"
    }
   }
  },
  {
   "cell_type": "markdown",
   "source": [
    "## Part1b: Receiving requests (Pandas)"
   ],
   "metadata": {
    "collapsed": false,
    "pycharm": {
     "name": "#%% md\n"
    }
   }
  },
  {
   "cell_type": "code",
   "execution_count": 5,
   "outputs": [
    {
     "data": {
      "text/plain": "        FirstName     LastName             Address         Phone\n0            Fred            F       1121 Yama Ave   111-22-3333\n1           Marge            F       1121 Yama Ave  111-222-3333\n2            Dera            G       1120 Yama Ave  552-123-3355\n3            Fred            F       1119 Yama Ave  111-321-3391\n4            Fred            F       1118 Yama Ave  111-989-2311\n5            Fred            F       1117 Yama Ave   523-12-3211\n6             sdf          sdf              sdfsdf        sdfsdf\n7   A first name!  A last name  12111 Hover Street  121-121-8211\n8   A first name!  A last name  12111 Hover Street  121-121-8211\n9   A first name!  A last name  12111 Hover Street  121-121-8211\n10  A first name!  A last name  12111 Hover Street  121-121-8211\n11  A first name!  A last name  12111 Hover Street  121-121-8211",
      "text/html": "<div>\n<style scoped>\n    .dataframe tbody tr th:only-of-type {\n        vertical-align: middle;\n    }\n\n    .dataframe tbody tr th {\n        vertical-align: top;\n    }\n\n    .dataframe thead th {\n        text-align: right;\n    }\n</style>\n<table border=\"1\" class=\"dataframe\">\n  <thead>\n    <tr style=\"text-align: right;\">\n      <th></th>\n      <th>FirstName</th>\n      <th>LastName</th>\n      <th>Address</th>\n      <th>Phone</th>\n    </tr>\n  </thead>\n  <tbody>\n    <tr>\n      <th>0</th>\n      <td>Fred</td>\n      <td>F</td>\n      <td>1121 Yama Ave</td>\n      <td>111-22-3333</td>\n    </tr>\n    <tr>\n      <th>1</th>\n      <td>Marge</td>\n      <td>F</td>\n      <td>1121 Yama Ave</td>\n      <td>111-222-3333</td>\n    </tr>\n    <tr>\n      <th>2</th>\n      <td>Dera</td>\n      <td>G</td>\n      <td>1120 Yama Ave</td>\n      <td>552-123-3355</td>\n    </tr>\n    <tr>\n      <th>3</th>\n      <td>Fred</td>\n      <td>F</td>\n      <td>1119 Yama Ave</td>\n      <td>111-321-3391</td>\n    </tr>\n    <tr>\n      <th>4</th>\n      <td>Fred</td>\n      <td>F</td>\n      <td>1118 Yama Ave</td>\n      <td>111-989-2311</td>\n    </tr>\n    <tr>\n      <th>5</th>\n      <td>Fred</td>\n      <td>F</td>\n      <td>1117 Yama Ave</td>\n      <td>523-12-3211</td>\n    </tr>\n    <tr>\n      <th>6</th>\n      <td>sdf</td>\n      <td>sdf</td>\n      <td>sdfsdf</td>\n      <td>sdfsdf</td>\n    </tr>\n    <tr>\n      <th>7</th>\n      <td>A first name!</td>\n      <td>A last name</td>\n      <td>12111 Hover Street</td>\n      <td>121-121-8211</td>\n    </tr>\n    <tr>\n      <th>8</th>\n      <td>A first name!</td>\n      <td>A last name</td>\n      <td>12111 Hover Street</td>\n      <td>121-121-8211</td>\n    </tr>\n    <tr>\n      <th>9</th>\n      <td>A first name!</td>\n      <td>A last name</td>\n      <td>12111 Hover Street</td>\n      <td>121-121-8211</td>\n    </tr>\n    <tr>\n      <th>10</th>\n      <td>A first name!</td>\n      <td>A last name</td>\n      <td>12111 Hover Street</td>\n      <td>121-121-8211</td>\n    </tr>\n    <tr>\n      <th>11</th>\n      <td>A first name!</td>\n      <td>A last name</td>\n      <td>12111 Hover Street</td>\n      <td>121-121-8211</td>\n    </tr>\n  </tbody>\n</table>\n</div>"
     },
     "execution_count": 5,
     "metadata": {},
     "output_type": "execute_result"
    }
   ],
   "source": [
    "people = pd.read_json(result.text)\n",
    "people"
   ],
   "metadata": {
    "collapsed": false,
    "pycharm": {
     "name": "#%%\n"
    }
   }
  },
  {
   "cell_type": "markdown",
   "source": [
    "# Part 2: Adding a user to the server"
   ],
   "metadata": {
    "collapsed": false,
    "pycharm": {
     "name": "#%% md\n"
    }
   }
  },
  {
   "cell_type": "code",
   "execution_count": 9,
   "outputs": [
    {
     "data": {
      "text/plain": "'{\"FirstName\": \"A first name!\", \"LastName\": \"A last name\", \"Address\": \"12111 Hover Street\", \"Phone\": \"121-121-8211\"}'"
     },
     "execution_count": 9,
     "metadata": {},
     "output_type": "execute_result"
    }
   ],
   "source": [
    "# Test Post methods here (API)\n",
    "personToSend = {\n",
    "    \"FirstName\": \"A first name!\",\n",
    "    \"LastName\": \"A last name\",\n",
    "    \"Address\": \"12111 Hover Street\",\n",
    "    \"Phone\": \"121-121-8211\"\n",
    "}\n",
    "jsonObject = json.dumps(personToSend)\n",
    "jsonObject"
   ],
   "metadata": {
    "collapsed": false,
    "pycharm": {
     "name": "#%%\n"
    }
   }
  },
  {
   "cell_type": "code",
   "execution_count": 10,
   "outputs": [
    {
     "name": "stdout",
     "output_type": "stream",
     "text": [
      "Result returned: <Response [200]>, text: {\"result\":true}\n",
      "\n"
     ]
    }
   ],
   "source": [
    "result = requests.post(baseURL, json=jsonObject)\n",
    "print(f\"Result returned: {result}, text: {result.text}\")"
   ],
   "metadata": {
    "collapsed": false,
    "pycharm": {
     "name": "#%%\n"
    }
   }
  },
  {
   "cell_type": "code",
   "execution_count": null,
   "outputs": [],
   "source": [],
   "metadata": {
    "collapsed": false,
    "pycharm": {
     "name": "#%%\n"
    }
   }
  }
 ],
 "metadata": {
  "kernelspec": {
   "display_name": "Python 3",
   "language": "python",
   "name": "python3"
  },
  "language_info": {
   "codemirror_mode": {
    "name": "ipython",
    "version": 2
   },
   "file_extension": ".py",
   "mimetype": "text/x-python",
   "name": "python",
   "nbconvert_exporter": "python",
   "pygments_lexer": "ipython2",
   "version": "2.7.6"
  }
 },
 "nbformat": 4,
 "nbformat_minor": 0
}