{
 "cells": [
  {
   "cell_type": "markdown",
   "metadata": {
    "collapsed": true,
    "pycharm": {
     "name": "#%% md\n"
    }
   },
   "source": [
    "# 09-Lecture.ipynb\n",
    "\n",
    "# Agenda\n",
    "\n",
    "- Due Date Overview (3m)\n",
    "  - Final Class: Open discussion, but conceptual will be 40m like before + explanation on both.  Will likely allow for the option to extend the class so that questions can be asked.\n",
    "- New Material (Machine Learning) (10m)\n",
    "- Group Project Discussion (15m)\n",
    "- Announcement: Flask Supplemental\n",
    "- Breakout Sessions (til 7:30)\n",
    "- In-Class Activity (5m - do it right after class)\n",
    "  - Homework b (individual)\n",
    "\n",
    "# Due Dates\n",
    "\n",
    "| Date | Activity |\n",
    "|------|----------|\n",
    "| 2021-07-14 | Module 9 Start - ML       |\n",
    "| <i></i>    | Homework 6 due            |\n",
    "| 2021-07-21 | Module 10 Start - Flask   |\n",
    "| <i></i>    | Final Practical Released  |\n",
    "| <i></i>    | Homework 7 due            |\n",
    "| 2021-07-28 | Module 11 Start (Last day of class) |\n",
    "| <i></i>    | Conceptual Exam           |\n",
    "| <i></i>    | Final Practical Due       |\n",
    "| <i></i>    | Final Project Due         |\n",
    "| <i></i>    | Team Feedback Due         |\n",
    "| <i></i>    | Homework 8 due            |\n",
    "\n",
    "# New Material (Machine Learning)\n",
    "\n",
    "- 09.02.01-SkLearnIntro = pretty important slide set\n",
    "\n",
    "# Group Project Discussion\n",
    "\n",
    "There's a video on this in ICON.  But, in summary:\n",
    "\n",
    "1.  You don't need to use Flask for this, but if you have the time it's worth doing so.\n",
    "2.  Naming is, obviously, important.\n",
    "3.  Remember the format we've gone through.\n",
    "    - Mirrors the idea of a research paper.\n",
    "\n",
    "- Package this as a zip file\n",
    "\n",
    "Example Supplemental Files:\n",
    "\n",
    "1.  Your data (CSV)\n",
    "2.  Flask Application (if done)\n",
    "3.  Extra supporting, but not direct, graphs (extra explanation)\n",
    "4.  (references) - Link to original files (if needed), supporting documentation (if needed)\n",
    "    - Definitions, etc.\n",
    "\n",
    "# In-Class Activity\n",
    "\n",
    "24 hours to complete.  5 minutes time limit to complete.  Due to conflicts, pushing this like a normal assignment.\n",
    "\n",
    "# Midterm/In-Class Activity Explanations"
   ]
  },
  {
   "cell_type": "code",
   "execution_count": null,
   "outputs": [],
   "source": [],
   "metadata": {
    "collapsed": false,
    "pycharm": {
     "name": "#%%\n"
    }
   }
  },
  {
   "cell_type": "markdown",
   "source": [
    "# Breakout Sessions\n",
    "Please go to your groups, and talk over Homework 6.  Read the description, and parse out what's being asked.  Divide the work for your group.\n",
    "\n",
    "There's a 'help video' (08.04) if there are questions about it.\n",
    "\n",
    "# After class: Optional 30m to answer questions (HW5, Midterm, etc.)\n",
    "\n",
    "Note this will not be recorded, but what we go through, textual, will be below.\n",
    "\n",
    "You do not have to attend this, you can leave if you wish."
   ],
   "metadata": {
    "collapsed": false,
    "pycharm": {
     "name": "#%% md\n"
    }
   }
  },
  {
   "cell_type": "code",
   "execution_count": null,
   "outputs": [],
   "source": [],
   "metadata": {
    "collapsed": false,
    "pycharm": {
     "name": "#%%\n"
    }
   }
  }
 ],
 "metadata": {
  "kernelspec": {
   "display_name": "Python 3",
   "language": "python",
   "name": "python3"
  },
  "language_info": {
   "codemirror_mode": {
    "name": "ipython",
    "version": 2
   },
   "file_extension": ".py",
   "mimetype": "text/x-python",
   "name": "python",
   "nbconvert_exporter": "python",
   "pygments_lexer": "ipython2",
   "version": "2.7.6"
  }
 },
 "nbformat": 4,
 "nbformat_minor": 0
}