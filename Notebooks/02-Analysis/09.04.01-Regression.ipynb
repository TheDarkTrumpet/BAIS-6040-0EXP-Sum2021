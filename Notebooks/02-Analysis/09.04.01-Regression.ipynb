{
 "cells": [
  {
   "cell_type": "markdown",
   "metadata": {
    "pycharm": {
     "name": "#%% md\n"
    }
   },
   "source": [
    "# 09.04.01 - Regression\n",
    "\n",
    "## Purpose\n",
    "\n",
    "This notebook will go over two regression algorithms that may better apply to your class project vs classification.  We'll use the weather data set this time.\n",
    "\n",
    "## Libraries\n",
    "\n",
    "* Sklearn\n",
    "\n",
    "## References/Reading\n",
    "\n",
    "* LinearRegression: https://scikit-learn.org/stable/modules/generated/sklearn.linear_model.LinearRegression.html\n",
    "  * https://en.wikipedia.org/wiki/Linear_regression\n",
    "* Ridge: https://scikit-learn.org/stable/modules/generated/sklearn.linear_model.Ridge.html\n",
    "  * https://en.wikipedia.org/wiki/Ridge_regression"
   ]
  },
  {
   "cell_type": "code",
   "execution_count": 1,
   "metadata": {
    "collapsed": false,
    "jupyter": {
     "outputs_hidden": false
    },
    "pycharm": {
     "name": "#%%\n"
    }
   },
   "outputs": [],
   "source": [
    "import pandas as pd\n",
    "from sklearn.model_selection import train_test_split\n",
    "from sklearn.linear_model import Ridge\n",
    "from sklearn.linear_model import LinearRegression"
   ]
  },
  {
   "cell_type": "markdown",
   "metadata": {
    "pycharm": {
     "name": "#%% md\n"
    }
   },
   "source": [
    "# Part 1: Prepare the data\n",
    "We've seen all this already, we'll just do it in one spot"
   ]
  },
  {
   "cell_type": "code",
   "execution_count": 2,
   "metadata": {
    "collapsed": false,
    "jupyter": {
     "outputs_hidden": false
    },
    "pycharm": {
     "name": "#%%\n"
    }
   },
   "outputs": [
    {
     "data": {
      "text/plain": "           Date  Location  MinTemp  MaxTemp  Rainfall  Evaporation  Sunshine  \\\n0    2007-11-01  Canberra      8.0     24.3       0.0          3.4       6.3   \n1    2007-11-02  Canberra     14.0     26.9       3.6          4.4       9.7   \n2    2007-11-03  Canberra     13.7     23.4       3.6          5.8       3.3   \n3    2007-11-04  Canberra     13.3     15.5      39.8          7.2       9.1   \n4    2007-11-05  Canberra      7.6     16.1       2.8          5.6      10.6   \n..          ...       ...      ...      ...       ...          ...       ...   \n361  2008-10-27  Canberra      9.0     30.7       0.0          7.6      12.1   \n362  2008-10-28  Canberra      7.1     28.4       0.0         11.6      12.7   \n363  2008-10-29  Canberra     12.5     19.9       0.0          8.4       5.3   \n364  2008-10-30  Canberra     12.5     26.9       0.0          5.0       7.1   \n365  2008-10-31  Canberra     12.3     30.2       0.0          6.0      12.6   \n\n    WindGustDir  WindGustSpeed WindDir9am  ... Humidity3pm  Pressure9am  \\\n0            NW           30.0         SW  ...          29       1019.7   \n1           ENE           39.0          E  ...          36       1012.4   \n2            NW           85.0          N  ...          69       1009.5   \n3            NW           54.0        WNW  ...          56       1005.5   \n4           SSE           50.0        SSE  ...          49       1018.3   \n..          ...            ...        ...  ...         ...          ...   \n361         NNW           76.0        SSE  ...          15       1016.1   \n362           N           48.0        NNW  ...          22       1020.0   \n363         ESE           43.0        ENE  ...          47       1024.0   \n364          NW           46.0        SSW  ...          39       1021.0   \n365          NW           78.0         NW  ...          13       1009.6   \n\n     Pressure3pm  Cloud9am  Cloud3pm  Temp9am  Temp3pm  RainToday  RISK_MM  \\\n0         1015.0         7         7     14.4     23.6         No      3.6   \n1         1008.4         5         3     17.5     25.7        Yes      3.6   \n2         1007.2         8         7     15.4     20.2        Yes     39.8   \n3         1007.0         2         7     13.5     14.1        Yes      2.8   \n4         1018.5         7         7     11.1     15.4        Yes      0.0   \n..           ...       ...       ...      ...      ...        ...      ...   \n361       1010.8         1         3     20.4     30.0         No      0.0   \n362       1016.9         0         1     17.2     28.2         No      0.0   \n363       1022.8         3         2     14.5     18.3         No      0.0   \n364       1016.2         6         7     15.8     25.9         No      0.0   \n365       1009.2         1         1     23.8     28.6         No      0.0   \n\n     RainTomorrow  \n0             Yes  \n1             Yes  \n2             Yes  \n3             Yes  \n4              No  \n..            ...  \n361            No  \n362            No  \n363            No  \n364            No  \n365            No  \n\n[328 rows x 24 columns]",
      "text/html": "<div>\n<style scoped>\n    .dataframe tbody tr th:only-of-type {\n        vertical-align: middle;\n    }\n\n    .dataframe tbody tr th {\n        vertical-align: top;\n    }\n\n    .dataframe thead th {\n        text-align: right;\n    }\n</style>\n<table border=\"1\" class=\"dataframe\">\n  <thead>\n    <tr style=\"text-align: right;\">\n      <th></th>\n      <th>Date</th>\n      <th>Location</th>\n      <th>MinTemp</th>\n      <th>MaxTemp</th>\n      <th>Rainfall</th>\n      <th>Evaporation</th>\n      <th>Sunshine</th>\n      <th>WindGustDir</th>\n      <th>WindGustSpeed</th>\n      <th>WindDir9am</th>\n      <th>...</th>\n      <th>Humidity3pm</th>\n      <th>Pressure9am</th>\n      <th>Pressure3pm</th>\n      <th>Cloud9am</th>\n      <th>Cloud3pm</th>\n      <th>Temp9am</th>\n      <th>Temp3pm</th>\n      <th>RainToday</th>\n      <th>RISK_MM</th>\n      <th>RainTomorrow</th>\n    </tr>\n  </thead>\n  <tbody>\n    <tr>\n      <th>0</th>\n      <td>2007-11-01</td>\n      <td>Canberra</td>\n      <td>8.0</td>\n      <td>24.3</td>\n      <td>0.0</td>\n      <td>3.4</td>\n      <td>6.3</td>\n      <td>NW</td>\n      <td>30.0</td>\n      <td>SW</td>\n      <td>...</td>\n      <td>29</td>\n      <td>1019.7</td>\n      <td>1015.0</td>\n      <td>7</td>\n      <td>7</td>\n      <td>14.4</td>\n      <td>23.6</td>\n      <td>No</td>\n      <td>3.6</td>\n      <td>Yes</td>\n    </tr>\n    <tr>\n      <th>1</th>\n      <td>2007-11-02</td>\n      <td>Canberra</td>\n      <td>14.0</td>\n      <td>26.9</td>\n      <td>3.6</td>\n      <td>4.4</td>\n      <td>9.7</td>\n      <td>ENE</td>\n      <td>39.0</td>\n      <td>E</td>\n      <td>...</td>\n      <td>36</td>\n      <td>1012.4</td>\n      <td>1008.4</td>\n      <td>5</td>\n      <td>3</td>\n      <td>17.5</td>\n      <td>25.7</td>\n      <td>Yes</td>\n      <td>3.6</td>\n      <td>Yes</td>\n    </tr>\n    <tr>\n      <th>2</th>\n      <td>2007-11-03</td>\n      <td>Canberra</td>\n      <td>13.7</td>\n      <td>23.4</td>\n      <td>3.6</td>\n      <td>5.8</td>\n      <td>3.3</td>\n      <td>NW</td>\n      <td>85.0</td>\n      <td>N</td>\n      <td>...</td>\n      <td>69</td>\n      <td>1009.5</td>\n      <td>1007.2</td>\n      <td>8</td>\n      <td>7</td>\n      <td>15.4</td>\n      <td>20.2</td>\n      <td>Yes</td>\n      <td>39.8</td>\n      <td>Yes</td>\n    </tr>\n    <tr>\n      <th>3</th>\n      <td>2007-11-04</td>\n      <td>Canberra</td>\n      <td>13.3</td>\n      <td>15.5</td>\n      <td>39.8</td>\n      <td>7.2</td>\n      <td>9.1</td>\n      <td>NW</td>\n      <td>54.0</td>\n      <td>WNW</td>\n      <td>...</td>\n      <td>56</td>\n      <td>1005.5</td>\n      <td>1007.0</td>\n      <td>2</td>\n      <td>7</td>\n      <td>13.5</td>\n      <td>14.1</td>\n      <td>Yes</td>\n      <td>2.8</td>\n      <td>Yes</td>\n    </tr>\n    <tr>\n      <th>4</th>\n      <td>2007-11-05</td>\n      <td>Canberra</td>\n      <td>7.6</td>\n      <td>16.1</td>\n      <td>2.8</td>\n      <td>5.6</td>\n      <td>10.6</td>\n      <td>SSE</td>\n      <td>50.0</td>\n      <td>SSE</td>\n      <td>...</td>\n      <td>49</td>\n      <td>1018.3</td>\n      <td>1018.5</td>\n      <td>7</td>\n      <td>7</td>\n      <td>11.1</td>\n      <td>15.4</td>\n      <td>Yes</td>\n      <td>0.0</td>\n      <td>No</td>\n    </tr>\n    <tr>\n      <th>...</th>\n      <td>...</td>\n      <td>...</td>\n      <td>...</td>\n      <td>...</td>\n      <td>...</td>\n      <td>...</td>\n      <td>...</td>\n      <td>...</td>\n      <td>...</td>\n      <td>...</td>\n      <td>...</td>\n      <td>...</td>\n      <td>...</td>\n      <td>...</td>\n      <td>...</td>\n      <td>...</td>\n      <td>...</td>\n      <td>...</td>\n      <td>...</td>\n      <td>...</td>\n      <td>...</td>\n    </tr>\n    <tr>\n      <th>361</th>\n      <td>2008-10-27</td>\n      <td>Canberra</td>\n      <td>9.0</td>\n      <td>30.7</td>\n      <td>0.0</td>\n      <td>7.6</td>\n      <td>12.1</td>\n      <td>NNW</td>\n      <td>76.0</td>\n      <td>SSE</td>\n      <td>...</td>\n      <td>15</td>\n      <td>1016.1</td>\n      <td>1010.8</td>\n      <td>1</td>\n      <td>3</td>\n      <td>20.4</td>\n      <td>30.0</td>\n      <td>No</td>\n      <td>0.0</td>\n      <td>No</td>\n    </tr>\n    <tr>\n      <th>362</th>\n      <td>2008-10-28</td>\n      <td>Canberra</td>\n      <td>7.1</td>\n      <td>28.4</td>\n      <td>0.0</td>\n      <td>11.6</td>\n      <td>12.7</td>\n      <td>N</td>\n      <td>48.0</td>\n      <td>NNW</td>\n      <td>...</td>\n      <td>22</td>\n      <td>1020.0</td>\n      <td>1016.9</td>\n      <td>0</td>\n      <td>1</td>\n      <td>17.2</td>\n      <td>28.2</td>\n      <td>No</td>\n      <td>0.0</td>\n      <td>No</td>\n    </tr>\n    <tr>\n      <th>363</th>\n      <td>2008-10-29</td>\n      <td>Canberra</td>\n      <td>12.5</td>\n      <td>19.9</td>\n      <td>0.0</td>\n      <td>8.4</td>\n      <td>5.3</td>\n      <td>ESE</td>\n      <td>43.0</td>\n      <td>ENE</td>\n      <td>...</td>\n      <td>47</td>\n      <td>1024.0</td>\n      <td>1022.8</td>\n      <td>3</td>\n      <td>2</td>\n      <td>14.5</td>\n      <td>18.3</td>\n      <td>No</td>\n      <td>0.0</td>\n      <td>No</td>\n    </tr>\n    <tr>\n      <th>364</th>\n      <td>2008-10-30</td>\n      <td>Canberra</td>\n      <td>12.5</td>\n      <td>26.9</td>\n      <td>0.0</td>\n      <td>5.0</td>\n      <td>7.1</td>\n      <td>NW</td>\n      <td>46.0</td>\n      <td>SSW</td>\n      <td>...</td>\n      <td>39</td>\n      <td>1021.0</td>\n      <td>1016.2</td>\n      <td>6</td>\n      <td>7</td>\n      <td>15.8</td>\n      <td>25.9</td>\n      <td>No</td>\n      <td>0.0</td>\n      <td>No</td>\n    </tr>\n    <tr>\n      <th>365</th>\n      <td>2008-10-31</td>\n      <td>Canberra</td>\n      <td>12.3</td>\n      <td>30.2</td>\n      <td>0.0</td>\n      <td>6.0</td>\n      <td>12.6</td>\n      <td>NW</td>\n      <td>78.0</td>\n      <td>NW</td>\n      <td>...</td>\n      <td>13</td>\n      <td>1009.6</td>\n      <td>1009.2</td>\n      <td>1</td>\n      <td>1</td>\n      <td>23.8</td>\n      <td>28.6</td>\n      <td>No</td>\n      <td>0.0</td>\n      <td>No</td>\n    </tr>\n  </tbody>\n</table>\n<p>328 rows × 24 columns</p>\n</div>"
     },
     "execution_count": 2,
     "metadata": {},
     "output_type": "execute_result"
    }
   ],
   "source": [
    "weather = pd.read_csv(\"https://raw.githubusercontent.com/TheDarkTrumpet/BAIS-6040-0EXP-spr2021/master/data/weather.csv\").dropna()\n",
    "\n",
    "weather"
   ]
  },
  {
   "cell_type": "code",
   "execution_count": 3,
   "outputs": [
    {
     "data": {
      "text/plain": "     MinTemp  MaxTemp  Sunshine  Humidity3pm\n0        8.0     24.3       6.3           29\n1       14.0     26.9       9.7           36\n2       13.7     23.4       3.3           69\n3       13.3     15.5       9.1           56\n4        7.6     16.1      10.6           49\n..       ...      ...       ...          ...\n361      9.0     30.7      12.1           15\n362      7.1     28.4      12.7           22\n363     12.5     19.9       5.3           47\n364     12.5     26.9       7.1           39\n365     12.3     30.2      12.6           13\n\n[328 rows x 4 columns]",
      "text/html": "<div>\n<style scoped>\n    .dataframe tbody tr th:only-of-type {\n        vertical-align: middle;\n    }\n\n    .dataframe tbody tr th {\n        vertical-align: top;\n    }\n\n    .dataframe thead th {\n        text-align: right;\n    }\n</style>\n<table border=\"1\" class=\"dataframe\">\n  <thead>\n    <tr style=\"text-align: right;\">\n      <th></th>\n      <th>MinTemp</th>\n      <th>MaxTemp</th>\n      <th>Sunshine</th>\n      <th>Humidity3pm</th>\n    </tr>\n  </thead>\n  <tbody>\n    <tr>\n      <th>0</th>\n      <td>8.0</td>\n      <td>24.3</td>\n      <td>6.3</td>\n      <td>29</td>\n    </tr>\n    <tr>\n      <th>1</th>\n      <td>14.0</td>\n      <td>26.9</td>\n      <td>9.7</td>\n      <td>36</td>\n    </tr>\n    <tr>\n      <th>2</th>\n      <td>13.7</td>\n      <td>23.4</td>\n      <td>3.3</td>\n      <td>69</td>\n    </tr>\n    <tr>\n      <th>3</th>\n      <td>13.3</td>\n      <td>15.5</td>\n      <td>9.1</td>\n      <td>56</td>\n    </tr>\n    <tr>\n      <th>4</th>\n      <td>7.6</td>\n      <td>16.1</td>\n      <td>10.6</td>\n      <td>49</td>\n    </tr>\n    <tr>\n      <th>...</th>\n      <td>...</td>\n      <td>...</td>\n      <td>...</td>\n      <td>...</td>\n    </tr>\n    <tr>\n      <th>361</th>\n      <td>9.0</td>\n      <td>30.7</td>\n      <td>12.1</td>\n      <td>15</td>\n    </tr>\n    <tr>\n      <th>362</th>\n      <td>7.1</td>\n      <td>28.4</td>\n      <td>12.7</td>\n      <td>22</td>\n    </tr>\n    <tr>\n      <th>363</th>\n      <td>12.5</td>\n      <td>19.9</td>\n      <td>5.3</td>\n      <td>47</td>\n    </tr>\n    <tr>\n      <th>364</th>\n      <td>12.5</td>\n      <td>26.9</td>\n      <td>7.1</td>\n      <td>39</td>\n    </tr>\n    <tr>\n      <th>365</th>\n      <td>12.3</td>\n      <td>30.2</td>\n      <td>12.6</td>\n      <td>13</td>\n    </tr>\n  </tbody>\n</table>\n<p>328 rows × 4 columns</p>\n</div>"
     },
     "execution_count": 3,
     "metadata": {},
     "output_type": "execute_result"
    }
   ],
   "source": [
    "columns = [\"MinTemp\", \"MaxTemp\", \"Sunshine\", \"Humidity3pm\"]\n",
    "target = \"Rainfall\"\n",
    "\n",
    "X=weather[columns]\n",
    "y=weather[target]\n",
    "\n",
    "X"
   ],
   "metadata": {
    "collapsed": false,
    "pycharm": {
     "name": "#%%\n"
    }
   }
  },
  {
   "cell_type": "code",
   "execution_count": 4,
   "outputs": [
    {
     "data": {
      "text/plain": "0       0.0\n1       3.6\n2       3.6\n3      39.8\n4       2.8\n       ... \n361     0.0\n362     0.0\n363     0.0\n364     0.0\n365     0.0\nName: Rainfall, Length: 328, dtype: float64"
     },
     "execution_count": 4,
     "metadata": {},
     "output_type": "execute_result"
    }
   ],
   "source": [
    "y"
   ],
   "metadata": {
    "collapsed": false,
    "pycharm": {
     "name": "#%%\n"
    }
   }
  },
  {
   "cell_type": "code",
   "execution_count": 5,
   "outputs": [],
   "source": [
    "X_train, X_test, y_train, y_test = train_test_split(X, y, test_size=0.25, random_state=1)"
   ],
   "metadata": {
    "collapsed": false,
    "pycharm": {
     "name": "#%%\n"
    }
   }
  },
  {
   "cell_type": "markdown",
   "metadata": {
    "collapsed": false,
    "jupyter": {
     "outputs_hidden": false
    },
    "pycharm": {
     "name": "#%% md\n"
    }
   },
   "source": [
    "# Modeling with Linear Regression\n",
    "\n",
    "See the wikipedia article for how this works, but we're basically attempting to fit a line to our data set, with the minimum distance between the points.  A very popular starting algorithm in this space"
   ]
  },
  {
   "cell_type": "code",
   "execution_count": 6,
   "metadata": {
    "collapsed": false,
    "jupyter": {
     "outputs_hidden": false
    },
    "pycharm": {
     "name": "#%%\n"
    }
   },
   "outputs": [
    {
     "data": {
      "text/plain": "LinearRegression()"
     },
     "execution_count": 6,
     "metadata": {},
     "output_type": "execute_result"
    }
   ],
   "source": [
    "lr = LinearRegression()\n",
    "lr"
   ]
  },
  {
   "cell_type": "code",
   "execution_count": 7,
   "metadata": {
    "collapsed": false,
    "jupyter": {
     "outputs_hidden": false
    },
    "pycharm": {
     "name": "#%%\n"
    }
   },
   "outputs": [
    {
     "data": {
      "text/plain": "LinearRegression()"
     },
     "execution_count": 7,
     "metadata": {},
     "output_type": "execute_result"
    }
   ],
   "source": [
    "lr.fit(X_train, y_train)"
   ]
  },
  {
   "cell_type": "code",
   "execution_count": 8,
   "metadata": {
    "collapsed": false,
    "jupyter": {
     "outputs_hidden": false
    },
    "pycharm": {
     "name": "#%%\n"
    }
   },
   "outputs": [
    {
     "data": {
      "text/plain": "0.1585020526818326"
     },
     "execution_count": 8,
     "metadata": {},
     "output_type": "execute_result"
    }
   ],
   "source": [
    "lr.score(X_train, y_train)  # What's our score with the training data set?"
   ]
  },
  {
   "cell_type": "code",
   "execution_count": 9,
   "metadata": {
    "collapsed": false,
    "jupyter": {
     "outputs_hidden": false
    },
    "pycharm": {
     "name": "#%%\n"
    }
   },
   "outputs": [
    {
     "data": {
      "text/plain": "0.22861720735022106"
     },
     "execution_count": 9,
     "metadata": {},
     "output_type": "execute_result"
    }
   ],
   "source": [
    "lr.score(X_test, y_test)    # What's our score with the test data set?"
   ]
  },
  {
   "cell_type": "markdown",
   "metadata": {
    "pycharm": {
     "name": "#%% md\n"
    }
   },
   "source": [
    "## LR Metrics"
   ]
  },
  {
   "cell_type": "code",
   "execution_count": 10,
   "metadata": {
    "collapsed": false,
    "jupyter": {
     "outputs_hidden": false
    },
    "pycharm": {
     "name": "#%%\n"
    }
   },
   "outputs": [],
   "source": [
    "import math\n",
    "from sklearn.metrics import explained_variance_score, mean_absolute_error, r2_score, mean_squared_error\n",
    "\n",
    "def printMetrics(test, predictions):\n",
    "    print(f\"Score: {explained_variance_score(test, predictions):.2f}\")\n",
    "    print(f\"MAE: {mean_absolute_error(test, predictions):.2f}\")\n",
    "    print(f\"RMSE: {math.sqrt(mean_squared_error(test, predictions)):.2f}\")\n",
    "    print(f\"r2: {r2_score(test, predictions):.2f}\")"
   ]
  },
  {
   "cell_type": "code",
   "execution_count": 11,
   "metadata": {
    "collapsed": false,
    "jupyter": {
     "outputs_hidden": false
    },
    "pycharm": {
     "name": "#%%\n"
    }
   },
   "outputs": [
    {
     "name": "stdout",
     "output_type": "stream",
     "text": [
      "Score: 0.23\n",
      "MAE: 1.74\n",
      "RMSE: 3.03\n",
      "r2: 0.23\n"
     ]
    }
   ],
   "source": [
    "predictions = lr.predict(X_test)\n",
    "printMetrics(y_test, predictions)"
   ]
  },
  {
   "cell_type": "markdown",
   "metadata": {
    "pycharm": {
     "name": "#%% md\n"
    }
   },
   "source": [
    "## Predict some new samples\n",
    "\n",
    "Let's define a few new samples.  You can do this as a list, and pass that in, or as a DataFrame.  We'll do it via a DataFrame only, but will randomly generate our sample people."
   ]
  },
  {
   "cell_type": "code",
   "execution_count": 12,
   "metadata": {
    "collapsed": false,
    "jupyter": {
     "outputs_hidden": false
    },
    "pycharm": {
     "name": "#%%\n"
    }
   },
   "outputs": [],
   "source": [
    "import random as rnd\n",
    "rnd.seed(1024)"
   ]
  },
  {
   "cell_type": "code",
   "execution_count": 13,
   "metadata": {
    "collapsed": false,
    "jupyter": {
     "outputs_hidden": false
    },
    "pycharm": {
     "name": "#%%\n"
    }
   },
   "outputs": [
    {
     "data": {
      "text/plain": "[{'MinTemp': 0, 'MaxTemp': 30, 'Sunshine': 13, 'Humidity3pm': 49},\n {'MinTemp': 10, 'MaxTemp': 33, 'Sunshine': 1, 'Humidity3pm': 56},\n {'MinTemp': 16, 'MaxTemp': 23, 'Sunshine': 12, 'Humidity3pm': 92}]"
     },
     "execution_count": 13,
     "metadata": {},
     "output_type": "execute_result"
    }
   ],
   "source": [
    "numElements = 3\n",
    "sampleWeather = []\n",
    "for _ in range(numElements):\n",
    "    dict = {}\n",
    "    for column in X.columns:\n",
    "        min = 0  # We'll always allow at lea\n",
    "        maxValue = round(max(weather[column].values))\n",
    "        dict[column] = rnd.randint(min, maxValue)\n",
    "    sampleWeather.append(dict)\n",
    "sampleWeather"
   ]
  },
  {
   "cell_type": "code",
   "execution_count": 14,
   "metadata": {
    "collapsed": false,
    "jupyter": {
     "outputs_hidden": false
    },
    "pycharm": {
     "name": "#%%\n"
    }
   },
   "outputs": [
    {
     "data": {
      "text/plain": "   MinTemp  MaxTemp  Sunshine  Humidity3pm\n0        0       30        13           49\n1       10       33         1           56\n2       16       23        12           92",
      "text/html": "<div>\n<style scoped>\n    .dataframe tbody tr th:only-of-type {\n        vertical-align: middle;\n    }\n\n    .dataframe tbody tr th {\n        vertical-align: top;\n    }\n\n    .dataframe thead th {\n        text-align: right;\n    }\n</style>\n<table border=\"1\" class=\"dataframe\">\n  <thead>\n    <tr style=\"text-align: right;\">\n      <th></th>\n      <th>MinTemp</th>\n      <th>MaxTemp</th>\n      <th>Sunshine</th>\n      <th>Humidity3pm</th>\n    </tr>\n  </thead>\n  <tbody>\n    <tr>\n      <th>0</th>\n      <td>0</td>\n      <td>30</td>\n      <td>13</td>\n      <td>49</td>\n    </tr>\n    <tr>\n      <th>1</th>\n      <td>10</td>\n      <td>33</td>\n      <td>1</td>\n      <td>56</td>\n    </tr>\n    <tr>\n      <th>2</th>\n      <td>16</td>\n      <td>23</td>\n      <td>12</td>\n      <td>92</td>\n    </tr>\n  </tbody>\n</table>\n</div>"
     },
     "execution_count": 14,
     "metadata": {},
     "output_type": "execute_result"
    }
   ],
   "source": [
    "pdSampleWeather = pd.DataFrame.from_dict(sampleWeather)\n",
    "pdSampleWeather"
   ]
  },
  {
   "cell_type": "code",
   "execution_count": 15,
   "metadata": {
    "collapsed": false,
    "jupyter": {
     "outputs_hidden": false
    },
    "pycharm": {
     "name": "#%%\n"
    }
   },
   "outputs": [
    {
     "data": {
      "text/plain": "array([-2.07033737, -2.26829449,  8.25422513])"
     },
     "execution_count": 15,
     "metadata": {},
     "output_type": "execute_result"
    }
   ],
   "source": [
    "predictions = lr.predict(pdSampleWeather)\n",
    "predictions"
   ]
  },
  {
   "cell_type": "code",
   "execution_count": 16,
   "metadata": {
    "collapsed": false,
    "jupyter": {
     "outputs_hidden": false
    },
    "pycharm": {
     "name": "#%%\n"
    }
   },
   "outputs": [
    {
     "data": {
      "text/plain": "   MinTemp  MaxTemp  Sunshine  Humidity3pm  Predicted\n0        0       30        13           49  -2.070337\n1       10       33         1           56  -2.268294\n2       16       23        12           92   8.254225",
      "text/html": "<div>\n<style scoped>\n    .dataframe tbody tr th:only-of-type {\n        vertical-align: middle;\n    }\n\n    .dataframe tbody tr th {\n        vertical-align: top;\n    }\n\n    .dataframe thead th {\n        text-align: right;\n    }\n</style>\n<table border=\"1\" class=\"dataframe\">\n  <thead>\n    <tr style=\"text-align: right;\">\n      <th></th>\n      <th>MinTemp</th>\n      <th>MaxTemp</th>\n      <th>Sunshine</th>\n      <th>Humidity3pm</th>\n      <th>Predicted</th>\n    </tr>\n  </thead>\n  <tbody>\n    <tr>\n      <th>0</th>\n      <td>0</td>\n      <td>30</td>\n      <td>13</td>\n      <td>49</td>\n      <td>-2.070337</td>\n    </tr>\n    <tr>\n      <th>1</th>\n      <td>10</td>\n      <td>33</td>\n      <td>1</td>\n      <td>56</td>\n      <td>-2.268294</td>\n    </tr>\n    <tr>\n      <th>2</th>\n      <td>16</td>\n      <td>23</td>\n      <td>12</td>\n      <td>92</td>\n      <td>8.254225</td>\n    </tr>\n  </tbody>\n</table>\n</div>"
     },
     "execution_count": 16,
     "metadata": {},
     "output_type": "execute_result"
    }
   ],
   "source": [
    "pdPredictedWeather = pdSampleWeather.copy()\n",
    "pdPredictedWeather['Predicted'] = predictions\n",
    "pdPredictedWeather"
   ]
  },
  {
   "cell_type": "markdown",
   "metadata": {
    "pycharm": {
     "name": "#%% md\n"
    }
   },
   "source": [
    "## Regression Modeling with Ridge"
   ]
  },
  {
   "cell_type": "code",
   "execution_count": 17,
   "metadata": {
    "collapsed": false,
    "jupyter": {
     "outputs_hidden": false
    },
    "pycharm": {
     "name": "#%%\n"
    }
   },
   "outputs": [
    {
     "data": {
      "text/plain": "Ridge(solver='svd')"
     },
     "execution_count": 17,
     "metadata": {},
     "output_type": "execute_result"
    }
   ],
   "source": [
    "rr = Ridge(solver=\"svd\")\n",
    "rr"
   ]
  },
  {
   "cell_type": "code",
   "execution_count": 18,
   "metadata": {
    "collapsed": false,
    "jupyter": {
     "outputs_hidden": false
    },
    "pycharm": {
     "name": "#%%\n"
    }
   },
   "outputs": [
    {
     "data": {
      "text/plain": "Ridge(solver='svd')"
     },
     "execution_count": 18,
     "metadata": {},
     "output_type": "execute_result"
    }
   ],
   "source": [
    "rr.fit(X_train, y_train)"
   ]
  },
  {
   "cell_type": "code",
   "execution_count": 19,
   "metadata": {
    "collapsed": false,
    "jupyter": {
     "outputs_hidden": false
    },
    "pycharm": {
     "name": "#%%\n"
    }
   },
   "outputs": [
    {
     "data": {
      "text/plain": "0.15850199803975518"
     },
     "execution_count": 19,
     "metadata": {},
     "output_type": "execute_result"
    }
   ],
   "source": [
    "rr.score(X_train, y_train)"
   ]
  },
  {
   "cell_type": "code",
   "execution_count": 20,
   "metadata": {
    "collapsed": false,
    "jupyter": {
     "outputs_hidden": false
    },
    "pycharm": {
     "name": "#%%\n"
    }
   },
   "outputs": [
    {
     "data": {
      "text/plain": "0.2286000266839302"
     },
     "execution_count": 20,
     "metadata": {},
     "output_type": "execute_result"
    }
   ],
   "source": [
    "rr.score(X_test, y_test)"
   ]
  },
  {
   "cell_type": "code",
   "execution_count": 21,
   "metadata": {
    "collapsed": false,
    "jupyter": {
     "outputs_hidden": false
    },
    "pycharm": {
     "name": "#%%\n"
    }
   },
   "outputs": [
    {
     "name": "stdout",
     "output_type": "stream",
     "text": [
      "Score: 0.23\n",
      "MAE: 1.74\n",
      "RMSE: 3.03\n",
      "r2: 0.23\n"
     ]
    }
   ],
   "source": [
    "predictions = rr.predict(X_test)\n",
    "printMetrics(y_test, predictions)"
   ]
  },
  {
   "cell_type": "code",
   "execution_count": 22,
   "metadata": {
    "collapsed": false,
    "jupyter": {
     "outputs_hidden": false
    },
    "pycharm": {
     "name": "#%%\n"
    }
   },
   "outputs": [
    {
     "data": {
      "text/plain": "   MinTemp  MaxTemp  Sunshine  Humidity3pm\n0        0       30        13           49\n1       10       33         1           56\n2       16       23        12           92",
      "text/html": "<div>\n<style scoped>\n    .dataframe tbody tr th:only-of-type {\n        vertical-align: middle;\n    }\n\n    .dataframe tbody tr th {\n        vertical-align: top;\n    }\n\n    .dataframe thead th {\n        text-align: right;\n    }\n</style>\n<table border=\"1\" class=\"dataframe\">\n  <thead>\n    <tr style=\"text-align: right;\">\n      <th></th>\n      <th>MinTemp</th>\n      <th>MaxTemp</th>\n      <th>Sunshine</th>\n      <th>Humidity3pm</th>\n    </tr>\n  </thead>\n  <tbody>\n    <tr>\n      <th>0</th>\n      <td>0</td>\n      <td>30</td>\n      <td>13</td>\n      <td>49</td>\n    </tr>\n    <tr>\n      <th>1</th>\n      <td>10</td>\n      <td>33</td>\n      <td>1</td>\n      <td>56</td>\n    </tr>\n    <tr>\n      <th>2</th>\n      <td>16</td>\n      <td>23</td>\n      <td>12</td>\n      <td>92</td>\n    </tr>\n  </tbody>\n</table>\n</div>"
     },
     "execution_count": 22,
     "metadata": {},
     "output_type": "execute_result"
    }
   ],
   "source": [
    "pdSampleWeather"
   ]
  },
  {
   "cell_type": "code",
   "execution_count": 23,
   "outputs": [
    {
     "data": {
      "text/plain": "array([-2.06679002, -2.26305673,  8.25172236])"
     },
     "execution_count": 23,
     "metadata": {},
     "output_type": "execute_result"
    }
   ],
   "source": [
    "predictions = rr.predict(pdSampleWeather)\n",
    "predictions"
   ],
   "metadata": {
    "collapsed": false,
    "pycharm": {
     "name": "#%%\n"
    }
   }
  },
  {
   "cell_type": "code",
   "execution_count": 24,
   "outputs": [
    {
     "data": {
      "text/plain": "   MinTemp  MaxTemp  Sunshine  Humidity3pm  Predicted\n0        0       30        13           49  -2.066790\n1       10       33         1           56  -2.263057\n2       16       23        12           92   8.251722",
      "text/html": "<div>\n<style scoped>\n    .dataframe tbody tr th:only-of-type {\n        vertical-align: middle;\n    }\n\n    .dataframe tbody tr th {\n        vertical-align: top;\n    }\n\n    .dataframe thead th {\n        text-align: right;\n    }\n</style>\n<table border=\"1\" class=\"dataframe\">\n  <thead>\n    <tr style=\"text-align: right;\">\n      <th></th>\n      <th>MinTemp</th>\n      <th>MaxTemp</th>\n      <th>Sunshine</th>\n      <th>Humidity3pm</th>\n      <th>Predicted</th>\n    </tr>\n  </thead>\n  <tbody>\n    <tr>\n      <th>0</th>\n      <td>0</td>\n      <td>30</td>\n      <td>13</td>\n      <td>49</td>\n      <td>-2.066790</td>\n    </tr>\n    <tr>\n      <th>1</th>\n      <td>10</td>\n      <td>33</td>\n      <td>1</td>\n      <td>56</td>\n      <td>-2.263057</td>\n    </tr>\n    <tr>\n      <th>2</th>\n      <td>16</td>\n      <td>23</td>\n      <td>12</td>\n      <td>92</td>\n      <td>8.251722</td>\n    </tr>\n  </tbody>\n</table>\n</div>"
     },
     "execution_count": 24,
     "metadata": {},
     "output_type": "execute_result"
    }
   ],
   "source": [
    "pdPredictedWeather = pdSampleWeather.copy()\n",
    "pdPredictedWeather['Predicted'] = predictions\n",
    "pdPredictedWeather\n"
   ],
   "metadata": {
    "collapsed": false,
    "pycharm": {
     "name": "#%%\n"
    }
   }
  }
 ],
 "metadata": {
  "kernelspec": {
   "display_name": "Python 3",
   "language": "python",
   "name": "python3"
  },
  "language_info": {
   "codemirror_mode": {
    "name": "ipython",
    "version": 3
   },
   "file_extension": ".py",
   "mimetype": "text/x-python",
   "name": "python",
   "nbconvert_exporter": "python",
   "pygments_lexer": "ipython3",
   "version": "3.8.5"
  }
 },
 "nbformat": 4,
 "nbformat_minor": 4
}