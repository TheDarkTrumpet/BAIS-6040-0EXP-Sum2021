{
 "cells": [
  {
   "cell_type": "markdown",
   "metadata": {
    "collapsed": true,
    "pycharm": {
     "name": "#%% md\n"
    }
   },
   "source": [
    "# Midterm\n",
    "\n",
    "## Purpose\n",
    "\n",
    "This midterm attempts to touch on a little bit of everything we covered in this course up to this point.  We won't be including Pandas in this midterm, and required knowledge is up through and including NumPy.\n",
    "\n",
    "There will be 5 main sections of this.  We'll go over types into lists, then sets, then into dictionaries functions, then NumPy.\n",
    "\n",
    "Some sections tie to other sections, so it's recommended you work on this top down.  I do recommend reading through everything, studying the output, and come up with a \"game plan\" before you get started.  Try to avoid the urge of starting to code right away, and give yourself plenty of time to figure out the strategy.  The actual coding of this shouldn't take too long.\n",
    "\n",
    "Readability will count.  Remember that too much in one cell can cause readability issues and can cause difficulty in tracing code.  Like statements in one cell is fine, just avoid putting too much."
   ]
  },
  {
   "cell_type": "code",
   "execution_count": 1,
   "outputs": [],
   "source": [
    "import random as rnd\n",
    "import numpy as np\n",
    "\n",
    "rnd.seed(78223)\n",
    "np.random.seed(83433)"
   ],
   "metadata": {
    "collapsed": false,
    "pycharm": {
     "name": "#%%\n"
    }
   }
  },
  {
   "cell_type": "code",
   "execution_count": 2,
   "outputs": [],
   "source": [
    "# Helper functions go in a block near the top"
   ],
   "metadata": {
    "collapsed": false,
    "pycharm": {
     "name": "#%%\n"
    }
   }
  },
  {
   "cell_type": "markdown",
   "source": [
    "# Part 1 - Types\n",
    "\n",
    "In this section, please create 4 different lists, each with 10 elements.  Below are the types, and formats/ranges\n",
    "\n",
    "| Type  | Length | Range/Format |\n",
    "|-------|--------|--------------|\n",
    "| integer | 10 elements | 3-12  |\n",
    "| float   | 10 elements | 0-1.0 (0.01, 0.02, 0.1,...0.55,..., 1.0) |\n",
    "| Boolean | 10 elements | True/False  |\n",
    "| String  | 10 elements | format: \"number (X)\", 1 < X < 10, keep the parentheses |\n",
    "\n",
    "You can use For, While, or List Comprehension.  Do not use sample.\n",
    "\n",
    "Print the name of the variable, the type of the collection, and the elements contained - for each of the 4 variables we created above."
   ],
   "metadata": {
    "collapsed": false,
    "pycharm": {
     "name": "#%% md\n"
    }
   }
  },
  {
   "cell_type": "code",
   "execution_count": 3,
   "outputs": [
    {
     "name": "stdout",
     "output_type": "stream",
     "text": [
      "XXXXX is of type: <class 'list'>, and elements are: [12, 6, 11, 12, 8, 6, 4, 11, 3, 3]\n"
     ]
    }
   ],
   "source": [
    "randomIntegerList = [rnd.randint(3, 12) for _ in range(10)]\n",
    "print(f\"XXXXX is of type: {type(randomIntegerList)}, and elements are: {randomIntegerList}\")"
   ],
   "metadata": {
    "collapsed": false,
    "pycharm": {
     "name": "#%%\n"
    }
   }
  },
  {
   "cell_type": "code",
   "execution_count": 4,
   "outputs": [
    {
     "name": "stdout",
     "output_type": "stream",
     "text": [
      "YYYYY is of type: <class 'list'>, and elements are: [0.7, 0.37, 0.23, 0.41, 0.51, 0.25, 0.29, 0.42, 0.36, 1.0]\n"
     ]
    }
   ],
   "source": [
    "randomFloatList = [rnd.randint(0, 100)/100 for _ in range(10)]\n",
    "print(f\"YYYYY is of type: {type(randomFloatList)}, and elements are: {randomFloatList}\")"
   ],
   "metadata": {
    "collapsed": false,
    "pycharm": {
     "name": "#%%\n"
    }
   }
  },
  {
   "cell_type": "code",
   "execution_count": 5,
   "outputs": [
    {
     "name": "stdout",
     "output_type": "stream",
     "text": [
      "ZZZZ is of type: <class 'list'>, and elements are: [False, False, True, False, False, False, True, False, False, True]\n"
     ]
    }
   ],
   "source": [
    "randomBoolList = [bool(rnd.randint(0, 1)) for _ in range(10)]\n",
    "print(f\"ZZZZ is of type: {type(randomBoolList)}, and elements are: {randomBoolList}\")"
   ],
   "metadata": {
    "collapsed": false,
    "pycharm": {
     "name": "#%%\n"
    }
   }
  },
  {
   "cell_type": "code",
   "execution_count": 6,
   "outputs": [
    {
     "name": "stdout",
     "output_type": "stream",
     "text": [
      "VVVVV is of type: <class 'list'>, and elements are: ['number (1)', 'number (2)', 'number (3)', 'number (4)', 'number (5)', 'number (6)', 'number (7)', 'number (8)', 'number (9)', 'number (10)']\n"
     ]
    }
   ],
   "source": [
    "randomStringList = [f\"number ({x})\" for x in range(1, 11)]\n",
    "print(f\"VVVVV is of type: {type(randomStringList)}, and elements are: {randomStringList}\")"
   ],
   "metadata": {
    "collapsed": false,
    "pycharm": {
     "name": "#%%\n"
    }
   }
  },
  {
   "cell_type": "markdown",
   "source": [
    "# Part 2 - Sets\n",
    "\n",
    "In this section, please take the variables from part 1, and convert them to sets.  For each one, print out the variable, the type of collection, and the elements contained."
   ],
   "metadata": {
    "collapsed": false
   }
  },
  {
   "cell_type": "code",
   "execution_count": 7,
   "outputs": [
    {
     "name": "stdout",
     "output_type": "stream",
     "text": [
      "XXXXX is of type: <class 'set'>, and elements are: {3, 4, 6, 8, 11, 12}\n"
     ]
    }
   ],
   "source": [
    "randomIntegerSet = set(randomIntegerList)\n",
    "print(f\"XXXXX is of type: {type(randomIntegerSet)}, and elements are: {randomIntegerSet}\")"
   ],
   "metadata": {
    "collapsed": false,
    "pycharm": {
     "name": "#%%\n"
    }
   }
  },
  {
   "cell_type": "code",
   "execution_count": 8,
   "outputs": [
    {
     "name": "stdout",
     "output_type": "stream",
     "text": [
      "YYYYY is of type: <class 'set'>, and elements are: {0.7, 0.37, 0.51, 0.23, 0.41, 0.25, 0.29, 0.42, 0.36, 1.0}\n"
     ]
    }
   ],
   "source": [
    "randomFloatSet = set(randomFloatList)\n",
    "print(f\"YYYYY is of type: {type(randomFloatSet)}, and elements are: {randomFloatSet}\")"
   ],
   "metadata": {
    "collapsed": false,
    "pycharm": {
     "name": "#%%\n"
    }
   }
  },
  {
   "cell_type": "code",
   "execution_count": 9,
   "outputs": [
    {
     "name": "stdout",
     "output_type": "stream",
     "text": [
      "ZZZZZ is of type: <class 'set'>, and elements are: {False, True}\n"
     ]
    }
   ],
   "source": [
    "randomBoolSet = set(randomBoolList)\n",
    "print(f\"ZZZZZ is of type: {type(randomBoolSet)}, and elements are: {randomBoolSet}\")"
   ],
   "metadata": {
    "collapsed": false,
    "pycharm": {
     "name": "#%%\n"
    }
   }
  },
  {
   "cell_type": "code",
   "execution_count": 10,
   "outputs": [
    {
     "name": "stdout",
     "output_type": "stream",
     "text": [
      "VVVVV is of type: <class 'set'>, and elements are: {'number (10)', 'number (9)', 'number (3)', 'number (8)', 'number (6)', 'number (4)', 'number (7)', 'number (5)', 'number (1)', 'number (2)'}\n"
     ]
    }
   ],
   "source": [
    "randomStringSet = set(randomStringList)\n",
    "print(f\"VVVVV is of type: {type(randomStringSet)}, and elements are: {randomStringSet}\")"
   ],
   "metadata": {
    "collapsed": false,
    "pycharm": {
     "name": "#%%\n"
    }
   }
  },
  {
   "cell_type": "markdown",
   "source": [
    "# Part 3 - Dictionaries\n",
    "\n",
    "In this section, please create a dictionary that has 4 keys.  One key for each of the variables in part 2.  The values should be the corresponding values of those variables in part 2.\n",
    "\n",
    "After that, please create a loop that will iterate over the dictionary and prints the key, then the value elements.  There are many ways to approach this problem.  Please read through the following site (since we haven't covered iteration over a dictionary), and evaluate for yourself which makes the most sense to you and implementat that one.\n",
    "\n",
    "https://realpython.com/iterate-through-dictionary-python/\n",
    "\n",
    "After the implementation, please create a markdown cell and explain your choice."
   ],
   "metadata": {
    "collapsed": false,
    "pycharm": {
     "name": "#%% md\n"
    }
   }
  },
  {
   "cell_type": "code",
   "execution_count": 11,
   "outputs": [
    {
     "data": {
      "text/plain": "{'XXXXX': {3, 4, 6, 8, 11, 12},\n 'YYYYY': {0.23, 0.25, 0.29, 0.36, 0.37, 0.41, 0.42, 0.51, 0.7, 1.0},\n 'ZZZZZ': {False, True},\n 'VVVVV': {'number (1)',\n  'number (10)',\n  'number (2)',\n  'number (3)',\n  'number (4)',\n  'number (5)',\n  'number (6)',\n  'number (7)',\n  'number (8)',\n  'number (9)'}}"
     },
     "execution_count": 11,
     "metadata": {},
     "output_type": "execute_result"
    }
   ],
   "source": [
    "allElements = {\n",
    "    \"XXXXX\": randomIntegerSet,\n",
    "    \"YYYYY\": randomFloatSet,\n",
    "    \"ZZZZZ\": randomBoolSet,\n",
    "    \"VVVVV\": randomStringSet\n",
    "}\n",
    "allElements"
   ],
   "metadata": {
    "collapsed": false,
    "pycharm": {
     "name": "#%%\n"
    }
   }
  },
  {
   "cell_type": "code",
   "execution_count": 12,
   "outputs": [
    {
     "name": "stdout",
     "output_type": "stream",
     "text": [
      "Key: XXXXX, Values: {3, 4, 6, 8, 11, 12}\n",
      "Key: YYYYY, Values: {0.7, 0.37, 0.51, 0.23, 0.41, 0.25, 0.29, 0.42, 0.36, 1.0}\n",
      "Key: ZZZZZ, Values: {False, True}\n",
      "Key: VVVVV, Values: {'number (10)', 'number (9)', 'number (3)', 'number (8)', 'number (6)', 'number (4)', 'number (7)', 'number (5)', 'number (1)', 'number (2)'}\n"
     ]
    }
   ],
   "source": [
    "for key, values in allElements.items():\n",
    "    print(f\"Key: {key}, Values: {values}\")"
   ],
   "metadata": {
    "collapsed": false,
    "pycharm": {
     "name": "#%%\n"
    }
   }
  },
  {
   "cell_type": "markdown",
   "source": [
    "# Part 4 - Functions\n",
    "\n",
    "In the previous sections, part 1-3, we have a lot of duplicated code.  In this section, we'll resolve one of those issues - and that being the print and format of the statement.\n",
    "\n",
    "In this section, please write a function that takes a collection (List, Set, Tuple, Dictionary), and prints out the following information about it:\n",
    "\n",
    "* Object Type - List, Set, Tuple, etc.\n",
    "* Up to 5 elements of the collection.\n",
    "\n",
    "This is a bit more tricky than it'll appear at first.  But, I caution you not to overthink this problem too much.  So you don't need to use \"enumerate\" (which would allow us to iterate over a list.  Think simply about it.  A list can be iterated, what can we do about a set?  Dictionary is another special case, but conceptually that was done in part 3.  So what's left is the ability to check the types and deal with them appropriately.\n",
    "\n",
    "One hint I will give, outside that, is you only need an if statement with two parts (if, else).\n",
    "\n",
    "Another hint I'll give is that your function may end up fairly large if not careful.  You can break up a function into multiple functions, and have that main function call the other functions, if desired.  Consider the readability in all this.\n",
    "\n",
    "Test your function with a few types to prove it works."
   ],
   "metadata": {
    "collapsed": false,
    "pycharm": {
     "name": "#%% md\n"
    }
   }
  },
  {
   "cell_type": "code",
   "execution_count": 13,
   "outputs": [],
   "source": [
    "def printDictionary(dictionary):\n",
    "    \"\"\"Given a dictionary as input, print out the key, and up to 5 values\"\"\"\n",
    "    print(f\"Type: {type(dictionary)}\")\n",
    "    for key, values in dictionary.items():\n",
    "        upToFiveElements = list(values)[0:5]\n",
    "        print(f\"Key: {key}, {len(upToFiveElements)} values (of {len(values)}): {upToFiveElements}\")\n",
    "\n",
    "def printGeneral(collection):\n",
    "    \"\"\"Given a non-dictionary type, print out the type, and up to 5 values\"\"\"\n",
    "    castedCollection = list(collection)[0:5]\n",
    "    print(f\"Type: {type(collection)}\")\n",
    "    print(f\"{len(castedCollection)} elements (of {len(collection)}): {list(castedCollection)}\")\n",
    "\n",
    "def printCollection(collection):\n",
    "    \"\"\"Generalized print function, main entry point. Accepts all collection types\"\"\"\n",
    "    if type(collection) is dict:\n",
    "        printDictionary(collection)\n",
    "    else:\n",
    "        printGeneral(collection)"
   ],
   "metadata": {
    "collapsed": false,
    "pycharm": {
     "name": "#%%\n"
    }
   }
  },
  {
   "cell_type": "code",
   "execution_count": 14,
   "outputs": [
    {
     "name": "stdout",
     "output_type": "stream",
     "text": [
      "Type: <class 'dict'>\n",
      "Key: XXXXX, 5 values (of 6): [3, 4, 6, 8, 11]\n",
      "Key: YYYYY, 5 values (of 10): [0.7, 0.37, 0.51, 0.23, 0.41]\n",
      "Key: ZZZZZ, 2 values (of 2): [False, True]\n",
      "Key: VVVVV, 5 values (of 10): ['number (10)', 'number (9)', 'number (3)', 'number (8)', 'number (6)']\n"
     ]
    }
   ],
   "source": [
    "printCollection(allElements)"
   ],
   "metadata": {
    "collapsed": false,
    "pycharm": {
     "name": "#%%\n"
    }
   }
  },
  {
   "cell_type": "code",
   "execution_count": 15,
   "outputs": [
    {
     "name": "stdout",
     "output_type": "stream",
     "text": [
      "Type: <class 'list'>\n",
      "5 elements (of 10): [12, 6, 11, 12, 8]\n"
     ]
    }
   ],
   "source": [
    "printCollection(randomIntegerList)"
   ],
   "metadata": {
    "collapsed": false,
    "pycharm": {
     "name": "#%%\n"
    }
   }
  },
  {
   "cell_type": "code",
   "execution_count": 16,
   "outputs": [
    {
     "name": "stdout",
     "output_type": "stream",
     "text": [
      "Type: <class 'set'>\n",
      "5 elements (of 6): [3, 4, 6, 8, 11]\n"
     ]
    }
   ],
   "source": [
    "printCollection(randomIntegerSet)"
   ],
   "metadata": {
    "collapsed": false,
    "pycharm": {
     "name": "#%%\n"
    }
   }
  },
  {
   "cell_type": "markdown",
   "source": [
    "# Part 5 - NumPy"
   ],
   "metadata": {
    "collapsed": false,
    "pycharm": {
     "name": "#%% md\n"
    }
   }
  }
 ],
 "metadata": {
  "kernelspec": {
   "display_name": "Python 3",
   "language": "python",
   "name": "python3"
  },
  "language_info": {
   "codemirror_mode": {
    "name": "ipython",
    "version": 2
   },
   "file_extension": ".py",
   "mimetype": "text/x-python",
   "name": "python",
   "nbconvert_exporter": "python",
   "pygments_lexer": "ipython2",
   "version": "2.7.6"
  }
 },
 "nbformat": 4,
 "nbformat_minor": 0
}