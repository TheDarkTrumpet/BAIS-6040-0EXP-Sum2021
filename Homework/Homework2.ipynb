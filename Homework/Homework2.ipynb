{
 "cells": [
  {
   "cell_type": "markdown",
   "metadata": {
    "collapsed": true,
    "pycharm": {
     "name": "#%% md\n"
    }
   },
   "source": [
    "# Homework2.todo.ipynb\n",
    "\n",
    "# Purpose\n",
    "\n",
    "This homework is designed to expand on the types we talked about in module 1, and start working with loops.  Please be sure to watch the Homework video if questions on the requirements come up.\n",
    "\n",
    "Do note that we're going to start with a bit less hand holding this homework.  Meaning, you should spend some time thinking about what the output I'm providing is telling you, and plan accordingly.  We'll also start working with algorithms.\n",
    "\n",
    "# Required Hand-in\n",
    "One notebook will be required to be handed in. It must be in a Jupyter notebook format. At the very minimum, you should use Anaconda and Jupyter Lab (or notebook). You're more than welcome to use other solutions, as long as you can maintain it (such as Azure Data Studio, PyCharm, etc.)"
   ]
  },
  {
   "cell_type": "markdown",
   "source": [
    "# Step 1 Generating Random Numbers\n",
    "\n",
    "In this module, we showed a few ways to generate random numbers.  Please pick 2 options, out of what was provided, and generate 20 random numbers between 25 and 48.  I'm providing the import, and the seed for you this time.  For each one done, print out the contents as well as the length."
   ],
   "metadata": {
    "collapsed": false,
    "pycharm": {
     "name": "#%% md\n"
    }
   }
  },
  {
   "cell_type": "code",
   "execution_count": 5,
   "outputs": [],
   "source": [
    "import random as rnd\n",
    "rnd.seed(1024)"
   ],
   "metadata": {
    "collapsed": false,
    "pycharm": {
     "name": "#%%\n"
    }
   }
  },
  {
   "cell_type": "code",
   "execution_count": 6,
   "outputs": [
    {
     "name": "stdout",
     "output_type": "stream",
     "text": [
      "Length of randomList: 20, contents: [25, 40, 37, 35, 41, 28, 39, 41, 36, 48, 47, 36, 37, 28, 47, 48, 29, 37, 28, 38]\n"
     ]
    }
   ],
   "source": [
    "randomList = [rnd.randint(25, 48) for _ in range(20)]\n",
    "print(f\"Length of randomList: {len(randomList)}, contents: {randomList}\")"
   ],
   "metadata": {
    "collapsed": false,
    "pycharm": {
     "name": "#%%\n"
    }
   }
  },
  {
   "cell_type": "code",
   "execution_count": 7,
   "outputs": [
    {
     "name": "stdout",
     "output_type": "stream",
     "text": [
      "Length of randomList: 20, contents: [29, 38, 40, 39, 48, 41, 36, 44, 44, 27, 26, 27, 45, 27, 28, 36, 47, 35, 25, 36]\n"
     ]
    }
   ],
   "source": [
    "x = 0\n",
    "randomList = []\n",
    "while x < 20:\n",
    "    randomList.append(rnd.randint(25, 48))\n",
    "    x += 1\n",
    "print(f\"Length of randomList: {len(randomList)}, contents: {randomList}\")"
   ],
   "metadata": {
    "collapsed": false,
    "pycharm": {
     "name": "#%%\n"
    }
   }
  },
  {
   "cell_type": "markdown",
   "source": [
    "# Step 2 Slicing Elements\n",
    "In this step, please take the random list above, assign it to a variable (if you haven't done so yet), and slice the 3rd to the 8th element from that list.  Note, when I talk about the 3rd element here, I mean as we count.  So index 0 => first element, index 1 => second element, etc.\n",
    "\n",
    "Please print out the full list, then the corresponding slice."
   ],
   "metadata": {
    "collapsed": false,
    "pycharm": {
     "name": "#%% md\n"
    }
   }
  },
  {
   "cell_type": "code",
   "execution_count": 9,
   "outputs": [
    {
     "name": "stdout",
     "output_type": "stream",
     "text": [
      "My random list is: [29, 38, 40, 39, 48, 41, 36, 44, 44, 27, 26, 27, 45, 27, 28, 36, 47, 35, 25, 36]\n",
      "The slice of interest is: [40, 39, 48, 41, 36, 44]\n"
     ]
    }
   ],
   "source": [
    "print(f\"My random list is: {randomList}\")\n",
    "print(f\"The slice of interest is: {randomList[2:8]}\")"
   ],
   "metadata": {
    "collapsed": false,
    "pycharm": {
     "name": "#%%\n"
    }
   }
  },
  {
   "cell_type": "markdown",
   "source": [
    "Next, using the same list as before, slice from the 5th element, from the end, through the end of the list"
   ],
   "metadata": {
    "collapsed": false,
    "pycharm": {
     "name": "#%% md\n"
    }
   }
  },
  {
   "cell_type": "code",
   "execution_count": 10,
   "outputs": [
    {
     "name": "stdout",
     "output_type": "stream",
     "text": [
      "My random list is: [29, 38, 40, 39, 48, 41, 36, 44, 44, 27, 26, 27, 45, 27, 28, 36, 47, 35, 25, 36]\n",
      "The slice of interest is: [36, 47, 35, 25, 36]\n"
     ]
    }
   ],
   "source": [
    "print(f\"My random list is: {randomList}\")\n",
    "print(f\"The slice of interest is: {randomList[-5:]}\")"
   ],
   "metadata": {
    "collapsed": false,
    "pycharm": {
     "name": "#%%\n"
    }
   }
  },
  {
   "cell_type": "markdown",
   "source": [
    "# Step 3 Picking elements, programmatically.\n",
    "\n",
    "Write an algorithm to pull every 4th element from the list.  Note the counting on this is not index 4, but the 4th element (which is index 3, 7, ...).\n",
    "\n",
    "This may be tough for many people.  There are a few ways you can approach this problem.  One of the more obvious options is to use a `while` loop.  We start at element index 3, then element index 7, and so on.  Study the while loop, there's only one small change to make this work.\n",
    "\n",
    "Alternatively, this can be done also in one line of code.  In the answer I'm going to provide both options for you to study.\n",
    "\n",
    "There are two useful hints I want to give:\n",
    "\n",
    "1. The len() function can help out a lot here.  But, remember that the length provided is as we count (e.g. if len of 5, then there are 5 elements starting at index 0 and ending at index 4).  So keep that in mind in the while portion.  This helps with part 4 too.\n",
    "2. Study the output of what I'm providing.  It's a wise idea not to jump in without studying the output and likely going to paper to draw it out."
   ],
   "metadata": {
    "collapsed": false,
    "pycharm": {
     "name": "#%% md\n"
    }
   }
  },
  {
   "cell_type": "code",
   "execution_count": 16,
   "outputs": [
    {
     "name": "stdout",
     "output_type": "stream",
     "text": [
      "Contents of randomList is equal to: [29, 38, 40, 39, 48, 41, 36, 44, 44, 27, 26, 27, 45, 27, 28, 36, 47, 35, 25, 36]\n"
     ]
    }
   ],
   "source": [
    "print(f\"Contents of randomList is equal to: {randomList}\")"
   ],
   "metadata": {
    "collapsed": false,
    "pycharm": {
     "name": "#%%\n"
    }
   }
  },
  {
   "cell_type": "code",
   "execution_count": 15,
   "outputs": [
    {
     "data": {
      "text/plain": "[39, 44, 27, 36, 36]"
     },
     "execution_count": 15,
     "metadata": {},
     "output_type": "execute_result"
    }
   ],
   "source": [
    "# We can use list comprehension to do it, this is the one-liner option.\n",
    "[randomList[x] for x in range(3, len(randomList), 4)]"
   ],
   "metadata": {
    "collapsed": false,
    "pycharm": {
     "name": "#%%\n"
    }
   }
  },
  {
   "cell_type": "code",
   "execution_count": 17,
   "outputs": [
    {
     "data": {
      "text/plain": "[39, 44, 27, 36, 36]"
     },
     "execution_count": 17,
     "metadata": {},
     "output_type": "execute_result"
    }
   ],
   "source": [
    "x = 3\n",
    "everyFourth = []\n",
    "while x < len(randomList):\n",
    "    everyFourth.append(randomList[x])\n",
    "    x += 4\n",
    "everyFourth"
   ],
   "metadata": {
    "collapsed": false,
    "pycharm": {
     "name": "#%%\n"
    }
   }
  },
  {
   "cell_type": "markdown",
   "source": [
    "# Step 4 Picking elements, programmatically part 2.\n",
    "This will be very similar to the above, but a little more tricky because we're going in reverse.  This time, we want every third element starting from the end of the list.\n",
    "\n",
    "Please do not reverse the list before picking every 3rd element (or reverse the list at all).\n",
    "\n",
    "This is tricky for a few reasons.  First, remember the boundaries of the list are important.  So commonly to k.  You may find it beneficial to start with looping each element first, without skipping over others.  Print the result out. Then, add in the offset.  Just be sure to avoid going below 0 in the while loop, because that'll likely loop around to the other side of the list (negative index).\n",
    "\n",
    "I really recommend studying the output I'm providing, and start on paper if possible."
   ],
   "metadata": {
    "collapsed": false,
    "pycharm": {
     "name": "#%% md\n"
    }
   }
  },
  {
   "cell_type": "code",
   "execution_count": 19,
   "outputs": [
    {
     "name": "stdout",
     "output_type": "stream",
     "text": [
      "Contents of randomList is equal to: [29, 38, 40, 39, 48, 41, 36, 44, 44, 27, 26, 27, 45, 27, 28, 36, 47, 35, 25, 36]\n"
     ]
    }
   ],
   "source": [
    "print(f\"Contents of randomList is equal to: {randomList}\")"
   ],
   "metadata": {
    "collapsed": false,
    "pycharm": {
     "name": "#%%\n"
    }
   }
  },
  {
   "cell_type": "code",
   "execution_count": 21,
   "outputs": [
    {
     "data": {
      "text/plain": "[35, 28, 27, 44, 41, 40]"
     },
     "execution_count": 21,
     "metadata": {},
     "output_type": "execute_result"
    }
   ],
   "source": [
    "[randomList[x] for x in range(len(randomList) - 3, 0, -3)]"
   ],
   "metadata": {
    "collapsed": false,
    "pycharm": {
     "name": "#%%\n"
    }
   }
  },
  {
   "cell_type": "code",
   "execution_count": 23,
   "outputs": [
    {
     "data": {
      "text/plain": "[35, 28, 27, 44, 41, 40]"
     },
     "execution_count": 23,
     "metadata": {},
     "output_type": "execute_result"
    }
   ],
   "source": [
    "x = len(randomList) - 3\n",
    "everyThird = []\n",
    "while x > 0:\n",
    "    everyThird.append(randomList[x])\n",
    "    x = x - 3\n",
    "everyThird\n"
   ],
   "metadata": {
    "collapsed": false,
    "pycharm": {
     "name": "#%%\n"
    }
   }
  },
  {
   "cell_type": "code",
   "execution_count": null,
   "outputs": [],
   "source": [],
   "metadata": {
    "collapsed": false,
    "pycharm": {
     "name": "#%%\n"
    }
   }
  }
 ],
 "metadata": {
  "kernelspec": {
   "display_name": "Python 3",
   "language": "python",
   "name": "python3"
  },
  "language_info": {
   "codemirror_mode": {
    "name": "ipython",
    "version": 2
   },
   "file_extension": ".py",
   "mimetype": "text/x-python",
   "name": "python",
   "nbconvert_exporter": "python",
   "pygments_lexer": "ipython2",
   "version": "2.7.6"
  }
 },
 "nbformat": 4,
 "nbformat_minor": 0
}