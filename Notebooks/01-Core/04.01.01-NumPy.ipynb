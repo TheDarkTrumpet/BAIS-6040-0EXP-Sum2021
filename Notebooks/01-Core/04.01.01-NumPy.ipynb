{
 "cells": [
  {
   "cell_type": "markdown",
   "source": [
    "# 04.01.01 - NumPy\n",
    "\n",
    "## Description\n",
    "\n",
    "This document goes over the very basics of NumPy, general initialization, accessing and so on\n",
    "\n",
    "## Requirements\n",
    "NumPy"
   ],
   "metadata": {
    "collapsed": false
   }
  },
  {
   "cell_type": "code",
   "execution_count": 1,
   "outputs": [],
   "source": [
    "import numpy as np"
   ],
   "metadata": {
    "collapsed": false,
    "pycharm": {
     "name": "#%%\n"
    }
   }
  },
  {
   "cell_type": "code",
   "execution_count": 2,
   "outputs": [
    {
     "data": {
      "text/plain": "array([1, 2, 3, 4, 5, 6, 7, 8, 9])"
     },
     "execution_count": 2,
     "metadata": {},
     "output_type": "execute_result"
    }
   ],
   "source": [
    "myList = range(1, 10)\n",
    "mySimpleArray = np.array(myList)\n",
    "mySimpleArray"
   ],
   "metadata": {
    "collapsed": false,
    "pycharm": {
     "name": "#%%\n"
    }
   }
  },
  {
   "cell_type": "code",
   "execution_count": 3,
   "outputs": [
    {
     "data": {
      "text/plain": "array([1., 2., 3., 4., 5., 6., 7., 8., 9.])"
     },
     "execution_count": 3,
     "metadata": {},
     "output_type": "execute_result"
    }
   ],
   "source": [
    "# Initialize with a dtype\n",
    "myList = range(1, 10)\n",
    "myFloatArray = np.array(myList, dtype=float)\n",
    "myFloatArray"
   ],
   "metadata": {
    "collapsed": false,
    "pycharm": {
     "name": "#%%\n"
    }
   }
  },
  {
   "cell_type": "code",
   "execution_count": 4,
   "outputs": [
    {
     "data": {
      "text/plain": "1.0"
     },
     "execution_count": 4,
     "metadata": {},
     "output_type": "execute_result"
    }
   ],
   "source": [
    "# Accessing elements\n",
    "myFloatArray[0]"
   ],
   "metadata": {
    "collapsed": false,
    "pycharm": {
     "name": "#%%\n"
    }
   }
  },
  {
   "cell_type": "code",
   "execution_count": 5,
   "outputs": [
    {
     "data": {
      "text/plain": "array([7., 8., 9.])"
     },
     "execution_count": 5,
     "metadata": {},
     "output_type": "execute_result"
    }
   ],
   "source": [
    "# Accessing a range\n",
    "myFloatArray[-3:]"
   ],
   "metadata": {
    "collapsed": false,
    "pycharm": {
     "name": "#%%\n"
    }
   }
  },
  {
   "cell_type": "markdown",
   "source": [
    "## Matrices\n",
    "A matrix is a 2-dimensional array."
   ],
   "metadata": {
    "collapsed": false
   }
  },
  {
   "cell_type": "code",
   "execution_count": 6,
   "outputs": [
    {
     "data": {
      "text/plain": "array([[ 1,  2,  3,  4,  5],\n       [ 6,  7,  8,  9, 10]])"
     },
     "execution_count": 6,
     "metadata": {},
     "output_type": "execute_result"
    }
   ],
   "source": [
    "myList = range(1, 11)\n",
    "mySimpleMatrix = np.array(myList)\n",
    "mySimpleMatrix = np.reshape(mySimpleMatrix, (2, 5))\n",
    "mySimpleMatrix"
   ],
   "metadata": {
    "collapsed": false,
    "pycharm": {
     "name": "#%%\n"
    }
   }
  },
  {
   "cell_type": "code",
   "execution_count": 7,
   "outputs": [
    {
     "data": {
      "text/plain": "2"
     },
     "execution_count": 7,
     "metadata": {},
     "output_type": "execute_result"
    }
   ],
   "source": [
    "# Pulling elements out\n",
    "mySimpleMatrix[0,1]  # Single element, remember 0 starting point"
   ],
   "metadata": {
    "collapsed": false,
    "pycharm": {
     "name": "#%%\n"
    }
   }
  },
  {
   "cell_type": "code",
   "execution_count": 8,
   "outputs": [
    {
     "data": {
      "text/plain": "7"
     },
     "execution_count": 8,
     "metadata": {},
     "output_type": "execute_result"
    }
   ],
   "source": [
    "mySimpleMatrix[1,1]\n"
   ],
   "metadata": {
    "collapsed": false,
    "pycharm": {
     "name": "#%%\n"
    }
   }
  },
  {
   "cell_type": "code",
   "execution_count": 9,
   "outputs": [
    {
     "data": {
      "text/plain": "array([[ 6,  7,  8,  9, 10]])"
     },
     "execution_count": 9,
     "metadata": {},
     "output_type": "execute_result"
    }
   ],
   "source": [
    "# Pulling ranges out\n",
    "mySimpleMatrix[1:]"
   ],
   "metadata": {
    "collapsed": false,
    "pycharm": {
     "name": "#%%\n"
    }
   }
  },
  {
   "cell_type": "code",
   "execution_count": 10,
   "outputs": [
    {
     "data": {
      "text/plain": "array([ 9, 10])"
     },
     "execution_count": 10,
     "metadata": {},
     "output_type": "execute_result"
    }
   ],
   "source": [
    "mySimpleMatrix[1, 3:]"
   ],
   "metadata": {
    "collapsed": false,
    "pycharm": {
     "name": "#%%\n"
    }
   }
  },
  {
   "cell_type": "code",
   "execution_count": 11,
   "outputs": [
    {
     "data": {
      "text/plain": "array([[  1,   6],\n       [  2, 500],\n       [  3,   8],\n       [  4,   9],\n       [  5,  10]])"
     },
     "execution_count": 11,
     "metadata": {},
     "output_type": "execute_result"
    }
   ],
   "source": [
    "# Assignment\n",
    "mySimpleMatrix[1, 1] = 500\n",
    "mySimpleMatrix\n",
    "\n",
    "# We can also transpose a matrix, too\n",
    "mySimpleMatrix.transpose()"
   ],
   "metadata": {
    "collapsed": false,
    "pycharm": {
     "name": "#%%\n"
    }
   }
  },
  {
   "cell_type": "markdown",
   "source": [
    "## Generating data types\n",
    "\n",
    "We can generate test data easier using numpy in a lot of ways."
   ],
   "metadata": {
    "collapsed": false
   }
  },
  {
   "cell_type": "code",
   "execution_count": 12,
   "outputs": [
    {
     "data": {
      "text/plain": "array([77,  3, 36, 60, 47, 70, 32, 14, 65, 46])"
     },
     "execution_count": 12,
     "metadata": {},
     "output_type": "execute_result"
    }
   ],
   "source": [
    "randomInts = np.random.randint(1, 100, 10)\n",
    "randomInts"
   ],
   "metadata": {
    "collapsed": false,
    "pycharm": {
     "name": "#%%\n"
    }
   }
  },
  {
   "cell_type": "code",
   "execution_count": 13,
   "outputs": [
    {
     "data": {
      "text/plain": "array([[45, 86, 93,  1, 44, 42, 65, 60, 67, 42],\n       [79, 83, 92, 42,  9, 43, 93, 69, 61, 74],\n       [25, 66, 65, 46, 76, 28, 83,  9, 24, 97],\n       [61, 90, 13, 79, 42, 81,  9, 75, 56, 14],\n       [43, 45, 94, 47, 51, 48, 89, 52,  1,  7],\n       [87, 51, 96, 72, 90, 82, 23, 34, 38, 34],\n       [64, 71, 32, 33, 70, 44, 99, 66, 25, 61],\n       [31, 17, 34, 19,  5, 10, 15, 38, 20,  5],\n       [42, 71, 15, 55, 18, 44, 55, 86, 46, 45],\n       [94, 39, 33, 25, 58, 77, 55, 97,  8,  2]])"
     },
     "execution_count": 13,
     "metadata": {},
     "output_type": "execute_result"
    }
   ],
   "source": [
    "randMatrix = np.random.randint(1, 100, size=(10,10))\n",
    "randMatrix"
   ],
   "metadata": {
    "collapsed": false,
    "pycharm": {
     "name": "#%%\n"
    }
   }
  },
  {
   "cell_type": "markdown",
   "source": [
    "## Adding and processing Arrays/matrices"
   ],
   "metadata": {
    "collapsed": false
   }
  },
  {
   "cell_type": "code",
   "execution_count": 14,
   "outputs": [
    {
     "data": {
      "text/plain": "array([[ 82,  82,  87,  84, 162, 130,  85,  23, 118,  17],\n       [ 99, 103,  69, 112, 134, 131, 111,  34, 132, 114],\n       [107, 168, 175, 123,  92,  68,  85,  92, 111, 163],\n       [123, 135, 131, 114,  87, 170,  72, 141,  15,  33],\n       [ 69,  89, 100,  74,  72, 136, 104, 161,  84,  84],\n       [124, 156, 104, 103,  66, 179,  99, 133,  87,  66],\n       [166, 114,  95, 123, 175,  77,   3, 118, 116,  30],\n       [ 67, 118,  98,  94, 113,  74,  68,  74,  34, 141],\n       [172,  96, 111,  80, 134,  48, 121, 169,  97,  55],\n       [122,  76,  96,  63,  92, 104, 180,  87, 101, 195]])"
     },
     "execution_count": 14,
     "metadata": {},
     "output_type": "execute_result"
    }
   ],
   "source": [
    "randMatrixA = np.random.randint(1, 100, size=(10,10))\n",
    "randMatrixB = np.random.randint(1, 100, size=(10,10))\n",
    "randMatrixC = randMatrixA + randMatrixB  # Note we're adding the two elements\n",
    "randMatrixC"
   ],
   "metadata": {
    "collapsed": false,
    "pycharm": {
     "name": "#%%\n"
    }
   }
  },
  {
   "cell_type": "code",
   "execution_count": 15,
   "outputs": [
    {
     "data": {
      "text/plain": "array([[17, 81, 86,  4, 93, 40, 37, 19, 65, 12],\n       [64, 21, 26, 55, 54, 76, 14,  9, 36, 90],\n       [80, 79, 76, 96, 20, 36, 15, 24, 66, 91],\n       [32, 71, 32, 32, 10, 76, 48, 50, 11, 11],\n       [55, 28, 91, 54, 40, 48, 89, 90, 46, 35],\n       [42, 64, 21, 93, 38, 85, 15, 80, 49, 13],\n       [84, 61, 67, 48, 80,  7,  2, 32, 95, 16],\n       [65, 19, 92,  8, 23, 27,  7, 52, 22, 81],\n       [85, 38, 28, 61, 56,  5, 32, 74, 94, 32],\n       [91, 25, 71, 17, 18, 95, 86, 61, 70, 97]])"
     },
     "execution_count": 15,
     "metadata": {},
     "output_type": "execute_result"
    }
   ],
   "source": [
    "randMatrixA"
   ],
   "metadata": {
    "collapsed": false,
    "pycharm": {
     "name": "#%%\n"
    }
   }
  },
  {
   "cell_type": "code",
   "execution_count": 16,
   "outputs": [
    {
     "data": {
      "text/plain": "array([[65,  1,  1, 80, 69, 90, 48,  4, 53,  5],\n       [35, 82, 43, 57, 80, 55, 97, 25, 96, 24],\n       [27, 89, 99, 27, 72, 32, 70, 68, 45, 72],\n       [91, 64, 99, 82, 77, 94, 24, 91,  4, 22],\n       [14, 61,  9, 20, 32, 88, 15, 71, 38, 49],\n       [82, 92, 83, 10, 28, 94, 84, 53, 38, 53],\n       [82, 53, 28, 75, 95, 70,  1, 86, 21, 14],\n       [ 2, 99,  6, 86, 90, 47, 61, 22, 12, 60],\n       [87, 58, 83, 19, 78, 43, 89, 95,  3, 23],\n       [31, 51, 25, 46, 74,  9, 94, 26, 31, 98]])"
     },
     "execution_count": 16,
     "metadata": {},
     "output_type": "execute_result"
    }
   ],
   "source": [
    "randMatrixB"
   ],
   "metadata": {
    "collapsed": false,
    "pycharm": {
     "name": "#%%\n"
    }
   }
  },
  {
   "cell_type": "code",
   "execution_count": 17,
   "outputs": [
    {
     "data": {
      "text/plain": "array([[17, 81, 86,  4, 93, 40, 37, 19, 65, 12],\n       [64, 21, 26, 55, 54, 76, 14,  9, 36, 90],\n       [80, 79, 76, 96, 20, 36, 15, 24, 66, 91],\n       [32, 71, 32, 32, 10, 76, 48, 50, 11, 11],\n       [55, 28, 91, 54, 40, 48, 89, 90, 46, 35],\n       [42, 64, 21, 93, 38, 85, 15, 80, 49, 13],\n       [84, 61, 67, 48, 80,  7,  2, 32, 95, 16],\n       [65, 19, 92,  8, 23, 27,  7, 52, 22, 81],\n       [85, 38, 28, 61, 56,  5, 32, 74, 94, 32],\n       [91, 25, 71, 17, 18, 95, 86, 61, 70, 97],\n       [65,  1,  1, 80, 69, 90, 48,  4, 53,  5],\n       [35, 82, 43, 57, 80, 55, 97, 25, 96, 24],\n       [27, 89, 99, 27, 72, 32, 70, 68, 45, 72],\n       [91, 64, 99, 82, 77, 94, 24, 91,  4, 22],\n       [14, 61,  9, 20, 32, 88, 15, 71, 38, 49],\n       [82, 92, 83, 10, 28, 94, 84, 53, 38, 53],\n       [82, 53, 28, 75, 95, 70,  1, 86, 21, 14],\n       [ 2, 99,  6, 86, 90, 47, 61, 22, 12, 60],\n       [87, 58, 83, 19, 78, 43, 89, 95,  3, 23],\n       [31, 51, 25, 46, 74,  9, 94, 26, 31, 98]])"
     },
     "execution_count": 17,
     "metadata": {},
     "output_type": "execute_result"
    }
   ],
   "source": [
    "# Concatenate one block on another\n",
    "np.concatenate([randMatrixA, randMatrixB], axis=0)"
   ],
   "metadata": {
    "collapsed": false,
    "pycharm": {
     "name": "#%%\n"
    }
   }
  },
  {
   "cell_type": "code",
   "execution_count": 18,
   "outputs": [
    {
     "data": {
      "text/plain": "array([[17, 81, 86,  4, 93, 40, 37, 19, 65, 12, 65,  1,  1, 80, 69, 90,\n        48,  4, 53,  5],\n       [64, 21, 26, 55, 54, 76, 14,  9, 36, 90, 35, 82, 43, 57, 80, 55,\n        97, 25, 96, 24],\n       [80, 79, 76, 96, 20, 36, 15, 24, 66, 91, 27, 89, 99, 27, 72, 32,\n        70, 68, 45, 72],\n       [32, 71, 32, 32, 10, 76, 48, 50, 11, 11, 91, 64, 99, 82, 77, 94,\n        24, 91,  4, 22],\n       [55, 28, 91, 54, 40, 48, 89, 90, 46, 35, 14, 61,  9, 20, 32, 88,\n        15, 71, 38, 49],\n       [42, 64, 21, 93, 38, 85, 15, 80, 49, 13, 82, 92, 83, 10, 28, 94,\n        84, 53, 38, 53],\n       [84, 61, 67, 48, 80,  7,  2, 32, 95, 16, 82, 53, 28, 75, 95, 70,\n         1, 86, 21, 14],\n       [65, 19, 92,  8, 23, 27,  7, 52, 22, 81,  2, 99,  6, 86, 90, 47,\n        61, 22, 12, 60],\n       [85, 38, 28, 61, 56,  5, 32, 74, 94, 32, 87, 58, 83, 19, 78, 43,\n        89, 95,  3, 23],\n       [91, 25, 71, 17, 18, 95, 86, 61, 70, 97, 31, 51, 25, 46, 74,  9,\n        94, 26, 31, 98]])"
     },
     "execution_count": 18,
     "metadata": {},
     "output_type": "execute_result"
    }
   ],
   "source": [
    "# Concatenate\n",
    "np.concatenate([randMatrixA, randMatrixB], axis=1)\n",
    "\n"
   ],
   "metadata": {
    "collapsed": false,
    "pycharm": {
     "name": "#%%\n"
    }
   }
  }
 ],
 "metadata": {
  "kernelspec": {
   "display_name": "Python 3",
   "language": "python",
   "name": "python3"
  },
  "language_info": {
   "codemirror_mode": {
    "name": "ipython",
    "version": 3
   },
   "file_extension": ".py",
   "mimetype": "text/x-python",
   "name": "python",
   "nbconvert_exporter": "python",
   "pygments_lexer": "ipython3",
   "version": "3.8.5"
  }
 },
 "nbformat": 4,
 "nbformat_minor": 4
}