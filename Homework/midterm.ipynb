{
 "cells": [
  {
   "cell_type": "markdown",
   "metadata": {
    "collapsed": true,
    "pycharm": {
     "name": "#%% md\n"
    }
   },
   "source": [
    "# Midterm\n",
    "\n",
    "## Purpose\n",
    "\n",
    "This midterm attempts to touch on a little bit of everything we covered in this course up to this point.  We won't be including Pandas in this midterm, and required knowledge is up through and including NumPy.\n",
    "\n",
    "There will be 5 main sections of this.  We'll go over types into lists, then sets, then into dictionaries functions, then NumPy.\n",
    "\n",
    "Some sections tie to other sections, so it's recommended you work on this top down.  I do recommend reading through everything, studying the output, and come up with a \"game plan\" before you get started.  Try to avoid the urge of starting to code right away, and give yourself plenty of time to figure out the strategy.  The actual coding of this shouldn't take too long.\n",
    "\n",
    "Readability will count.  Remember that too much in one cell can cause readability issues and can cause difficulty in tracing code.  Like statements in one cell is fine, just avoid putting too much."
   ]
  },
  {
   "cell_type": "code",
   "execution_count": 1,
   "outputs": [],
   "source": [
    "import random as rnd\n",
    "import numpy as np\n",
    "\n",
    "rnd.seed(78223)\n",
    "np.random.seed(83433)"
   ],
   "metadata": {
    "collapsed": false,
    "pycharm": {
     "name": "#%%\n"
    }
   }
  },
  {
   "cell_type": "code",
   "execution_count": 2,
   "outputs": [],
   "source": [
    "# Helper functions go in a block near the top, if you decide to make any\n",
    "# Do NOT put the function generation in Part 4 into this block"
   ],
   "metadata": {
    "collapsed": false,
    "pycharm": {
     "name": "#%%\n"
    }
   }
  },
  {
   "cell_type": "markdown",
   "source": [
    "# Part 1 - Types\n",
    "\n",
    "In this section, please create 4 different lists, each with 10 elements.  Below are the types, and formats/ranges\n",
    "\n",
    "| Type  | Length | Range/Format |\n",
    "|-------|--------|--------------|\n",
    "| integer | 10 elements | 3-12  |\n",
    "| float   | 10 elements | 0-1.0 (0.01, 0.02, 0.1,...0.55,..., 1.0) |\n",
    "| Boolean | 10 elements | True/False  |\n",
    "| String  | 10 elements | format: \"number (X)\", 1 < X < 10, keep the parentheses |\n",
    "\n",
    "You can use For, While, or List Comprehension.  Do not use sample.\n",
    "\n",
    "Print the name of the variable, the type of the collection, and the elements contained - for each of the 4 variables we created above."
   ],
   "metadata": {
    "collapsed": false,
    "pycharm": {
     "name": "#%% md\n"
    }
   }
  },
  {
   "cell_type": "code",
   "execution_count": 3,
   "outputs": [
    {
     "name": "stdout",
     "output_type": "stream",
     "text": [
      "XXXXX is of type: <class 'list'>, and elements are: [12, 6, 11, 12, 8, 6, 4, 11, 3, 3]\n"
     ]
    }
   ],
   "source": [
    "randomIntegerList = [rnd.randint(3, 12) for _ in range(10)]\n",
    "print(f\"XXXXX is of type: {type(randomIntegerList)}, and elements are: {randomIntegerList}\")"
   ],
   "metadata": {
    "collapsed": false,
    "pycharm": {
     "name": "#%%\n"
    }
   }
  },
  {
   "cell_type": "code",
   "execution_count": 4,
   "outputs": [
    {
     "name": "stdout",
     "output_type": "stream",
     "text": [
      "YYYYY is of type: <class 'list'>, and elements are: [0.7, 0.37, 0.23, 0.41, 0.51, 0.25, 0.29, 0.42, 0.36, 1.0]\n"
     ]
    }
   ],
   "source": [
    "randomFloatList = [rnd.randint(0, 100)/100 for _ in range(10)]\n",
    "print(f\"YYYYY is of type: {type(randomFloatList)}, and elements are: {randomFloatList}\")"
   ],
   "metadata": {
    "collapsed": false,
    "pycharm": {
     "name": "#%%\n"
    }
   }
  },
  {
   "cell_type": "code",
   "execution_count": 5,
   "outputs": [
    {
     "name": "stdout",
     "output_type": "stream",
     "text": [
      "ZZZZ is of type: <class 'list'>, and elements are: [False, False, True, False, False, False, True, False, False, True]\n"
     ]
    }
   ],
   "source": [
    "randomBoolList = [bool(rnd.randint(0, 1)) for _ in range(10)]\n",
    "print(f\"ZZZZ is of type: {type(randomBoolList)}, and elements are: {randomBoolList}\")"
   ],
   "metadata": {
    "collapsed": false,
    "pycharm": {
     "name": "#%%\n"
    }
   }
  },
  {
   "cell_type": "code",
   "execution_count": 6,
   "outputs": [
    {
     "name": "stdout",
     "output_type": "stream",
     "text": [
      "VVVVV is of type: <class 'list'>, and elements are: ['number (1)', 'number (2)', 'number (3)', 'number (4)', 'number (5)', 'number (6)', 'number (7)', 'number (8)', 'number (9)', 'number (10)']\n"
     ]
    }
   ],
   "source": [
    "randomStringList = [f\"number ({x})\" for x in range(1, 11)]\n",
    "print(f\"VVVVV is of type: {type(randomStringList)}, and elements are: {randomStringList}\")"
   ],
   "metadata": {
    "collapsed": false,
    "pycharm": {
     "name": "#%%\n"
    }
   }
  },
  {
   "cell_type": "markdown",
   "source": [
    "# Part 2 - Sets\n",
    "\n",
    "In this section, please take the variables from part 1, and convert them to sets.  For each one, print out the variable, the type of collection, and the elements contained."
   ],
   "metadata": {
    "collapsed": false
   }
  },
  {
   "cell_type": "code",
   "execution_count": 7,
   "outputs": [
    {
     "name": "stdout",
     "output_type": "stream",
     "text": [
      "XXXXX is of type: <class 'set'>, and elements are: {3, 4, 6, 8, 11, 12}\n"
     ]
    }
   ],
   "source": [
    "randomIntegerSet = set(randomIntegerList)\n",
    "print(f\"XXXXX is of type: {type(randomIntegerSet)}, and elements are: {randomIntegerSet}\")"
   ],
   "metadata": {
    "collapsed": false,
    "pycharm": {
     "name": "#%%\n"
    }
   }
  },
  {
   "cell_type": "code",
   "execution_count": 8,
   "outputs": [
    {
     "name": "stdout",
     "output_type": "stream",
     "text": [
      "YYYYY is of type: <class 'set'>, and elements are: {0.7, 0.37, 0.51, 0.23, 0.41, 0.25, 0.29, 0.42, 0.36, 1.0}\n"
     ]
    }
   ],
   "source": [
    "randomFloatSet = set(randomFloatList)\n",
    "print(f\"YYYYY is of type: {type(randomFloatSet)}, and elements are: {randomFloatSet}\")"
   ],
   "metadata": {
    "collapsed": false,
    "pycharm": {
     "name": "#%%\n"
    }
   }
  },
  {
   "cell_type": "code",
   "execution_count": 9,
   "outputs": [
    {
     "name": "stdout",
     "output_type": "stream",
     "text": [
      "ZZZZZ is of type: <class 'set'>, and elements are: {False, True}\n"
     ]
    }
   ],
   "source": [
    "randomBoolSet = set(randomBoolList)\n",
    "print(f\"ZZZZZ is of type: {type(randomBoolSet)}, and elements are: {randomBoolSet}\")"
   ],
   "metadata": {
    "collapsed": false,
    "pycharm": {
     "name": "#%%\n"
    }
   }
  },
  {
   "cell_type": "code",
   "execution_count": 10,
   "outputs": [
    {
     "name": "stdout",
     "output_type": "stream",
     "text": [
      "VVVVV is of type: <class 'set'>, and elements are: {'number (1)', 'number (10)', 'number (7)', 'number (9)', 'number (4)', 'number (5)', 'number (6)', 'number (2)', 'number (3)', 'number (8)'}\n"
     ]
    }
   ],
   "source": [
    "randomStringSet = set(randomStringList)\n",
    "print(f\"VVVVV is of type: {type(randomStringSet)}, and elements are: {randomStringSet}\")"
   ],
   "metadata": {
    "collapsed": false,
    "pycharm": {
     "name": "#%%\n"
    }
   }
  },
  {
   "cell_type": "markdown",
   "source": [
    "# Part 3 - Dictionaries\n",
    "\n",
    "In this section, please create a dictionary that has 4 keys.  One key for each of the variables in part 2.  The values should be the corresponding values of those variables in part 2.\n",
    "\n",
    "After that, please create a loop that will iterate over the dictionary and prints the key, then the value elements.  There are many ways to approach this problem.  Please read through the following site (since we haven't covered iteration over a dictionary), and evaluate for yourself which makes the most sense to you and implementat that one.\n",
    "\n",
    "https://realpython.com/iterate-through-dictionary-python/\n",
    "\n",
    "After the implementation, please create a markdown cell and explain your choice."
   ],
   "metadata": {
    "collapsed": false,
    "pycharm": {
     "name": "#%% md\n"
    }
   }
  },
  {
   "cell_type": "code",
   "execution_count": 11,
   "outputs": [
    {
     "data": {
      "text/plain": "{'XXXXX': {3, 4, 6, 8, 11, 12},\n 'YYYYY': {0.23, 0.25, 0.29, 0.36, 0.37, 0.41, 0.42, 0.51, 0.7, 1.0},\n 'ZZZZZ': {False, True},\n 'VVVVV': {'number (1)',\n  'number (10)',\n  'number (2)',\n  'number (3)',\n  'number (4)',\n  'number (5)',\n  'number (6)',\n  'number (7)',\n  'number (8)',\n  'number (9)'}}"
     },
     "execution_count": 11,
     "metadata": {},
     "output_type": "execute_result"
    }
   ],
   "source": [
    "allElements = {\n",
    "    \"XXXXX\": randomIntegerSet,\n",
    "    \"YYYYY\": randomFloatSet,\n",
    "    \"ZZZZZ\": randomBoolSet,\n",
    "    \"VVVVV\": randomStringSet\n",
    "}\n",
    "allElements"
   ],
   "metadata": {
    "collapsed": false,
    "pycharm": {
     "name": "#%%\n"
    }
   }
  },
  {
   "cell_type": "code",
   "execution_count": 12,
   "outputs": [
    {
     "name": "stdout",
     "output_type": "stream",
     "text": [
      "Key: XXXXX, Values: {3, 4, 6, 8, 11, 12}\n",
      "Key: YYYYY, Values: {0.7, 0.37, 0.51, 0.23, 0.41, 0.25, 0.29, 0.42, 0.36, 1.0}\n",
      "Key: ZZZZZ, Values: {False, True}\n",
      "Key: VVVVV, Values: {'number (1)', 'number (10)', 'number (7)', 'number (9)', 'number (4)', 'number (5)', 'number (6)', 'number (2)', 'number (3)', 'number (8)'}\n"
     ]
    }
   ],
   "source": [
    "for key, values in allElements.items():\n",
    "    print(f\"Key: {key}, Values: {values}\")"
   ],
   "metadata": {
    "collapsed": false,
    "pycharm": {
     "name": "#%%\n"
    }
   }
  },
  {
   "cell_type": "markdown",
   "source": [
    "# Part 4 - Functions\n",
    "\n",
    "In the previous sections, part 1-3, we have a lot of duplicated code.  In this section, we'll resolve one of those issues - and that being the print and format of the statement.\n",
    "\n",
    "In this section, please write a function that takes a collection (List, Set, Tuple, Dictionary), and prints out the following information about it:\n",
    "\n",
    "* Object Type - List, Set, Tuple, etc.\n",
    "* Up to 5 elements of the collection.\n",
    "* The length of the collection\n",
    "\n",
    "This is a bit more tricky than it'll appear at first.  But, I caution you not to overthink this problem too much.  So you don't need to use \"enumerate\" (which would allow us to iterate over a set.  Think simply about it.  A list can be iterated, what can we do about a set?  Dictionary is another special case, but conceptually that was done in part 3.  So what's left is the ability to check the types and deal with them appropriately.\n",
    "\n",
    "One hint I will give, outside that, is you only need an if statement with two parts (if, else).\n",
    "\n",
    "Another hint I'll give is that your function may end up fairly large if not careful.  You can break up a function into multiple functions, and have that main function call the other functions, if desired.  Consider the readability in all this.\n",
    "\n",
    "Test your function with a few types to prove it works."
   ],
   "metadata": {
    "collapsed": false,
    "pycharm": {
     "name": "#%% md\n"
    }
   }
  },
  {
   "cell_type": "code",
   "execution_count": 13,
   "outputs": [],
   "source": [
    "def printDictionary(dictionary):\n",
    "    \"\"\"Given a dictionary as input, print out the key, and up to 5 values\"\"\"\n",
    "    print(f\"Type: {type(dictionary)}\")\n",
    "    for key, values in dictionary.items():\n",
    "        print(f\"Key: {key}\")\n",
    "        printGeneral(values)\n",
    "\n",
    "def printGeneral(collection):\n",
    "    \"\"\"Given a non-dictionary type, print out the type, and up to 5 values\"\"\"\n",
    "    castedCollection = list(collection)[0:5]\n",
    "    print(f\"Type: {type(collection)}\")\n",
    "    print(f\"{len(castedCollection)} elements (of {len(collection)}): {list(castedCollection)}\")\n",
    "\n",
    "def printCollection(collection):\n",
    "    \"\"\"Generalized print function, main entry point. Accepts all collection types\"\"\"\n",
    "    if type(collection) is dict:\n",
    "        printDictionary(collection)\n",
    "    else:\n",
    "        printGeneral(collection)"
   ],
   "metadata": {
    "collapsed": false,
    "pycharm": {
     "name": "#%%\n"
    }
   }
  },
  {
   "cell_type": "code",
   "execution_count": 14,
   "outputs": [
    {
     "name": "stdout",
     "output_type": "stream",
     "text": [
      "Type: <class 'dict'>\n",
      "Key: XXXXX\n",
      "Type: <class 'set'>\n",
      "5 elements (of 6): [3, 4, 6, 8, 11]\n",
      "Key: YYYYY\n",
      "Type: <class 'set'>\n",
      "5 elements (of 10): [0.7, 0.37, 0.51, 0.23, 0.41]\n",
      "Key: ZZZZZ\n",
      "Type: <class 'set'>\n",
      "2 elements (of 2): [False, True]\n",
      "Key: VVVVV\n",
      "Type: <class 'set'>\n",
      "5 elements (of 10): ['number (1)', 'number (10)', 'number (7)', 'number (9)', 'number (4)']\n"
     ]
    }
   ],
   "source": [
    "printCollection(allElements)"
   ],
   "metadata": {
    "collapsed": false,
    "pycharm": {
     "name": "#%%\n"
    }
   }
  },
  {
   "cell_type": "code",
   "execution_count": 15,
   "outputs": [
    {
     "name": "stdout",
     "output_type": "stream",
     "text": [
      "Type: <class 'list'>\n",
      "5 elements (of 10): [12, 6, 11, 12, 8]\n"
     ]
    }
   ],
   "source": [
    "printCollection(randomIntegerList)"
   ],
   "metadata": {
    "collapsed": false,
    "pycharm": {
     "name": "#%%\n"
    }
   }
  },
  {
   "cell_type": "code",
   "execution_count": 16,
   "outputs": [
    {
     "name": "stdout",
     "output_type": "stream",
     "text": [
      "Type: <class 'set'>\n",
      "5 elements (of 6): [3, 4, 6, 8, 11]\n"
     ]
    }
   ],
   "source": [
    "printCollection(randomIntegerSet)"
   ],
   "metadata": {
    "collapsed": false,
    "pycharm": {
     "name": "#%%\n"
    }
   }
  },
  {
   "cell_type": "markdown",
   "source": [
    "# Part 5 - NumPy\n",
    "\n",
    "The NumPy section will have a few subparts to the problem.  They'll rely on working code from the previous 4 parts, especially the first part.\n",
    "\n",
    "## Part 5a - Create a matrix\n",
    "\n",
    "This part of the exam is probably the most complicated to both explain, and to process.  We'll rely on two prior structures (the randomList and randomFloats) of the list to generate a 10x10 matrix using what we got from the creation of those two lists in a rule based format.\n",
    "\n",
    "Steps:\n",
    "1.  Get the mean of your random list that was created in part 1.\n",
    "2.  Write a loop that'll create a list (or lists in a list), depending on how you go about converting into a NumPy array in 5b that follows the following logic:\n",
    "\n",
    "ri = random integers\n",
    "\n",
    "rb = random bool\n",
    "\n",
    "| Condition (ri)  | Condition (rb) | Random Range |\n",
    "|-----------------|----------------|--------------|\n",
    "| >= mean         | True           | 100 to 200   |\n",
    "| >= mean         | False          | -200 to -100 |\n",
    "| < mean          | True           | 1 - 100      |\n",
    "| < mean          | False          | -100 to -1   |\n",
    "\n",
    "Some Tips/Notes:\n",
    "* Pay attention to the output.  Since we're looping the same rules for each row, the range/rules should be the **same** for the entire column.  Meaning, if we have the random [-200 to -100], we should see the entire column be in that range, for all rows.\n",
    "* It may help to start this with printing out (or debugging if using PyCharm) to get an idea of what the values are for that iteration, and the rule that's hit."
   ],
   "metadata": {
    "collapsed": false,
    "pycharm": {
     "name": "#%% md\n"
    }
   }
  },
  {
   "cell_type": "code",
   "execution_count": 17,
   "outputs": [
    {
     "data": {
      "text/plain": "[12, 6, 11, 12, 8, 6, 4, 11, 3, 3]"
     },
     "execution_count": 17,
     "metadata": {},
     "output_type": "execute_result"
    }
   ],
   "source": [
    "# Print the random integer list, so we can match things up easier visually\n",
    "randomIntegerList"
   ],
   "metadata": {
    "collapsed": false,
    "pycharm": {
     "name": "#%%\n"
    }
   }
  },
  {
   "cell_type": "code",
   "execution_count": 18,
   "outputs": [
    {
     "data": {
      "text/plain": "[False, False, True, False, False, False, True, False, False, True]"
     },
     "execution_count": 18,
     "metadata": {},
     "output_type": "execute_result"
    }
   ],
   "source": [
    "# Print the random Boolean list, so we can match things up easier visually\n",
    "randomBoolList"
   ],
   "metadata": {
    "collapsed": false,
    "pycharm": {
     "name": "#%%\n"
    }
   }
  },
  {
   "cell_type": "code",
   "execution_count": 19,
   "outputs": [
    {
     "name": "stdout",
     "output_type": "stream",
     "text": [
      "XXXXXX mean is 7.6\n"
     ]
    }
   ],
   "source": [
    "integerListMean = sum(randomIntegerList) / len(randomIntegerList)\n",
    "print(f\"XXXXXX mean is {integerListMean}\")"
   ],
   "metadata": {
    "collapsed": false,
    "pycharm": {
     "name": "#%%\n"
    }
   }
  },
  {
   "cell_type": "code",
   "execution_count": 20,
   "outputs": [
    {
     "data": {
      "text/plain": "[[-138, -18, 152, -104, -137, -40, 15, -193, -98, 13],\n [-109, -63, 193, -136, -112, -94, 98, -109, -79, 90],\n [-190, -27, 199, -129, -110, -38, 5, -100, -12, 49],\n [-128, -31, 192, -192, -169, -66, 66, -108, -50, 54],\n [-133, -77, 147, -111, -120, -19, 7, -181, -24, 32],\n [-178, -22, 122, -155, -114, -8, 99, -116, -98, 66],\n [-184, -56, 130, -132, -170, -97, 14, -188, -12, 34],\n [-164, -41, 161, -140, -115, -44, 69, -140, -64, 10],\n [-101, -14, 150, -173, -115, -31, 5, -135, -5, 64],\n [-108, -21, 104, -169, -133, -65, 91, -110, -61, 44]]"
     },
     "execution_count": 20,
     "metadata": {},
     "output_type": "execute_result"
    }
   ],
   "source": [
    "preNPArray = []\n",
    "for y in range(10):\n",
    "    x = 0\n",
    "    currentLevelList = []\n",
    "    while x < len(randomIntegerList):\n",
    "        xValue = randomIntegerList[x]\n",
    "        xBoolean = randomBoolList[x]\n",
    "        if xValue >= integerListMean and xBoolean:\n",
    "            currentLevelList.append(rnd.randint(100, 200))\n",
    "        elif xValue >= integerListMean and not xBoolean:\n",
    "            currentLevelList.append(-rnd.randint(100, 200))\n",
    "        elif xValue < integerListMean and xBoolean:\n",
    "            currentLevelList.append(rnd.randint(1, 100))\n",
    "        elif xValue < integerListMean and not xBoolean:   # Could use else here too\n",
    "            currentLevelList.append(-rnd.randint(1, 100))\n",
    "        x += 1\n",
    "    preNPArray.append(currentLevelList)\n",
    "preNPArray"
   ],
   "metadata": {
    "collapsed": false,
    "pycharm": {
     "name": "#%%\n"
    }
   }
  },
  {
   "cell_type": "markdown",
   "source": [
    "## Part 5b - convert into NumPy Matrix\n",
    "\n",
    "As long as you got the above right (and there's a few ways you can do the above), this should be one line.  Please convert your list structure above into a NumPy array, and print out what that looks like."
   ],
   "metadata": {
    "collapsed": false,
    "pycharm": {
     "name": "#%% md\n"
    }
   }
  },
  {
   "cell_type": "code",
   "execution_count": 21,
   "outputs": [
    {
     "data": {
      "text/plain": "array([[-138,  -18,  152, -104, -137,  -40,   15, -193,  -98,   13],\n       [-109,  -63,  193, -136, -112,  -94,   98, -109,  -79,   90],\n       [-190,  -27,  199, -129, -110,  -38,    5, -100,  -12,   49],\n       [-128,  -31,  192, -192, -169,  -66,   66, -108,  -50,   54],\n       [-133,  -77,  147, -111, -120,  -19,    7, -181,  -24,   32],\n       [-178,  -22,  122, -155, -114,   -8,   99, -116,  -98,   66],\n       [-184,  -56,  130, -132, -170,  -97,   14, -188,  -12,   34],\n       [-164,  -41,  161, -140, -115,  -44,   69, -140,  -64,   10],\n       [-101,  -14,  150, -173, -115,  -31,    5, -135,   -5,   64],\n       [-108,  -21,  104, -169, -133,  -65,   91, -110,  -61,   44]])"
     },
     "execution_count": 21,
     "metadata": {},
     "output_type": "execute_result"
    }
   ],
   "source": [
    "npArray = np.asarray(preNPArray)\n",
    "npArray"
   ],
   "metadata": {
    "collapsed": false,
    "pycharm": {
     "name": "#%%\n"
    }
   }
  },
  {
   "cell_type": "markdown",
   "source": [
    "## Part 5c - numpy.reshape\n",
    "\n",
    "We will practice reading documentation, and expanding our knowledge of NumPy.\n",
    "\n",
    "Please reference the following document:\n",
    "https://numpy.org/doc/stable/reference/generated/numpy.reshape.html\n",
    "\n",
    "Please take the array you created in 5b, and use numpy reshape on it to convert it into a 20x5 array.  Do not save the result or overwrite your variable from 5b, but do show the output of what the reshape would do."
   ],
   "metadata": {
    "collapsed": false,
    "pycharm": {
     "name": "#%% md\n"
    }
   }
  },
  {
   "cell_type": "code",
   "execution_count": 22,
   "outputs": [
    {
     "data": {
      "text/plain": "array([[-138,  -18,  152, -104, -137],\n       [ -40,   15, -193,  -98,   13],\n       [-109,  -63,  193, -136, -112],\n       [ -94,   98, -109,  -79,   90],\n       [-190,  -27,  199, -129, -110],\n       [ -38,    5, -100,  -12,   49],\n       [-128,  -31,  192, -192, -169],\n       [ -66,   66, -108,  -50,   54],\n       [-133,  -77,  147, -111, -120],\n       [ -19,    7, -181,  -24,   32],\n       [-178,  -22,  122, -155, -114],\n       [  -8,   99, -116,  -98,   66],\n       [-184,  -56,  130, -132, -170],\n       [ -97,   14, -188,  -12,   34],\n       [-164,  -41,  161, -140, -115],\n       [ -44,   69, -140,  -64,   10],\n       [-101,  -14,  150, -173, -115],\n       [ -31,    5, -135,   -5,   64],\n       [-108,  -21,  104, -169, -133],\n       [ -65,   91, -110,  -61,   44]])"
     },
     "execution_count": 22,
     "metadata": {},
     "output_type": "execute_result"
    }
   ],
   "source": [
    "np.reshape(npArray, (20, 5))"
   ],
   "metadata": {
    "collapsed": false,
    "pycharm": {
     "name": "#%%\n"
    }
   }
  },
  {
   "cell_type": "markdown",
   "source": [
    "## Part 5d - numpy.extract\n",
    "\n",
    "The homework we did for Homework 4 worked at conditionally extracting elements.  This is another way we can accomplish the same generalized goal.\n",
    "\n",
    "Please read the following documentation:\n",
    "https://numpy.org/doc/stable/reference/generated/numpy.extract.html\n",
    "\n",
    "In this exercise, please pull out all elements that have negative values, between -40 and -70.\n",
    "\n",
    "Tips:\n",
    "* Remember what you did on Homework 4"
   ],
   "metadata": {
    "collapsed": false,
    "pycharm": {
     "name": "#%% md\n"
    }
   }
  },
  {
   "cell_type": "code",
   "execution_count": 23,
   "outputs": [
    {
     "data": {
      "text/plain": "array([[False, False, False, False, False,  True, False, False, False,\n        False],\n       [False,  True, False, False, False, False, False, False, False,\n        False],\n       [False, False, False, False, False, False, False, False, False,\n        False],\n       [False, False, False, False, False,  True, False, False,  True,\n        False],\n       [False, False, False, False, False, False, False, False, False,\n        False],\n       [False, False, False, False, False, False, False, False, False,\n        False],\n       [False,  True, False, False, False, False, False, False, False,\n        False],\n       [False,  True, False, False, False,  True, False, False,  True,\n        False],\n       [False, False, False, False, False, False, False, False, False,\n        False],\n       [False, False, False, False, False,  True, False, False,  True,\n        False]])"
     },
     "execution_count": 23,
     "metadata": {},
     "output_type": "execute_result"
    }
   ],
   "source": [
    "npArrayCondition = np.vectorize(lambda x: -70 <= x <= -40)\n",
    "condition = npArrayCondition(npArray)\n",
    "condition"
   ],
   "metadata": {
    "collapsed": false,
    "pycharm": {
     "name": "#%%\n"
    }
   }
  },
  {
   "cell_type": "code",
   "execution_count": 24,
   "outputs": [
    {
     "data": {
      "text/plain": "array([-40, -63, -66, -50, -56, -41, -44, -64, -65, -61])"
     },
     "execution_count": 24,
     "metadata": {},
     "output_type": "execute_result"
    }
   ],
   "source": [
    "np.extract(condition, npArray)"
   ],
   "metadata": {
    "collapsed": false,
    "pycharm": {
     "name": "#%%\n"
    }
   }
  }
 ],
 "metadata": {
  "kernelspec": {
   "display_name": "Python 3",
   "language": "python",
   "name": "python3"
  },
  "language_info": {
   "codemirror_mode": {
    "name": "ipython",
    "version": 2
   },
   "file_extension": ".py",
   "mimetype": "text/x-python",
   "name": "python",
   "nbconvert_exporter": "python",
   "pygments_lexer": "ipython2",
   "version": "2.7.6"
  }
 },
 "nbformat": 4,
 "nbformat_minor": 0
}