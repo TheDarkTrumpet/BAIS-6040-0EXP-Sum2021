{
 "cells": [
  {
   "cell_type": "markdown",
   "metadata": {
    "collapsed": true,
    "pycharm": {
     "name": "#%% md\n"
    }
   },
   "source": [
    "# 02.02.01 - Flow Control\n",
    "\n",
    "## Description\n",
    "\n",
    "This document demonstrates loops and various methods of flow control"
   ]
  },
  {
   "cell_type": "code",
   "execution_count": 1,
   "outputs": [
    {
     "name": "stdout",
     "output_type": "stream",
     "text": [
      "myList length: 20\n"
     ]
    },
    {
     "data": {
      "text/plain": "[1, 2, 3, 4, 5, 6, 7, 8, 9, 10, 11, 12, 13, 14, 15, 16, 17, 18, 19, 20]"
     },
     "execution_count": 1,
     "metadata": {},
     "output_type": "execute_result"
    }
   ],
   "source": [
    "# Generate 20 items\n",
    "myList = (list(range(1, 21)))\n",
    "print(f\"myList length: {len(myList)}\")\n",
    "myList"
   ],
   "metadata": {
    "collapsed": false,
    "pycharm": {
     "name": "#%%\n"
    }
   }
  },
  {
   "cell_type": "markdown",
   "source": [
    "# For Loops"
   ],
   "metadata": {
    "collapsed": false,
    "pycharm": {
     "name": "#%% md\n"
    }
   }
  },
  {
   "cell_type": "code",
   "execution_count": 2,
   "outputs": [
    {
     "name": "stdout",
     "output_type": "stream",
     "text": [
      "Index = 0, element = 1\n",
      "Index = 1, element = 2\n",
      "Index = 2, element = 3\n",
      "Index = 3, element = 4\n",
      "Index = 4, element = 5\n",
      "Index = 5, element = 6\n",
      "Index = 6, element = 7\n",
      "Index = 7, element = 8\n",
      "Index = 8, element = 9\n",
      "Index = 9, element = 10\n",
      "Index = 10, element = 11\n",
      "Index = 11, element = 12\n",
      "Index = 12, element = 13\n",
      "Index = 13, element = 14\n",
      "Index = 14, element = 15\n",
      "Index = 15, element = 16\n",
      "Index = 16, element = 17\n",
      "Index = 17, element = 18\n",
      "Index = 18, element = 19\n",
      "Index = 19, element = 20\n"
     ]
    }
   ],
   "source": [
    "index = 0\n",
    "for element in myList:\n",
    "    print(f\"Index = {index}, element = {element}\")\n",
    "    index += 1  # Increment by 1"
   ],
   "metadata": {
    "collapsed": false,
    "pycharm": {
     "name": "#%%\n"
    }
   }
  },
  {
   "cell_type": "markdown",
   "source": [
    "# While Loops"
   ],
   "metadata": {
    "collapsed": false,
    "pycharm": {
     "name": "#%% md\n"
    }
   }
  },
  {
   "cell_type": "code",
   "execution_count": 3,
   "outputs": [
    {
     "name": "stdout",
     "output_type": "stream",
     "text": [
      "x => 0\n",
      "x => 1\n",
      "x => 2\n",
      "x => 3\n",
      "x => 4\n",
      "x => 5\n",
      "x => 6\n",
      "x => 7\n",
      "x => 8\n",
      "x => 9\n"
     ]
    }
   ],
   "source": [
    "x = 0\n",
    "while x != 10:\n",
    "    print(f\"x => {x}\")\n",
    "    x += 1"
   ],
   "metadata": {
    "collapsed": false,
    "pycharm": {
     "name": "#%%\n"
    }
   }
  },
  {
   "cell_type": "markdown",
   "source": [
    "# If Conditions\n",
    "A very crucial understanding"
   ],
   "metadata": {
    "collapsed": false,
    "pycharm": {
     "name": "#%% md\n"
    }
   }
  },
  {
   "cell_type": "code",
   "execution_count": 4,
   "outputs": [
    {
     "name": "stdout",
     "output_type": "stream",
     "text": [
      "Yes, this is true\n"
     ]
    }
   ],
   "source": [
    "if True:\n",
    "    print(\"Yes, this is true\")"
   ],
   "metadata": {
    "collapsed": false,
    "pycharm": {
     "name": "#%%\n"
    }
   }
  },
  {
   "cell_type": "code",
   "execution_count": 5,
   "outputs": [
    {
     "name": "stdout",
     "output_type": "stream",
     "text": [
      "x => 0\n",
      "x => 2\n",
      "x => 4\n",
      "x => 6\n",
      "x => 8\n"
     ]
    }
   ],
   "source": [
    "# Combine with loops\n",
    "x = 0\n",
    "while x < 10:\n",
    "    if x % 2 == 0:\n",
    "        print(f\"x => {x}\")\n",
    "    x += 1"
   ],
   "metadata": {
    "collapsed": false,
    "pycharm": {
     "name": "#%%\n"
    }
   }
  },
  {
   "cell_type": "code",
   "execution_count": 6,
   "outputs": [
    {
     "name": "stdout",
     "output_type": "stream",
     "text": [
      "Index = 1, element = 2\n",
      "Index = 3, element = 4\n",
      "Index = 5, element = 6\n",
      "Index = 7, element = 8\n",
      "Index = 9, element = 10\n",
      "Index = 11, element = 12\n",
      "Index = 13, element = 14\n",
      "Index = 15, element = 16\n",
      "Index = 17, element = 18\n",
      "Index = 19, element = 20\n"
     ]
    }
   ],
   "source": [
    "index = 0\n",
    "for element in myList:\n",
    "    if element % 2 == 0:\n",
    "        print(f\"Index = {index}, element = {element}\")\n",
    "    index += 1"
   ],
   "metadata": {
    "collapsed": false,
    "pycharm": {
     "name": "#%%\n"
    }
   }
  },
  {
   "cell_type": "code",
   "execution_count": 7,
   "outputs": [
    {
     "name": "stdout",
     "output_type": "stream",
     "text": [
      "Elements shared! 4\n",
      "Elements shared! 5\n"
     ]
    }
   ],
   "source": [
    "listA = [1, 2, 3, 4, 5]\n",
    "listB = [4, 5, 6, 7, 8]\n",
    "for element in listA:\n",
    "    if element in listB:\n",
    "        print(f\"Elements shared! {element}\")"
   ],
   "metadata": {
    "collapsed": false,
    "pycharm": {
     "name": "#%%\n"
    }
   }
  },
  {
   "cell_type": "markdown",
   "source": [
    "# Maps & Functional Programming\n",
    "Maps are incredibly useful, as are lambdas.  And should be used fairly often"
   ],
   "metadata": {
    "collapsed": false
   }
  },
  {
   "cell_type": "markdown",
   "source": [
    "## Map Function"
   ],
   "metadata": {
    "collapsed": false,
    "pycharm": {
     "name": "#%% md\n"
    }
   }
  },
  {
   "cell_type": "code",
   "execution_count": 8,
   "outputs": [
    {
     "data": {
      "text/plain": "<function __main__.<lambda>(x)>"
     },
     "execution_count": 8,
     "metadata": {},
     "output_type": "execute_result"
    }
   ],
   "source": [
    "# Create a lambda function, same as we used above\n",
    "def evenNumFunc(x):\n",
    "    return x % 2\n",
    "\n",
    "evenNumber = lambda x: x % 2\n",
    "evenNumber"
   ],
   "metadata": {
    "collapsed": false,
    "pycharm": {
     "name": "#%%\n"
    }
   }
  },
  {
   "cell_type": "code",
   "execution_count": 9,
   "outputs": [
    {
     "data": {
      "text/plain": "[1, 2, 3, 4, 5, 6, 7, 8, 9, 10, 11, 12, 13, 14, 15, 16, 17, 18, 19, 20]"
     },
     "execution_count": 9,
     "metadata": {},
     "output_type": "execute_result"
    }
   ],
   "source": [
    "myList = list(range(1, 21))\n",
    "myList"
   ],
   "metadata": {
    "collapsed": false,
    "pycharm": {
     "name": "#%%\n"
    }
   }
  },
  {
   "cell_type": "code",
   "execution_count": 10,
   "outputs": [
    {
     "name": "stdout",
     "output_type": "stream",
     "text": [
      "Using the named function, evenNumFunc: [1, 0, 1, 0, 1, 0, 1, 0, 1, 0, 1, 0, 1, 0, 1, 0, 1, 0, 1, 0]\n",
      "Using the lambda, evenNumber: [1, 0, 1, 0, 1, 0, 1, 0, 1, 0, 1, 0, 1, 0, 1, 0, 1, 0, 1, 0]\n"
     ]
    }
   ],
   "source": [
    "print(f\"Using the named function, evenNumFunc: {list(map(evenNumFunc, myList))}\")\n",
    "print(f\"Using the lambda, evenNumber: {list(map(evenNumber, myList))}\")"
   ],
   "metadata": {
    "collapsed": false,
    "pycharm": {
     "name": "#%%\n"
    }
   }
  },
  {
   "cell_type": "code",
   "execution_count": 11,
   "outputs": [
    {
     "name": "stdout",
     "output_type": "stream",
     "text": [
      "[False, True, False, True, False, True, False, True, False, True, False, True, False, True, False, True, False, True, False, True]\n"
     ]
    }
   ],
   "source": [
    "# Can do this all with less clutter, and more useful\n",
    "print(f\"{list(map(lambda x: x % 2 == 0, myList))}\")"
   ],
   "metadata": {
    "collapsed": false,
    "pycharm": {
     "name": "#%%\n"
    }
   }
  },
  {
   "cell_type": "code",
   "execution_count": 12,
   "outputs": [
    {
     "data": {
      "text/plain": "[0.01,\n 0.02,\n 0.03,\n 0.04,\n 0.05,\n 0.06,\n 0.07,\n 0.08,\n 0.09,\n 0.1,\n 0.11,\n 0.12,\n 0.13,\n 0.14,\n 0.15,\n 0.16,\n 0.17,\n 0.18,\n 0.19,\n 0.2]"
     },
     "execution_count": 12,
     "metadata": {},
     "output_type": "execute_result"
    }
   ],
   "source": [
    "# used mostly for altering the data. (e.g. create a percentage)\n",
    "list(map(lambda x: x / 100, myList))"
   ],
   "metadata": {
    "collapsed": false,
    "pycharm": {
     "name": "#%%\n"
    }
   }
  },
  {
   "cell_type": "markdown",
   "source": [
    "## Filter\n",
    "* Able to return a new list based off a criteria"
   ],
   "metadata": {
    "collapsed": false,
    "pycharm": {
     "name": "#%% md\n"
    }
   }
  },
  {
   "cell_type": "code",
   "execution_count": 13,
   "outputs": [
    {
     "name": "stdout",
     "output_type": "stream",
     "text": [
      "filter_evens => [2, 4, 6, 8, 10, 12, 14, 16, 18, 20, 22, 24, 26, 28, 30, 32, 34, 36, 38, 40, 42, 44, 46, 48]\n",
      "filter_odds => [1, 3, 5, 7, 9, 11, 13, 15, 17, 19, 21, 23, 25, 27, 29, 31, 33, 35, 37, 39, 41, 43, 45, 47, 49]\n",
      "filter_by5s => [5, 10, 15, 20, 25, 30, 35, 40, 45]\n"
     ]
    }
   ],
   "source": [
    "# First, the wrong way to do this.\n",
    "def filter_evens(x):\n",
    "    return x % 2 == 0\n",
    "def filter_odds(x):\n",
    "    return x % 2 != 0\n",
    "def filter_by5s(x):\n",
    "    return x % 5 == 0\n",
    "\n",
    "myList = list(range(1,50))\n",
    "print(f\"filter_evens => {list(filter(filter_evens, myList))}\")\n",
    "print(f\"filter_odds => {list(filter(filter_odds, myList))}\")\n",
    "print(f\"filter_by5s => {list(filter(filter_by5s, myList))}\")"
   ],
   "metadata": {
    "collapsed": false,
    "pycharm": {
     "name": "#%%\n"
    }
   }
  },
  {
   "cell_type": "code",
   "execution_count": 14,
   "outputs": [
    {
     "name": "stdout",
     "output_type": "stream",
     "text": [
      "Evens => [2, 4, 6, 8, 10, 12, 14, 16, 18, 20, 22, 24, 26, 28, 30, 32, 34, 36, 38, 40, 42, 44, 46, 48]\n",
      "Odds => [1, 3, 5, 7, 9, 11, 13, 15, 17, 19, 21, 23, 25, 27, 29, 31, 33, 35, 37, 39, 41, 43, 45, 47, 49]\n",
      "5s => [5, 10, 15, 20, 25, 30, 35, 40, 45]\n"
     ]
    }
   ],
   "source": [
    "# A much better way to do this:\n",
    "print(f\"Evens => {list(filter(lambda x: x%2 == 0, myList))}\")\n",
    "print(f\"Odds => {list(filter(lambda x: x%2 != 0, myList))}\")\n",
    "print(f\"5s => {list(filter(lambda x: x%5 == 0, myList))}\")"
   ],
   "metadata": {
    "collapsed": false,
    "pycharm": {
     "name": "#%%\n"
    }
   }
  },
  {
   "cell_type": "code",
   "execution_count": 15,
   "outputs": [
    {
     "data": {
      "text/plain": "[('Id 1', 0.01),\n ('Id 2', 0.02),\n ('Id 3', 0.03),\n ('Id 4', 0.04),\n ('Id 5', 0.05),\n ('Id 6', 0.06),\n ('Id 7', 0.07),\n ('Id 8', 0.08),\n ('Id 9', 0.09),\n ('Id 10', 0.1),\n ('Id 11', 0.11),\n ('Id 12', 0.12),\n ('Id 13', 0.13),\n ('Id 14', 0.14),\n ('Id 15', 0.15),\n ('Id 16', 0.16),\n ('Id 17', 0.17),\n ('Id 18', 0.18),\n ('Id 19', 0.19),\n ('Id 20', 0.2),\n ('Id 21', 0.21),\n ('Id 22', 0.22),\n ('Id 23', 0.23),\n ('Id 24', 0.24),\n ('Id 25', 0.25),\n ('Id 26', 0.26),\n ('Id 27', 0.27),\n ('Id 28', 0.28),\n ('Id 29', 0.29),\n ('Id 30', 0.3),\n ('Id 31', 0.31),\n ('Id 32', 0.32),\n ('Id 33', 0.33),\n ('Id 34', 0.34),\n ('Id 35', 0.35),\n ('Id 36', 0.36),\n ('Id 37', 0.37),\n ('Id 38', 0.38),\n ('Id 39', 0.39),\n ('Id 40', 0.4),\n ('Id 41', 0.41),\n ('Id 42', 0.42),\n ('Id 43', 0.43),\n ('Id 44', 0.44),\n ('Id 45', 0.45),\n ('Id 46', 0.46),\n ('Id 47', 0.47),\n ('Id 48', 0.48),\n ('Id 49', 0.49)]"
     },
     "execution_count": 15,
     "metadata": {},
     "output_type": "execute_result"
    }
   ],
   "source": [
    "# Filter off dictionaries\n",
    "mySampleDictionary = {}\n",
    "list(map(lambda x: (mySampleDictionary.update({\"Id \" + str(x): x/100})), range(1, 50)))\n",
    "list(mySampleDictionary.items())"
   ],
   "metadata": {
    "collapsed": false,
    "pycharm": {
     "name": "#%%\n"
    }
   }
  },
  {
   "cell_type": "code",
   "execution_count": 16,
   "outputs": [
    {
     "data": {
      "text/plain": "[('Id 23', 0.23),\n ('Id 24', 0.24),\n ('Id 25', 0.25),\n ('Id 26', 0.26),\n ('Id 27', 0.27),\n ('Id 28', 0.28),\n ('Id 29', 0.29),\n ('Id 30', 0.3),\n ('Id 31', 0.31),\n ('Id 32', 0.32),\n ('Id 33', 0.33),\n ('Id 34', 0.34),\n ('Id 35', 0.35),\n ('Id 36', 0.36),\n ('Id 37', 0.37),\n ('Id 38', 0.38),\n ('Id 39', 0.39),\n ('Id 40', 0.4),\n ('Id 41', 0.41),\n ('Id 42', 0.42),\n ('Id 43', 0.43),\n ('Id 44', 0.44),\n ('Id 45', 0.45),\n ('Id 46', 0.46),\n ('Id 47', 0.47),\n ('Id 48', 0.48),\n ('Id 49', 0.49)]"
     },
     "execution_count": 16,
     "metadata": {},
     "output_type": "execute_result"
    }
   ],
   "source": [
    "elements = list(filter(lambda x: x[1] > 0.22, list(mySampleDictionary.items())))\n",
    "elements"
   ],
   "metadata": {
    "collapsed": false,
    "pycharm": {
     "name": "#%%\n"
    }
   }
  },
  {
   "cell_type": "code",
   "execution_count": 17,
   "outputs": [
    {
     "data": {
      "text/plain": "{'Id 23': 0.23,\n 'Id 24': 0.24,\n 'Id 25': 0.25,\n 'Id 26': 0.26,\n 'Id 27': 0.27,\n 'Id 28': 0.28,\n 'Id 29': 0.29,\n 'Id 30': 0.3,\n 'Id 31': 0.31,\n 'Id 32': 0.32,\n 'Id 33': 0.33,\n 'Id 34': 0.34,\n 'Id 35': 0.35,\n 'Id 36': 0.36,\n 'Id 37': 0.37,\n 'Id 38': 0.38,\n 'Id 39': 0.39,\n 'Id 40': 0.4,\n 'Id 41': 0.41,\n 'Id 42': 0.42,\n 'Id 43': 0.43,\n 'Id 44': 0.44,\n 'Id 45': 0.45,\n 'Id 46': 0.46,\n 'Id 47': 0.47,\n 'Id 48': 0.48,\n 'Id 49': 0.49}"
     },
     "execution_count": 17,
     "metadata": {},
     "output_type": "execute_result"
    }
   ],
   "source": [
    "elementDict = dict(elements)\n",
    "elementDict"
   ],
   "metadata": {
    "collapsed": false,
    "pycharm": {
     "name": "#%%\n"
    }
   }
  },
  {
   "cell_type": "code",
   "execution_count": 17,
   "outputs": [],
   "source": [],
   "metadata": {
    "collapsed": false,
    "pycharm": {
     "name": "#%%\n"
    }
   }
  }
 ],
 "metadata": {
  "kernelspec": {
   "display_name": "Python 3",
   "language": "python",
   "name": "python3"
  },
  "language_info": {
   "codemirror_mode": {
    "name": "ipython",
    "version": 2
   },
   "file_extension": ".py",
   "mimetype": "text/x-python",
   "name": "python",
   "nbconvert_exporter": "python",
   "pygments_lexer": "ipython2",
   "version": "2.7.6"
  }
 },
 "nbformat": 4,
 "nbformat_minor": 0
}