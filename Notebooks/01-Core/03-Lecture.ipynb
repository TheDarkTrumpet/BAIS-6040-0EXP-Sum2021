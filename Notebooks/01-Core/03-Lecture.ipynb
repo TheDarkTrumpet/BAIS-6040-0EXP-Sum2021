{
 "cells": [
  {
   "cell_type": "markdown",
   "metadata": {
    "collapsed": true,
    "pycharm": {
     "name": "#%% md\n"
    }
   },
   "source": [
    "# Discussion Topics/Agenda\n",
    "\n",
    "* Supplemental Lectures - Good number of responses, Monday seems to be good so far.\n",
    "* Group Project\n",
    "* Homework 1 - Answers in Github\n",
    "* Homework 2 - Extended deadline 1 day, as soon as all are in, will publish answers\n",
    "* Homework 3 - What to do and how to approach it.\n",
    "* Grading (Homework 2 and 3) - timeline.\n",
    "* Preparing for the midterm\n",
    "\n",
    "  - Two Parts: Practical and Conceptual.  Conceptual is over the concepts (no code).  Practical is much like the homework, treated the same way.\n",
    "* Study Tips\n",
    "* New content: Functions, brief overview\n",
    "* For what time remains, jump into groups, and start discussing project ideas."
   ]
  },
  {
   "cell_type": "markdown",
   "source": [
    "# Study Tips\n",
    "1.  See the \"tree\" from the \"forest\".  This is a turn on the phrase of seeing the \"forest from the trees\" when getting bogged in details.  Programming problems are, often, a combination of smaller units of work into something much larger. Often times it's useful to decompose a large problem into a smaller set of problems, and treat each sub-problem independently of the whole.  For example, if you're generating and then picking elements off a condition we have two sub-problems here.  The first being picking the elements, the other being the filtering.  Work at solving one of the two first."
   ],
   "metadata": {
    "collapsed": false,
    "pycharm": {
     "name": "#%% md\n"
    }
   }
  },
  {
   "cell_type": "markdown",
   "source": [
    "2.  Create a simplified version of what's asked.  Let's say there's a multi-step operation, within a loop, that has to happen.  When faced with that kind of situation, try and avoid looking at the whole problem (#1) and trying to get there in one shot.  Instead, start with a very simple loop to just do something some number of times.  Then, modify the loop so it does something the correct number of times.  Then, add in collection of some elements (just something, doesn't even have to be the original problem).  Then, update the logic of the collection to pick the right elements.  So on, and so on.  It's a very iterative approach, each part building on the other."
   ],
   "metadata": {
    "collapsed": false,
    "pycharm": {
     "name": "#%% md\n"
    }
   }
  },
  {
   "cell_type": "markdown",
   "source": [
    "3.  Often times starting with paper is the best option.  Draw out the logic on paper, identifying the specific sub-parts of the problem.  Using a flow chart (https://en.wikipedia.org/wiki/Flowchart (Links to an external site.)) can aid drastically in this step.  I keep a notebook (actually 2) open to my left all the time.  Just yesterday, working on a Docker setup, I was heavily using the notebook to help plan out how this is going to look."
   ],
   "metadata": {
    "collapsed": false,
    "pycharm": {
     "name": "#%% md\n"
    }
   }
  },
  {
   "cell_type": "markdown",
   "source": [
    "4.  Don't be afraid to 'break' things.  I told a story to the 2nd group about how I broke computers (to the point of it being brought into repair shops) when I was a kid learning C.  This follows with point #1 and #2 above.  You want to try something, even if it's not the right answer and may not appear to get you much closer.  Try something, run it, if you see the red box (exception), then read through it, try something new, etc.  Breaking things is a good thing in the programming/IT world (Unless it's a production system, don't break production)."
   ],
   "metadata": {
    "collapsed": false,
    "pycharm": {
     "name": "#%% md\n"
    }
   }
  },
  {
   "cell_type": "markdown",
   "source": [
    "5.  Create your own documentation.  This doesn't fit with the 'being stuck', but more to aid in preventing getting stuck in the future.  Your own documentation is best done in what you feel comfortable with, but ideally needs to be indexed or somewhat searchable.  I think using paper, or a folder for Jupyter notebooks, etc. is fine.  I'm simply pushing out too many files, and there's so much out there that you shouldn't rely only on my files/books/internet for said content.  It also helps if you 'teach' what you're taught to help solidify knowledge.  For example, document what a for loop is (dedicated notebook, or on paper), provide a syntax example (what does it look like), and some examples that you make up.  How does it compare to other loops, what notebooks I provide have further information (links, hyperlinks, etc).  This will both give you practice, and aid in memorizing the syntax, as well as serve as a useful reference.  If you find a new use for a loop that you don't have documented, then take the opportunity to document.   I have my own environment for this type of stuff (org-mode in emacs), and updated my documentation on luks (encryption) just yesterday when I read of an alternative method of using it yesterday."
   ],
   "metadata": {
    "collapsed": false,
    "pycharm": {
     "name": "#%% md\n"
    }
   }
  }
 ],
 "metadata": {
  "kernelspec": {
   "display_name": "Python 3",
   "language": "python",
   "name": "python3"
  },
  "language_info": {
   "codemirror_mode": {
    "name": "ipython",
    "version": 2
   },
   "file_extension": ".py",
   "mimetype": "text/x-python",
   "name": "python",
   "nbconvert_exporter": "python",
   "pygments_lexer": "ipython2",
   "version": "2.7.6"
  }
 },
 "nbformat": 4,
 "nbformat_minor": 0
}