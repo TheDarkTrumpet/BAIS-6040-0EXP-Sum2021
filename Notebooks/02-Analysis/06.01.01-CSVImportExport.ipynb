{
 "cells": [
  {
   "cell_type": "markdown",
   "metadata": {
    "collapsed": true,
    "pycharm": {
     "name": "#%% md\n"
    }
   },
   "source": [
    "# 06.01.01 - CSVImportExport\n",
    "\n",
    "## Purpose\n",
    "\n",
    "This notebook specifically talks about dealing with CSV files.  Both input/output.  Please note that we won't be doing really any analysis on these files.  Just pulling them in, doing simple operations, and exporting them\n",
    "\n",
    "This notebook is part of a set of notebooks about file input/output.\n",
    "\n",
    "## Requirements\n",
    "\n",
    "This notebook will read from the data directory within the Github repo.  Pulling this notebook, by itself, will likely NOT work.  You will need to pull down the entire repository.\n",
    "\n",
    "This notebook will also read from a CSV online.  So internet access at the time of run is required.\n",
    "\n",
    "This notebook is developed in PyCharm.  It's possible that you may need to modify some paths to get this working if you are using Jupyter or have a different environment.  Please look at and modify the _dataDir_ and __exportDir__ variable below, as needed.  These need to exist, and are directory names.  Subsequent runs of this should overwrite files in the exportDir, and these aren't version controlled."
   ]
  },
  {
   "cell_type": "code",
   "execution_count": 1,
   "outputs": [],
   "source": [
    "# IMPORTANT: CHANGE THIS PATH IF IT DOESN'T WORK FOR YOU!!!\n",
    "dataDir = \"../../data/\"\n",
    "exportDir = \"../../export/\"\n",
    "\n",
    "import pandas as pd"
   ],
   "metadata": {
    "collapsed": false,
    "pycharm": {
     "name": "#%%\n"
    }
   }
  },
  {
   "cell_type": "markdown",
   "source": [
    "# Reading from on-disk locations"
   ],
   "metadata": {
    "collapsed": false,
    "pycharm": {
     "name": "#%% md\n"
    }
   }
  },
  {
   "cell_type": "code",
   "execution_count": 2,
   "outputs": [
    {
     "data": {
      "text/plain": "     Rank  Year         Name  Frequency\n0       1  1980      Michael       3886\n1       2  1980        Jason       2389\n2       3  1980  Christopher       2273\n3       4  1980      Matthew       2112\n4       5  1980        David       2088\n..    ...   ...          ...        ...\n845    21  2013       NATHAN        470\n846    22  2013       ANDREW        468\n847    23  2013        HENRY        463\n848    24  2013        DAVID        461\n849    25  2013         JACK        440\n\n[850 rows x 4 columns]",
      "text/html": "<div>\n<style scoped>\n    .dataframe tbody tr th:only-of-type {\n        vertical-align: middle;\n    }\n\n    .dataframe tbody tr th {\n        vertical-align: top;\n    }\n\n    .dataframe thead th {\n        text-align: right;\n    }\n</style>\n<table border=\"1\" class=\"dataframe\">\n  <thead>\n    <tr style=\"text-align: right;\">\n      <th></th>\n      <th>Rank</th>\n      <th>Year</th>\n      <th>Name</th>\n      <th>Frequency</th>\n    </tr>\n  </thead>\n  <tbody>\n    <tr>\n      <th>0</th>\n      <td>1</td>\n      <td>1980</td>\n      <td>Michael</td>\n      <td>3886</td>\n    </tr>\n    <tr>\n      <th>1</th>\n      <td>2</td>\n      <td>1980</td>\n      <td>Jason</td>\n      <td>2389</td>\n    </tr>\n    <tr>\n      <th>2</th>\n      <td>3</td>\n      <td>1980</td>\n      <td>Christopher</td>\n      <td>2273</td>\n    </tr>\n    <tr>\n      <th>3</th>\n      <td>4</td>\n      <td>1980</td>\n      <td>Matthew</td>\n      <td>2112</td>\n    </tr>\n    <tr>\n      <th>4</th>\n      <td>5</td>\n      <td>1980</td>\n      <td>David</td>\n      <td>2088</td>\n    </tr>\n    <tr>\n      <th>...</th>\n      <td>...</td>\n      <td>...</td>\n      <td>...</td>\n      <td>...</td>\n    </tr>\n    <tr>\n      <th>845</th>\n      <td>21</td>\n      <td>2013</td>\n      <td>NATHAN</td>\n      <td>470</td>\n    </tr>\n    <tr>\n      <th>846</th>\n      <td>22</td>\n      <td>2013</td>\n      <td>ANDREW</td>\n      <td>468</td>\n    </tr>\n    <tr>\n      <th>847</th>\n      <td>23</td>\n      <td>2013</td>\n      <td>HENRY</td>\n      <td>463</td>\n    </tr>\n    <tr>\n      <th>848</th>\n      <td>24</td>\n      <td>2013</td>\n      <td>DAVID</td>\n      <td>461</td>\n    </tr>\n    <tr>\n      <th>849</th>\n      <td>25</td>\n      <td>2013</td>\n      <td>JACK</td>\n      <td>440</td>\n    </tr>\n  </tbody>\n</table>\n<p>850 rows × 4 columns</p>\n</div>"
     },
     "execution_count": 2,
     "metadata": {},
     "output_type": "execute_result"
    }
   ],
   "source": [
    "boyNames = pd.read_csv(f\"{dataDir}/BoyNames.csv\")\n",
    "boyNames"
   ],
   "metadata": {
    "collapsed": false,
    "pycharm": {
     "name": "#%%\n"
    }
   }
  },
  {
   "cell_type": "markdown",
   "source": [
    "Processing/dealing with the file is pretty much the same as we've seen.  We can do filtering and pull data from it."
   ],
   "metadata": {
    "collapsed": false,
    "pycharm": {
     "name": "#%% md\n"
    }
   }
  },
  {
   "cell_type": "code",
   "execution_count": 3,
   "outputs": [
    {
     "data": {
      "text/plain": "     Name  Year  Frequency\n0   David  1980       2088\n1   David  1981       2043\n2   David  1982       1983\n3   David  1983       1940\n4   David  1984       1847\n5   David  1985       1932\n6   David  1986       1749\n7   David  1987       1707\n8   David  1988       1647\n9   David  1989       1616\n10  David  1990       1559\n11  David  1991       1422\n12  David  1992       1283\n13  David  1993       1226\n14  David  1994       1134\n15  David  1995       1061\n16  David  1996       1095\n17  David  1997       1005\n18  David  1998        933\n19  David  1999        954\n20  David  2000        873\n21  David  2001        929\n22  David  2002        848\n23  David  2003        878\n24  David  2004        864\n25  David  2005        832",
      "text/html": "<div>\n<style scoped>\n    .dataframe tbody tr th:only-of-type {\n        vertical-align: middle;\n    }\n\n    .dataframe tbody tr th {\n        vertical-align: top;\n    }\n\n    .dataframe thead th {\n        text-align: right;\n    }\n</style>\n<table border=\"1\" class=\"dataframe\">\n  <thead>\n    <tr style=\"text-align: right;\">\n      <th></th>\n      <th>Name</th>\n      <th>Year</th>\n      <th>Frequency</th>\n    </tr>\n  </thead>\n  <tbody>\n    <tr>\n      <th>0</th>\n      <td>David</td>\n      <td>1980</td>\n      <td>2088</td>\n    </tr>\n    <tr>\n      <th>1</th>\n      <td>David</td>\n      <td>1981</td>\n      <td>2043</td>\n    </tr>\n    <tr>\n      <th>2</th>\n      <td>David</td>\n      <td>1982</td>\n      <td>1983</td>\n    </tr>\n    <tr>\n      <th>3</th>\n      <td>David</td>\n      <td>1983</td>\n      <td>1940</td>\n    </tr>\n    <tr>\n      <th>4</th>\n      <td>David</td>\n      <td>1984</td>\n      <td>1847</td>\n    </tr>\n    <tr>\n      <th>5</th>\n      <td>David</td>\n      <td>1985</td>\n      <td>1932</td>\n    </tr>\n    <tr>\n      <th>6</th>\n      <td>David</td>\n      <td>1986</td>\n      <td>1749</td>\n    </tr>\n    <tr>\n      <th>7</th>\n      <td>David</td>\n      <td>1987</td>\n      <td>1707</td>\n    </tr>\n    <tr>\n      <th>8</th>\n      <td>David</td>\n      <td>1988</td>\n      <td>1647</td>\n    </tr>\n    <tr>\n      <th>9</th>\n      <td>David</td>\n      <td>1989</td>\n      <td>1616</td>\n    </tr>\n    <tr>\n      <th>10</th>\n      <td>David</td>\n      <td>1990</td>\n      <td>1559</td>\n    </tr>\n    <tr>\n      <th>11</th>\n      <td>David</td>\n      <td>1991</td>\n      <td>1422</td>\n    </tr>\n    <tr>\n      <th>12</th>\n      <td>David</td>\n      <td>1992</td>\n      <td>1283</td>\n    </tr>\n    <tr>\n      <th>13</th>\n      <td>David</td>\n      <td>1993</td>\n      <td>1226</td>\n    </tr>\n    <tr>\n      <th>14</th>\n      <td>David</td>\n      <td>1994</td>\n      <td>1134</td>\n    </tr>\n    <tr>\n      <th>15</th>\n      <td>David</td>\n      <td>1995</td>\n      <td>1061</td>\n    </tr>\n    <tr>\n      <th>16</th>\n      <td>David</td>\n      <td>1996</td>\n      <td>1095</td>\n    </tr>\n    <tr>\n      <th>17</th>\n      <td>David</td>\n      <td>1997</td>\n      <td>1005</td>\n    </tr>\n    <tr>\n      <th>18</th>\n      <td>David</td>\n      <td>1998</td>\n      <td>933</td>\n    </tr>\n    <tr>\n      <th>19</th>\n      <td>David</td>\n      <td>1999</td>\n      <td>954</td>\n    </tr>\n    <tr>\n      <th>20</th>\n      <td>David</td>\n      <td>2000</td>\n      <td>873</td>\n    </tr>\n    <tr>\n      <th>21</th>\n      <td>David</td>\n      <td>2001</td>\n      <td>929</td>\n    </tr>\n    <tr>\n      <th>22</th>\n      <td>David</td>\n      <td>2002</td>\n      <td>848</td>\n    </tr>\n    <tr>\n      <th>23</th>\n      <td>David</td>\n      <td>2003</td>\n      <td>878</td>\n    </tr>\n    <tr>\n      <th>24</th>\n      <td>David</td>\n      <td>2004</td>\n      <td>864</td>\n    </tr>\n    <tr>\n      <th>25</th>\n      <td>David</td>\n      <td>2005</td>\n      <td>832</td>\n    </tr>\n  </tbody>\n</table>\n</div>"
     },
     "execution_count": 3,
     "metadata": {},
     "output_type": "execute_result"
    }
   ],
   "source": [
    "davidFrequency = boyNames[boyNames['Name'] == \"David\"].loc[:, (\"Name\", \"Year\", \"Frequency\")]\n",
    "davidFrequency.reset_index(inplace=True, drop=True)\n",
    "davidFrequency"
   ],
   "metadata": {
    "collapsed": false,
    "pycharm": {
     "name": "#%%\n"
    }
   }
  },
  {
   "cell_type": "markdown",
   "source": [
    "# Writing to an on-disk location"
   ],
   "metadata": {
    "collapsed": false,
    "pycharm": {
     "name": "#%% md\n"
    }
   }
  },
  {
   "cell_type": "code",
   "execution_count": 4,
   "outputs": [],
   "source": [
    "davidFrequency.to_csv(f\"{exportDir}/davidFrequency.csv\")\n",
    "\n",
    "# Note, this doesn't really tell us much, unless it fails.  Check the exportDirectory above!"
   ],
   "metadata": {
    "collapsed": false,
    "pycharm": {
     "name": "#%%\n"
    }
   }
  },
  {
   "cell_type": "markdown",
   "source": [
    "# Reading from an online-resource\n",
    "Note, to be able to do this from a Github repo, you need to use the \"raw\" URL to do so."
   ],
   "metadata": {
    "collapsed": false,
    "pycharm": {
     "name": "#%% md\n"
    }
   }
  },
  {
   "cell_type": "code",
   "execution_count": 5,
   "outputs": [
    {
     "data": {
      "text/plain": "            DATE   USERS\n0     01/01/2016   73404\n1     01/02/2016   66795\n2     01/03/2016   57185\n3     01/04/2016  106916\n4     01/05/2016   99982\n...          ...     ...\n1340  10/02/2019  164249\n1341  10/03/2019  159935\n1342  10/04/2019  159628\n1343  10/05/2019  131067\n1344  10/06/2019  111679\n\n[1345 rows x 2 columns]",
      "text/html": "<div>\n<style scoped>\n    .dataframe tbody tr th:only-of-type {\n        vertical-align: middle;\n    }\n\n    .dataframe tbody tr th {\n        vertical-align: top;\n    }\n\n    .dataframe thead th {\n        text-align: right;\n    }\n</style>\n<table border=\"1\" class=\"dataframe\">\n  <thead>\n    <tr style=\"text-align: right;\">\n      <th></th>\n      <th>DATE</th>\n      <th>USERS</th>\n    </tr>\n  </thead>\n  <tbody>\n    <tr>\n      <th>0</th>\n      <td>01/01/2016</td>\n      <td>73404</td>\n    </tr>\n    <tr>\n      <th>1</th>\n      <td>01/02/2016</td>\n      <td>66795</td>\n    </tr>\n    <tr>\n      <th>2</th>\n      <td>01/03/2016</td>\n      <td>57185</td>\n    </tr>\n    <tr>\n      <th>3</th>\n      <td>01/04/2016</td>\n      <td>106916</td>\n    </tr>\n    <tr>\n      <th>4</th>\n      <td>01/05/2016</td>\n      <td>99982</td>\n    </tr>\n    <tr>\n      <th>...</th>\n      <td>...</td>\n      <td>...</td>\n    </tr>\n    <tr>\n      <th>1340</th>\n      <td>10/02/2019</td>\n      <td>164249</td>\n    </tr>\n    <tr>\n      <th>1341</th>\n      <td>10/03/2019</td>\n      <td>159935</td>\n    </tr>\n    <tr>\n      <th>1342</th>\n      <td>10/04/2019</td>\n      <td>159628</td>\n    </tr>\n    <tr>\n      <th>1343</th>\n      <td>10/05/2019</td>\n      <td>131067</td>\n    </tr>\n    <tr>\n      <th>1344</th>\n      <td>10/06/2019</td>\n      <td>111679</td>\n    </tr>\n  </tbody>\n</table>\n<p>1345 rows × 2 columns</p>\n</div>"
     },
     "execution_count": 5,
     "metadata": {},
     "output_type": "execute_result"
    }
   ],
   "source": [
    "webUsers = pd.read_csv(\"https://raw.githubusercontent.com/TheDarkTrumpet/BAIS-6040-0EXP-spr2021/master/data/web-users.csv\")\n",
    "webUsers"
   ],
   "metadata": {
    "collapsed": false,
    "pycharm": {
     "name": "#%%\n"
    }
   }
  },
  {
   "cell_type": "markdown",
   "source": [
    "Processing/dealing with it in this way is exactly the same as we've done with other Pandas objects.  From the point it's loaded, on out, it's standard operations.  One important note is that in some cases we may need to convert, manually, what comes back to us.  Our datetime from the web-users wasn't pulled in. So we need to modify that, so we can filter."
   ],
   "metadata": {
    "collapsed": false,
    "pycharm": {
     "name": "#%% md\n"
    }
   }
  },
  {
   "cell_type": "code",
   "execution_count": 6,
   "outputs": [
    {
     "name": "stdout",
     "output_type": "stream",
     "text": [
      "<class 'pandas.core.frame.DataFrame'>\n",
      "RangeIndex: 1345 entries, 0 to 1344\n",
      "Data columns (total 2 columns):\n",
      " #   Column  Non-Null Count  Dtype         \n",
      "---  ------  --------------  -----         \n",
      " 0   DATE    1345 non-null   datetime64[ns]\n",
      " 1   USERS   1345 non-null   int64         \n",
      "dtypes: datetime64[ns](1), int64(1)\n",
      "memory usage: 21.1 KB\n"
     ]
    }
   ],
   "source": [
    "webUsers['DATE'] = pd.to_datetime(webUsers['DATE'])\n",
    "webUsers.info()"
   ],
   "metadata": {
    "collapsed": false,
    "pycharm": {
     "name": "#%%\n"
    }
   }
  },
  {
   "cell_type": "code",
   "execution_count": 7,
   "outputs": [
    {
     "data": {
      "text/plain": "          DATE   USERS\n0   2016-01-01   73404\n1   2016-01-02   66795\n2   2016-01-03   57185\n3   2016-01-04  106916\n4   2016-01-05   99982\n..         ...     ...\n331 2016-12-27   96198\n332 2016-12-28  102165\n333 2016-12-29   96002\n334 2016-12-30   95243\n335 2016-12-31   58315\n\n[336 rows x 2 columns]",
      "text/html": "<div>\n<style scoped>\n    .dataframe tbody tr th:only-of-type {\n        vertical-align: middle;\n    }\n\n    .dataframe tbody tr th {\n        vertical-align: top;\n    }\n\n    .dataframe thead th {\n        text-align: right;\n    }\n</style>\n<table border=\"1\" class=\"dataframe\">\n  <thead>\n    <tr style=\"text-align: right;\">\n      <th></th>\n      <th>DATE</th>\n      <th>USERS</th>\n    </tr>\n  </thead>\n  <tbody>\n    <tr>\n      <th>0</th>\n      <td>2016-01-01</td>\n      <td>73404</td>\n    </tr>\n    <tr>\n      <th>1</th>\n      <td>2016-01-02</td>\n      <td>66795</td>\n    </tr>\n    <tr>\n      <th>2</th>\n      <td>2016-01-03</td>\n      <td>57185</td>\n    </tr>\n    <tr>\n      <th>3</th>\n      <td>2016-01-04</td>\n      <td>106916</td>\n    </tr>\n    <tr>\n      <th>4</th>\n      <td>2016-01-05</td>\n      <td>99982</td>\n    </tr>\n    <tr>\n      <th>...</th>\n      <td>...</td>\n      <td>...</td>\n    </tr>\n    <tr>\n      <th>331</th>\n      <td>2016-12-27</td>\n      <td>96198</td>\n    </tr>\n    <tr>\n      <th>332</th>\n      <td>2016-12-28</td>\n      <td>102165</td>\n    </tr>\n    <tr>\n      <th>333</th>\n      <td>2016-12-29</td>\n      <td>96002</td>\n    </tr>\n    <tr>\n      <th>334</th>\n      <td>2016-12-30</td>\n      <td>95243</td>\n    </tr>\n    <tr>\n      <th>335</th>\n      <td>2016-12-31</td>\n      <td>58315</td>\n    </tr>\n  </tbody>\n</table>\n<p>336 rows × 2 columns</p>\n</div>"
     },
     "execution_count": 7,
     "metadata": {},
     "output_type": "execute_result"
    }
   ],
   "source": [
    "usersIn2016 = webUsers[(webUsers['DATE'] >= '2016-01-01') & (webUsers['DATE'] <= '2016-12-31')]\n",
    "usersIn2016"
   ],
   "metadata": {
    "collapsed": false,
    "pycharm": {
     "name": "#%%\n"
    }
   }
  },
  {
   "cell_type": "code",
   "execution_count": 8,
   "outputs": [],
   "source": [
    "usersIn2016.to_csv(f\"{exportDir}/2016Users.csv\")\n"
   ],
   "metadata": {
    "collapsed": false,
    "pycharm": {
     "name": "#%%\n"
    }
   }
  },
  {
   "cell_type": "code",
   "execution_count": 8,
   "outputs": [],
   "source": [],
   "metadata": {
    "collapsed": false,
    "pycharm": {
     "name": "#%%\n"
    }
   }
  }
 ],
 "metadata": {
  "kernelspec": {
   "display_name": "Python 3",
   "language": "python",
   "name": "python3"
  },
  "language_info": {
   "codemirror_mode": {
    "name": "ipython",
    "version": 2
   },
   "file_extension": ".py",
   "mimetype": "text/x-python",
   "name": "python",
   "nbconvert_exporter": "python",
   "pygments_lexer": "ipython2",
   "version": "2.7.6"
  }
 },
 "nbformat": 4,
 "nbformat_minor": 0
}