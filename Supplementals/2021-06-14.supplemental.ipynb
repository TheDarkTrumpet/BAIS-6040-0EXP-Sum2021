{
 "cells": [
  {
   "cell_type": "code",
   "execution_count": 1,
   "metadata": {
    "collapsed": true
   },
   "outputs": [],
   "source": [
    "import numpy as np\n",
    "import numpy.random as rnd"
   ]
  },
  {
   "cell_type": "code",
   "execution_count": 2,
   "outputs": [],
   "source": [
    "rnd.seed(237482374)"
   ],
   "metadata": {
    "collapsed": false,
    "pycharm": {
     "name": "#%%\n"
    }
   }
  },
  {
   "cell_type": "markdown",
   "source": [
    "# Demonstrating the concept of vectorize\n",
    "Why use lambdas over named functions?  Doesn't clutter global namespace"
   ],
   "metadata": {
    "collapsed": false,
    "pycharm": {
     "name": "#%% md\n"
    }
   }
  },
  {
   "cell_type": "code",
   "execution_count": 3,
   "outputs": [
    {
     "data": {
      "text/plain": "array([[ 5,  7,  1, 60, 58],\n       [23, 46, 70, 65, 70],\n       [77, 39, 53, 29, 35],\n       [32, 29, 38, 38, 87],\n       [94, 27,  8, 15, 57],\n       [14, 49, 79, 71, 25],\n       [60, 98, 70, 54, 75],\n       [60, 91,  1, 20, 45],\n       [43, 87, 79, 27, 42],\n       [78, 91, 74, 46, 62]])"
     },
     "execution_count": 3,
     "metadata": {},
     "output_type": "execute_result"
    }
   ],
   "source": [
    "myMatrix = rnd.randint(1, 100, (10, 5))\n",
    "myMatrix"
   ],
   "metadata": {
    "collapsed": false,
    "pycharm": {
     "name": "#%%\n"
    }
   }
  },
  {
   "cell_type": "code",
   "execution_count": 4,
   "outputs": [
    {
     "data": {
      "text/plain": "array([[  25,   49,    1, 3600, 3364],\n       [ 529, 2116, 4900, 4225, 4900],\n       [5929, 1521, 2809,  841, 1225],\n       [1024,  841, 1444, 1444, 7569],\n       [8836,  729,   64,  225, 3249],\n       [ 196, 2401, 6241, 5041,  625],\n       [3600, 9604, 4900, 2916, 5625],\n       [3600, 8281,    1,  400, 2025],\n       [1849, 7569, 6241,  729, 1764],\n       [6084, 8281, 5476, 2116, 3844]])"
     },
     "execution_count": 4,
     "metadata": {},
     "output_type": "execute_result"
    }
   ],
   "source": [
    "myMatrix * myMatrix"
   ],
   "metadata": {
    "collapsed": false,
    "pycharm": {
     "name": "#%%\n"
    }
   }
  },
  {
   "cell_type": "code",
   "execution_count": 5,
   "outputs": [],
   "source": [
    "addOneToEachElement = np.vectorize(lambda x: x + 1)"
   ],
   "metadata": {
    "collapsed": false,
    "pycharm": {
     "name": "#%%\n"
    }
   }
  },
  {
   "cell_type": "code",
   "execution_count": 6,
   "outputs": [],
   "source": [
    "def addOne(x):\n",
    "    return x + 1"
   ],
   "metadata": {
    "collapsed": false,
    "pycharm": {
     "name": "#%%\n"
    }
   }
  },
  {
   "cell_type": "code",
   "execution_count": 7,
   "outputs": [],
   "source": [
    "addOneToEachElement2 = np.vectorize(addOne)"
   ],
   "metadata": {
    "collapsed": false,
    "pycharm": {
     "name": "#%%\n"
    }
   }
  },
  {
   "cell_type": "code",
   "execution_count": 8,
   "outputs": [
    {
     "data": {
      "text/plain": "array([[ 5,  7,  1, 60, 58],\n       [23, 46, 70, 65, 70],\n       [77, 39, 53, 29, 35],\n       [32, 29, 38, 38, 87],\n       [94, 27,  8, 15, 57],\n       [14, 49, 79, 71, 25],\n       [60, 98, 70, 54, 75],\n       [60, 91,  1, 20, 45],\n       [43, 87, 79, 27, 42],\n       [78, 91, 74, 46, 62]])"
     },
     "execution_count": 8,
     "metadata": {},
     "output_type": "execute_result"
    }
   ],
   "source": [
    "myMatrix"
   ],
   "metadata": {
    "collapsed": false,
    "pycharm": {
     "name": "#%%\n"
    }
   }
  },
  {
   "cell_type": "code",
   "execution_count": 9,
   "outputs": [
    {
     "data": {
      "text/plain": "array([[ 6,  8,  2, 61, 59],\n       [24, 47, 71, 66, 71],\n       [78, 40, 54, 30, 36],\n       [33, 30, 39, 39, 88],\n       [95, 28,  9, 16, 58],\n       [15, 50, 80, 72, 26],\n       [61, 99, 71, 55, 76],\n       [61, 92,  2, 21, 46],\n       [44, 88, 80, 28, 43],\n       [79, 92, 75, 47, 63]])"
     },
     "execution_count": 9,
     "metadata": {},
     "output_type": "execute_result"
    }
   ],
   "source": [
    "myMatrixPlusOne = addOneToEachElement(myMatrix)\n",
    "myMatrixPlusOne"
   ],
   "metadata": {
    "collapsed": false,
    "pycharm": {
     "name": "#%%\n"
    }
   }
  },
  {
   "cell_type": "code",
   "execution_count": 10,
   "outputs": [
    {
     "data": {
      "text/plain": "array([[ 6,  8,  2, 61, 59],\n       [24, 47, 71, 66, 71],\n       [78, 40, 54, 30, 36],\n       [33, 30, 39, 39, 88],\n       [95, 28,  9, 16, 58],\n       [15, 50, 80, 72, 26],\n       [61, 99, 71, 55, 76],\n       [61, 92,  2, 21, 46],\n       [44, 88, 80, 28, 43],\n       [79, 92, 75, 47, 63]])"
     },
     "execution_count": 10,
     "metadata": {},
     "output_type": "execute_result"
    }
   ],
   "source": [
    "addOneToEachElement2(myMatrix)"
   ],
   "metadata": {
    "collapsed": false,
    "pycharm": {
     "name": "#%%\n"
    }
   }
  },
  {
   "cell_type": "code",
   "execution_count": 11,
   "outputs": [
    {
     "data": {
      "text/plain": "array([[1, 3, 2, 1, 2],\n       [1, 3, 3, 3, 3],\n       [1, 2, 2, 2, 1],\n       [1, 1, 1, 3, 1],\n       [1, 1, 3, 2, 2],\n       [1, 1, 3, 3, 2],\n       [3, 2, 3, 2, 1],\n       [3, 3, 2, 1, 2],\n       [3, 3, 2, 1, 1],\n       [1, 2, 3, 3, 2]])"
     },
     "execution_count": 11,
     "metadata": {},
     "output_type": "execute_result"
    }
   ],
   "source": [
    "complicatedLookup = {\n",
    "    \"1\": \"Cat\",\n",
    "    \"2\": \"Dog\",\n",
    "    \"3\": \"Snake\"\n",
    "}\n",
    "quickLookup = np.vectorize(lambda x: complicatedLookup[str(x)])\n",
    "myAnimalMatrix = rnd.randint(1, 4, (10, 5))\n",
    "myAnimalMatrix"
   ],
   "metadata": {
    "collapsed": false,
    "pycharm": {
     "name": "#%%\n"
    }
   }
  },
  {
   "cell_type": "code",
   "execution_count": 12,
   "outputs": [
    {
     "data": {
      "text/plain": "array([['Cat', 'Snake', 'Dog', 'Cat', 'Dog'],\n       ['Cat', 'Snake', 'Snake', 'Snake', 'Snake'],\n       ['Cat', 'Dog', 'Dog', 'Dog', 'Cat'],\n       ['Cat', 'Cat', 'Cat', 'Snake', 'Cat'],\n       ['Cat', 'Cat', 'Snake', 'Dog', 'Dog'],\n       ['Cat', 'Cat', 'Snake', 'Snake', 'Dog'],\n       ['Snake', 'Dog', 'Snake', 'Dog', 'Cat'],\n       ['Snake', 'Snake', 'Dog', 'Cat', 'Dog'],\n       ['Snake', 'Snake', 'Dog', 'Cat', 'Cat'],\n       ['Cat', 'Dog', 'Snake', 'Snake', 'Dog']], dtype='<U5')"
     },
     "execution_count": 12,
     "metadata": {},
     "output_type": "execute_result"
    }
   ],
   "source": [
    "quickLookup(myAnimalMatrix)"
   ],
   "metadata": {
    "collapsed": false,
    "pycharm": {
     "name": "#%%\n"
    }
   }
  },
  {
   "cell_type": "code",
   "execution_count": 13,
   "outputs": [],
   "source": [
    "addOne = 1"
   ],
   "metadata": {
    "collapsed": false,
    "pycharm": {
     "name": "#%%\n"
    }
   }
  },
  {
   "cell_type": "markdown",
   "source": [
    "# Random Seeds\n",
    "\n",
    "Seed should be done once per execution (once in a file), because it resets the starting spot each and every time."
   ],
   "metadata": {
    "collapsed": false,
    "pycharm": {
     "name": "#%% md\n"
    }
   }
  },
  {
   "cell_type": "code",
   "execution_count": 14,
   "outputs": [],
   "source": [
    "import random as rndnew\n",
    "rndnew.seed(1)"
   ],
   "metadata": {
    "collapsed": false,
    "pycharm": {
     "name": "#%%\n"
    }
   }
  },
  {
   "cell_type": "code",
   "execution_count": 15,
   "outputs": [
    {
     "data": {
      "text/plain": "18"
     },
     "execution_count": 15,
     "metadata": {},
     "output_type": "execute_result"
    }
   ],
   "source": [
    "rndnew.randint(1, 100)"
   ],
   "metadata": {
    "collapsed": false,
    "pycharm": {
     "name": "#%%\n"
    }
   }
  },
  {
   "cell_type": "code",
   "execution_count": 16,
   "outputs": [],
   "source": [
    "def myFunction():\n",
    "    rndnew.seed(1)\n",
    "    return [rndnew.randint(1, 10) for _ in range(20)]"
   ],
   "metadata": {
    "collapsed": false,
    "pycharm": {
     "name": "#%%\n"
    }
   }
  },
  {
   "cell_type": "code",
   "execution_count": 17,
   "outputs": [
    {
     "data": {
      "text/plain": "[3, 10, 2, 5, 2, 8, 8, 8, 7, 4, 2, 8, 1, 7, 7, 10, 1, 8, 5, 4]"
     },
     "execution_count": 17,
     "metadata": {},
     "output_type": "execute_result"
    }
   ],
   "source": [
    "myFunction()"
   ],
   "metadata": {
    "collapsed": false,
    "pycharm": {
     "name": "#%%\n"
    }
   }
  },
  {
   "cell_type": "code",
   "execution_count": 18,
   "outputs": [
    {
     "data": {
      "text/plain": "[3, 10, 2, 5, 2, 8, 8, 8, 7, 4, 2, 8, 1, 7, 7, 10, 1, 8, 5, 4]"
     },
     "execution_count": 18,
     "metadata": {},
     "output_type": "execute_result"
    }
   ],
   "source": [
    "myFunction()"
   ],
   "metadata": {
    "collapsed": false,
    "pycharm": {
     "name": "#%%\n"
    }
   }
  },
  {
   "cell_type": "code",
   "execution_count": 19,
   "outputs": [
    {
     "name": "stdout",
     "output_type": "stream",
     "text": [
      "Picking new random number 3\n",
      "Picking new random number 3\n",
      "Picking new random number 3\n",
      "Picking new random number 3\n",
      "Picking new random number 3\n"
     ]
    }
   ],
   "source": [
    "for _ in range(5):\n",
    "    rndnew.seed(1)\n",
    "    print(f\"Picking new random number {rndnew.randint(1, 10)}\")"
   ],
   "metadata": {
    "collapsed": false,
    "pycharm": {
     "name": "#%%\n"
    }
   }
  },
  {
   "cell_type": "markdown",
   "source": [
    "# Slicing Matrices"
   ],
   "metadata": {
    "collapsed": false,
    "pycharm": {
     "name": "#%% md\n"
    }
   }
  },
  {
   "cell_type": "code",
   "execution_count": 20,
   "outputs": [
    {
     "data": {
      "text/plain": "array([[76,  6, 13, 59,  7,  6, 95, 43, 74, 78],\n       [24, 49, 61, 72, 65, 13, 43, 90, 62, 35],\n       [41, 97, 12,  3, 73, 88, 12, 94, 26, 49],\n       [41, 53, 42,  6, 11, 62,  2, 52, 61, 96],\n       [91, 89, 24, 59,  7, 42, 55, 51, 85, 27],\n       [80, 83, 78, 17, 16, 69, 11, 95, 93, 12],\n       [61, 56, 30, 13, 70, 38,  6, 50,  4, 33],\n       [51, 47, 13, 55, 65, 82, 32, 55, 44, 75],\n       [65, 14, 45, 88, 15, 53, 29, 17, 66, 27],\n       [32, 52, 49, 82, 72, 33, 50, 63, 98, 55]])"
     },
     "execution_count": 20,
     "metadata": {},
     "output_type": "execute_result"
    }
   ],
   "source": [
    "mySliceMatrix = rnd.randint(1, 100, (10, 10))\n",
    "mySliceMatrix"
   ],
   "metadata": {
    "collapsed": false,
    "pycharm": {
     "name": "#%%\n"
    }
   }
  },
  {
   "cell_type": "code",
   "execution_count": 21,
   "outputs": [
    {
     "data": {
      "text/plain": "6"
     },
     "execution_count": 21,
     "metadata": {},
     "output_type": "execute_result"
    }
   ],
   "source": [
    "# Getting 4,4\n",
    "mySliceMatrix[3,3]"
   ],
   "metadata": {
    "collapsed": false,
    "pycharm": {
     "name": "#%%\n"
    }
   }
  },
  {
   "cell_type": "code",
   "execution_count": 22,
   "outputs": [
    {
     "data": {
      "text/plain": "55"
     },
     "execution_count": 22,
     "metadata": {},
     "output_type": "execute_result"
    }
   ],
   "source": [
    "# Getting -3,-3\n",
    "mySliceMatrix[-3,-3]"
   ],
   "metadata": {
    "collapsed": false,
    "pycharm": {
     "name": "#%%\n"
    }
   }
  },
  {
   "cell_type": "code",
   "execution_count": 23,
   "outputs": [
    {
     "data": {
      "text/plain": "32"
     },
     "execution_count": 23,
     "metadata": {},
     "output_type": "execute_result"
    }
   ],
   "source": [
    "# Getting -3, -4\n",
    "mySliceMatrix[-3, -4]"
   ],
   "metadata": {
    "collapsed": false,
    "pycharm": {
     "name": "#%%\n"
    }
   }
  },
  {
   "cell_type": "code",
   "execution_count": 24,
   "outputs": [
    {
     "data": {
      "text/plain": "array([76,  6, 13, 59,  7,  6, 95, 43, 74, 78])"
     },
     "execution_count": 24,
     "metadata": {},
     "output_type": "execute_result"
    }
   ],
   "source": [
    "# Getting first row\n",
    "mySliceMatrix[0]"
   ],
   "metadata": {
    "collapsed": false,
    "pycharm": {
     "name": "#%%\n"
    }
   }
  },
  {
   "cell_type": "code",
   "execution_count": 25,
   "outputs": [
    {
     "data": {
      "text/plain": "array([32, 52, 49, 82, 72, 33, 50, 63, 98, 55])"
     },
     "execution_count": 25,
     "metadata": {},
     "output_type": "execute_result"
    }
   ],
   "source": [
    "# Getting the last row\n",
    "mySliceMatrix[-1]"
   ],
   "metadata": {
    "collapsed": false,
    "pycharm": {
     "name": "#%%\n"
    }
   }
  },
  {
   "cell_type": "code",
   "execution_count": 26,
   "outputs": [
    {
     "data": {
      "text/plain": "array([30, 13, 70])"
     },
     "execution_count": 26,
     "metadata": {},
     "output_type": "execute_result"
    }
   ],
   "source": [
    "# Specific row and a few elements in a column\n",
    "y = mySliceMatrix[6, 2:5]\n",
    "y"
   ],
   "metadata": {
    "collapsed": false,
    "pycharm": {
     "name": "#%%\n"
    }
   }
  },
  {
   "cell_type": "code",
   "execution_count": 27,
   "outputs": [
    {
     "data": {
      "text/plain": "array([[30, 13, 70]])"
     },
     "execution_count": 27,
     "metadata": {},
     "output_type": "execute_result"
    }
   ],
   "source": [
    "# .ix_ Notation, of the above\n",
    "x = mySliceMatrix[np.ix_([6],range(2, 5))]\n",
    "x"
   ],
   "metadata": {
    "collapsed": false,
    "pycharm": {
     "name": "#%%\n"
    }
   }
  },
  {
   "cell_type": "code",
   "execution_count": 28,
   "outputs": [
    {
     "data": {
      "text/plain": "array([[76, 78],\n       [32, 55]])"
     },
     "execution_count": 28,
     "metadata": {},
     "output_type": "execute_result"
    }
   ],
   "source": [
    "# .ix_ pick first and last of top, first and last of bottom\n",
    "mySliceMatrix[np.ix_([0, -1], [0, -1])]"
   ],
   "metadata": {
    "collapsed": false,
    "pycharm": {
     "name": "#%%\n"
    }
   }
  },
  {
   "cell_type": "code",
   "execution_count": 29,
   "outputs": [
    {
     "data": {
      "text/plain": "array([[76,  6],\n       [41, 97],\n       [91, 89]])"
     },
     "execution_count": 29,
     "metadata": {},
     "output_type": "execute_result"
    }
   ],
   "source": [
    "# (0, 0), (0, 1), (2, 0), (2, 1), ... (4, 1)\n",
    "mySliceMatrix[np.ix_([0, 2, 4], [0, 1])]"
   ],
   "metadata": {
    "collapsed": false,
    "pycharm": {
     "name": "#%%\n"
    }
   }
  },
  {
   "cell_type": "code",
   "execution_count": 30,
   "outputs": [
    {
     "data": {
      "text/plain": "array([[76,  6],\n       [41, 97],\n       [91, 89]])"
     },
     "execution_count": 30,
     "metadata": {},
     "output_type": "execute_result"
    }
   ],
   "source": [
    "# Why not ranges?\n",
    "mySliceMatrix[[0, 2, 4], 0:2]"
   ],
   "metadata": {
    "collapsed": false,
    "pycharm": {
     "name": "#%%\n"
    }
   }
  },
  {
   "cell_type": "code",
   "execution_count": 31,
   "outputs": [],
   "source": [
    "# This will throw an error message\n",
    "# mySliceMatrix[[0, 2, 4], [0, 5]]"
   ],
   "metadata": {
    "collapsed": false,
    "pycharm": {
     "name": "#%%\n"
    }
   }
  },
  {
   "cell_type": "code",
   "execution_count": 32,
   "outputs": [
    {
     "data": {
      "text/plain": "array([[76,  6],\n       [41, 88],\n       [91, 42]])"
     },
     "execution_count": 32,
     "metadata": {},
     "output_type": "execute_result"
    }
   ],
   "source": [
    "mySliceMatrix[np.ix_([0, 2, 4], [0, 5])]"
   ],
   "metadata": {
    "collapsed": false,
    "pycharm": {
     "name": "#%%\n"
    }
   }
  },
  {
   "cell_type": "code",
   "execution_count": 33,
   "outputs": [
    {
     "data": {
      "text/plain": "array([[76,  6],\n       [24, 13],\n       [41, 88],\n       [41, 62],\n       [91, 42],\n       [80, 69],\n       [61, 38],\n       [51, 82],\n       [65, 53],\n       [32, 33]])"
     },
     "execution_count": 33,
     "metadata": {},
     "output_type": "execute_result"
    }
   ],
   "source": [
    "# You can do ranges like the below\n",
    "mySliceMatrix[np.ix_([x for x in range(len(mySliceMatrix))], [0, 5])]"
   ],
   "metadata": {
    "collapsed": false,
    "pycharm": {
     "name": "#%%\n"
    }
   }
  },
  {
   "cell_type": "code",
   "execution_count": 34,
   "outputs": [
    {
     "data": {
      "text/plain": "(3,)"
     },
     "execution_count": 34,
     "metadata": {},
     "output_type": "execute_result"
    }
   ],
   "source": [
    "np.shape(y)"
   ],
   "metadata": {
    "collapsed": false,
    "pycharm": {
     "name": "#%%\n"
    }
   }
  },
  {
   "cell_type": "code",
   "execution_count": 35,
   "outputs": [
    {
     "data": {
      "text/plain": "(1, 3)"
     },
     "execution_count": 35,
     "metadata": {},
     "output_type": "execute_result"
    }
   ],
   "source": [
    "np.shape(x)"
   ],
   "metadata": {
    "collapsed": false,
    "pycharm": {
     "name": "#%%\n"
    }
   }
  },
  {
   "cell_type": "code",
   "execution_count": 36,
   "outputs": [],
   "source": [
    "def getSlice(matrix, y1, x1, x2):\n",
    "    return matrix[y1, x1:x2]"
   ],
   "metadata": {
    "collapsed": false,
    "pycharm": {
     "name": "#%%\n"
    }
   }
  },
  {
   "cell_type": "code",
   "execution_count": 37,
   "outputs": [
    {
     "data": {
      "text/plain": "array([30, 13, 70])"
     },
     "execution_count": 37,
     "metadata": {},
     "output_type": "execute_result"
    }
   ],
   "source": [
    "getSlice(mySliceMatrix, 6, 2, 5)"
   ],
   "metadata": {
    "collapsed": false,
    "pycharm": {
     "name": "#%%\n"
    }
   }
  },
  {
   "cell_type": "code",
   "execution_count": 38,
   "outputs": [],
   "source": [
    "# Do not do the following (usually used in demonstrations, but don't do it!)\n",
    "def getSlice2(y1, x1, x2):\n",
    "    return mySliceMatrix[y1, x1:x2]"
   ],
   "metadata": {
    "collapsed": false,
    "pycharm": {
     "name": "#%%\n"
    }
   }
  },
  {
   "cell_type": "code",
   "execution_count": 39,
   "outputs": [
    {
     "data": {
      "text/plain": "array([30, 13, 70])"
     },
     "execution_count": 39,
     "metadata": {},
     "output_type": "execute_result"
    }
   ],
   "source": [
    "getSlice2(6, 2, 5)"
   ],
   "metadata": {
    "collapsed": false,
    "pycharm": {
     "name": "#%%\n"
    }
   }
  },
  {
   "cell_type": "markdown",
   "source": [
    "# Lengths of matrices"
   ],
   "metadata": {
    "collapsed": false,
    "pycharm": {
     "name": "#%% md\n"
    }
   }
  },
  {
   "cell_type": "code",
   "execution_count": 40,
   "outputs": [
    {
     "data": {
      "text/plain": "array([[ 5,  7,  1, 60, 58],\n       [23, 46, 70, 65, 70],\n       [77, 39, 53, 29, 35],\n       [32, 29, 38, 38, 87],\n       [94, 27,  8, 15, 57],\n       [14, 49, 79, 71, 25],\n       [60, 98, 70, 54, 75],\n       [60, 91,  1, 20, 45],\n       [43, 87, 79, 27, 42],\n       [78, 91, 74, 46, 62]])"
     },
     "execution_count": 40,
     "metadata": {},
     "output_type": "execute_result"
    }
   ],
   "source": [
    "myMatrix"
   ],
   "metadata": {
    "collapsed": false,
    "pycharm": {
     "name": "#%%\n"
    }
   }
  },
  {
   "cell_type": "code",
   "execution_count": 41,
   "outputs": [
    {
     "data": {
      "text/plain": "10"
     },
     "execution_count": 41,
     "metadata": {},
     "output_type": "execute_result"
    }
   ],
   "source": [
    "len(myMatrix)"
   ],
   "metadata": {
    "collapsed": false,
    "pycharm": {
     "name": "#%%\n"
    }
   }
  },
  {
   "cell_type": "code",
   "execution_count": 42,
   "outputs": [
    {
     "data": {
      "text/plain": "5"
     },
     "execution_count": 42,
     "metadata": {},
     "output_type": "execute_result"
    }
   ],
   "source": [
    "len(myMatrix[0])"
   ],
   "metadata": {
    "collapsed": false,
    "pycharm": {
     "name": "#%%\n"
    }
   }
  },
  {
   "cell_type": "code",
   "execution_count": 43,
   "outputs": [],
   "source": [
    "# myMatrix = rnd.randint(5, 100, (200, 200))"
   ],
   "metadata": {
    "collapsed": false,
    "pycharm": {
     "name": "#%%\n"
    }
   }
  },
  {
   "cell_type": "code",
   "execution_count": 44,
   "outputs": [
    {
     "name": "stdout",
     "output_type": "stream",
     "text": [
      "Element: 5\n",
      "Element: 7\n",
      "Element: 1\n",
      "Element: 60\n",
      "Element: 58\n",
      "Element: 23\n",
      "Element: 46\n",
      "Element: 70\n",
      "Element: 65\n",
      "Element: 70\n",
      "Element: 77\n",
      "Element: 39\n",
      "Element: 53\n",
      "Element: 29\n",
      "Element: 35\n",
      "Element: 32\n",
      "Element: 29\n",
      "Element: 38\n",
      "Element: 38\n",
      "Element: 87\n",
      "Element: 94\n",
      "Element: 27\n",
      "Element: 8\n",
      "Element: 15\n",
      "Element: 57\n",
      "Element: 14\n",
      "Element: 49\n",
      "Element: 79\n",
      "Element: 71\n",
      "Element: 25\n",
      "Element: 60\n",
      "Element: 98\n",
      "Element: 70\n",
      "Element: 54\n",
      "Element: 75\n",
      "Element: 60\n",
      "Element: 91\n",
      "Element: 1\n",
      "Element: 20\n",
      "Element: 45\n",
      "Element: 43\n",
      "Element: 87\n",
      "Element: 79\n",
      "Element: 27\n",
      "Element: 42\n",
      "Element: 78\n",
      "Element: 91\n",
      "Element: 74\n",
      "Element: 46\n",
      "Element: 62\n"
     ]
    }
   ],
   "source": [
    "# Don't do the below, because things are hardcoded, and you'll likely\n",
    "# cause problems when modifying something like the above\n",
    "y = 0\n",
    "while y < 10:\n",
    "    x = 0\n",
    "    while x < 5:\n",
    "        print(f\"Element: {myMatrix[y,x]}\")\n",
    "        x += 1\n",
    "    y += 1"
   ],
   "metadata": {
    "collapsed": false,
    "pycharm": {
     "name": "#%%\n"
    }
   }
  },
  {
   "cell_type": "code",
   "execution_count": 45,
   "outputs": [
    {
     "name": "stdout",
     "output_type": "stream",
     "text": [
      "Element: 5\n",
      "Element: 7\n",
      "Element: 1\n",
      "Element: 60\n",
      "Element: 58\n",
      "Element: 23\n",
      "Element: 46\n",
      "Element: 70\n",
      "Element: 65\n",
      "Element: 70\n",
      "Element: 77\n",
      "Element: 39\n",
      "Element: 53\n",
      "Element: 29\n",
      "Element: 35\n",
      "Element: 32\n",
      "Element: 29\n",
      "Element: 38\n",
      "Element: 38\n",
      "Element: 87\n",
      "Element: 94\n",
      "Element: 27\n",
      "Element: 8\n",
      "Element: 15\n",
      "Element: 57\n",
      "Element: 14\n",
      "Element: 49\n",
      "Element: 79\n",
      "Element: 71\n",
      "Element: 25\n",
      "Element: 60\n",
      "Element: 98\n",
      "Element: 70\n",
      "Element: 54\n",
      "Element: 75\n",
      "Element: 60\n",
      "Element: 91\n",
      "Element: 1\n",
      "Element: 20\n",
      "Element: 45\n",
      "Element: 43\n",
      "Element: 87\n",
      "Element: 79\n",
      "Element: 27\n",
      "Element: 42\n",
      "Element: 78\n",
      "Element: 91\n",
      "Element: 74\n",
      "Element: 46\n",
      "Element: 62\n"
     ]
    }
   ],
   "source": [
    "# Dynamic programming (looking at the contents/lengths of previously defined variables)\n",
    "# helps to avoid issues with hardcoded values\n",
    "y = 0\n",
    "while y < len(myMatrix):\n",
    "    x = 0\n",
    "    while x < len(myMatrix[0]):\n",
    "        print(f\"Element: {myMatrix[y,x]}\")\n",
    "        x += 1\n",
    "    y += 1"
   ],
   "metadata": {
    "collapsed": false,
    "pycharm": {
     "name": "#%%\n"
    }
   }
  },
  {
   "cell_type": "markdown",
   "source": [
    "# Loops\n",
    "## When to use cell\n",
    "\n",
    "* For Loops - Loops over a collection (list, tuple) [Avoid use with dictionary or set unless needed and you know what you're doing]\n",
    "* While Loops - Loops while a condition is true (breaks when false)\n",
    "* Map/Filter/List Comprehension - Short versions/shortcuts for a For loop."
   ],
   "metadata": {
    "collapsed": false,
    "pycharm": {
     "name": "#%% md\n"
    }
   }
  },
  {
   "cell_type": "code",
   "execution_count": 46,
   "outputs": [],
   "source": [
    "# For loops\n",
    "for x in range(10):\n",
    "    pass  # Means skip doing anything, allows one to compile, and is useful first step\n",
    "for x in [0, 1, 2, 3, 4, 5, 6, 7, 8, 9]:\n",
    "    pass # Same as above.\n",
    "for x in (0, 1, 2, 3, 4, 5, 6, 7, 8, 9):\n",
    "    pass # Same as above.\n",
    "# map(lambda x: pass for x in [0, 1, 2, 3, 4, 5, 6, 7, 8, 9])\n",
    "  # The above is the same as the other for loops, just not syntax-correct\n",
    "\n",
    "for x in {0, 1, 2, 3, 4, 5, 6, 7, 8, 9}:\n",
    "    pass # do NOT do the above!."
   ],
   "metadata": {
    "collapsed": false,
    "pycharm": {
     "name": "#%%\n"
    }
   }
  },
  {
   "cell_type": "code",
   "execution_count": 47,
   "outputs": [],
   "source": [
    "# While loops\n",
    "sdlfjsdllkjsldkjflsjdfsdf = 0\n",
    "while sdlfjsdllkjsldkjflsjdfsdf < 10:\n",
    "    sdlfjsdllkjsldkjflsjdfsdf = sdlfjsdllkjsldkjflsjdfsdf + 1\n",
    "    # sdlfjsdllkjsldkjflsjdfsdf += 1  <--- Same as above!"
   ],
   "metadata": {
    "collapsed": false,
    "pycharm": {
     "name": "#%%\n"
    }
   }
  },
  {
   "cell_type": "code",
   "execution_count": 48,
   "outputs": [],
   "source": [
    "sdlfjsdllkjsldkjflsjdfsdf = 0\n",
    "while True:\n",
    "    if sdlfjsdllkjsldkjflsjdfsdf > 10:\n",
    "        break\n",
    "    sdlfjsdllkjsldkjflsjdfsdf += 1"
   ],
   "metadata": {
    "collapsed": false,
    "pycharm": {
     "name": "#%%\n"
    }
   }
  }
 ],
 "metadata": {
  "kernelspec": {
   "display_name": "Python 3",
   "language": "python",
   "name": "python3"
  },
  "language_info": {
   "codemirror_mode": {
    "name": "ipython",
    "version": 2
   },
   "file_extension": ".py",
   "mimetype": "text/x-python",
   "name": "python",
   "nbconvert_exporter": "python",
   "pygments_lexer": "ipython2",
   "version": "2.7.6"
  }
 },
 "nbformat": 4,
 "nbformat_minor": 0
}