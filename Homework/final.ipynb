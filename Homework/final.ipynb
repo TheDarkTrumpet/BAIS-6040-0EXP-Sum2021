{
 "cells": [
  {
   "cell_type": "markdown",
   "metadata": {
    "collapsed": true,
    "pycharm": {
     "name": "#%% md\n"
    }
   },
   "source": [
    "# final.ipynb\n",
    "\n",
    "## Purpose\n",
    "\n",
    "This final will be split into two parts, a practical and a conceptual exam component.  The practical exam will be worth 50 points, and will primarily cover elements from Pandas on up.\n",
    "\n",
    "## Data Set\n",
    "\n",
    "We'll use a data set from \"The Ramen Rater\" (permission obtained), at https://www.theramenrater.com/\n",
    "\n",
    "The overall goal of this final is to take a data set provided, pull the fields we're interested in, and present a conclusion based off the data.  Looking at the data, we have the following types of fields\n",
    "\n",
    "| Field Name  | Description   |\n",
    "|-------------|---------------|\n",
    "| Review #    | Their ordering of review (their personal revier) |\n",
    "| Brand       | The brand/maker name |\n",
    "| Variety     | The type/flavor of ramen |\n",
    "| Style       | Does it come in a packet, or a bowl |\n",
    "| Country     | Country of release  |\n",
    "| Stars       | The author's rating of the ramen |\n",
    "| T           | Textual/notes Field  |\n",
    "\n",
    "## Description of Problem\n",
    "\n",
    "The goal of this final is to work at analyzing the data set provided, and coming up with some conclusions.  The grading will be the similar to that of previous notebooks, but there will be some extra weight on the conclusion and the types of questions being answered.  Furthermore, this is somewhat open ended.  Meaning, there's many ways you can approach this midterm, but there will be minimum requirements.\n",
    "\n",
    "| Level     | Percentage of Points  | Sub Category  | Percentage of Percentage |\n",
    "|------------|-----------------------|---------------|-------------------------|\n",
    "| Minimum Effort | 70%               | Correctness   | 60%                     |\n",
    "| <i></i>        | <i></i>               | Readability and Format | 30%            |\n",
    "| <i></i>        | <i></i>            | Conclusion(s)   | 10%    |\n",
    "| Above-Minimum  | 30%               | Correctness   | 60%                     |\n",
    "| <i></i>        | <i></i>           | Readability and Format | 20%            |\n",
    "| <i></i>        | <i></i>           | Conclusions/Questions  | 20%            |\n",
    "\n",
    "### Minimum Effort Requirements\n",
    "\n",
    "To get a minimum effort grade here (70% of maximum), the following criteria must be met:\n",
    "1.  You can load the DataFrame given a CSV\n",
    "2.  You can prepare the data in some fashion (can be excel, etc.) to get the format you need for analysis.\n",
    "3.  2 graphs are produced to explain what you're seeing in data (see below)\n",
    "4.  An analysis section where you describe your conclusion.\n",
    "\n",
    "\n",
    "Please note what's allowed for external programs, and what isn't.  #2 specifically means you can use an external tool\n",
    "\n",
    "### Above-Minimum Effort Requirements\n",
    "\n",
    "To be classified in the \"above-minimum\" category, the following criteria must be met:\n",
    "1.  You can load the DataFrame from the CSV provided below:\n",
    "    - https://raw.githubusercontent.com/TheDarkTrumpet/BAIS-6040-0EXP-Sum2021/master/data/ramen-biglist.csv\n",
    "2.  You can represent the data accurately, and clean up the data within the notebook (no outside changes from Excel or the like).  You should have the following data types from the loaded data frame, and show, in your notebook that it's of the proper type(s).\n",
    "\n",
    "| Field   | Type  |\n",
    "|---------|-------|\n",
    "| Review # | Number |\n",
    "| Brand    | String/object |\n",
    "| Variety  | String/object |\n",
    "| Style    | String/object |\n",
    "| Country  | String/object |\n",
    "| Stars    | float         |\n",
    "| T        | Object        |\n",
    "\n",
    "3.  At least 2 graphs are produced, but really think about the analysis you want to do.  One of these graphs should have some rollup that happens (e.g. an 'Other' category)\n",
    "4.  You answer at least 2 questions about the data, and show supporting graphs for each.\n",
    "5.  An analysis section where you describe your results.\n",
    "\n",
    "Of importance here, in-case it wasn't clear above.  you **must** use Python for all the analysis in this.  Absolutely no Excel or any external tool.\n",
    "\n",
    "### Questions that can be answered (not exhaustive)\n",
    "\n",
    "Some questions you can attempt to answer with this data set include, but isn't exhaustive:\n",
    "\n",
    "1.  How many reviews do we have per country?\n",
    "2.  What style is most popular in a country?\n",
    "3.  What style does a brand favor over another?\n",
    "4.  What country has the best rated Ramen?\n",
    "\n",
    "etc...\n",
    "\n",
    "## Required Turn-In\n",
    "\n",
    "One notebook is required for this assignment.  Please note that the standard conventions described thus far in the course will continue to be graded against.  That being, 70% of this will be off correctness (and analysis), and the other 30% will be off naming, conventions, and expandability.\n",
    "\n",
    "Please be prepared to spend some time proof reading your notebook.  Please do not use this notebook as a template, create your own in the end.  While there are some \"step by step\" parts listed in this notebook, it's designed to give you the steps necessary for analysis.  The readability of your graphs matter here, too."
   ]
  },
  {
   "cell_type": "code",
   "execution_count": 1,
   "outputs": [],
   "source": [
    "import math\n",
    "import pandas as pd\n",
    "import seaborn as sns\n",
    "import matplotlib.pyplot as plt"
   ],
   "metadata": {
    "collapsed": false,
    "pycharm": {
     "name": "#%%\n"
    }
   }
  },
  {
   "cell_type": "code",
   "execution_count": 2,
   "outputs": [],
   "source": [
    "sns.set_theme()"
   ],
   "metadata": {
    "collapsed": false,
    "pycharm": {
     "name": "#%%\n"
    }
   }
  },
  {
   "cell_type": "code",
   "execution_count": 3,
   "outputs": [],
   "source": [
    "# Helper Functions Here\n",
    "def outputCountryReport(ramenByCountry, countryColumn):\n",
    "    f, ax = plt.subplots(figsize=(15, 10))\n",
    "    f.patch.set_facecolor('white')\n",
    "    sns.despine(f)\n",
    "\n",
    "    plot = sns.histplot(\n",
    "        ramenByCountry,\n",
    "        x = countryColumn, hue=\"StarFloor\",\n",
    "        multiple=\"stack\",\n",
    "        palette=\"light:b\",\n",
    "        edgecolor=\".3\",\n",
    "        linewidth=.5,\n",
    "        legend=True\n",
    "    )\n",
    "    plt.xticks(rotation=90)\n",
    "    plt.title('Reviews, by Country', fontsize=18)\n",
    "    ax.tick_params(labelsize=14)\n",
    "    ax.set_ylabel('Number of Reviews')\n",
    "    ax.xaxis.label.set_color('red')\n",
    "    ax.yaxis.label.set_color('red')"
   ],
   "metadata": {
    "collapsed": false,
    "pycharm": {
     "name": "#%%\n"
    }
   }
  },
  {
   "cell_type": "code",
   "execution_count": 4,
   "outputs": [
    {
     "data": {
      "text/plain": "      Review #            Brand  \\\n0         3702      Higashimaru   \n1         3701     Single Grain   \n2         3700          Sau Tao   \n3         3699          Sau Tao   \n4         3698  Sapporo Ichiban   \n...        ...              ...   \n3697         5            Vifon   \n3698         4          Wai Wai   \n3699         3          Wai Wai   \n3700         2          Wai Wai   \n3701         1         Westbrae   \n\n                                                Variety Style        Country  \\\n0                                     Seafood Sara Udon  Pack          Japan   \n1                   Chongqing Spicy & Sour Rice Noodles   Cup          China   \n2                  Seafood Flavour Sichuan Spicy Noodle  Pack      Hong Kong   \n3              Jiangnan Style Noodle - Original Flavour  Pack      Hong Kong   \n4                                    CupStar Shio Ramen   Cup          Japan   \n...                                                 ...   ...            ...   \n3697  Hu Tiu Nam Vang [\"Phnom Penh\" style] Asian Sty...  Bowl        Vietnam   \n3698                     Oriental Style Instant Noodles  Pack       Thailand   \n3699                                     Tom Yum Shrimp  Pack       Thailand   \n3700                               Tom Yum Chili Flavor  Pack       Thailand   \n3701                                         Miso Ramen  Pack  United States   \n\n     Stars   T  \n0        5 NaN  \n1      3.5 NaN  \n2        5 NaN  \n3      4.5 NaN  \n4      3.5 NaN  \n...    ...  ..  \n3697   3.5 NaN  \n3698     1 NaN  \n3699     2 NaN  \n3700     2 NaN  \n3701   0.5 NaN  \n\n[3702 rows x 7 columns]",
      "text/html": "<div>\n<style scoped>\n    .dataframe tbody tr th:only-of-type {\n        vertical-align: middle;\n    }\n\n    .dataframe tbody tr th {\n        vertical-align: top;\n    }\n\n    .dataframe thead th {\n        text-align: right;\n    }\n</style>\n<table border=\"1\" class=\"dataframe\">\n  <thead>\n    <tr style=\"text-align: right;\">\n      <th></th>\n      <th>Review #</th>\n      <th>Brand</th>\n      <th>Variety</th>\n      <th>Style</th>\n      <th>Country</th>\n      <th>Stars</th>\n      <th>T</th>\n    </tr>\n  </thead>\n  <tbody>\n    <tr>\n      <th>0</th>\n      <td>3702</td>\n      <td>Higashimaru</td>\n      <td>Seafood Sara Udon</td>\n      <td>Pack</td>\n      <td>Japan</td>\n      <td>5</td>\n      <td>NaN</td>\n    </tr>\n    <tr>\n      <th>1</th>\n      <td>3701</td>\n      <td>Single Grain</td>\n      <td>Chongqing Spicy &amp; Sour Rice Noodles</td>\n      <td>Cup</td>\n      <td>China</td>\n      <td>3.5</td>\n      <td>NaN</td>\n    </tr>\n    <tr>\n      <th>2</th>\n      <td>3700</td>\n      <td>Sau Tao</td>\n      <td>Seafood Flavour Sichuan Spicy Noodle</td>\n      <td>Pack</td>\n      <td>Hong Kong</td>\n      <td>5</td>\n      <td>NaN</td>\n    </tr>\n    <tr>\n      <th>3</th>\n      <td>3699</td>\n      <td>Sau Tao</td>\n      <td>Jiangnan Style Noodle - Original Flavour</td>\n      <td>Pack</td>\n      <td>Hong Kong</td>\n      <td>4.5</td>\n      <td>NaN</td>\n    </tr>\n    <tr>\n      <th>4</th>\n      <td>3698</td>\n      <td>Sapporo Ichiban</td>\n      <td>CupStar Shio Ramen</td>\n      <td>Cup</td>\n      <td>Japan</td>\n      <td>3.5</td>\n      <td>NaN</td>\n    </tr>\n    <tr>\n      <th>...</th>\n      <td>...</td>\n      <td>...</td>\n      <td>...</td>\n      <td>...</td>\n      <td>...</td>\n      <td>...</td>\n      <td>...</td>\n    </tr>\n    <tr>\n      <th>3697</th>\n      <td>5</td>\n      <td>Vifon</td>\n      <td>Hu Tiu Nam Vang [\"Phnom Penh\" style] Asian Sty...</td>\n      <td>Bowl</td>\n      <td>Vietnam</td>\n      <td>3.5</td>\n      <td>NaN</td>\n    </tr>\n    <tr>\n      <th>3698</th>\n      <td>4</td>\n      <td>Wai Wai</td>\n      <td>Oriental Style Instant Noodles</td>\n      <td>Pack</td>\n      <td>Thailand</td>\n      <td>1</td>\n      <td>NaN</td>\n    </tr>\n    <tr>\n      <th>3699</th>\n      <td>3</td>\n      <td>Wai Wai</td>\n      <td>Tom Yum Shrimp</td>\n      <td>Pack</td>\n      <td>Thailand</td>\n      <td>2</td>\n      <td>NaN</td>\n    </tr>\n    <tr>\n      <th>3700</th>\n      <td>2</td>\n      <td>Wai Wai</td>\n      <td>Tom Yum Chili Flavor</td>\n      <td>Pack</td>\n      <td>Thailand</td>\n      <td>2</td>\n      <td>NaN</td>\n    </tr>\n    <tr>\n      <th>3701</th>\n      <td>1</td>\n      <td>Westbrae</td>\n      <td>Miso Ramen</td>\n      <td>Pack</td>\n      <td>United States</td>\n      <td>0.5</td>\n      <td>NaN</td>\n    </tr>\n  </tbody>\n</table>\n<p>3702 rows × 7 columns</p>\n</div>"
     },
     "execution_count": 4,
     "metadata": {},
     "output_type": "execute_result"
    }
   ],
   "source": [
    "rawRamenDataSet = pd.read_csv(\"https://raw.githubusercontent.com/TheDarkTrumpet/BAIS-6040-0EXP-Sum2021/master/data/ramen-biglist.csv\")\n",
    "rawRamenDataSet"
   ],
   "metadata": {
    "collapsed": false,
    "pycharm": {
     "name": "#%%\n"
    }
   }
  },
  {
   "cell_type": "code",
   "execution_count": 5,
   "outputs": [
    {
     "name": "stdout",
     "output_type": "stream",
     "text": [
      "<class 'pandas.core.frame.DataFrame'>\n",
      "RangeIndex: 3702 entries, 0 to 3701\n",
      "Data columns (total 7 columns):\n",
      " #   Column    Non-Null Count  Dtype  \n",
      "---  ------    --------------  -----  \n",
      " 0   Review #  3702 non-null   int64  \n",
      " 1   Brand     3702 non-null   object \n",
      " 2   Variety   3702 non-null   object \n",
      " 3   Style     3702 non-null   object \n",
      " 4   Country   3702 non-null   object \n",
      " 5   Stars     3702 non-null   object \n",
      " 6   T         0 non-null      float64\n",
      "dtypes: float64(1), int64(1), object(5)\n",
      "memory usage: 202.6+ KB\n"
     ]
    }
   ],
   "source": [
    "rawRamenDataSet.info()"
   ],
   "metadata": {
    "collapsed": false,
    "pycharm": {
     "name": "#%%\n"
    }
   }
  },
  {
   "cell_type": "code",
   "execution_count": 6,
   "outputs": [
    {
     "data": {
      "text/plain": "                Brand                                            Variety  \\\n0         Higashimaru                                  Seafood Sara Udon   \n1        Single Grain                Chongqing Spicy & Sour Rice Noodles   \n2             Sau Tao               Seafood Flavour Sichuan Spicy Noodle   \n3             Sau Tao           Jiangnan Style Noodle - Original Flavour   \n4     Sapporo Ichiban                                 CupStar Shio Ramen   \n...               ...                                                ...   \n3697            Vifon  Hu Tiu Nam Vang [\"Phnom Penh\" style] Asian Sty...   \n3698          Wai Wai                     Oriental Style Instant Noodles   \n3699          Wai Wai                                     Tom Yum Shrimp   \n3700          Wai Wai                               Tom Yum Chili Flavor   \n3701         Westbrae                                         Miso Ramen   \n\n     Style        Country  Stars  \n0     Pack          Japan    5.0  \n1      Cup          China    3.5  \n2     Pack      Hong Kong    5.0  \n3     Pack      Hong Kong    4.5  \n4      Cup          Japan    3.5  \n...    ...            ...    ...  \n3697  Bowl        Vietnam    3.5  \n3698  Pack       Thailand    1.0  \n3699  Pack       Thailand    2.0  \n3700  Pack       Thailand    2.0  \n3701  Pack  United States    0.5  \n\n[3702 rows x 5 columns]",
      "text/html": "<div>\n<style scoped>\n    .dataframe tbody tr th:only-of-type {\n        vertical-align: middle;\n    }\n\n    .dataframe tbody tr th {\n        vertical-align: top;\n    }\n\n    .dataframe thead th {\n        text-align: right;\n    }\n</style>\n<table border=\"1\" class=\"dataframe\">\n  <thead>\n    <tr style=\"text-align: right;\">\n      <th></th>\n      <th>Brand</th>\n      <th>Variety</th>\n      <th>Style</th>\n      <th>Country</th>\n      <th>Stars</th>\n    </tr>\n  </thead>\n  <tbody>\n    <tr>\n      <th>0</th>\n      <td>Higashimaru</td>\n      <td>Seafood Sara Udon</td>\n      <td>Pack</td>\n      <td>Japan</td>\n      <td>5.0</td>\n    </tr>\n    <tr>\n      <th>1</th>\n      <td>Single Grain</td>\n      <td>Chongqing Spicy &amp; Sour Rice Noodles</td>\n      <td>Cup</td>\n      <td>China</td>\n      <td>3.5</td>\n    </tr>\n    <tr>\n      <th>2</th>\n      <td>Sau Tao</td>\n      <td>Seafood Flavour Sichuan Spicy Noodle</td>\n      <td>Pack</td>\n      <td>Hong Kong</td>\n      <td>5.0</td>\n    </tr>\n    <tr>\n      <th>3</th>\n      <td>Sau Tao</td>\n      <td>Jiangnan Style Noodle - Original Flavour</td>\n      <td>Pack</td>\n      <td>Hong Kong</td>\n      <td>4.5</td>\n    </tr>\n    <tr>\n      <th>4</th>\n      <td>Sapporo Ichiban</td>\n      <td>CupStar Shio Ramen</td>\n      <td>Cup</td>\n      <td>Japan</td>\n      <td>3.5</td>\n    </tr>\n    <tr>\n      <th>...</th>\n      <td>...</td>\n      <td>...</td>\n      <td>...</td>\n      <td>...</td>\n      <td>...</td>\n    </tr>\n    <tr>\n      <th>3697</th>\n      <td>Vifon</td>\n      <td>Hu Tiu Nam Vang [\"Phnom Penh\" style] Asian Sty...</td>\n      <td>Bowl</td>\n      <td>Vietnam</td>\n      <td>3.5</td>\n    </tr>\n    <tr>\n      <th>3698</th>\n      <td>Wai Wai</td>\n      <td>Oriental Style Instant Noodles</td>\n      <td>Pack</td>\n      <td>Thailand</td>\n      <td>1.0</td>\n    </tr>\n    <tr>\n      <th>3699</th>\n      <td>Wai Wai</td>\n      <td>Tom Yum Shrimp</td>\n      <td>Pack</td>\n      <td>Thailand</td>\n      <td>2.0</td>\n    </tr>\n    <tr>\n      <th>3700</th>\n      <td>Wai Wai</td>\n      <td>Tom Yum Chili Flavor</td>\n      <td>Pack</td>\n      <td>Thailand</td>\n      <td>2.0</td>\n    </tr>\n    <tr>\n      <th>3701</th>\n      <td>Westbrae</td>\n      <td>Miso Ramen</td>\n      <td>Pack</td>\n      <td>United States</td>\n      <td>0.5</td>\n    </tr>\n  </tbody>\n</table>\n<p>3702 rows × 5 columns</p>\n</div>"
     },
     "execution_count": 6,
     "metadata": {},
     "output_type": "execute_result"
    }
   ],
   "source": [
    "ramenDataSet = rawRamenDataSet[[\"Brand\", \"Variety\", \"Style\", \"Country\", \"Stars\"]].copy()\n",
    "ramenDataSet[\"Stars\"] = pd.to_numeric(ramenDataSet[\"Stars\"],errors='coerce')\n",
    "ramenDataSet"
   ],
   "metadata": {
    "collapsed": false,
    "pycharm": {
     "name": "#%%\n"
    }
   }
  },
  {
   "cell_type": "code",
   "execution_count": 7,
   "outputs": [
    {
     "data": {
      "text/plain": "                Brand                                            Variety  \\\n0         Higashimaru                                  Seafood Sara Udon   \n1        Single Grain                Chongqing Spicy & Sour Rice Noodles   \n2             Sau Tao               Seafood Flavour Sichuan Spicy Noodle   \n3             Sau Tao           Jiangnan Style Noodle - Original Flavour   \n4     Sapporo Ichiban                                 CupStar Shio Ramen   \n...               ...                                                ...   \n3682            Vifon  Hu Tiu Nam Vang [\"Phnom Penh\" style] Asian Sty...   \n3683          Wai Wai                     Oriental Style Instant Noodles   \n3684          Wai Wai                                     Tom Yum Shrimp   \n3685          Wai Wai                               Tom Yum Chili Flavor   \n3686         Westbrae                                         Miso Ramen   \n\n     Style        Country  Stars  \n0     Pack          Japan    5.0  \n1      Cup          China    3.5  \n2     Pack      Hong Kong    5.0  \n3     Pack      Hong Kong    4.5  \n4      Cup          Japan    3.5  \n...    ...            ...    ...  \n3682  Bowl        Vietnam    3.5  \n3683  Pack       Thailand    1.0  \n3684  Pack       Thailand    2.0  \n3685  Pack       Thailand    2.0  \n3686  Pack  United States    0.5  \n\n[3687 rows x 5 columns]",
      "text/html": "<div>\n<style scoped>\n    .dataframe tbody tr th:only-of-type {\n        vertical-align: middle;\n    }\n\n    .dataframe tbody tr th {\n        vertical-align: top;\n    }\n\n    .dataframe thead th {\n        text-align: right;\n    }\n</style>\n<table border=\"1\" class=\"dataframe\">\n  <thead>\n    <tr style=\"text-align: right;\">\n      <th></th>\n      <th>Brand</th>\n      <th>Variety</th>\n      <th>Style</th>\n      <th>Country</th>\n      <th>Stars</th>\n    </tr>\n  </thead>\n  <tbody>\n    <tr>\n      <th>0</th>\n      <td>Higashimaru</td>\n      <td>Seafood Sara Udon</td>\n      <td>Pack</td>\n      <td>Japan</td>\n      <td>5.0</td>\n    </tr>\n    <tr>\n      <th>1</th>\n      <td>Single Grain</td>\n      <td>Chongqing Spicy &amp; Sour Rice Noodles</td>\n      <td>Cup</td>\n      <td>China</td>\n      <td>3.5</td>\n    </tr>\n    <tr>\n      <th>2</th>\n      <td>Sau Tao</td>\n      <td>Seafood Flavour Sichuan Spicy Noodle</td>\n      <td>Pack</td>\n      <td>Hong Kong</td>\n      <td>5.0</td>\n    </tr>\n    <tr>\n      <th>3</th>\n      <td>Sau Tao</td>\n      <td>Jiangnan Style Noodle - Original Flavour</td>\n      <td>Pack</td>\n      <td>Hong Kong</td>\n      <td>4.5</td>\n    </tr>\n    <tr>\n      <th>4</th>\n      <td>Sapporo Ichiban</td>\n      <td>CupStar Shio Ramen</td>\n      <td>Cup</td>\n      <td>Japan</td>\n      <td>3.5</td>\n    </tr>\n    <tr>\n      <th>...</th>\n      <td>...</td>\n      <td>...</td>\n      <td>...</td>\n      <td>...</td>\n      <td>...</td>\n    </tr>\n    <tr>\n      <th>3682</th>\n      <td>Vifon</td>\n      <td>Hu Tiu Nam Vang [\"Phnom Penh\" style] Asian Sty...</td>\n      <td>Bowl</td>\n      <td>Vietnam</td>\n      <td>3.5</td>\n    </tr>\n    <tr>\n      <th>3683</th>\n      <td>Wai Wai</td>\n      <td>Oriental Style Instant Noodles</td>\n      <td>Pack</td>\n      <td>Thailand</td>\n      <td>1.0</td>\n    </tr>\n    <tr>\n      <th>3684</th>\n      <td>Wai Wai</td>\n      <td>Tom Yum Shrimp</td>\n      <td>Pack</td>\n      <td>Thailand</td>\n      <td>2.0</td>\n    </tr>\n    <tr>\n      <th>3685</th>\n      <td>Wai Wai</td>\n      <td>Tom Yum Chili Flavor</td>\n      <td>Pack</td>\n      <td>Thailand</td>\n      <td>2.0</td>\n    </tr>\n    <tr>\n      <th>3686</th>\n      <td>Westbrae</td>\n      <td>Miso Ramen</td>\n      <td>Pack</td>\n      <td>United States</td>\n      <td>0.5</td>\n    </tr>\n  </tbody>\n</table>\n<p>3687 rows × 5 columns</p>\n</div>"
     },
     "execution_count": 7,
     "metadata": {},
     "output_type": "execute_result"
    }
   ],
   "source": [
    "ramenDataSet.dropna(inplace=True)\n",
    "ramenDataSet.reset_index(drop=True, inplace=True)\n",
    "ramenDataSet"
   ],
   "metadata": {
    "collapsed": false,
    "pycharm": {
     "name": "#%%\n"
    }
   }
  },
  {
   "cell_type": "code",
   "execution_count": 8,
   "outputs": [
    {
     "name": "stdout",
     "output_type": "stream",
     "text": [
      "<class 'pandas.core.frame.DataFrame'>\n",
      "RangeIndex: 3687 entries, 0 to 3686\n",
      "Data columns (total 5 columns):\n",
      " #   Column   Non-Null Count  Dtype  \n",
      "---  ------   --------------  -----  \n",
      " 0   Brand    3687 non-null   object \n",
      " 1   Variety  3687 non-null   object \n",
      " 2   Style    3687 non-null   object \n",
      " 3   Country  3687 non-null   object \n",
      " 4   Stars    3687 non-null   float64\n",
      "dtypes: float64(1), object(4)\n",
      "memory usage: 144.1+ KB\n"
     ]
    }
   ],
   "source": [
    "ramenDataSet.info()"
   ],
   "metadata": {
    "collapsed": false,
    "pycharm": {
     "name": "#%%\n"
    }
   }
  },
  {
   "cell_type": "code",
   "execution_count": 9,
   "outputs": [
    {
     "data": {
      "text/plain": "Brand              Variety                                                       \n1 To 3 Noodles     Chatpat Masala                                                    4.00\n7 Select           Nissin Instant Noodles Shrimp Ma Nao Lui Suan Flavour King Cup    3.75\n                   Nissin Instant Noodles Tom Yum Seafood Creamy Flavour King Cup    3.50\n7 Select/Nissin    Super Tom Yum Shrimp                                              3.50\n7-Eleven / Nissin  Mouko Tanmen Nakamoto                                             4.25\n                                                                                     ... \niMee               Instant Noodles Vegetable Flavour                                 2.75\n                   Instant Noodles chicken Flavour                                   3.50\niNoodle            Taiwan Style Chow Mein                                            2.25\n                   Udon Noodle Soup Oriental                                         3.75\nnunu               Fresh Flavors For Life Creamy Curry                               3.50\nName: Stars, Length: 3583, dtype: float64"
     },
     "execution_count": 9,
     "metadata": {},
     "output_type": "execute_result"
    }
   ],
   "source": [
    "ramenDataSet.groupby([\"Brand\", \"Variety\"])[\"Stars\"].mean()"
   ],
   "metadata": {
    "collapsed": false,
    "pycharm": {
     "name": "#%%\n"
    }
   }
  },
  {
   "cell_type": "code",
   "execution_count": 10,
   "outputs": [
    {
     "data": {
      "text/plain": "                       Stars\nCountry                     \nAustralia           3.260000\nBangladesh          3.479167\nBrazil              3.645833\nCambodia            4.200000\nCanada              2.330357\nChina               3.534898\nColombia            3.291667\nDubai               3.583333\nEstonia             3.500000\nFiji                3.875000\nFinland             3.583333\nFrance              4.333333\nGermany             3.580357\nGhana               3.500000\nHolland             3.562500\nHong Kong           3.867801\nHungary             3.611111\nIndia               3.461111\nIndonesia           4.119565\nIsrael              3.000000\nItaly               2.750000\nJapan               3.894457\nMalaysia            4.201208\nMexico              3.609375\nMyanmar             3.946429\nNepal               3.517857\nNetherlands         2.500000\nNew Zealand         3.000000\nNigeria             2.375000\nPakistan            2.916667\nPeru                3.375000\nPhilippines         3.382353\nPhlippines          3.500000\nPoland              3.083333\nPortugal            2.000000\nRussia              3.450000\nRussian Federation  3.250000\nSarawak             4.000000\nSingapore           4.098214\nSouh Korea          3.500000\nSouth Korea         3.872749\nSpain               4.000000\nSweden              3.250000\nTaiwan              3.859409\nThailand            3.431604\nUK                  3.103333\nUSA                 3.250000\nUkraine             3.583333\nUnited Kingdom      3.500000\nUnited States       3.556015\nVietnam             3.197984",
      "text/html": "<div>\n<style scoped>\n    .dataframe tbody tr th:only-of-type {\n        vertical-align: middle;\n    }\n\n    .dataframe tbody tr th {\n        vertical-align: top;\n    }\n\n    .dataframe thead th {\n        text-align: right;\n    }\n</style>\n<table border=\"1\" class=\"dataframe\">\n  <thead>\n    <tr style=\"text-align: right;\">\n      <th></th>\n      <th>Stars</th>\n    </tr>\n    <tr>\n      <th>Country</th>\n      <th></th>\n    </tr>\n  </thead>\n  <tbody>\n    <tr>\n      <th>Australia</th>\n      <td>3.260000</td>\n    </tr>\n    <tr>\n      <th>Bangladesh</th>\n      <td>3.479167</td>\n    </tr>\n    <tr>\n      <th>Brazil</th>\n      <td>3.645833</td>\n    </tr>\n    <tr>\n      <th>Cambodia</th>\n      <td>4.200000</td>\n    </tr>\n    <tr>\n      <th>Canada</th>\n      <td>2.330357</td>\n    </tr>\n    <tr>\n      <th>China</th>\n      <td>3.534898</td>\n    </tr>\n    <tr>\n      <th>Colombia</th>\n      <td>3.291667</td>\n    </tr>\n    <tr>\n      <th>Dubai</th>\n      <td>3.583333</td>\n    </tr>\n    <tr>\n      <th>Estonia</th>\n      <td>3.500000</td>\n    </tr>\n    <tr>\n      <th>Fiji</th>\n      <td>3.875000</td>\n    </tr>\n    <tr>\n      <th>Finland</th>\n      <td>3.583333</td>\n    </tr>\n    <tr>\n      <th>France</th>\n      <td>4.333333</td>\n    </tr>\n    <tr>\n      <th>Germany</th>\n      <td>3.580357</td>\n    </tr>\n    <tr>\n      <th>Ghana</th>\n      <td>3.500000</td>\n    </tr>\n    <tr>\n      <th>Holland</th>\n      <td>3.562500</td>\n    </tr>\n    <tr>\n      <th>Hong Kong</th>\n      <td>3.867801</td>\n    </tr>\n    <tr>\n      <th>Hungary</th>\n      <td>3.611111</td>\n    </tr>\n    <tr>\n      <th>India</th>\n      <td>3.461111</td>\n    </tr>\n    <tr>\n      <th>Indonesia</th>\n      <td>4.119565</td>\n    </tr>\n    <tr>\n      <th>Israel</th>\n      <td>3.000000</td>\n    </tr>\n    <tr>\n      <th>Italy</th>\n      <td>2.750000</td>\n    </tr>\n    <tr>\n      <th>Japan</th>\n      <td>3.894457</td>\n    </tr>\n    <tr>\n      <th>Malaysia</th>\n      <td>4.201208</td>\n    </tr>\n    <tr>\n      <th>Mexico</th>\n      <td>3.609375</td>\n    </tr>\n    <tr>\n      <th>Myanmar</th>\n      <td>3.946429</td>\n    </tr>\n    <tr>\n      <th>Nepal</th>\n      <td>3.517857</td>\n    </tr>\n    <tr>\n      <th>Netherlands</th>\n      <td>2.500000</td>\n    </tr>\n    <tr>\n      <th>New Zealand</th>\n      <td>3.000000</td>\n    </tr>\n    <tr>\n      <th>Nigeria</th>\n      <td>2.375000</td>\n    </tr>\n    <tr>\n      <th>Pakistan</th>\n      <td>2.916667</td>\n    </tr>\n    <tr>\n      <th>Peru</th>\n      <td>3.375000</td>\n    </tr>\n    <tr>\n      <th>Philippines</th>\n      <td>3.382353</td>\n    </tr>\n    <tr>\n      <th>Phlippines</th>\n      <td>3.500000</td>\n    </tr>\n    <tr>\n      <th>Poland</th>\n      <td>3.083333</td>\n    </tr>\n    <tr>\n      <th>Portugal</th>\n      <td>2.000000</td>\n    </tr>\n    <tr>\n      <th>Russia</th>\n      <td>3.450000</td>\n    </tr>\n    <tr>\n      <th>Russian Federation</th>\n      <td>3.250000</td>\n    </tr>\n    <tr>\n      <th>Sarawak</th>\n      <td>4.000000</td>\n    </tr>\n    <tr>\n      <th>Singapore</th>\n      <td>4.098214</td>\n    </tr>\n    <tr>\n      <th>Souh Korea</th>\n      <td>3.500000</td>\n    </tr>\n    <tr>\n      <th>South Korea</th>\n      <td>3.872749</td>\n    </tr>\n    <tr>\n      <th>Spain</th>\n      <td>4.000000</td>\n    </tr>\n    <tr>\n      <th>Sweden</th>\n      <td>3.250000</td>\n    </tr>\n    <tr>\n      <th>Taiwan</th>\n      <td>3.859409</td>\n    </tr>\n    <tr>\n      <th>Thailand</th>\n      <td>3.431604</td>\n    </tr>\n    <tr>\n      <th>UK</th>\n      <td>3.103333</td>\n    </tr>\n    <tr>\n      <th>USA</th>\n      <td>3.250000</td>\n    </tr>\n    <tr>\n      <th>Ukraine</th>\n      <td>3.583333</td>\n    </tr>\n    <tr>\n      <th>United Kingdom</th>\n      <td>3.500000</td>\n    </tr>\n    <tr>\n      <th>United States</th>\n      <td>3.556015</td>\n    </tr>\n    <tr>\n      <th>Vietnam</th>\n      <td>3.197984</td>\n    </tr>\n  </tbody>\n</table>\n</div>"
     },
     "execution_count": 10,
     "metadata": {},
     "output_type": "execute_result"
    }
   ],
   "source": [
    "ramenDataSet.groupby([\"Country\"])[[\"Stars\"]].mean()"
   ],
   "metadata": {
    "collapsed": false,
    "pycharm": {
     "name": "#%%\n"
    }
   }
  },
  {
   "cell_type": "code",
   "execution_count": 11,
   "outputs": [
    {
     "ename": "ValueError",
     "evalue": "Could not interpret value `StarFloor` for parameter `hue`",
     "output_type": "error",
     "traceback": [
      "\u001B[0;31m---------------------------------------------------------------------------\u001B[0m",
      "\u001B[0;31mValueError\u001B[0m                                Traceback (most recent call last)",
      "\u001B[0;32m<ipython-input-11-b8885aafe267>\u001B[0m in \u001B[0;36m<module>\u001B[0;34m\u001B[0m\n\u001B[0;32m----> 1\u001B[0;31m \u001B[0moutputCountryReport\u001B[0m\u001B[0;34m(\u001B[0m\u001B[0mramenDataSet\u001B[0m\u001B[0;34m,\u001B[0m \u001B[0;34m\"Country\"\u001B[0m\u001B[0;34m)\u001B[0m\u001B[0;34m\u001B[0m\u001B[0;34m\u001B[0m\u001B[0m\n\u001B[0m",
      "\u001B[0;32m<ipython-input-3-88cb84b96d4b>\u001B[0m in \u001B[0;36moutputCountryReport\u001B[0;34m(ramenByCountry, countryColumn)\u001B[0m\n\u001B[1;32m      5\u001B[0m     \u001B[0msns\u001B[0m\u001B[0;34m.\u001B[0m\u001B[0mdespine\u001B[0m\u001B[0;34m(\u001B[0m\u001B[0mf\u001B[0m\u001B[0;34m)\u001B[0m\u001B[0;34m\u001B[0m\u001B[0;34m\u001B[0m\u001B[0m\n\u001B[1;32m      6\u001B[0m \u001B[0;34m\u001B[0m\u001B[0m\n\u001B[0;32m----> 7\u001B[0;31m     plot = sns.histplot(\n\u001B[0m\u001B[1;32m      8\u001B[0m         \u001B[0mramenByCountry\u001B[0m\u001B[0;34m,\u001B[0m\u001B[0;34m\u001B[0m\u001B[0;34m\u001B[0m\u001B[0m\n\u001B[1;32m      9\u001B[0m         \u001B[0mx\u001B[0m \u001B[0;34m=\u001B[0m \u001B[0mcountryColumn\u001B[0m\u001B[0;34m,\u001B[0m \u001B[0mhue\u001B[0m\u001B[0;34m=\u001B[0m\u001B[0;34m\"StarFloor\"\u001B[0m\u001B[0;34m,\u001B[0m\u001B[0;34m\u001B[0m\u001B[0;34m\u001B[0m\u001B[0m\n",
      "\u001B[0;32m~/.pyenv/versions/BAIS60400EXP/lib/python3.8/site-packages/seaborn/distributions.py\u001B[0m in \u001B[0;36mhistplot\u001B[0;34m(data, x, y, hue, weights, stat, bins, binwidth, binrange, discrete, cumulative, common_bins, common_norm, multiple, element, fill, shrink, kde, kde_kws, line_kws, thresh, pthresh, pmax, cbar, cbar_ax, cbar_kws, palette, hue_order, hue_norm, color, log_scale, legend, ax, **kwargs)\u001B[0m\n\u001B[1;32m   1389\u001B[0m ):\n\u001B[1;32m   1390\u001B[0m \u001B[0;34m\u001B[0m\u001B[0m\n\u001B[0;32m-> 1391\u001B[0;31m     p = _DistributionPlotter(\n\u001B[0m\u001B[1;32m   1392\u001B[0m         \u001B[0mdata\u001B[0m\u001B[0;34m=\u001B[0m\u001B[0mdata\u001B[0m\u001B[0;34m,\u001B[0m\u001B[0;34m\u001B[0m\u001B[0;34m\u001B[0m\u001B[0m\n\u001B[1;32m   1393\u001B[0m         \u001B[0mvariables\u001B[0m\u001B[0;34m=\u001B[0m\u001B[0m_DistributionPlotter\u001B[0m\u001B[0;34m.\u001B[0m\u001B[0mget_semantics\u001B[0m\u001B[0;34m(\u001B[0m\u001B[0mlocals\u001B[0m\u001B[0;34m(\u001B[0m\u001B[0;34m)\u001B[0m\u001B[0;34m)\u001B[0m\u001B[0;34m\u001B[0m\u001B[0;34m\u001B[0m\u001B[0m\n",
      "\u001B[0;32m~/.pyenv/versions/BAIS60400EXP/lib/python3.8/site-packages/seaborn/distributions.py\u001B[0m in \u001B[0;36m__init__\u001B[0;34m(self, data, variables)\u001B[0m\n\u001B[1;32m    107\u001B[0m     ):\n\u001B[1;32m    108\u001B[0m \u001B[0;34m\u001B[0m\u001B[0m\n\u001B[0;32m--> 109\u001B[0;31m         \u001B[0msuper\u001B[0m\u001B[0;34m(\u001B[0m\u001B[0;34m)\u001B[0m\u001B[0;34m.\u001B[0m\u001B[0m__init__\u001B[0m\u001B[0;34m(\u001B[0m\u001B[0mdata\u001B[0m\u001B[0;34m=\u001B[0m\u001B[0mdata\u001B[0m\u001B[0;34m,\u001B[0m \u001B[0mvariables\u001B[0m\u001B[0;34m=\u001B[0m\u001B[0mvariables\u001B[0m\u001B[0;34m)\u001B[0m\u001B[0;34m\u001B[0m\u001B[0;34m\u001B[0m\u001B[0m\n\u001B[0m\u001B[1;32m    110\u001B[0m \u001B[0;34m\u001B[0m\u001B[0m\n\u001B[1;32m    111\u001B[0m     \u001B[0;34m@\u001B[0m\u001B[0mproperty\u001B[0m\u001B[0;34m\u001B[0m\u001B[0;34m\u001B[0m\u001B[0m\n",
      "\u001B[0;32m~/.pyenv/versions/BAIS60400EXP/lib/python3.8/site-packages/seaborn/_core.py\u001B[0m in \u001B[0;36m__init__\u001B[0;34m(self, data, variables)\u001B[0m\n\u001B[1;32m    602\u001B[0m     \u001B[0;32mdef\u001B[0m \u001B[0m__init__\u001B[0m\u001B[0;34m(\u001B[0m\u001B[0mself\u001B[0m\u001B[0;34m,\u001B[0m \u001B[0mdata\u001B[0m\u001B[0;34m=\u001B[0m\u001B[0;32mNone\u001B[0m\u001B[0;34m,\u001B[0m \u001B[0mvariables\u001B[0m\u001B[0;34m=\u001B[0m\u001B[0;34m{\u001B[0m\u001B[0;34m}\u001B[0m\u001B[0;34m)\u001B[0m\u001B[0;34m:\u001B[0m\u001B[0;34m\u001B[0m\u001B[0;34m\u001B[0m\u001B[0m\n\u001B[1;32m    603\u001B[0m \u001B[0;34m\u001B[0m\u001B[0m\n\u001B[0;32m--> 604\u001B[0;31m         \u001B[0mself\u001B[0m\u001B[0;34m.\u001B[0m\u001B[0massign_variables\u001B[0m\u001B[0;34m(\u001B[0m\u001B[0mdata\u001B[0m\u001B[0;34m,\u001B[0m \u001B[0mvariables\u001B[0m\u001B[0;34m)\u001B[0m\u001B[0;34m\u001B[0m\u001B[0;34m\u001B[0m\u001B[0m\n\u001B[0m\u001B[1;32m    605\u001B[0m \u001B[0;34m\u001B[0m\u001B[0m\n\u001B[1;32m    606\u001B[0m         \u001B[0;32mfor\u001B[0m \u001B[0mvar\u001B[0m\u001B[0;34m,\u001B[0m \u001B[0mcls\u001B[0m \u001B[0;32min\u001B[0m \u001B[0mself\u001B[0m\u001B[0;34m.\u001B[0m\u001B[0m_semantic_mappings\u001B[0m\u001B[0;34m.\u001B[0m\u001B[0mitems\u001B[0m\u001B[0;34m(\u001B[0m\u001B[0;34m)\u001B[0m\u001B[0;34m:\u001B[0m\u001B[0;34m\u001B[0m\u001B[0;34m\u001B[0m\u001B[0m\n",
      "\u001B[0;32m~/.pyenv/versions/BAIS60400EXP/lib/python3.8/site-packages/seaborn/_core.py\u001B[0m in \u001B[0;36massign_variables\u001B[0;34m(self, data, variables)\u001B[0m\n\u001B[1;32m    665\u001B[0m         \u001B[0;32melse\u001B[0m\u001B[0;34m:\u001B[0m\u001B[0;34m\u001B[0m\u001B[0;34m\u001B[0m\u001B[0m\n\u001B[1;32m    666\u001B[0m             \u001B[0mself\u001B[0m\u001B[0;34m.\u001B[0m\u001B[0minput_format\u001B[0m \u001B[0;34m=\u001B[0m \u001B[0;34m\"long\"\u001B[0m\u001B[0;34m\u001B[0m\u001B[0;34m\u001B[0m\u001B[0m\n\u001B[0;32m--> 667\u001B[0;31m             plot_data, variables = self._assign_variables_longform(\n\u001B[0m\u001B[1;32m    668\u001B[0m                 \u001B[0mdata\u001B[0m\u001B[0;34m,\u001B[0m \u001B[0;34m**\u001B[0m\u001B[0mvariables\u001B[0m\u001B[0;34m,\u001B[0m\u001B[0;34m\u001B[0m\u001B[0;34m\u001B[0m\u001B[0m\n\u001B[1;32m    669\u001B[0m             )\n",
      "\u001B[0;32m~/.pyenv/versions/BAIS60400EXP/lib/python3.8/site-packages/seaborn/_core.py\u001B[0m in \u001B[0;36m_assign_variables_longform\u001B[0;34m(self, data, **kwargs)\u001B[0m\n\u001B[1;32m    900\u001B[0m \u001B[0;34m\u001B[0m\u001B[0m\n\u001B[1;32m    901\u001B[0m                 \u001B[0merr\u001B[0m \u001B[0;34m=\u001B[0m \u001B[0;34mf\"Could not interpret value `{val}` for parameter `{key}`\"\u001B[0m\u001B[0;34m\u001B[0m\u001B[0;34m\u001B[0m\u001B[0m\n\u001B[0;32m--> 902\u001B[0;31m                 \u001B[0;32mraise\u001B[0m \u001B[0mValueError\u001B[0m\u001B[0;34m(\u001B[0m\u001B[0merr\u001B[0m\u001B[0;34m)\u001B[0m\u001B[0;34m\u001B[0m\u001B[0;34m\u001B[0m\u001B[0m\n\u001B[0m\u001B[1;32m    903\u001B[0m \u001B[0;34m\u001B[0m\u001B[0m\n\u001B[1;32m    904\u001B[0m             \u001B[0;32melse\u001B[0m\u001B[0;34m:\u001B[0m\u001B[0;34m\u001B[0m\u001B[0;34m\u001B[0m\u001B[0m\n",
      "\u001B[0;31mValueError\u001B[0m: Could not interpret value `StarFloor` for parameter `hue`"
     ]
    },
    {
     "data": {
      "text/plain": "<Figure size 1080x720 with 1 Axes>",
      "image/png": "[encoded data removed]"
     },
     "metadata": {},
     "output_type": "display_data"
    }
   ],
   "source": [
    "outputCountryReport(ramenDataSet, \"Country\")"
   ],
   "metadata": {
    "collapsed": false,
    "pycharm": {
     "name": "#%%\n"
    }
   }
  },
  {
   "cell_type": "code",
   "execution_count": null,
   "outputs": [],
   "source": [
    "ramenDataSet['StarFloor'] = ramenDataSet.apply(lambda row: math.floor(row['Stars']), axis=1)\n",
    "ramenDataSet"
   ],
   "metadata": {
    "collapsed": false,
    "pycharm": {
     "name": "#%%\n"
    }
   }
  },
  {
   "cell_type": "code",
   "execution_count": null,
   "outputs": [],
   "source": [
    "ramenDataSet['CountryClassification'] = ramenDataSet.apply(\n",
    "    lambda row: row[\"Country\"] if len(ramenDataSet[ramenDataSet[\"Country\"] == row[\"Country\"]]) > 30 else \"Other\", axis=1)\n",
    "ramenDataSet"
   ],
   "metadata": {
    "collapsed": false,
    "pycharm": {
     "name": "#%%\n"
    }
   }
  },
  {
   "cell_type": "code",
   "execution_count": null,
   "outputs": [],
   "source": [
    "outputCountryReport(ramenDataSet, \"CountryClassification\")\n",
    "\n"
   ],
   "metadata": {
    "collapsed": false,
    "pycharm": {
     "name": "#%%\n"
    }
   }
  }
 ],
 "metadata": {
  "kernelspec": {
   "display_name": "Python 3",
   "language": "python",
   "name": "python3"
  },
  "language_info": {
   "codemirror_mode": {
    "name": "ipython",
    "version": 2
   },
   "file_extension": ".py",
   "mimetype": "text/x-python",
   "name": "python",
   "nbconvert_exporter": "python",
   "pygments_lexer": "ipython2",
   "version": "2.7.6"
  }
 },
 "nbformat": 4,
 "nbformat_minor": 0
}