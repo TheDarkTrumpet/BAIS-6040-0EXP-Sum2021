{
 "cells": [
  {
   "cell_type": "code",
   "execution_count": 9,
   "metadata": {
    "collapsed": true
   },
   "outputs": [
    {
     "name": "stdout",
     "output_type": "stream",
     "text": [
      "Debug: e => 1\n",
      "Debug: f => 5\n",
      "5\n",
      "Debug: f => 5\n",
      "5\n",
      "Debug: e => 2\n",
      "Debug: f => 5\n",
      "5\n",
      "Debug: f => 5\n",
      "5\n",
      "Debug: e => 3\n",
      "Debug: f => 5\n",
      "5\n",
      "Debug: f => 5\n",
      "5\n"
     ]
    }
   ],
   "source": [
    "a = [1, 2, 3]\n",
    "b = [5, 5]\n",
    "\n",
    "for e in a:\n",
    "    print(f\"Debug: e => {e}\")\n",
    "    for f in b:\n",
    "        print(f\"Debug: f => {f}\")\n",
    "        print(f)"
   ]
  },
  {
   "cell_type": "code",
   "execution_count": 17,
   "outputs": [],
   "source": [
    "def multiplyBy(inNumber, multiplier = 2, m2 = 100):\n",
    "       return inNumber * multiplier * m2"
   ],
   "metadata": {
    "collapsed": false,
    "pycharm": {
     "name": "#%%\n"
    }
   }
  },
  {
   "cell_type": "code",
   "execution_count": 18,
   "outputs": [
    {
     "data": {
      "text/plain": "2000"
     },
     "execution_count": 18,
     "metadata": {},
     "output_type": "execute_result"
    }
   ],
   "source": [
    "multiplyBy(10)"
   ],
   "metadata": {
    "collapsed": false,
    "pycharm": {
     "name": "#%%\n"
    }
   }
  },
  {
   "cell_type": "code",
   "execution_count": 19,
   "outputs": [
    {
     "data": {
      "text/plain": "10000"
     },
     "execution_count": 19,
     "metadata": {},
     "output_type": "execute_result"
    }
   ],
   "source": [
    "multiplyBy(10, 10)"
   ],
   "metadata": {
    "collapsed": false,
    "pycharm": {
     "name": "#%%\n"
    }
   }
  },
  {
   "cell_type": "code",
   "execution_count": 20,
   "outputs": [
    {
     "data": {
      "text/plain": "100000"
     },
     "execution_count": 20,
     "metadata": {},
     "output_type": "execute_result"
    }
   ],
   "source": [
    "multiplyBy(10, multiplier=100)"
   ],
   "metadata": {
    "collapsed": false,
    "pycharm": {
     "name": "#%%\n"
    }
   }
  },
  {
   "cell_type": "code",
   "execution_count": 27,
   "outputs": [
    {
     "data": {
      "text/plain": "50000000"
     },
     "execution_count": 27,
     "metadata": {},
     "output_type": "execute_result"
    }
   ],
   "source": [
    "multiplyBy(10, 5, 1000000)"
   ],
   "metadata": {
    "collapsed": false,
    "pycharm": {
     "name": "#%%\n"
    }
   }
  },
  {
   "cell_type": "code",
   "execution_count": 21,
   "outputs": [],
   "source": [
    "import numpy as np\n",
    "import numpy.random as rnd"
   ],
   "metadata": {
    "collapsed": false,
    "pycharm": {
     "name": "#%%\n"
    }
   }
  },
  {
   "cell_type": "code",
   "execution_count": 22,
   "outputs": [
    {
     "data": {
      "text/plain": "array([[30, 36, 26, 61, 73, 38, 39, 30, 86, 44],\n       [20, 14, 50, 80, 52, 67, 90, 75, 82, 81],\n       [21, 23, 33, 11, 32, 34, 73,  5, 18, 54],\n       [41, 59, 80, 33, 92, 64, 53, 49, 59,  5],\n       [67, 11, 11, 15, 18, 85,  3, 17, 19, 18],\n       [44, 17, 29, 56, 68, 62, 74,  8, 16, 72],\n       [33,  6, 29, 35, 76, 34,  8, 13, 65, 60],\n       [ 4, 52, 54, 58, 58, 11, 70, 90, 42, 78],\n       [ 9,  3, 64, 87, 23, 36,  8, 85, 55, 71],\n       [20, 52, 70, 61, 11, 37, 52, 95, 77, 84]])"
     },
     "execution_count": 22,
     "metadata": {},
     "output_type": "execute_result"
    }
   ],
   "source": [
    "rnd.randint(1, 100, size=(10, 10))"
   ],
   "metadata": {
    "collapsed": false,
    "pycharm": {
     "name": "#%%\n"
    }
   }
  },
  {
   "cell_type": "code",
   "execution_count": 15,
   "outputs": [],
   "source": [],
   "metadata": {
    "collapsed": false,
    "pycharm": {
     "name": "#%%\n"
    }
   }
  }
 ],
 "metadata": {
  "kernelspec": {
   "display_name": "Python 3",
   "language": "python",
   "name": "python3"
  },
  "language_info": {
   "codemirror_mode": {
    "name": "ipython",
    "version": 2
   },
   "file_extension": ".py",
   "mimetype": "text/x-python",
   "name": "python",
   "nbconvert_exporter": "python",
   "pygments_lexer": "ipython2",
   "version": "2.7.6"
  }
 },
 "nbformat": 4,
 "nbformat_minor": 0
}