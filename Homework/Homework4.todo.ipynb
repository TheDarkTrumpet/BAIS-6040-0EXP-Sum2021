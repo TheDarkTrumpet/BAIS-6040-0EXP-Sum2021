{
 "cells": [
  {
   "cell_type": "markdown",
   "metadata": {
    "collapsed": true,
    "pycharm": {
     "name": "#%% md\n"
    }
   },
   "source": [
    "# Homework 4.ipynb\n",
    "\n",
    "# Purpose\n",
    "\n",
    "This homework will start us into NumPy.  Remember that NumPy is used for matrix calculations as a primary objective, and will apply directly to Pandas in the long run.  This homework will focus on ..\n",
    "\n",
    "# Required Hand-in\n",
    "\n",
    "One notebook will be required.  Please note that the homework this time will be more strict for the naming/format requirements.  Please do not use this notebook directly and fill in the blanks, for the final version.  Instead, do that for your draft, make sure you get the right answer, and then create your own notebook, with your own logic.  Include the sections that you extended upon.  Look for opportunities to use functions or to make more generic ways to make your code more reusable.  These expansion opportunities will count toward the format/readability portion of the grade (30%)"
   ]
  },
  {
   "cell_type": "code",
   "execution_count": 1,
   "outputs": [],
   "source": [
    "import numpy as np\n",
    "import numpy.random as rnd\n"
   ],
   "metadata": {
    "collapsed": false,
    "pycharm": {
     "name": "#%%\n"
    }
   }
  },
  {
   "cell_type": "markdown",
   "source": [
    "# Part 1, generating a random matrix\n",
    "\n",
    "Remember that generating a random matrix is within numpy here.  Also note that their algorithm can provide different values than we'd get in the way we've done it in previous homeworks.\n",
    "\n",
    "Please generate 2 matrices, 10x7 each with numbers you choose (I don't suggest too large of numbers, but you can go as high as you're comfortable reading). Conceptually speaking, this'll be some measurement chosen every day, or 10 weeks.  The names of your variable would depend on what random values you decide to use."
   ],
   "metadata": {
    "collapsed": false,
    "pycharm": {
     "name": "#%% md\n"
    }
   }
  },
  {
   "cell_type": "code",
   "execution_count": 2,
   "outputs": [],
   "source": [
    "# Seed"
   ],
   "metadata": {
    "collapsed": false,
    "pycharm": {
     "name": "#%%\n"
    }
   }
  },
  {
   "cell_type": "code",
   "execution_count": 3,
   "outputs": [
    {
     "data": {
      "text/plain": "array([[9, 9, 3, 3, 9, 8, 6],\n       [5, 7, 5, 3, 3, 6, 5],\n       [9, 9, 9, 7, 7, 7, 3],\n       [9, 7, 8, 4, 6, 7, 5],\n       [8, 8, 8, 5, 6, 9, 9],\n       [8, 9, 3, 5, 7, 4, 6],\n       [9, 8, 6, 4, 9, 5, 3],\n       [5, 6, 7, 5, 6, 3, 5],\n       [7, 3, 9, 6, 3, 7, 6],\n       [9, 5, 9, 5, 8, 4, 4]])"
     },
     "execution_count": 3,
     "metadata": {},
     "output_type": "execute_result"
    }
   ],
   "source": [],
   "metadata": {
    "collapsed": false,
    "pycharm": {
     "name": "#%%\n"
    }
   }
  },
  {
   "cell_type": "code",
   "execution_count": 4,
   "outputs": [
    {
     "data": {
      "text/plain": "array([[126, 115, 113, 124, 123, 129, 123],\n       [122, 127, 129, 129, 133, 126, 117],\n       [122, 132, 110, 122, 133, 127, 112],\n       [115, 112, 111, 116, 122, 112, 125],\n       [111, 111, 124, 114, 125, 120, 115],\n       [122, 129, 123, 115, 124, 133, 128],\n       [121, 132, 112, 111, 119, 131, 122],\n       [119, 128, 121, 131, 129, 124, 127],\n       [123, 112, 134, 131, 110, 122, 122],\n       [132, 131, 123, 133, 129, 115, 111]])"
     },
     "execution_count": 4,
     "metadata": {},
     "output_type": "execute_result"
    }
   ],
   "source": [],
   "metadata": {
    "collapsed": false,
    "pycharm": {
     "name": "#%%\n"
    }
   }
  },
  {
   "cell_type": "markdown",
   "source": [
    "# Part 2, selecting elements\n",
    "We're going to select both individual elements, as well as ranges.  Remember that range selection is very similar between base python and NumPy\n",
    "# Part 2a - Single Elements"
   ],
   "metadata": {
    "collapsed": false,
    "pycharm": {
     "name": "#%% md\n"
    }
   }
  },
  {
   "cell_type": "code",
   "execution_count": 5,
   "outputs": [
    {
     "data": {
      "text/plain": "9"
     },
     "execution_count": 5,
     "metadata": {},
     "output_type": "execute_result"
    }
   ],
   "source": [
    "# Output the very first element on your first array"
   ],
   "metadata": {
    "collapsed": false,
    "pycharm": {
     "name": "#%%\n"
    }
   }
  },
  {
   "cell_type": "code",
   "execution_count": 6,
   "outputs": [
    {
     "data": {
      "text/plain": "4"
     },
     "execution_count": 6,
     "metadata": {},
     "output_type": "execute_result"
    }
   ],
   "source": [
    "# Output the very last element on your first array\n",
    "# Remember that we can \"look back\", so xxx[10,7] is wrong\n",
    "# We don't want to be tied to assumptions on the size"
   ],
   "metadata": {
    "collapsed": false,
    "pycharm": {
     "name": "#%%\n"
    }
   }
  },
  {
   "cell_type": "code",
   "execution_count": 7,
   "outputs": [
    {
     "data": {
      "text/plain": "8"
     },
     "execution_count": 7,
     "metadata": {},
     "output_type": "execute_result"
    }
   ],
   "source": [
    "# Reading as we would as humans (1-10), please return the element that is on the 5th week, 2nd day on the first array\n",
    "# Remember your code will reference based off index 0"
   ],
   "metadata": {
    "collapsed": false,
    "pycharm": {
     "name": "#%%\n"
    }
   }
  },
  {
   "cell_type": "markdown",
   "source": [
    "# Part 2b - Slices of elements"
   ],
   "metadata": {
    "collapsed": false,
    "pycharm": {
     "name": "#%% md\n"
    }
   }
  },
  {
   "cell_type": "code",
   "execution_count": 8,
   "outputs": [
    {
     "data": {
      "text/plain": "array([9, 8, 6, 4, 9, 5, 3])"
     },
     "execution_count": 8,
     "metadata": {},
     "output_type": "execute_result"
    }
   ],
   "source": [
    "# Reading as we would as humans (1-10), please return the values that happened on the 7th week (full week)"
   ],
   "metadata": {
    "collapsed": false,
    "pycharm": {
     "name": "#%%\n"
    }
   }
  },
  {
   "cell_type": "code",
   "execution_count": 9,
   "outputs": [
    {
     "data": {
      "text/plain": "array([8, 6, 4, 9, 5])"
     },
     "execution_count": 9,
     "metadata": {},
     "output_type": "execute_result"
    }
   ],
   "source": [
    "# Starting the week on a sunday (day 1), return all the weekday (days 2-6) elements that are on the 7th week."
   ],
   "metadata": {
    "collapsed": false,
    "pycharm": {
     "name": "#%%\n"
    }
   }
  },
  {
   "cell_type": "markdown",
   "source": [
    "One special note about the following request.  You can pass in an array as part of the selector, to pick specific items.  For example, see what I have below.  I anonymized the variable name, but it's for the first array."
   ],
   "metadata": {
    "collapsed": false,
    "pycharm": {
     "name": "#%% md\n"
    }
   }
  },
  {
   "cell_type": "code",
   "execution_count": 10,
   "outputs": [
    {
     "data": {
      "text/plain": "array([[9, 9, 3, 3, 9, 8, 6],\n       [5, 7, 5, 3, 3, 6, 5],\n       [9, 9, 9, 7, 7, 7, 3],\n       [9, 7, 8, 4, 6, 7, 5],\n       [8, 8, 8, 5, 6, 9, 9],\n       [8, 9, 3, 5, 7, 4, 6],\n       [9, 8, 6, 4, 9, 5, 3],\n       [5, 6, 7, 5, 6, 3, 5],\n       [7, 3, 9, 6, 3, 7, 6],\n       [9, 5, 9, 5, 8, 4, 4]])"
     },
     "execution_count": 10,
     "metadata": {},
     "output_type": "execute_result"
    }
   ],
   "source": [
    "XXXXX  # Just so we don't have to scroll up"
   ],
   "metadata": {
    "collapsed": false,
    "pycharm": {
     "name": "#%%\n"
    }
   }
  },
  {
   "cell_type": "code",
   "execution_count": 11,
   "outputs": [
    {
     "data": {
      "text/plain": "array([[5, 7, 5, 3, 3, 6, 5],\n       [5, 6, 7, 5, 6, 3, 5]])"
     },
     "execution_count": 11,
     "metadata": {},
     "output_type": "execute_result"
    }
   ],
   "source": [
    "# Selecting (as we would count) rows 2, and 8\n",
    "XXXXX[[1, 7]]"
   ],
   "metadata": {
    "collapsed": false,
    "pycharm": {
     "name": "#%%\n"
    }
   }
  },
  {
   "cell_type": "code",
   "execution_count": 12,
   "outputs": [
    {
     "data": {
      "text/plain": "array([[7, 3],\n       [7, 4]])"
     },
     "execution_count": 12,
     "metadata": {},
     "output_type": "execute_result"
    }
   ],
   "source": [
    "# Selecting (as we would count) rows 2, and 8, and columns 2 and 4\n",
    "XXXXX[[1, 3],:][:,[1, 3]]"
   ],
   "metadata": {
    "collapsed": false,
    "pycharm": {
     "name": "#%%\n"
    }
   }
  },
  {
   "cell_type": "code",
   "execution_count": 13,
   "outputs": [
    {
     "data": {
      "text/plain": "array([[7, 3],\n       [7, 4]])"
     },
     "execution_count": 13,
     "metadata": {},
     "output_type": "execute_result"
    }
   ],
   "source": [
    "# This can also be written as...\n",
    "XXXXX[np.ix_([1,3], [1,3])]"
   ],
   "metadata": {
    "collapsed": false,
    "pycharm": {
     "name": "#%%\n"
    }
   }
  },
  {
   "cell_type": "code",
   "execution_count": 14,
   "outputs": [
    {
     "data": {
      "text/plain": "array([[8, 9],\n       [3, 7]])"
     },
     "execution_count": 14,
     "metadata": {},
     "output_type": "execute_result"
    }
   ],
   "source": [
    "# Counting as humans count, please pull the 5th and 9th week, and the 2nd, and 6th days of your first array"
   ],
   "metadata": {
    "collapsed": false,
    "pycharm": {
     "name": "#%%\n"
    }
   }
  },
  {
   "cell_type": "code",
   "execution_count": 15,
   "outputs": [
    {
     "data": {
      "text/plain": "array([[9, 7, 3],\n       [8, 9, 9],\n       [9, 7, 6]])"
     },
     "execution_count": 15,
     "metadata": {},
     "output_type": "execute_result"
    }
   ],
   "source": [
    "# Counting as humans count, please pull the 3rd, 5th and 9th week, and the 3rd, and 6th, and 7th days of your first array"
   ],
   "metadata": {
    "collapsed": false,
    "pycharm": {
     "name": "#%%\n"
    }
   }
  },
  {
   "cell_type": "markdown",
   "source": [
    "# Part 2c - Slicing programmatically\n",
    "We can programmatically pull elements, and this will help practice that"
   ],
   "metadata": {
    "collapsed": false,
    "pycharm": {
     "name": "#%% md\n"
    }
   }
  },
  {
   "cell_type": "code",
   "execution_count": 16,
   "outputs": [
    {
     "data": {
      "text/plain": "[1, 3, 5, 7, 9]"
     },
     "execution_count": 16,
     "metadata": {},
     "output_type": "execute_result"
    }
   ],
   "source": [
    "# Create a list of the odd weeks (as we count).  Do this programmatically\n",
    "# hint: you can use filter and range (be mindful of the definition of range, and what it includes at the end)"
   ],
   "metadata": {
    "collapsed": false,
    "pycharm": {
     "name": "#%%\n"
    }
   }
  },
  {
   "cell_type": "code",
   "execution_count": 17,
   "outputs": [
    {
     "data": {
      "text/plain": "[1, 3, 5, 7]"
     },
     "execution_count": 17,
     "metadata": {},
     "output_type": "execute_result"
    }
   ],
   "source": [
    "# Create a list of the odd days (as we count).  Do this programmatically\n",
    "# hint: you can use filter and range (be mindful of the definition of range, and what it includes at the end)"
   ],
   "metadata": {
    "collapsed": false,
    "pycharm": {
     "name": "#%%\n"
    }
   }
  },
  {
   "cell_type": "code",
   "execution_count": 18,
   "outputs": [
    {
     "data": {
      "text/plain": "array([[9, 9, 3, 3, 9, 8, 6],\n       [9, 9, 9, 7, 7, 7, 3],\n       [8, 8, 8, 5, 6, 9, 9],\n       [9, 8, 6, 4, 9, 5, 3],\n       [7, 3, 9, 6, 3, 7, 6]])"
     },
     "execution_count": 18,
     "metadata": {},
     "output_type": "execute_result"
    }
   ],
   "source": [
    "# For your first array, pull out the odd weeks.  Remember python starts with 0 as the index"
   ],
   "metadata": {
    "collapsed": false,
    "pycharm": {
     "name": "#%%\n"
    }
   }
  },
  {
   "cell_type": "code",
   "execution_count": 19,
   "outputs": [
    {
     "data": {
      "text/plain": "array([[9, 3, 9, 6],\n       [5, 5, 3, 5],\n       [9, 9, 7, 3],\n       [9, 8, 6, 5],\n       [8, 8, 6, 9],\n       [8, 3, 7, 6],\n       [9, 6, 9, 3],\n       [5, 7, 6, 5],\n       [7, 9, 3, 6],\n       [9, 9, 8, 4]])"
     },
     "execution_count": 19,
     "metadata": {},
     "output_type": "execute_result"
    }
   ],
   "source": [
    "# For your first array, pull out the odd days (keep all weeks).  Remember Python starts with 0 as the index"
   ],
   "metadata": {
    "collapsed": false,
    "pycharm": {
     "name": "#%%\n"
    }
   }
  },
  {
   "cell_type": "code",
   "execution_count": 20,
   "outputs": [
    {
     "data": {
      "text/plain": "array([[9, 3, 9, 6],\n       [9, 9, 7, 3],\n       [8, 8, 6, 9],\n       [9, 6, 9, 3],\n       [7, 9, 3, 6]])"
     },
     "execution_count": 20,
     "metadata": {},
     "output_type": "execute_result"
    }
   ],
   "source": [
    "# Now combine the logic.  Odd weeks and odd days only"
   ],
   "metadata": {
    "collapsed": false,
    "pycharm": {
     "name": "#%%\n"
    }
   }
  },
  {
   "cell_type": "markdown",
   "source": [
    "# Part 3 - Matrix Calculations"
   ],
   "metadata": {
    "collapsed": false,
    "pycharm": {
     "name": "#%% md\n"
    }
   }
  },
  {
   "cell_type": "code",
   "execution_count": 21,
   "outputs": [
    {
     "data": {
      "text/plain": "array([[1134, 1035,  339,  372, 1107, 1032,  738],\n       [ 610,  889,  645,  387,  399,  756,  585],\n       [1098, 1188,  990,  854,  931,  889,  336],\n       [1035,  784,  888,  464,  732,  784,  625],\n       [ 888,  888,  992,  570,  750, 1080, 1035],\n       [ 976, 1161,  369,  575,  868,  532,  768],\n       [1089, 1056,  672,  444, 1071,  655,  366],\n       [ 595,  768,  847,  655,  774,  372,  635],\n       [ 861,  336, 1206,  786,  330,  854,  732],\n       [1188,  655, 1107,  665, 1032,  460,  444]])"
     },
     "execution_count": 21,
     "metadata": {},
     "output_type": "execute_result"
    }
   ],
   "source": [
    "# Multiply your first matrix by your second matrix.\n",
    "# Don't overcomplicate it, you don't need to iterate"
   ],
   "metadata": {
    "collapsed": false,
    "pycharm": {
     "name": "#%%\n"
    }
   }
  },
  {
   "cell_type": "code",
   "execution_count": 22,
   "outputs": [
    {
     "data": {
      "text/plain": "array([[0.07142857, 0.07826087, 0.02654867, 0.02419355, 0.07317073,\n        0.0620155 , 0.04878049],\n       [0.04098361, 0.05511811, 0.03875969, 0.02325581, 0.02255639,\n        0.04761905, 0.04273504],\n       [0.07377049, 0.06818182, 0.08181818, 0.05737705, 0.05263158,\n        0.05511811, 0.02678571],\n       [0.07826087, 0.0625    , 0.07207207, 0.03448276, 0.04918033,\n        0.0625    , 0.04      ],\n       [0.07207207, 0.07207207, 0.06451613, 0.04385965, 0.048     ,\n        0.075     , 0.07826087],\n       [0.06557377, 0.06976744, 0.02439024, 0.04347826, 0.05645161,\n        0.03007519, 0.046875  ],\n       [0.07438017, 0.06060606, 0.05357143, 0.03603604, 0.07563025,\n        0.03816794, 0.02459016],\n       [0.04201681, 0.046875  , 0.05785124, 0.03816794, 0.04651163,\n        0.02419355, 0.03937008],\n       [0.05691057, 0.02678571, 0.06716418, 0.04580153, 0.02727273,\n        0.05737705, 0.04918033],\n       [0.06818182, 0.03816794, 0.07317073, 0.03759398, 0.0620155 ,\n        0.03478261, 0.03603604]])"
     },
     "execution_count": 22,
     "metadata": {},
     "output_type": "execute_result"
    }
   ],
   "source": [
    "# Divide your first matrix by your second matrix.\n",
    "# Again, don't overcomplicate it"
   ],
   "metadata": {
    "collapsed": false,
    "pycharm": {
     "name": "#%%\n"
    }
   }
  },
  {
   "cell_type": "code",
   "execution_count": 23,
   "outputs": [
    {
     "data": {
      "text/plain": "array([[18, 18,  6,  6, 18, 16, 12],\n       [10, 14, 10,  6,  6, 12, 10],\n       [18, 18, 18, 14, 14, 14,  6],\n       [18, 14, 16,  8, 12, 14, 10],\n       [16, 16, 16, 10, 12, 18, 18],\n       [16, 18,  6, 10, 14,  8, 12],\n       [18, 16, 12,  8, 18, 10,  6],\n       [10, 12, 14, 10, 12,  6, 10],\n       [14,  6, 18, 12,  6, 14, 12],\n       [18, 10, 18, 10, 16,  8,  8]])"
     },
     "execution_count": 23,
     "metadata": {},
     "output_type": "execute_result"
    }
   ],
   "source": [
    "# Multiply each element in your first matrix by 2"
   ],
   "metadata": {
    "collapsed": false,
    "pycharm": {
     "name": "#%%\n"
    }
   }
  },
  {
   "cell_type": "markdown",
   "source": [
    "# Part 4 - Matrix Calculations pt 2\n",
    "We can create our own functions and apply them to a matrix.  This is from the np.vectorize which you can read about here:\n",
    "https://numpy.org/doc/stable/reference/generated/numpy.vectorize.html"
   ],
   "metadata": {
    "collapsed": false,
    "pycharm": {
     "name": "#%% md\n"
    }
   }
  },
  {
   "cell_type": "code",
   "execution_count": 24,
   "outputs": [
    {
     "data": {
      "text/plain": "array([[9, 9, 3, 3, 9, 8, 6],\n       [5, 7, 5, 3, 3, 6, 5],\n       [9, 9, 9, 7, 7, 7, 3],\n       [9, 7, 8, 4, 6, 7, 5],\n       [8, 8, 8, 5, 6, 9, 9],\n       [8, 9, 3, 5, 7, 4, 6],\n       [9, 8, 6, 4, 9, 5, 3],\n       [5, 6, 7, 5, 6, 3, 5],\n       [7, 3, 9, 6, 3, 7, 6],\n       [9, 5, 9, 5, 8, 4, 4]])"
     },
     "execution_count": 24,
     "metadata": {},
     "output_type": "execute_result"
    }
   ],
   "source": [
    "# Look at your first matrix.  What's a good middle value for what you have, for example, my numbers are 3-8 for range so I'll pick 5 as the threshold."
   ],
   "metadata": {
    "collapsed": false,
    "pycharm": {
     "name": "#%%\n"
    }
   }
  },
  {
   "cell_type": "code",
   "execution_count": 25,
   "outputs": [
    {
     "data": {
      "text/plain": "array([[ True,  True, False, False,  True,  True,  True],\n       [False,  True, False, False, False,  True, False],\n       [ True,  True,  True,  True,  True,  True, False],\n       [ True,  True,  True, False,  True,  True, False],\n       [ True,  True,  True, False,  True,  True,  True],\n       [ True,  True, False, False,  True, False,  True],\n       [ True,  True,  True, False,  True, False, False],\n       [False,  True,  True, False,  True, False, False],\n       [ True, False,  True,  True, False,  True,  True],\n       [ True, False,  True, False,  True, False, False]])"
     },
     "execution_count": 25,
     "metadata": {},
     "output_type": "execute_result"
    }
   ],
   "source": [
    "# Write a vectorize function that will check if the incoming value is > than the middle (in my case 5).  If it is, return True, if not, return False.  Apply this function to your first matrix and assign to a variable"
   ],
   "metadata": {
    "collapsed": false,
    "pycharm": {
     "name": "#%%\n"
    }
   }
  },
  {
   "cell_type": "code",
   "execution_count": 26,
   "outputs": [
    {
     "data": {
      "text/plain": "array([9, 9, 9, 8, 6, 7, 6, 9, 9, 9, 7, 7, 7, 9, 7, 8, 6, 7, 8, 8, 8, 6,\n       9, 9, 8, 9, 7, 6, 9, 8, 6, 9, 6, 7, 6, 7, 9, 6, 7, 6, 9, 9, 8])"
     },
     "execution_count": 26,
     "metadata": {},
     "output_type": "execute_result"
    }
   ],
   "source": [
    "# Now, pass that variable in the brackets to get all elements in our original array that meet that prior criteria"
   ],
   "metadata": {
    "collapsed": false,
    "pycharm": {
     "name": "#%%\n"
    }
   }
  },
  {
   "cell_type": "markdown",
   "source": [
    "# Part 5 - Concatenation\n",
    "We're going to concatenate our original two arrays two different ways.  This is useful for merging data sets.  There are 3 ways of doing it, and are covered in the spring homework.\n",
    "https://github.com/TheDarkTrumpet/BAIS-6040-0EXP-spr2021/blob/master/homework/Homework4.ipynb"
   ],
   "metadata": {
    "collapsed": false,
    "pycharm": {
     "name": "#%% md\n"
    }
   }
  },
  {
   "cell_type": "code",
   "execution_count": 27,
   "outputs": [
    {
     "data": {
      "text/plain": "array([[  9,   9,   3,   3,   9,   8,   6],\n       [  5,   7,   5,   3,   3,   6,   5],\n       [  9,   9,   9,   7,   7,   7,   3],\n       [  9,   7,   8,   4,   6,   7,   5],\n       [  8,   8,   8,   5,   6,   9,   9],\n       [  8,   9,   3,   5,   7,   4,   6],\n       [  9,   8,   6,   4,   9,   5,   3],\n       [  5,   6,   7,   5,   6,   3,   5],\n       [  7,   3,   9,   6,   3,   7,   6],\n       [  9,   5,   9,   5,   8,   4,   4],\n       [126, 115, 113, 124, 123, 129, 123],\n       [122, 127, 129, 129, 133, 126, 117],\n       [122, 132, 110, 122, 133, 127, 112],\n       [115, 112, 111, 116, 122, 112, 125],\n       [111, 111, 124, 114, 125, 120, 115],\n       [122, 129, 123, 115, 124, 133, 128],\n       [121, 132, 112, 111, 119, 131, 122],\n       [119, 128, 121, 131, 129, 124, 127],\n       [123, 112, 134, 131, 110, 122, 122],\n       [132, 131, 123, 133, 129, 115, 111]])"
     },
     "execution_count": 27,
     "metadata": {},
     "output_type": "execute_result"
    }
   ],
   "source": [
    "# Using one of the options, stack your first array on top of the other. Also output the shape of this as well.\n"
   ],
   "metadata": {
    "collapsed": false,
    "pycharm": {
     "name": "#%%\n"
    }
   }
  },
  {
   "cell_type": "code",
   "execution_count": 28,
   "outputs": [
    {
     "data": {
      "text/plain": "(20, 7)"
     },
     "execution_count": 28,
     "metadata": {},
     "output_type": "execute_result"
    }
   ],
   "source": [],
   "metadata": {
    "collapsed": false,
    "pycharm": {
     "name": "#%%\n"
    }
   }
  },
  {
   "cell_type": "code",
   "execution_count": 29,
   "outputs": [
    {
     "data": {
      "text/plain": "array([[  9,   9,   3,   3,   9,   8,   6, 126, 115, 113, 124, 123, 129,\n        123],\n       [  5,   7,   5,   3,   3,   6,   5, 122, 127, 129, 129, 133, 126,\n        117],\n       [  9,   9,   9,   7,   7,   7,   3, 122, 132, 110, 122, 133, 127,\n        112],\n       [  9,   7,   8,   4,   6,   7,   5, 115, 112, 111, 116, 122, 112,\n        125],\n       [  8,   8,   8,   5,   6,   9,   9, 111, 111, 124, 114, 125, 120,\n        115],\n       [  8,   9,   3,   5,   7,   4,   6, 122, 129, 123, 115, 124, 133,\n        128],\n       [  9,   8,   6,   4,   9,   5,   3, 121, 132, 112, 111, 119, 131,\n        122],\n       [  5,   6,   7,   5,   6,   3,   5, 119, 128, 121, 131, 129, 124,\n        127],\n       [  7,   3,   9,   6,   3,   7,   6, 123, 112, 134, 131, 110, 122,\n        122],\n       [  9,   5,   9,   5,   8,   4,   4, 132, 131, 123, 133, 129, 115,\n        111]])"
     },
     "execution_count": 29,
     "metadata": {},
     "output_type": "execute_result"
    }
   ],
   "source": [
    "# Using one of the options, put them side by side (as if two sheets of paper next to each other).  Output the shape too."
   ],
   "metadata": {
    "collapsed": false,
    "pycharm": {
     "name": "#%%\n"
    }
   }
  },
  {
   "cell_type": "code",
   "execution_count": 30,
   "outputs": [
    {
     "data": {
      "text/plain": "(10, 14)"
     },
     "execution_count": 30,
     "metadata": {},
     "output_type": "execute_result"
    }
   ],
   "source": [],
   "metadata": {
    "collapsed": false,
    "pycharm": {
     "name": "#%%\n"
    }
   }
  },
  {
   "cell_type": "code",
   "execution_count": 30,
   "outputs": [],
   "source": [],
   "metadata": {
    "collapsed": false,
    "pycharm": {
     "name": "#%%\n"
    }
   }
  }
 ],
 "metadata": {
  "kernelspec": {
   "display_name": "Python 3",
   "language": "python",
   "name": "python3"
  },
  "language_info": {
   "codemirror_mode": {
    "name": "ipython",
    "version": 2
   },
   "file_extension": ".py",
   "mimetype": "text/x-python",
   "name": "python",
   "nbconvert_exporter": "python",
   "pygments_lexer": "ipython2",
   "version": "2.7.6"
  }
 },
 "nbformat": 4,
 "nbformat_minor": 0
}