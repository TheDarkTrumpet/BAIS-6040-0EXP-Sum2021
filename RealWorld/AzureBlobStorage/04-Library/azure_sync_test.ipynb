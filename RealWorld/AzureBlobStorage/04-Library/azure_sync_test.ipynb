{
 "cells": [
  {
   "cell_type": "code",
   "execution_count": 1,
   "metadata": {
    "collapsed": true
   },
   "outputs": [],
   "source": [
    "from azure_sync.creds import load_credentials\n",
    "from azure_sync.uploadclient import AzureUpload"
   ]
  },
  {
   "cell_type": "code",
   "execution_count": 2,
   "outputs": [
    {
     "name": "stdout",
     "output_type": "stream",
     "text": [
      "Credentials loaded? True\n",
      "Currently processing, /home/dthole/temp/blob-tutorial/test-file4.bin\n",
      "Finished processing, /home/dthole/temp/blob-tutorial/test-file4.bin\n",
      "Currently processing, /home/dthole/temp/blob-tutorial/test-file5.bin\n",
      "Finished processing, /home/dthole/temp/blob-tutorial/test-file5.bin\n",
      "Currently processing, /home/dthole/temp/blob-tutorial/test-file3.bin\n",
      "Finished processing, /home/dthole/temp/blob-tutorial/test-file3.bin\n",
      "Currently processing, /home/dthole/temp/blob-tutorial/test-file2.bin\n",
      "Finished processing, /home/dthole/temp/blob-tutorial/test-file2.bin\n",
      "Currently processing, /home/dthole/temp/blob-tutorial/test-file.bin\n",
      "Finished processing, /home/dthole/temp/blob-tutorial/test-file.bin\n"
     ]
    }
   ],
   "source": [
    "credentials = load_credentials(\"/home/dthole/.creds/azure-blob-sync.creds\")\n",
    "print(f\"Credentials loaded? {len(credentials) > 0}\")\n",
    "\n",
    "azUpload = AzureUpload(credentials, \"blob-tutorial\")\n",
    "azUpload.upload_files(\"/home/dthole/temp/blob-tutorial/*\", overwrite=True)"
   ],
   "metadata": {
    "collapsed": false,
    "pycharm": {
     "name": "#%%\n"
    }
   }
  },
  {
   "cell_type": "code",
   "execution_count": 2,
   "outputs": [],
   "source": [],
   "metadata": {
    "collapsed": false,
    "pycharm": {
     "name": "#%%\n"
    }
   }
  }
 ],
 "metadata": {
  "kernelspec": {
   "display_name": "Python 3",
   "language": "python",
   "name": "python3"
  },
  "language_info": {
   "codemirror_mode": {
    "name": "ipython",
    "version": 2
   },
   "file_extension": ".py",
   "mimetype": "text/x-python",
   "name": "python",
   "nbconvert_exporter": "python",
   "pygments_lexer": "ipython2",
   "version": "2.7.6"
  }
 },
 "nbformat": 4,
 "nbformat_minor": 0
}