{
 "cells": [
  {
   "cell_type": "markdown",
   "metadata": {
    "collapsed": true,
    "pycharm": {
     "name": "#%% md\n"
    }
   },
   "source": [
    "# Homework1.todo.ipynb\n",
    "\n",
    "## Purpose\n",
    "\n",
    "This homework is designed to introduce you to using Jupyter Notebooks.  You'll only have one Notebook to send in, but this homework is designed to give you an opportunity to get the required infrastructure setup and to start working with the notebooks.  We'll have fairly simple operators that'll be required to be used\n",
    "\n",
    "When reading these notebooks, remember to pay attention to the output that I'm providing to you.  The types are the most important, not so much the number.  Also, try to take in account the format of your notebook (structure), and the naming of your variables.  These components won't be weighted heavily this time around, but it's good practice.\n",
    "\n",
    "## Required Hand-in\n",
    "\n",
    "One notebook will be required to be handed in.  It must be in a Jupyter notebook format.  At the very minimum, you should use Anaconda and Jupyter Lab (or notebook).  You're more than welcome to use other solutions, as long as you can maintain it (such as Azure Data Studio, PyCharm, etc.)"
   ]
  },
  {
   "cell_type": "markdown",
   "source": [
    "# Part 1 - Getting to know Jupyter\n",
    "\n",
    "## Part 1.1\n",
    "Create a few variables.  Note we'll use these variables later.  Print out the variable name, value, and the type.  One example is provided, but please create at least 2 more off any one of the 4 types provided.  All three types should be different types.  You can do this in 3 cells, or in one.  Probably good to play with both to ensure you understand how to do a print statement along with other calls.\n",
    "\n",
    "**To create other cells**, note you can hit the \"+\" icon at the top of your window to create a new cell.  Remember to change it to a code type!"
   ],
   "metadata": {
    "collapsed": false,
    "pycharm": {
     "name": "#%% md\n"
    }
   }
  },
  {
   "cell_type": "code",
   "execution_count": 1,
   "outputs": [
    {
     "name": "stdout",
     "output_type": "stream",
     "text": [
      "The variable, myName, is defined as David Thole and is of type <class 'str'>\n"
     ]
    }
   ],
   "source": [
    "myName = \"David Thole\"\n",
    "print(f\"The variable, myName, is defined as {myName} and is of type {type(myName)}\")"
   ],
   "metadata": {
    "collapsed": false,
    "pycharm": {
     "name": "#%%\n"
    }
   }
  },
  {
   "cell_type": "code",
   "execution_count": 2,
   "outputs": [
    {
     "name": "stdout",
     "output_type": "stream",
     "text": [
      "The variable, myCatAge, is defined as 5 and is of type <class 'int'>\n"
     ]
    }
   ],
   "source": [
    "myCatAge = 5\n",
    "print(f\"The variable, myCatAge, is defined as {myCatAge} and is of type {type(myCatAge)}\")"
   ],
   "metadata": {
    "collapsed": false,
    "pycharm": {
     "name": "#%%\n"
    }
   }
  },
  {
   "cell_type": "code",
   "execution_count": 3,
   "outputs": [
    {
     "name": "stdout",
     "output_type": "stream",
     "text": [
      "The variable, myCatWeight, is defined as 15.7 and is of type <class 'float'>\n"
     ]
    }
   ],
   "source": [
    "myCatWeight = 15.7\n",
    "print(f\"The variable, myCatWeight, is defined as {myCatWeight} and is of type {type(myCatWeight)}\")"
   ],
   "metadata": {
    "collapsed": false,
    "pycharm": {
     "name": "#%%\n"
    }
   }
  },
  {
   "cell_type": "markdown",
   "source": [
    "## Part 1.2\n",
    "\n",
    "Now, we'll look at changing a variable from one type to another.  For example, look at myName above.  Right now that's a type of string, but let's use a different type.  In my case, I'll change it to a float.  So, for your other two variables (defined in 1.1), reassign and re-output like before.  Pick different types."
   ],
   "metadata": {
    "collapsed": false,
    "pycharm": {
     "name": "#%% md\n"
    }
   }
  },
  {
   "cell_type": "code",
   "execution_count": 4,
   "outputs": [
    {
     "name": "stdout",
     "output_type": "stream",
     "text": [
      "The variable, myName, is defined as 120.1519 and is of type <class 'float'>\n"
     ]
    }
   ],
   "source": [
    "myName = 120.1519\n",
    "print(f\"The variable, myName, is defined as {myName} and is of type {type(myName)}\")"
   ],
   "metadata": {
    "collapsed": false,
    "pycharm": {
     "name": "#%%\n"
    }
   }
  },
  {
   "cell_type": "code",
   "execution_count": 5,
   "outputs": [
    {
     "name": "stdout",
     "output_type": "stream",
     "text": [
      "The variable, myCatAge, is defined as 5yr and is of type <class 'str'>\n"
     ]
    }
   ],
   "source": [
    "myCatAge = \"5yr\"\n",
    "print(f\"The variable, myCatAge, is defined as {myCatAge} and is of type {type(myCatAge)}\")"
   ],
   "metadata": {
    "collapsed": false,
    "pycharm": {
     "name": "#%%\n"
    }
   }
  },
  {
   "cell_type": "code",
   "execution_count": 6,
   "outputs": [
    {
     "name": "stdout",
     "output_type": "stream",
     "text": [
      "The variable, myCatWeight, is defined as 15 and is of type <class 'int'>\n"
     ]
    }
   ],
   "source": [
    "myCatWeight = 15\n",
    "print(f\"The variable, myCatWeight, is defined as {myCatWeight} and is of type {type(myCatWeight)}\")"
   ],
   "metadata": {
    "collapsed": false,
    "pycharm": {
     "name": "#%%\n"
    }
   }
  },
  {
   "cell_type": "markdown",
   "source": [
    "## Part 2 - Running out of order\n",
    "One issue that you'll likely run into at least a dozen or so times (if not more like hundreds long term), is the fact that you'll end up seeing unexpected results as you're working with a notebook.  We'll demonstrate this now.\n",
    "\n",
    "In the following cell (after example), take a variable you defined previously, and print it out.  Remember, you can put the variable, by itself, and have it print the results without needing a print statement (the last statement in a block will print, if applicable).\n",
    "\n",
    "Then, rerun the cell where you for the corresponding variable in 1.1.  Then rerun the cell below to see how the variable changes.  Look at this in comparison to what the output was in 1.2\n",
    "\n",
    "Below is an example, do your test after"
   ],
   "metadata": {
    "collapsed": false,
    "pycharm": {
     "name": "#%% md\n"
    }
   }
  },
  {
   "cell_type": "code",
   "execution_count": 7,
   "outputs": [
    {
     "data": {
      "text/plain": "120.1519"
     },
     "execution_count": 7,
     "metadata": {},
     "output_type": "execute_result"
    }
   ],
   "source": [
    "myName"
   ],
   "metadata": {
    "collapsed": false,
    "pycharm": {
     "name": "#%%\n"
    }
   }
  },
  {
   "cell_type": "code",
   "execution_count": 7,
   "outputs": [],
   "source": [
    "# Decided not to do this, the test is fairly simple, but won't come across well running from start to finish.  Print out your variables here and run things out of order to get an idea of what to do."
   ],
   "metadata": {
    "collapsed": false,
    "pycharm": {
     "name": "#%%\n"
    }
   }
  },
  {
   "cell_type": "markdown",
   "source": [
    "## Part 2 - Running out of order (cont.)\n",
    "You should notice the value is different than expected.  Be sure to pay special attention to the number besides the code cells to figure out what was run, and the order of it (incrementing order)\n",
    "\n",
    "Before going on, lets solve the out-of-order issue.  At this point, please restart the kernel and run from start to finish (run all).  Look at how your value changes, and how the number change.\n",
    "\n",
    "## Part 3 - Operator Practice\n",
    "In this part, we'll go through some operators, and practice them.  I've defined some variables for you already, and we'll use them going forward.  Please do not reassign/overwrite these variables.  Each operator practice should be in individual blocks.  The first example is provided."
   ],
   "metadata": {
    "collapsed": false,
    "pycharm": {
     "name": "#%% md\n"
    }
   }
  },
  {
   "cell_type": "code",
   "execution_count": 8,
   "outputs": [],
   "source": [
    "valueOne = 505\n",
    "valueTwo = True\n",
    "valueThree = 15.342\n",
    "valueFour = \"Fuzzy bear\""
   ],
   "metadata": {
    "collapsed": false,
    "pycharm": {
     "name": "#%%\n"
    }
   }
  },
  {
   "cell_type": "code",
   "execution_count": 9,
   "outputs": [
    {
     "data": {
      "text/plain": "520.342"
     },
     "execution_count": 9,
     "metadata": {},
     "output_type": "execute_result"
    }
   ],
   "source": [
    "# Add valueOne to valueThree\n",
    "valueOne + valueThree"
   ],
   "metadata": {
    "collapsed": false,
    "pycharm": {
     "name": "#%%\n"
    }
   }
  },
  {
   "cell_type": "code",
   "execution_count": 10,
   "outputs": [
    {
     "data": {
      "text/plain": "-489.658"
     },
     "execution_count": 10,
     "metadata": {},
     "output_type": "execute_result"
    }
   ],
   "source": [
    "# Subtract valueThree from valueOne\n",
    "valueThree - valueOne"
   ],
   "metadata": {
    "collapsed": false,
    "pycharm": {
     "name": "#%%\n"
    }
   }
  },
  {
   "cell_type": "code",
   "execution_count": 11,
   "outputs": [
    {
     "data": {
      "text/plain": "'520.342 Fuzzy bear'"
     },
     "execution_count": 11,
     "metadata": {},
     "output_type": "execute_result"
    }
   ],
   "source": [
    "# Add valueOne to valueThree and concatenate it to valueFour\n",
    "# The result should be: \"520.342 Fuzzy bear\"\n",
    "str(valueOne + valueThree) + \" \" + valueFour"
   ],
   "metadata": {
    "collapsed": false,
    "pycharm": {
     "name": "#%%\n"
    }
   }
  },
  {
   "cell_type": "code",
   "execution_count": 12,
   "outputs": [
    {
     "data": {
      "text/plain": "520"
     },
     "execution_count": 12,
     "metadata": {},
     "output_type": "execute_result"
    }
   ],
   "source": [
    "# Cast valueThree to an int, and add it to valueOne\n",
    "# The result should be 520\n",
    "int(valueThree) + valueOne"
   ],
   "metadata": {
    "collapsed": false,
    "pycharm": {
     "name": "#%%\n"
    }
   }
  },
  {
   "cell_type": "code",
   "execution_count": 13,
   "outputs": [
    {
     "data": {
      "text/plain": "506"
     },
     "execution_count": 13,
     "metadata": {},
     "output_type": "execute_result"
    }
   ],
   "source": [
    "# Cast valueTwo to an int, add it to valueOne\n",
    "# The result should be 506\n",
    "int(valueTwo) + valueOne"
   ],
   "metadata": {
    "collapsed": false,
    "pycharm": {
     "name": "#%%\n"
    }
   }
  },
  {
   "cell_type": "code",
   "execution_count": 14,
   "outputs": [
    {
     "name": "stdout",
     "output_type": "stream",
     "text": [
      "valueOne => 505, valueTwo => True, valueThree => 15.342, valueFour => Fuzzy bear\n"
     ]
    }
   ],
   "source": [
    "# Using an F-string, and without the print statement, generate a string that has the following result:\n",
    "# 'valueOne => 505, valueTwo => True, valueThree => 15.342, valueFour => Fuzzy bear'\n",
    "print(f'valueOne => {valueOne}, valueTwo => {valueTwo}, valueThree => {valueThree}, valueFour => {valueFour}')"
   ],
   "metadata": {
    "collapsed": false,
    "pycharm": {
     "name": "#%%\n"
    }
   }
  },
  {
   "cell_type": "markdown",
   "source": [
    "## Part 4 - Working with errors in code (part 1)\n",
    "Errors in source code do happen.  We talked about one case earlier in regard to \"out-of-order\" based runs, but another common one are hard line exceptions.  We'll cover exceptions a bit more in-depth in module 3, but to get better marks on your homework, it's important to resolve those issues.  We'll do a division by 0 error below, which mathematically speaking you can't divide anything by 0 (approaches infinity).  Don't fix this issue yet, but run the below cell and pay attention to the output and what it's telling you.  After you look at the message, go on with the exercise **without** fixing it yet, there's a further concept we'll illustrate later why this is important."
   ],
   "metadata": {
    "collapsed": false,
    "pycharm": {
     "name": "#%% md\n"
    }
   }
  },
  {
   "cell_type": "raw",
   "source": [
    "# I don't understand what DivideByZero means\n",
    "5/0"
   ],
   "metadata": {
    "collapsed": false,
    "pycharm": {
     "name": "#%% raw\n"
    }
   }
  },
  {
   "cell_type": "markdown",
   "source": [
    "## Part 5 - Preparation for future homeworks\n",
    "Often times in the development and analysis world, you won't have a direct \"how-to\" regarding how to get to a specific answer.  Often times in my notebooks (excluding much of this one), you'll find the output given, but the source not.  And, it's your job to figure out what the source is intended to be.\n",
    "\n",
    "This part will help start that practice.  I'm doing to define 4 new variables, then I'm going to provide the output, and it's your job to determine the operations necessary to make it work.  Furthermore, we'll start using more relevant names to name our inputs and outputs.  The names of these should help you to understand what's going on and this is why we use well-defined names in our code."
   ],
   "metadata": {
    "collapsed": false,
    "pycharm": {
     "name": "#%% md\n"
    }
   }
  },
  {
   "cell_type": "code",
   "execution_count": 15,
   "outputs": [],
   "source": [
    "# Make sure you run the below cell before continuing on, the variables won't be available otherwise!\n",
    "orangePrice = 2.50\n",
    "bananaPrice = 2.00\n",
    "flourPrice = 5.99\n",
    "tomatoPrice = 1.50\n",
    "cheesePrice = 6.99"
   ],
   "metadata": {
    "collapsed": false,
    "pycharm": {
     "name": "#%%\n"
    }
   }
  },
  {
   "cell_type": "code",
   "execution_count": 16,
   "outputs": [
    {
     "data": {
      "text/plain": "14.48"
     },
     "execution_count": 16,
     "metadata": {},
     "output_type": "execute_result"
    }
   ],
   "source": [
    "# Provided as an example...\n",
    "pizzaIngredientsPrice = cheesePrice+flourPrice+tomatoPrice\n",
    "pizzaIngredientsPrice"
   ],
   "metadata": {
    "collapsed": false,
    "pycharm": {
     "name": "#%%\n"
    }
   }
  },
  {
   "cell_type": "code",
   "execution_count": 17,
   "outputs": [
    {
     "data": {
      "text/plain": "6.0"
     },
     "execution_count": 17,
     "metadata": {},
     "output_type": "execute_result"
    }
   ],
   "source": [
    "freshProducePrice = orangePrice + bananaPrice + tomatoPrice\n",
    "freshProducePrice"
   ],
   "metadata": {
    "collapsed": false,
    "pycharm": {
     "name": "#%%\n"
    }
   }
  },
  {
   "cell_type": "code",
   "execution_count": 18,
   "outputs": [
    {
     "data": {
      "text/plain": "2.0"
     },
     "execution_count": 18,
     "metadata": {},
     "output_type": "execute_result"
    }
   ],
   "source": [
    "averageFreshProducePrice = freshProducePrice / 3\n",
    "averageFreshProducePrice"
   ],
   "metadata": {
    "collapsed": false,
    "pycharm": {
     "name": "#%%\n"
    }
   }
  },
  {
   "cell_type": "code",
   "execution_count": 19,
   "outputs": [
    {
     "data": {
      "text/plain": "7.99"
     },
     "execution_count": 19,
     "metadata": {},
     "output_type": "execute_result"
    }
   ],
   "source": [
    "bananaBreadPrice = bananaPrice + flourPrice\n",
    "bananaBreadPrice"
   ],
   "metadata": {
    "collapsed": false,
    "pycharm": {
     "name": "#%%\n"
    }
   }
  },
  {
   "cell_type": "markdown",
   "source": [
    "## Part 6 - Preparing to turn in your homework.\n",
    "When turning in your homework, there are some criteria you should be aware of that will impact your grade.  Remember first, we're working with a 70% correctness, and 30% format/naming criteria here.  The first few homeworks will be lightly impacted by the format/naming, but it'll become far more important starting around homework 3 and 4.  Some things you want to watch for, for each criteria, and how to solve it:\n",
    "\n",
    "### Correctness:\n",
    "| What to look for | Tips to Solve |\n",
    "|------------------|---------------|\n",
    "|Does the entire notebook run, start to finish | Before turning in your notebook, be sure to click \"restart kernel\" and run all cells.  Look to the left of the code cells and make sure that you see numbers, and no exceptions |\n",
    "| Does it produce the expected output | You can work with the values that I provide, and aim to get the same output as a validation step.  Often times it's best to look over your logic. |\n",
    "| Are you using the right algorithm(s)? | You don't have to worry much about this right now, but in module 2 and further on, we'll start getting into loops and multiple ways of coding a particular solution. Is the algorithm you choose the better one? |\n",
    "| Am I using the right libraries/functionality? | In general, try to use what's provided up to that point in class.  In other words, if you decide to use a library that either isn't covered, or hasn't been covered up to this point, and the reason can't be justified, it'll impact your grade. |\n",
    "\n",
    "### Format:\n",
    "| What to look for | Tips to Solve |\n",
    "|------------------|---------------|\n",
    "| Do the variable names make sense and describe the data it holds | Names should be descriptive, like we did in part 5.  Aim for something similar |\n",
    "| Is the naming convention consistent? | There are many options for names, but it's important to be consistent.  For example, `PizzaPrice`, `pizzaPrice`, and `pizza_price` are all ways of describing the name contents, but have different formats.  Pick a style, and stick to it |\n",
    "| Is there documentation where it needs to be? | I recommend that you have your notebook setup in a certain way with an introduction at top, helper functions next, implementation last.  With other chunks to denote very different areas of one's notebook (e.g. loading data from plots, etc.) |\n",
    "\n",
    "In our notebook here, we left an error in part 4.  There are two parts to all this.\n",
    "\n",
    "First, restart the kernel, and click \"run all\".  Scroll through the results.  Notice what cells are returning values and which ones aren't.  Pay special attention to part 4.  You should see the exception, but look at part 5.  Did any of that get printed out?\n",
    "\n",
    "For the purposes of this exercise, lets assume this is a block of code that you had problems with and wanted feedback on.  Go back to part 4, where we did the division by 0 and change the cell from \"Code\" to \"Raw\" (You can do this by clicking on the cell, and looking at the dropdown at the top of the window).  Now, put a comment of some kind above the code.  I recommend in the same block that can say something like \"I don't understand what this exception means\".  When asking for help in a notebook, this is what you do.  Make the cell raw, add a comment, and go on.\n",
    "\n",
    "An example of how this should look, when done, is below:"
   ],
   "metadata": {
    "collapsed": false,
    "pycharm": {
     "name": "#%% md\n"
    }
   }
  },
  {
   "cell_type": "raw",
   "source": [
    "# I don't understand what DivideByZero means\n",
    "5/0"
   ],
   "metadata": {
    "collapsed": false,
    "pycharm": {
     "name": "#%% raw\n"
    }
   }
  },
  {
   "cell_type": "markdown",
   "source": [
    "After you alter the cell, and add the comment, restart the kernel again and rerun the entire notebook.  Now, you should see every code cell with results right after.\n",
    "\n",
    "Another tip for successfully completing homeworks (and tests).  I provide the homework as in Github.  If you are overwriting your checkout of the notebook, then I recommend you open the notebook in a web browser on github directly.  This was described in the homework description video, but the direct link for this notebook is: [Homework 1](https://github.com/TheDarkTrumpet/BAIS-6040-0EXP-Sum2021/blob/master/Homework/Homework1.todo.ipynb)\n",
    "\n",
    "This is a complete notebook.  This notebook, is what you turn in."
   ],
   "metadata": {
    "collapsed": false,
    "pycharm": {
     "name": "#%% md\n"
    }
   }
  }
 ],
 "metadata": {
  "kernelspec": {
   "display_name": "Python 3",
   "language": "python",
   "name": "python3"
  },
  "language_info": {
   "codemirror_mode": {
    "name": "ipython",
    "version": 2
   },
   "file_extension": ".py",
   "mimetype": "text/x-python",
   "name": "python",
   "nbconvert_exporter": "python",
   "pygments_lexer": "ipython2",
   "version": "2.7.6"
  }
 },
 "nbformat": 4,
 "nbformat_minor": 0
}