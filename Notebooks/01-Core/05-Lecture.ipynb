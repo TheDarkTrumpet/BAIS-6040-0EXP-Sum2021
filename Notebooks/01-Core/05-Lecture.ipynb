{
 "cells": [
  {
   "cell_type": "markdown",
   "metadata": {
    "collapsed": true,
    "pycharm": {
     "name": "#%% md\n"
    }
   },
   "source": [
    "# 04-Lecture\n",
    "\n",
    "## Agenda\n",
    "\n",
    "1. Schedule for the next few weeks\n",
    "2. Brief introduction for this week's contents, and what we covered thus far\n",
    "3. Discuss Homework 3 and overall issues (due date extension, too)\n",
    "4. Deep Dive into each issue, explaining each one\n",
    "5. General Development flow\n",
    "6. Homework 4 questions - point out the supplemental lecture notebook for people.\n",
    "7. Breakout rooms / personal conversations (as requested)\n",
    "\n",
    "**NOTE** End time at 7:30 PM"
   ]
  },
  {
   "cell_type": "markdown",
   "source": [
    "# Schedule for next few weeks"
   ],
   "metadata": {
    "collapsed": false,
    "pycharm": {
     "name": "#%% md\n"
    }
   }
  },
  {
   "cell_type": "markdown",
   "source": [
    "# Brief introduction to this week's contents and what we covered thus far.\n",
    "\n",
    "![What's Been Covered](./05-Lecture.WhatCovered.png)"
   ],
   "metadata": {
    "collapsed": false,
    "pycharm": {
     "name": "#%% md\n"
    }
   }
  },
  {
   "cell_type": "markdown",
   "source": [
    "# Discuss Homework 3 and overall issues\n",
    "\n",
    "While grading homework 3, many people had issues with the following types of issues:\n",
    "\n",
    "- Organizing their notebooks (Naming, placement, etc)\n",
    "- Not reading the requirements strongly enough (no functions), or creating functions that are no better than built in.\n",
    "- For loops vs While loops\n",
    "- Sets having unique values, and therefore list comprehension doesn't work\n",
    "\n",
    "**Homework 4 extended to Sunday Evening**"
   ],
   "metadata": {
    "collapsed": false,
    "pycharm": {
     "name": "#%% md\n"
    }
   }
  },
  {
   "cell_type": "markdown",
   "source": [
    "## Organizing Notebooks\n",
    "\n",
    "The general format is:\n",
    "\n",
    "1.  An introduction at the top\n",
    "2.  Imports and seeds\n",
    "3.  Helper Functions\n",
    "4.  Implementation\n",
    "\n",
    "Markdown comments are encouraged at various parts to help break up a notebook.  Think of this like a research paper, a news article, etc."
   ],
   "metadata": {
    "collapsed": false,
    "pycharm": {
     "name": "#%% md\n"
    }
   }
  },
  {
   "cell_type": "markdown",
   "source": [
    "## Not reading requirements\n",
    "\n",
    "Read each line, come up with a game-plan before implementation (more on this later)."
   ],
   "metadata": {
    "collapsed": false,
    "pycharm": {
     "name": "#%% md\n"
    }
   }
  },
  {
   "cell_type": "markdown",
   "source": [
    "## For loops vs While loops\n",
    "\n",
    "- When you have a **collection** use a for loop\n",
    "- When you **don't**, use a while loop\n",
    "- When the operations, on a **collection** is simple, consider using a map/filter/comprehension statement"
   ],
   "metadata": {
    "collapsed": false,
    "pycharm": {
     "name": "#%% md\n"
    }
   }
  },
  {
   "cell_type": "markdown",
   "source": [
    "## Sets have unique values\n",
    "\n",
    "- A list can have duplicate values, a set cannot.\n",
    "- You can't assume, under **ANY** circumstances (regardless of how large your range is, or num_gathering > 1, that you will get unique values)"
   ],
   "metadata": {
    "collapsed": false,
    "pycharm": {
     "name": "#%% md\n"
    }
   }
  },
  {
   "cell_type": "code",
   "execution_count": 2,
   "outputs": [
    {
     "name": "stdout",
     "output_type": "stream",
     "text": [
      "Expected size: 7, testSet: 5, testSet2: 4\n",
      "Expected size: 7, testSet: 5, testSet2: 4\n",
      "Expected size: 7, testSet: 3, testSet2: 6\n",
      "Expected size: 7, testSet: 5, testSet2: 4\n",
      "Expected size: 7, testSet: 5, testSet2: 6\n",
      "Expected size: 7, testSet: 6, testSet2: 4\n",
      "Expected size: 7, testSet: 6, testSet2: 5\n",
      "Expected size: 7, testSet: 4, testSet2: 5\n",
      "Expected size: 7, testSet: 5, testSet2: 6\n",
      "Expected size: 7, testSet: 6, testSet2: 5\n"
     ]
    }
   ],
   "source": [
    "import random as rnd\n",
    "rnd.seed(\"Hello Kitty\")\n",
    "\n",
    "for _ in range(10):\n",
    "    testSet = {rnd.randint(1, 10) for _ in range(7)}\n",
    "    testSet2 = set([rnd.randint(1, 10) for _ in range(7)])\n",
    "    print(f\"Expected size: 7, testSet: {len(testSet)}, testSet2: {len(testSet2)}\")"
   ],
   "metadata": {
    "collapsed": false,
    "pycharm": {
     "name": "#%%\n"
    }
   }
  },
  {
   "cell_type": "code",
   "execution_count": 4,
   "outputs": [
    {
     "name": "stdout",
     "output_type": "stream",
     "text": [
      "testSet3 Size: 8, number of iterations needed: 13\n"
     ]
    }
   ],
   "source": [
    "testSet3 = set()\n",
    "numRequested = 7\n",
    "numIterations = 1    # For debugging/demonstration purposes only\n",
    "while len(testSet3) <= numRequested:\n",
    "    testSet3.add(rnd.randint(1, 10))\n",
    "    numIterations += 1\n",
    "print(f\"testSet3 Size: {len(testSet3)}, number of iterations needed: {numIterations}\")"
   ],
   "metadata": {
    "collapsed": false,
    "pycharm": {
     "name": "#%%\n"
    }
   }
  },
  {
   "cell_type": "code",
   "execution_count": 7,
   "outputs": [],
   "source": [
    "# As a function.\n",
    "\n",
    "def generateRandomSet(requested, start, end):\n",
    "    returnedSet = set()\n",
    "    numberIterations = 1\n",
    "    while len(returnedSet) <= requested:\n",
    "        returnedSet.add(rnd.randint(start, end))\n",
    "        numberIterations += 1\n",
    "    print(f\"returnedSet Length: {len(returnedSet)}\\tNumber Iterations: {numberIterations}\")\n",
    "    return returnedSet"
   ],
   "metadata": {
    "collapsed": false,
    "pycharm": {
     "name": "#%%\n"
    }
   }
  },
  {
   "cell_type": "code",
   "execution_count": 8,
   "outputs": [
    {
     "name": "stdout",
     "output_type": "stream",
     "text": [
      "returnedSet Length: 8\tNumber Iterations: 20\n",
      "returnedSet Length: 8\tNumber Iterations: 11\n",
      "returnedSet Length: 8\tNumber Iterations: 15\n",
      "returnedSet Length: 8\tNumber Iterations: 12\n",
      "returnedSet Length: 8\tNumber Iterations: 13\n",
      "returnedSet Length: 8\tNumber Iterations: 13\n",
      "returnedSet Length: 8\tNumber Iterations: 14\n",
      "returnedSet Length: 8\tNumber Iterations: 11\n",
      "returnedSet Length: 8\tNumber Iterations: 18\n",
      "returnedSet Length: 8\tNumber Iterations: 16\n"
     ]
    }
   ],
   "source": [
    "for _ in range(10):\n",
    "    generateRandomSet(7, 1, 10)"
   ],
   "metadata": {
    "collapsed": false,
    "pycharm": {
     "name": "#%%\n"
    }
   }
  },
  {
   "cell_type": "markdown",
   "source": [
    "# General Development Flow\n",
    "![Development Flow](./05-Lecture.Development-Flow.png)"
   ],
   "metadata": {
    "collapsed": false,
    "pycharm": {
     "name": "#%% md\n"
    }
   }
  },
  {
   "cell_type": "markdown",
   "source": [
    "# Homework 4 Questions\n",
    "\n",
    "* Supplemental: https://github.com/TheDarkTrumpet/BAIS-6040-0EXP-Sum2021/blob/master/Supplementals/2021-06-14.supplemental.ipynb\n",
    "\n",
    "Others?"
   ],
   "metadata": {
    "collapsed": false,
    "pycharm": {
     "name": "#%% md\n"
    }
   }
  },
  {
   "cell_type": "markdown",
   "source": [
    "# Breakout Sessions\n",
    "\n",
    "_Discussion Topic_: Finalize project plan, document it, and submit it in (Will create the assignment shortly).  Start looking at the data in Excel, if possible."
   ],
   "metadata": {
    "collapsed": false,
    "pycharm": {
     "name": "#%% md\n"
    }
   }
  }
 ],
 "metadata": {
  "kernelspec": {
   "display_name": "Python 3",
   "language": "python",
   "name": "python3"
  },
  "language_info": {
   "codemirror_mode": {
    "name": "ipython",
    "version": 2
   },
   "file_extension": ".py",
   "mimetype": "text/x-python",
   "name": "python",
   "nbconvert_exporter": "python",
   "pygments_lexer": "ipython2",
   "version": "2.7.6"
  }
 },
 "nbformat": 4,
 "nbformat_minor": 0
}