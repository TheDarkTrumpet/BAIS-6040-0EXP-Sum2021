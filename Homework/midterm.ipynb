{
 "cells": [
  {
   "cell_type": "markdown",
   "metadata": {
    "collapsed": true,
    "pycharm": {
     "name": "#%% md\n"
    }
   },
   "source": [
    "# Midterm\n",
    "\n",
    "## Purpose\n",
    "\n",
    "This midterm attempts to touch on a little bit of everything we covered in this course up to this point.  We won't be including Pandas in this midterm, and required knowledge is up through and including NumPy.\n",
    "\n",
    "There will be 5 main sections of this.  We'll go over types into lists, then sets, then into dictionaries functions, then NumPy.\n",
    "\n",
    "Some sections tie to other sections, so it's recommended you work on this top down.  I do recommend reading through everything, studying the output, and come up with a \"game plan\" before you get started.  Try to avoid the urge of starting to code right away, and give yourself plenty of time to figure out the strategy.  The actual coding of this shouldn't take too long.\n",
    "\n",
    "Readability will count.  Remember that too much in one cell can "
   ]
  },
  {
   "cell_type": "code",
   "execution_count": null,
   "outputs": [],
   "source": [
    "import random as rnd\n",
    "import numpy as np\n",
    "\n",
    "rnd.seed(78223)\n",
    "np.random.seed(83433)"
   ],
   "metadata": {
    "collapsed": false,
    "pycharm": {
     "name": "#%%\n"
    }
   }
  },
  {
   "cell_type": "code",
   "execution_count": null,
   "outputs": [],
   "source": [
    "# Helper functions go in a block near the top"
   ],
   "metadata": {
    "collapsed": false,
    "pycharm": {
     "name": "#%%\n"
    }
   }
  },
  {
   "cell_type": "markdown",
   "source": [
    "# Part 1 - Types\n",
    "\n",
    "In this section, please create 4 different lists, each with 10 elements.  Below are the types, and formats/ranges\n",
    "\n",
    "| Type  | Length | Range/Format |\n",
    "|-------|--------|--------------|\n",
    "| integer | 10 elements | 3-12  |\n",
    "| float   | 10 elements | 0-1.0 (0.01, 0.02, ..., 1.0 |\n",
    "| Boolean | 10 elements | True/False  |\n",
    "| String  | 10 elements | format: \"number (X)\", 1 < X < 10, keep the parentheses |\n",
    "\n",
    "You can use For, While, or List Comprehension.  Do not use sample.\n",
    "\n",
    "Print the name of the variable, the type of the collection, and the elements contained - for each of the 4 variables we created above."
   ],
   "metadata": {
    "collapsed": false,
    "pycharm": {
     "name": "#%% md\n"
    }
   }
  },
  {
   "cell_type": "code",
   "execution_count": null,
   "outputs": [],
   "source": [],
   "metadata": {
    "collapsed": false,
    "pycharm": {
     "name": "#%%\n"
    }
   }
  }
 ],
 "metadata": {
  "kernelspec": {
   "display_name": "Python 3",
   "language": "python",
   "name": "python3"
  },
  "language_info": {
   "codemirror_mode": {
    "name": "ipython",
    "version": 2
   },
   "file_extension": ".py",
   "mimetype": "text/x-python",
   "name": "python",
   "nbconvert_exporter": "python",
   "pygments_lexer": "ipython2",
   "version": "2.7.6"
  }
 },
 "nbformat": 4,
 "nbformat_minor": 0
}