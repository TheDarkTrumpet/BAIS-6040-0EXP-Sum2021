{
 "cells": [
  {
   "cell_type": "markdown",
   "metadata": {
    "collapsed": true,
    "pycharm": {
     "name": "#%% md\n"
    }
   },
   "source": [
    "# MidtermPractice.01.ipynb\n",
    "\n",
    "# Purpose\n",
    "This is a set of exercises designed to help test for the **practical** knowledge related to the midterm exam.  The format will be similar between the two."
   ]
  },
  {
   "cell_type": "markdown",
   "source": [
    "# Types\n",
    "\n",
    "Generate a list of 10 random float elements, between 0 and 1 [0, 0.01, 0.02, ..., 0.99, 1] using both a for and while loop (not a comprehension).  The numbers should be a precision of 2."
   ],
   "metadata": {
    "collapsed": false,
    "pycharm": {
     "name": "#%% md\n"
    }
   }
  },
  {
   "cell_type": "code",
   "execution_count": 1,
   "outputs": [],
   "source": [
    "import random as rnd\n",
    "rnd.seed(50923)"
   ],
   "metadata": {
    "collapsed": false,
    "pycharm": {
     "name": "#%%\n"
    }
   }
  },
  {
   "cell_type": "code",
   "execution_count": 2,
   "outputs": [
    {
     "data": {
      "text/plain": "[0.05, 0.66, 0.16, 0.59, 0.8, 0.59, 0.36, 0.68, 0.56, 0.4]"
     },
     "execution_count": 2,
     "metadata": {},
     "output_type": "execute_result"
    }
   ],
   "source": [
    "randomListFor = []\n",
    "for _ in range(10):\n",
    "    randomListFor.append(rnd.randint(0, 100)/100.0)\n",
    "randomListFor"
   ],
   "metadata": {
    "collapsed": false,
    "pycharm": {
     "name": "#%%\n"
    }
   }
  },
  {
   "cell_type": "code",
   "execution_count": 3,
   "outputs": [
    {
     "data": {
      "text/plain": "[0.96, 0.24, 0.52, 0.68, 0.55, 0.62, 0.87, 0.7, 0.67, 0.99]"
     },
     "execution_count": 3,
     "metadata": {},
     "output_type": "execute_result"
    }
   ],
   "source": [
    "randomListWhile = []\n",
    "while len(randomListWhile) < 10:\n",
    "    randomListWhile.append(rnd.randint(0, 100)/100.0)\n",
    "randomListWhile"
   ],
   "metadata": {
    "collapsed": false,
    "pycharm": {
     "name": "#%%\n"
    }
   }
  },
  {
   "cell_type": "markdown",
   "source": [
    "# Grouping elements\n",
    "Write a function that accepts a list.  For very two elements in the list, group them together in a tuple, and return, in the end, a list of tuples.  This function should be durable, not reliant on a specific number of elements, and it should be able to handle both even and odds.  Pay attention to the output of this."
   ],
   "metadata": {
    "collapsed": false,
    "pycharm": {
     "name": "#%% md\n"
    }
   }
  },
  {
   "cell_type": "code",
   "execution_count": 4,
   "outputs": [],
   "source": [
    "def groupElements(inElements):\n",
    "    counter = 0\n",
    "    returnStructure = []\n",
    "    while counter < len(inElements):\n",
    "        currentElement = inElements[counter]\n",
    "        nextElement = None\n",
    "        if counter + 1 < len(inElements):\n",
    "            nextElement = inElements[counter+1]\n",
    "        returnStructure.append((currentElement, nextElement))\n",
    "        counter += 2\n",
    "    return returnStructure"
   ],
   "metadata": {
    "collapsed": false,
    "pycharm": {
     "name": "#%%\n"
    }
   }
  },
  {
   "cell_type": "code",
   "execution_count": 5,
   "outputs": [
    {
     "data": {
      "text/plain": "[(1, 5), (9, None)]"
     },
     "execution_count": 5,
     "metadata": {},
     "output_type": "execute_result"
    }
   ],
   "source": [
    "groupElements([1, 5, 9])"
   ],
   "metadata": {
    "collapsed": false,
    "pycharm": {
     "name": "#%%\n"
    }
   }
  },
  {
   "cell_type": "code",
   "execution_count": 6,
   "outputs": [
    {
     "data": {
      "text/plain": "[(5, 8), (9, 2)]"
     },
     "execution_count": 6,
     "metadata": {},
     "output_type": "execute_result"
    }
   ],
   "source": [
    "groupElements([5, 8, 9, 2])"
   ],
   "metadata": {
    "collapsed": false,
    "pycharm": {
     "name": "#%%\n"
    }
   }
  },
  {
   "cell_type": "markdown",
   "source": [
    "# Programmatic Slices\n",
    "\n",
    "Write a loop that would select greater rages of elements each time.  So the first iteration, we pick 1 element. The second we pick 2, the third we pick 3, and so on til we pick a range that starts to extend the end of the list.  Each iteration print the iteration number, the elements chosen.  Look at the output for more information.  The test data set was provided for you."
   ],
   "metadata": {
    "collapsed": false,
    "pycharm": {
     "name": "#%% md\n"
    }
   }
  },
  {
   "cell_type": "code",
   "execution_count": 7,
   "outputs": [],
   "source": [
    "sequenceNumbers = [x for x in range(100)]"
   ],
   "metadata": {
    "collapsed": false,
    "pycharm": {
     "name": "#%%\n"
    }
   }
  },
  {
   "cell_type": "code",
   "execution_count": 8,
   "outputs": [
    {
     "name": "stdout",
     "output_type": "stream",
     "text": [
      "Iteration: 1, elements: [0]\n",
      "Iteration: 2, elements: [1, 2]\n",
      "Iteration: 3, elements: [3, 4, 5]\n",
      "Iteration: 4, elements: [6, 7, 8, 9]\n",
      "Iteration: 5, elements: [10, 11, 12, 13, 14]\n",
      "Iteration: 6, elements: [15, 16, 17, 18, 19, 20]\n",
      "Iteration: 7, elements: [21, 22, 23, 24, 25, 26, 27]\n",
      "Iteration: 8, elements: [28, 29, 30, 31, 32, 33, 34, 35]\n",
      "Iteration: 9, elements: [36, 37, 38, 39, 40, 41, 42, 43, 44]\n",
      "Iteration: 10, elements: [45, 46, 47, 48, 49, 50, 51, 52, 53, 54]\n",
      "Iteration: 11, elements: [55, 56, 57, 58, 59, 60, 61, 62, 63, 64, 65]\n",
      "Iteration: 12, elements: [66, 67, 68, 69, 70, 71, 72, 73, 74, 75, 76, 77]\n",
      "Iteration: 13, elements: [78, 79, 80, 81, 82, 83, 84, 85, 86, 87, 88, 89, 90]\n",
      "Iteration: 14, elements: [91, 92, 93, 94, 95, 96, 97, 98, 99]\n"
     ]
    }
   ],
   "source": [
    "iterationCounter = 1\n",
    "currentOffset = 0\n",
    "while True:\n",
    "                          # 1st time: sequenceNumbers[0:1]\n",
    "    slice = sequenceNumbers[currentOffset:currentOffset + iterationCounter]\n",
    "    print(f\"Iteration: {iterationCounter}, elements: {slice}\")\n",
    "    currentOffset += iterationCounter\n",
    "    iterationCounter += 1\n",
    "    if currentOffset > len(sequenceNumbers):\n",
    "        break"
   ],
   "metadata": {
    "collapsed": false,
    "pycharm": {
     "name": "#%%\n"
    }
   }
  },
  {
   "cell_type": "markdown",
   "source": [
    "# NumPy\n",
    "We'll generate a 6x6 matrix.  In this process, go down the diagonal of the matrix and collect the elements, 2 by 2.  So we'll grab the 5, 2, 6, 3 from the matrix during the first iteration.  IN the end you should have a list to 3 matrix collections.  We'll end print these out, then print out he summed matrix for each one (so a list of 3 summed matrices), then the sum of that."
   ],
   "metadata": {
    "collapsed": false,
    "pycharm": {
     "name": "#%% md\n"
    }
   }
  },
  {
   "cell_type": "code",
   "execution_count": 9,
   "outputs": [],
   "source": [
    "import numpy.random as nprand\n",
    "nprand.seed(6088)"
   ],
   "metadata": {
    "collapsed": false,
    "pycharm": {
     "name": "#%%\n"
    }
   }
  },
  {
   "cell_type": "code",
   "execution_count": 10,
   "outputs": [
    {
     "data": {
      "text/plain": "array([[5, 2, 6, 3, 4, 1],\n       [6, 3, 9, 6, 1, 6],\n       [8, 7, 6, 1, 3, 3],\n       [3, 8, 7, 8, 1, 8],\n       [7, 6, 8, 3, 3, 8],\n       [2, 6, 3, 5, 4, 3]])"
     },
     "execution_count": 10,
     "metadata": {},
     "output_type": "execute_result"
    }
   ],
   "source": [
    "randomMatrix = nprand.randint(1, 10, (6, 6))\n",
    "randomMatrix"
   ],
   "metadata": {
    "collapsed": false,
    "pycharm": {
     "name": "#%%\n"
    }
   }
  },
  {
   "cell_type": "code",
   "execution_count": 11,
   "outputs": [],
   "source": [
    "counter = 0\n",
    "diagonals = []\n",
    "while counter < len(randomMatrix):\n",
    "    subMatrix = randomMatrix[counter:counter+2,counter:counter+2]\n",
    "    diagonals.append(subMatrix)\n",
    "    counter = counter + 2"
   ],
   "metadata": {
    "collapsed": false,
    "pycharm": {
     "name": "#%%\n"
    }
   }
  },
  {
   "cell_type": "code",
   "execution_count": 12,
   "outputs": [
    {
     "name": "stdout",
     "output_type": "stream",
     "text": [
      "The diagonals are as follows:\n",
      "[[5 2]\n",
      " [6 3]]\n",
      "[[6 1]\n",
      " [7 8]]\n",
      "[[3 8]\n",
      " [4 3]]\n"
     ]
    }
   ],
   "source": [
    "print(\"The diagonals are as follows:\")\n",
    "for diagonal in diagonals:\n",
    "    print(diagonal)"
   ],
   "metadata": {
    "collapsed": false,
    "pycharm": {
     "name": "#%%\n"
    }
   }
  },
  {
   "cell_type": "code",
   "execution_count": 13,
   "outputs": [
    {
     "name": "stdout",
     "output_type": "stream",
     "text": [
      "The sums for each diagonal is: [16, 22, 18]\n"
     ]
    }
   ],
   "source": [
    "diagonalsSum = list(map(lambda x: x.sum(), diagonals))\n",
    "print(f\"The sums for each diagonal is: {diagonalsSum}\")"
   ],
   "metadata": {
    "collapsed": false,
    "pycharm": {
     "name": "#%%\n"
    }
   }
  },
  {
   "cell_type": "code",
   "execution_count": 14,
   "outputs": [
    {
     "name": "stdout",
     "output_type": "stream",
     "text": [
      "The entire sum of this is: 56\n"
     ]
    }
   ],
   "source": [
    "print(f\"The entire sum of this is: {sum(diagonalsSum)}\")"
   ],
   "metadata": {
    "collapsed": false,
    "pycharm": {
     "name": "#%%\n"
    }
   }
  },
  {
   "cell_type": "code",
   "execution_count": 14,
   "outputs": [],
   "source": [],
   "metadata": {
    "collapsed": false,
    "pycharm": {
     "name": "#%%\n"
    }
   }
  }
 ],
 "metadata": {
  "kernelspec": {
   "display_name": "Python 3",
   "language": "python",
   "name": "python3"
  },
  "language_info": {
   "codemirror_mode": {
    "name": "ipython",
    "version": 2
   },
   "file_extension": ".py",
   "mimetype": "text/x-python",
   "name": "python",
   "nbconvert_exporter": "python",
   "pygments_lexer": "ipython2",
   "version": "2.7.6"
  }
 },
 "nbformat": 4,
 "nbformat_minor": 0
}