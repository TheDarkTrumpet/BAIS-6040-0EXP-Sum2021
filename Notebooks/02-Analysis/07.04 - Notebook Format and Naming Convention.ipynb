{
 "cells": [
  {
   "cell_type": "markdown",
   "metadata": {
    "collapsed": true,
    "pycharm": {
     "name": "#%% md\n"
    }
   },
   "source": [
    "# 07.04 - Notebook Format and Naming Convention\n",
    "\n",
    "## Purpose\n",
    "\n",
    "It's come up a few times when people don't understand the 30% part of the grade, and why I'm grading the way I'm grading.\n",
    "\n",
    "The video part of this can be found in 01.01 - Course Introduction.\n",
    "https://uiowa.instructure.com/courses/172943/modules/items/4525367\n",
    "\n",
    "The above explains much of it, this is intended to explain it in more detail\n",
    "\n",
    "## Description of Problem.\n",
    "\n",
    "The grading in this class is 50% As and 50% Bs, but the breakdown for any particular homework/exam is: 70% correctness and 30% format/naming/etc.\n",
    "\n",
    "Why?\n",
    "\n",
    "The largest cost in software development is the **maintenance** of code, not the development of it (https://stackoverflow.com/questions/3477706/development-cost-versus-maintenance-cost).  The Data Sciences realm have even worse of an issue because few teach the importance of naming.  When you write code, it needs to be as clear as possible on intention.  What does this help with?\n",
    "\n",
    "* When you come back to it in 6 months (or longer) you know what was done and why.\n",
    "* Less bugs - If things are consistent, it's easier to read, and less likely to cause issues.\n",
    "* Easier to explain - If you have to show your code to anyone, it's easier to explain if it's better written.\n",
    "\n",
    "## Sections contained in notebook:\n",
    "\n",
    "* Naming Convention Category - Covers names, both of functions and of variables\n",
    "* Conciseness - Covers making code cleaner in communication\n",
    "* Creativity - Going \"above and beyond\"\n",
    "\n",
    "## References\n",
    "\n",
    "Some books I highly recommend that talk about this topic, some of which is also included on ICON (under module 7):\n",
    "\n",
    "* https://www.amazon.com/Clean-Code-Handbook-Software-Craftsmanship/dp/0132350882 - Clean Code, a Handbook of Agile Software Development\n",
    "  * A very good book that explains naming convention, and what makes code \"clean\" (Or at least \"cleaner\").  A book I heavily rely on (and have for many, many years)\n",
    "* https://www.amazon.com/Pragmatic-Programmer-journey-mastery-Anniversary/dp/0135957052/ - Pragmatic Programmer: Your Journey to Mastery.\n",
    "  * I have an older copy of this book, but it's good.  Similar to Clean Code"
   ]
  },
  {
   "cell_type": "markdown",
   "source": [
    "# Naming Convention Category\n",
    "\n",
    "## Consistent Names\n",
    "\n",
    "What do I mean by consistent names? Lets look at some examples, pretend this is all in one notebook:"
   ],
   "metadata": {
    "collapsed": false,
    "pycharm": {
     "name": "#%% md\n"
    }
   }
  },
  {
   "cell_type": "code",
   "execution_count": 1,
   "outputs": [],
   "source": [
    "myInt = 0\n",
    "my_int = 0\n",
    "MyInt = 0\n",
    "MYINT = 0"
   ],
   "metadata": {
    "collapsed": false,
    "pycharm": {
     "name": "#%%\n"
    }
   }
  },
  {
   "cell_type": "markdown",
   "source": [
    "Each of the above are inconsistently named.  Python has some guidelines (which I don't grade on), that you can follow.  But, be consistent.\n",
    "\n",
    "## Proper Names\n",
    "\n",
    "Proper names fall with 'consistent names' as well as 'format' in terms of the grading.  Names should be descriptive about what they're holding.  Sometimes this is good to make your own story, or use hints from homework to wrap a story around.  Let's take an example:"
   ],
   "metadata": {
    "collapsed": false,
    "pycharm": {
     "name": "#%% md\n"
    }
   }
  },
  {
   "cell_type": "code",
   "execution_count": 2,
   "outputs": [],
   "source": [
    "myMatrix = [[1, 2, 3], [4, 5, 6]]\n",
    "catAges = [5, 7, 2, 8, 1]"
   ],
   "metadata": {
    "collapsed": false,
    "pycharm": {
     "name": "#%%\n"
    }
   }
  },
  {
   "cell_type": "markdown",
   "source": [
    "In the first example, myMatrix - why is this bad? Well, it tells me **nothing** about the purpose of this variable, or why I should care.  Are those ages of children? The weight of loaves of bread? etc.  The variable below, catAges, is more descriptive.  It's clear from the start that this is a list of ages of cats.\n",
    "\n",
    "The readers of your code shouldn't have to investigate how it's used to know what it's for.  Simple as that.\n",
    "\n",
    "Some tips though:\n",
    "\n",
    "* Make it descriptive, use names that matter and indicate why I should care (as a reader of your notebook).\n",
    "* Make it consistently named with other variables in your notebook.\n",
    "* Don't make it redundant.  Avoid the use of 'matrix', for example.  You'll notice I tend to spell out the type (anInt), or (aMatrix) because I'm indicating the type, for your benefit.  In real projects, use real names and not types unless you have to for some reason."
   ],
   "metadata": {
    "collapsed": false,
    "pycharm": {
     "name": "#%% md\n"
    }
   }
  },
  {
   "cell_type": "markdown",
   "source": [
    "# Conciseness\n",
    "\n",
    "When I talk about conciseness, there's a few parts.  Do you have duplicated code (e.g. a duplicated while loop with only minor changes?)  Do you have functionality defined that isn't used?  Are you using an improper loop for a particular problem?\n",
    "\n",
    "Let's go through some examples\n",
    "\n",
    "## Loop Choices (conciseness)"
   ],
   "metadata": {
    "collapsed": false,
    "pycharm": {
     "name": "#%% md\n"
    }
   }
  },
  {
   "cell_type": "code",
   "execution_count": 3,
   "outputs": [],
   "source": [
    "catAges = []\n",
    "for x in range(10):\n",
    "    catAges.append(x)"
   ],
   "metadata": {
    "collapsed": false,
    "pycharm": {
     "name": "#%%\n"
    }
   }
  },
  {
   "cell_type": "markdown",
   "source": [
    "The above is not concise. Largely speaking, I likely wouldn't grade negatively on the above, even if it's not concise - but it's not concise.  Why?  Because list comprehension exists, and is cleaner (less code)"
   ],
   "metadata": {
    "collapsed": false,
    "pycharm": {
     "name": "#%% md\n"
    }
   }
  },
  {
   "cell_type": "code",
   "execution_count": 4,
   "outputs": [],
   "source": [
    "catAges = [x for x in range(10)]"
   ],
   "metadata": {
    "collapsed": false,
    "pycharm": {
     "name": "#%%\n"
    }
   }
  },
  {
   "cell_type": "markdown",
   "source": [
    "## Duplicated Code\n",
    "Below, we have some duplicated code doing the same general thing."
   ],
   "metadata": {
    "collapsed": false,
    "pycharm": {
     "name": "#%% md\n"
    }
   }
  },
  {
   "cell_type": "code",
   "execution_count": 5,
   "outputs": [],
   "source": [
    "counter = 0\n",
    "myCollection = []  # Notice, bad name\n",
    "while counter < 10:\n",
    "    myCollection.append(counter)\n",
    "    counter += 1\n",
    "\n",
    "myCollection2 = []  # Notice, also a bad name\n",
    "counter = 0\n",
    "while counter < 15:\n",
    "    myCollection.append(counter)\n",
    "    counter += 1"
   ],
   "metadata": {
    "collapsed": false,
    "pycharm": {
     "name": "#%%\n"
    }
   }
  },
  {
   "cell_type": "markdown",
   "source": [
    "The above can be written better two ways.  Ideally, this is another case for list comprehension, but if you have to use a while loop, then:"
   ],
   "metadata": {
    "collapsed": false,
    "pycharm": {
     "name": "#%% md\n"
    }
   }
  },
  {
   "cell_type": "code",
   "execution_count": 6,
   "outputs": [],
   "source": [
    "def generateIntegerSequence(length):  # Notice, good name\n",
    "    returnCollection = []\n",
    "    counter = 0\n",
    "    while counter < length:\n",
    "        returnCollection.append(counter)\n",
    "        counter += 1\n",
    "    return returnCollection\n",
    "\n",
    "myCollection = generateIntegerSequence(10)\n",
    "myCollection2 = generateIntegerSequence(15)"
   ],
   "metadata": {
    "collapsed": false,
    "pycharm": {
     "name": "#%%\n"
    }
   }
  },
  {
   "cell_type": "markdown",
   "source": [
    "## Functions\n",
    "\n",
    "Functions should be meaningful, not just replacing what's already in Python.  For example:"
   ],
   "metadata": {
    "collapsed": false,
    "pycharm": {
     "name": "#%% md\n"
    }
   }
  },
  {
   "cell_type": "code",
   "execution_count": 7,
   "outputs": [],
   "source": [
    "import random as rnd\n",
    "def generateRandomSequence(low, high, num):\n",
    "    return [rnd.randint(low, high) for _ in range(num)]"
   ],
   "metadata": {
    "collapsed": false,
    "pycharm": {
     "name": "#%%\n"
    }
   }
  },
  {
   "cell_type": "markdown",
   "source": [
    "The above is not really useful, it doesn't add anything that base Python doesn't already provide.  It's okay for practice, but too many of these cause readability issues.  But, if the requested structure is more complicated, and you're unsure how to do it in a library, it can help.  For example:"
   ],
   "metadata": {
    "collapsed": false,
    "pycharm": {
     "name": "#%% md\n"
    }
   }
  },
  {
   "cell_type": "code",
   "execution_count": 8,
   "outputs": [],
   "source": [
    "import numpy as np\n",
    "def generateRandomMatrix(low, high, dimensions):\n",
    "    \"\"\"Given a low and high number, and a dimension tuple (x, y) return a y by x matrix of random numbers between the low and high\"\"\"\n",
    "    x = dimensions[0]\n",
    "    y = dimensions[1]\n",
    "    returnStructure = []\n",
    "    while len(returnStructure) < y:\n",
    "        returnStructure.append([rnd.randint(low, high) for _ in range(x)])\n",
    "    return np.asarray(returnStructure)"
   ],
   "metadata": {
    "collapsed": false,
    "pycharm": {
     "name": "#%%\n"
    }
   }
  },
  {
   "cell_type": "code",
   "execution_count": 9,
   "outputs": [
    {
     "data": {
      "text/plain": "array([[ 6,  2,  9,  5,  8],\n       [ 9,  5,  4,  5,  5],\n       [ 4,  4,  3,  5,  4],\n       [10,  4,  7,  7,  2],\n       [ 5,  7,  4,  1, 10],\n       [ 5,  3,  8,  5,  5],\n       [10,  3, 10,  2,  3],\n       [ 7,  3,  4,  7, 10],\n       [ 5,  3,  1,  4,  1],\n       [ 1,  4,  7,  6, 10]])"
     },
     "execution_count": 9,
     "metadata": {},
     "output_type": "execute_result"
    }
   ],
   "source": [
    "generateRandomMatrix(1, 10, (5, 10))"
   ],
   "metadata": {
    "collapsed": false,
    "pycharm": {
     "name": "#%%\n"
    }
   }
  },
  {
   "cell_type": "markdown",
   "source": [
    "While the generateRandomMatrix is overkill for what we're doing (could be greatly simplified), the point loss is far less than otherwise, but when dealing with more complicated structures, a function is perfectly applicable."
   ],
   "metadata": {
    "collapsed": false,
    "pycharm": {
     "name": "#%% md\n"
    }
   }
  },
  {
   "cell_type": "markdown",
   "source": [
    "## Improper Loop\n",
    "\n",
    "Loop choices do matter.  I've recommended many times about \"ask yourself why\" you choose one thing over another.\n",
    "\n",
    "Let's go through an example."
   ],
   "metadata": {
    "collapsed": false,
    "pycharm": {
     "name": "#%% md\n"
    }
   }
  },
  {
   "cell_type": "code",
   "execution_count": 10,
   "outputs": [
    {
     "name": "stdout",
     "output_type": "stream",
     "text": [
      "Cat Age: 1\n",
      "Cat Age: 5\n",
      "Cat Age: 3\n",
      "Cat Age: 2\n",
      "Cat Age: 9\n",
      "Cat Age: 8\n"
     ]
    }
   ],
   "source": [
    "catAges = [1, 5, 3, 2, 9, 8]\n",
    "\n",
    "counter = 0\n",
    "while counter < 6:\n",
    "    print(f\"Cat Age: {catAges[counter]}\")\n",
    "    counter += 1"
   ],
   "metadata": {
    "collapsed": false,
    "pycharm": {
     "name": "#%%\n"
    }
   }
  },
  {
   "cell_type": "markdown",
   "source": [
    "There's two things wrong with the above implementation.  First, we hardcoded the 6 for the length.  What happens if we have catAges with more or less elements?  We then introduce a bug.  Second, this is better served as a for loop, because it eliminates the above bug, and has less code.  That would be:"
   ],
   "metadata": {
    "collapsed": false,
    "pycharm": {
     "name": "#%% md\n"
    }
   }
  },
  {
   "cell_type": "code",
   "execution_count": 11,
   "outputs": [
    {
     "name": "stdout",
     "output_type": "stream",
     "text": [
      "Cat Age: 1\n",
      "Cat Age: 5\n",
      "Cat Age: 3\n",
      "Cat Age: 2\n",
      "Cat Age: 9\n",
      "Cat Age: 8\n"
     ]
    }
   ],
   "source": [
    "for age in catAges:\n",
    "    print(f\"Cat Age: {age}\")"
   ],
   "metadata": {
    "collapsed": false,
    "pycharm": {
     "name": "#%%\n"
    }
   }
  },
  {
   "cell_type": "markdown",
   "source": [
    "# Notebook Format\n",
    "\n",
    "The format of your notebook matters, too.  Do you include any documentation?  Do you have blocks clearly identified?\n",
    "\n",
    "Most people have been using my .todo file, and just extending off it.  Largely speaking, I haven't been strict here either, but did go over it in lectures.  The format, I generally go for is:\n",
    "\n",
    "1.  The title of the notebook\n",
    "2.  A description of the notebook (again, why should I care to read this as an receiver of the notebook)\n",
    "3.  Dependencies/libraries (that I may need to install)\n",
    "4.  Imports\n",
    "5.  Helper functions\n",
    "6.  Implementation\n",
    "\n",
    "For the **Implementation** section, it may be useful to break that out (like I do by section).  In production notebooks, you may have a **conclusion** at the end, too.\n",
    "\n",
    "Along with notebook format is stuff like:\n",
    "* Misspellings - Did you turn in the notebook without typos in either the comments or the names.\n",
    "* Proper capitalization - Does your notebook read professionally, something you're proud of sharing."
   ],
   "metadata": {
    "collapsed": false,
    "pycharm": {
     "name": "#%% md\n"
    }
   }
  },
  {
   "cell_type": "markdown",
   "source": [
    "# Creativity\n",
    "\n",
    "Creativity can earn you bonus points in certain circumstances.  This usually mean adding in more than was is explicitly required.  Some examples of that are:\n",
    "\n",
    "1.  Interesting helper functions.  One student wrote a helper for printing out types of variables/values, which is interesting.\n",
    "2.  A story around the data set.  Another student wrote more about their data set, adding names and a story around what they did.\n",
    "3.  Finding an interesting way of implementation that was concise, and outside what was directly taught (in some cases, it's rare).\n",
    "\n",
    "The max grade for any one assignment is 100, regardless of how many bonus points are awarded.  But, early on in the course, I explained that the purpose of the language is to \"play\" with it to get a better idea of how to use it.  Some people have taken that opportunity in their homework to show attempts they went through to get an answer, why they picked one, and so on.  Even if incorrect, understanding what you attempted will give you far more points."
   ],
   "metadata": {
    "collapsed": false,
    "pycharm": {
     "name": "#%% md\n"
    }
   }
  }
 ],
 "metadata": {
  "kernelspec": {
   "display_name": "Python 3",
   "language": "python",
   "name": "python3"
  },
  "language_info": {
   "codemirror_mode": {
    "name": "ipython",
    "version": 2
   },
   "file_extension": ".py",
   "mimetype": "text/x-python",
   "name": "python",
   "nbconvert_exporter": "python",
   "pygments_lexer": "ipython2",
   "version": "2.7.6"
  }
 },
 "nbformat": 4,
 "nbformat_minor": 0
}