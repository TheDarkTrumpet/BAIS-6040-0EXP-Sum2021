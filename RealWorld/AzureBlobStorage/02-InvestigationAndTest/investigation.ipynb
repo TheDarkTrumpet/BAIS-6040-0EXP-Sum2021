{
 "cells": [
  {
   "cell_type": "markdown",
   "metadata": {
    "collapsed": true,
    "pycharm": {
     "name": "#%% md\n"
    }
   },
   "source": [
    "# investigation.ipynb\n",
    "\n",
    "## Purpose\n",
    "This is a simple implementation of reading from a directory, and uploading the files to Azure blog storage."
   ]
  },
  {
   "cell_type": "code",
   "execution_count": 2,
   "outputs": [],
   "source": [
    "inputDirectory = \"~/temp/blob-tutorial\"\n",
    "\n",
    "connect_str = \"DefaultEndpointsProtocol=https;AccountName=blobstoragepythontest;AccountKey=C6XOlJMATKpBiu8Owb2IJpMZV/Jt5nyoI5nWncUJTgNFiY0ga/Yw4fhFBlxtPWY/Krbp4e81KWH1lSD2YYARew==;EndpointSuffix=core.windows.net\""
   ],
   "metadata": {
    "collapsed": false,
    "pycharm": {
     "name": "#%%\n"
    }
   }
  },
  {
   "cell_type": "code",
   "execution_count": 9,
   "outputs": [],
   "source": [
    "import os, uuid\n",
    "import os.path\n",
    "from azure.storage.blob import BlobServiceClient, BlobClient, ContainerClient, __version__\n",
    "\n",
    "# Create the BlobServiceClient object which will be used to create a container client\n",
    "blob_service_client = BlobServiceClient.from_connection_string(connect_str)\n",
    "container = list(blob_service_client.list_containers())[0]"
   ],
   "metadata": {
    "collapsed": false,
    "pycharm": {
     "name": "#%%\n"
    }
   }
  },
  {
   "cell_type": "code",
   "execution_count": 10,
   "outputs": [],
   "source": [
    "# Create the container\n",
    "container_client = blob_service_client.get_container_client(container)"
   ],
   "metadata": {
    "collapsed": false,
    "pycharm": {
     "name": "#%%\n"
    }
   }
  },
  {
   "cell_type": "code",
   "execution_count": 13,
   "outputs": [],
   "source": [
    "upload_file_path = \"/home/dthole/temp/blob-tutorial/test-file.bin\"\n",
    "basename = os.path.basename(upload_file_path)\n",
    "\n",
    "with open(upload_file_path, \"rb\") as data:\n",
    "    container_client.upload_blob(name=basename, data=data)"
   ],
   "metadata": {
    "collapsed": false,
    "pycharm": {
     "name": "#%%\n"
    }
   }
  },
  {
   "cell_type": "code",
   "execution_count": 17,
   "outputs": [
    {
     "name": "stdout",
     "output_type": "stream",
     "text": [
      "Currently processing, test-file4.bin\n",
      "Finished processing, test-file4.bin\n",
      "Currently processing, test-file5.bin\n",
      "Finished processing, test-file5.bin\n",
      "Currently processing, test-file3.bin\n",
      "Finished processing, test-file3.bin\n",
      "Currently processing, test-file2.bin\n",
      "Finished processing, test-file2.bin\n",
      "Currently processing, test-file.bin\n",
      "Finished processing, test-file.bin\n"
     ]
    }
   ],
   "source": [
    "for filename in os.listdir('/home/dthole/temp/blob-tutorial/'):\n",
    "    print(f\"Currently processing, {filename}\")\n",
    "    basename = os.path.basename(filename)\n",
    "    with open(upload_file_path, \"rb\") as data:\n",
    "        container_client.upload_blob(name=basename, data=data, overwrite=True)\n",
    "    print(f\"Finished processing, {filename}\")"
   ],
   "metadata": {
    "collapsed": false,
    "pycharm": {
     "name": "#%%\n"
    }
   }
  },
  {
   "cell_type": "code",
   "execution_count": null,
   "outputs": [],
   "source": [],
   "metadata": {
    "collapsed": false,
    "pycharm": {
     "name": "#%%\n"
    }
   }
  }
 ],
 "metadata": {
  "kernelspec": {
   "display_name": "Python 3",
   "language": "python",
   "name": "python3"
  },
  "language_info": {
   "codemirror_mode": {
    "name": "ipython",
    "version": 2
   },
   "file_extension": ".py",
   "mimetype": "text/x-python",
   "name": "python",
   "nbconvert_exporter": "python",
   "pygments_lexer": "ipython2",
   "version": "2.7.6"
  }
 },
 "nbformat": 4,
 "nbformat_minor": 0
}