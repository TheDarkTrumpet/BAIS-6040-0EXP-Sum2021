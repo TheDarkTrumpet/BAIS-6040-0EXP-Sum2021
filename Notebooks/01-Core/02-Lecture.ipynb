{
 "cells": [
  {
   "cell_type": "markdown",
   "id": "592f5e1e-df5e-495c-a5fe-d3c260b89da9",
   "metadata": {},
   "source": [
    "# 02-Lecture\n",
    "\n",
    "Demonstration of solving Problem 1 in Project Euler\n",
    "\n",
    "\n",
    "# Problem\n",
    "If we list all the natural numbers below 10 that are multiples of 3 or 5, we get 3, 5, 6 and 9. The sum of these multiples is 23.\n",
    "\n",
    "Find the sum of all the multiples of 3 or 5 below 1000."
   ]
  },
  {
   "cell_type": "code",
   "execution_count": 1,
   "id": "9f956d91-6695-4f3f-8650-c2a28089aab8",
   "metadata": {},
   "outputs": [],
   "source": [
    "# natural_number_ceiling = 10\n",
    "natural_number_ceiling = 1000"
   ]
  },
  {
   "cell_type": "code",
   "execution_count": 2,
   "id": "b6cc7127-b538-4a2f-bbb9-afa67bd33c54",
   "metadata": {},
   "outputs": [
    {
     "name": "stdout",
     "output_type": "stream",
     "text": [
      "[0, 3, 5, 6, 9, 10, 12, 15, 18, 20, 21, 24, 25, 27, 30, 33, 35, 36, 39, 40, 42, 45, 48, 50, 51, 54, 55, 57, 60, 63, 65, 66, 69, 70, 72, 75, 78, 80, 81, 84, 85, 87, 90, 93, 95, 96, 99, 100, 102, 105, 108, 110, 111, 114, 115, 117, 120, 123, 125, 126, 129, 130, 132, 135, 138, 140, 141, 144, 145, 147, 150, 153, 155, 156, 159, 160, 162, 165, 168, 170, 171, 174, 175, 177, 180, 183, 185, 186, 189, 190, 192, 195, 198, 200, 201, 204, 205, 207, 210, 213, 215, 216, 219, 220, 222, 225, 228, 230, 231, 234, 235, 237, 240, 243, 245, 246, 249, 250, 252, 255, 258, 260, 261, 264, 265, 267, 270, 273, 275, 276, 279, 280, 282, 285, 288, 290, 291, 294, 295, 297, 300, 303, 305, 306, 309, 310, 312, 315, 318, 320, 321, 324, 325, 327, 330, 333, 335, 336, 339, 340, 342, 345, 348, 350, 351, 354, 355, 357, 360, 363, 365, 366, 369, 370, 372, 375, 378, 380, 381, 384, 385, 387, 390, 393, 395, 396, 399, 400, 402, 405, 408, 410, 411, 414, 415, 417, 420, 423, 425, 426, 429, 430, 432, 435, 438, 440, 441, 444, 445, 447, 450, 453, 455, 456, 459, 460, 462, 465, 468, 470, 471, 474, 475, 477, 480, 483, 485, 486, 489, 490, 492, 495, 498, 500, 501, 504, 505, 507, 510, 513, 515, 516, 519, 520, 522, 525, 528, 530, 531, 534, 535, 537, 540, 543, 545, 546, 549, 550, 552, 555, 558, 560, 561, 564, 565, 567, 570, 573, 575, 576, 579, 580, 582, 585, 588, 590, 591, 594, 595, 597, 600, 603, 605, 606, 609, 610, 612, 615, 618, 620, 621, 624, 625, 627, 630, 633, 635, 636, 639, 640, 642, 645, 648, 650, 651, 654, 655, 657, 660, 663, 665, 666, 669, 670, 672, 675, 678, 680, 681, 684, 685, 687, 690, 693, 695, 696, 699, 700, 702, 705, 708, 710, 711, 714, 715, 717, 720, 723, 725, 726, 729, 730, 732, 735, 738, 740, 741, 744, 745, 747, 750, 753, 755, 756, 759, 760, 762, 765, 768, 770, 771, 774, 775, 777, 780, 783, 785, 786, 789, 790, 792, 795, 798, 800, 801, 804, 805, 807, 810, 813, 815, 816, 819, 820, 822, 825, 828, 830, 831, 834, 835, 837, 840, 843, 845, 846, 849, 850, 852, 855, 858, 860, 861, 864, 865, 867, 870, 873, 875, 876, 879, 880, 882, 885, 888, 890, 891, 894, 895, 897, 900, 903, 905, 906, 909, 910, 912, 915, 918, 920, 921, 924, 925, 927, 930, 933, 935, 936, 939, 940, 942, 945, 948, 950, 951, 954, 955, 957, 960, 963, 965, 966, 969, 970, 972, 975, 978, 980, 981, 984, 985, 987, 990, 993, 995, 996, 999]\n"
     ]
    }
   ],
   "source": [
    "counter = 0\n",
    "natural_numbers = []\n",
    "while counter < natural_number_ceiling:\n",
    "    if (counter % 3 == 0) or (counter % 5 == 0):\n",
    "        natural_numbers.append(counter)\n",
    "    counter += 1\n",
    "print(natural_numbers)"
   ]
  },
  {
   "cell_type": "code",
   "execution_count": 3,
   "id": "fd8a4c47-9ad6-41e6-acda-78e2a58eeaf2",
   "metadata": {},
   "outputs": [
    {
     "data": {
      "text/plain": "233168"
     },
     "execution_count": 3,
     "metadata": {},
     "output_type": "execute_result"
    }
   ],
   "source": [
    "sum(natural_numbers)"
   ]
  },
  {
   "cell_type": "markdown",
   "id": "16b2163d-61de-4402-9240-a7d10c3fae16",
   "metadata": {
    "pycharm": {
     "name": "#%% md\n"
    }
   },
   "source": [
    "# Class Activity\n",
    "\n",
    "Do these as a group, solve as many as you can and if you finish early, try some Project Euler Problems (See end)"
   ]
  },
  {
   "cell_type": "markdown",
   "source": [
    "## Problem 1\n",
    "Create a random list of 10 elements (range doesn't matter).  Programmatically (key word), pull the first element, the middle element (round up or down), and the last element.  Then, add them up."
   ],
   "metadata": {
    "collapsed": false,
    "pycharm": {
     "name": "#%% md\n"
    }
   }
  },
  {
   "cell_type": "code",
   "execution_count": 5,
   "outputs": [],
   "source": [
    "import random as rnd\n",
    "import math\n",
    "rnd.seed(100)"
   ],
   "metadata": {
    "collapsed": false,
    "pycharm": {
     "name": "#%%\n"
    }
   }
  },
  {
   "cell_type": "code",
   "execution_count": 6,
   "outputs": [
    {
     "name": "stdout",
     "output_type": "stream",
     "text": [
      "[5, 15, 15, 6, 13, 12, 14, 17, 4, 18]\n"
     ]
    }
   ],
   "source": [
    "randList = [rnd.randint(1, 20) for _ in range(10)]\n",
    "print(randList)"
   ],
   "metadata": {
    "collapsed": false,
    "pycharm": {
     "name": "#%%\n"
    }
   }
  },
  {
   "cell_type": "code",
   "execution_count": 9,
   "outputs": [],
   "source": [
    "middlePoint = int(len(randList) / 2)"
   ],
   "metadata": {
    "collapsed": false,
    "pycharm": {
     "name": "#%%\n"
    }
   }
  },
  {
   "cell_type": "code",
   "execution_count": 11,
   "outputs": [
    {
     "name": "stdout",
     "output_type": "stream",
     "text": [
      "First element: 5\n",
      "Middle element: 13\n",
      "Last element: 18\n",
      "Sum: 36\n"
     ]
    }
   ],
   "source": [
    "subList = [\n",
    "    randList[0],\n",
    "    randList[middlePoint-1],\n",
    "    randList[-1]\n",
    "]\n",
    "print(f\"First element: {subList[0]}\")\n",
    "print(f\"Middle element: {subList[1]}\")\n",
    "print(f\"Last element: {subList[2]}\")\n",
    "print(f\"Sum: {sum(subList)}\")"
   ],
   "metadata": {
    "collapsed": false,
    "pycharm": {
     "name": "#%%\n"
    }
   }
  },
  {
   "cell_type": "markdown",
   "source": [
    "## Problem 2\n",
    "\n",
    "Create two lists of 10 elements a piece.  Programmatically (key word), take the first element of list A, and the last element of list B and create a tuple.  Repeat this process increasing across list A, and decreasing on list B.  The ending structure is a list of tuples.  Do not reverse list B in the process.\n",
    "\n",
    "Pay attention to the output!"
   ],
   "metadata": {
    "collapsed": false,
    "pycharm": {
     "name": "#%% md\n"
    }
   }
  },
  {
   "cell_type": "code",
   "execution_count": 12,
   "outputs": [
    {
     "name": "stdout",
     "output_type": "stream",
     "text": [
      "List A: [4, 3, 15, 9, 2, 7, 11, 8, 10, 7]\n",
      "List B: [6, 5, 7, 12, 12, 14, 7, 13, 15, 18]\n"
     ]
    }
   ],
   "source": [
    "listA = [rnd.randint(1, 20) for _ in range(10)]\n",
    "listB = [rnd.randint(1, 20) for _ in range(10)]\n",
    "\n",
    "print(f\"List A: {listA}\")\n",
    "print(f\"List B: {listB}\")"
   ],
   "metadata": {
    "collapsed": false,
    "pycharm": {
     "name": "#%%\n"
    }
   }
  },
  {
   "cell_type": "code",
   "execution_count": 15,
   "outputs": [
    {
     "data": {
      "text/plain": "[(4, 18),\n (3, 15),\n (15, 13),\n (9, 7),\n (2, 14),\n (7, 12),\n (11, 12),\n (8, 7),\n (10, 5),\n (7, 6)]"
     },
     "execution_count": 15,
     "metadata": {},
     "output_type": "execute_result"
    }
   ],
   "source": [
    "lengthEnd = len(listA) - 1\n",
    "counter = 0\n",
    "\n",
    "endStructure = []\n",
    "while counter <= lengthEnd:\n",
    "    endStructure.append((listA[counter], listB[lengthEnd - counter]))\n",
    "    counter += 1\n",
    "\n",
    "endStructure"
   ],
   "metadata": {
    "collapsed": false,
    "pycharm": {
     "name": "#%%\n"
    }
   }
  },
  {
   "cell_type": "markdown",
   "source": [
    "## Problem 3\n",
    "\n",
    "Using the variable 'endStructure' from before, multiply the numbers in each tuple within the list and output the result."
   ],
   "metadata": {
    "collapsed": false,
    "pycharm": {
     "name": "#%% md\n"
    }
   }
  },
  {
   "cell_type": "code",
   "execution_count": 16,
   "outputs": [
    {
     "name": "stdout",
     "output_type": "stream",
     "text": [
      "endStructure = [(4, 18), (3, 15), (15, 13), (9, 7), (2, 14), (7, 12), (11, 12), (8, 7), (10, 5), (7, 6)]\n"
     ]
    }
   ],
   "source": [
    "print(f\"endStructure = {endStructure}\")"
   ],
   "metadata": {
    "collapsed": false,
    "pycharm": {
     "name": "#%%\n"
    }
   }
  },
  {
   "cell_type": "code",
   "execution_count": 17,
   "outputs": [
    {
     "data": {
      "text/plain": "[72, 45, 195, 63, 28, 84, 132, 56, 50, 42]"
     },
     "execution_count": 17,
     "metadata": {},
     "output_type": "execute_result"
    }
   ],
   "source": [
    "list(map(lambda x: x[0] * x[1], endStructure))\n"
   ],
   "metadata": {
    "collapsed": false,
    "pycharm": {
     "name": "#%%\n"
    }
   }
  }
 ],
 "metadata": {
  "kernelspec": {
   "display_name": "Python 3",
   "language": "python",
   "name": "python3"
  },
  "language_info": {
   "codemirror_mode": {
    "name": "ipython",
    "version": 3
   },
   "file_extension": ".py",
   "mimetype": "text/x-python",
   "name": "python",
   "nbconvert_exporter": "python",
   "pygments_lexer": "ipython3",
   "version": "3.8.10"
  }
 },
 "nbformat": 4,
 "nbformat_minor": 5
}