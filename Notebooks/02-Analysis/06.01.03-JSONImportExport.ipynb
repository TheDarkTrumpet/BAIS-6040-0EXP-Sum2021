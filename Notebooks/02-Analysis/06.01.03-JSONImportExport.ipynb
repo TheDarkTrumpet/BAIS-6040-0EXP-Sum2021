{
 "cells": [
  {
   "cell_type": "markdown",
   "metadata": {
    "collapsed": true,
    "pycharm": {
     "name": "#%% md\n"
    }
   },
   "source": [
    "# 06.01.02 - JSONImportExport\n",
    "\n",
    "## Purpose\n",
    "\n",
    "This notebook specifically talks about dealing with JSON files.  Both input/output.  Please note that we won't be doing really any analysis on these files.  Just pulling them in, doing simple operations, and exporting them\n",
    "\n",
    "This notebook is part of a set of notebooks about file input/output.\n",
    "\n",
    "## Requirements\n",
    "\n",
    "This notebook will read from the data directory within the Github repo.  Pulling this notebook, by itself, will likely NOT work.  You will need to pull down the entire repository.\n",
    "\n",
    "This notebook will also read from a CSV online.  So internet access at the time of run is required.\n",
    "\n",
    "This notebook is developed in PyCharm.  It's possible that you may need to modify some paths to get this working if you are using Jupyter or have a different environment.  Please look at and modify the _dataDir_ and __exportDir__ variable below, as needed.  These need to exist, and are directory names.  Subsequent runs of this should overwrite files in the exportDir, and these aren't version controlled."
   ]
  },
  {
   "cell_type": "code",
   "execution_count": 1,
   "outputs": [],
   "source": [
    "# IMPORTANT: CHANGE THIS PATH IF IT DOESN'T WORK FOR YOU!!!\n",
    "dataDir = \"../../data/\"\n",
    "exportDir = \"../../export/\"\n",
    "\n",
    "import pandas as pd"
   ],
   "metadata": {
    "collapsed": false,
    "pycharm": {
     "name": "#%%\n"
    }
   }
  },
  {
   "cell_type": "markdown",
   "source": [
    "# Reading from on-disk locations\n",
    "JSON has a fairly flexible format.  There is a standard, but it's still pretty flexible.  It's important to read the instructions and play with some of these options.  For example, the below comes in incorrectly.\n",
    "\n",
    "Pay attention to the format of the document, and read the documentation.\n",
    "https://pandas.pydata.org/pandas-docs/stable/reference/api/pandas.DataFrame.to_json.html"
   ],
   "metadata": {
    "collapsed": false
   }
  },
  {
   "cell_type": "code",
   "execution_count": 2,
   "outputs": [
    {
     "data": {
      "text/plain": "               0      1            2        3      4      5       6       7    \\\nRank             1      2            3        4      5      6       7       8   \nYear          1980   1980         1980     1980   1980   1980    1980    1980   \nName       Michael  Jason  Christopher  Matthew  David  James  Robert  Daniel   \nFrequency     3886   2389         2273     2112   2088   1925    1763    1724   \n\n            8       9    ...    840    841     842      843     844     845  \\\nRank          9      10  ...     16     17      18       19      20      21   \nYear       1980    1980  ...   2013   2013    2013     2013    2013    2013   \nName       John  Joseph  ...  LUCAS  JAMES  JOSEPH  JACKSON  ELIJAH  NATHAN   \nFrequency  1722    1710  ...    489    482     482      476     471     470   \n\n              846    847    848   849  \nRank           22     23     24    25  \nYear         2013   2013   2013  2013  \nName       ANDREW  HENRY  DAVID  JACK  \nFrequency     468    463    461   440  \n\n[4 rows x 850 columns]",
      "text/html": "<div>\n<style scoped>\n    .dataframe tbody tr th:only-of-type {\n        vertical-align: middle;\n    }\n\n    .dataframe tbody tr th {\n        vertical-align: top;\n    }\n\n    .dataframe thead th {\n        text-align: right;\n    }\n</style>\n<table border=\"1\" class=\"dataframe\">\n  <thead>\n    <tr style=\"text-align: right;\">\n      <th></th>\n      <th>0</th>\n      <th>1</th>\n      <th>2</th>\n      <th>3</th>\n      <th>4</th>\n      <th>5</th>\n      <th>6</th>\n      <th>7</th>\n      <th>8</th>\n      <th>9</th>\n      <th>...</th>\n      <th>840</th>\n      <th>841</th>\n      <th>842</th>\n      <th>843</th>\n      <th>844</th>\n      <th>845</th>\n      <th>846</th>\n      <th>847</th>\n      <th>848</th>\n      <th>849</th>\n    </tr>\n  </thead>\n  <tbody>\n    <tr>\n      <th>Rank</th>\n      <td>1</td>\n      <td>2</td>\n      <td>3</td>\n      <td>4</td>\n      <td>5</td>\n      <td>6</td>\n      <td>7</td>\n      <td>8</td>\n      <td>9</td>\n      <td>10</td>\n      <td>...</td>\n      <td>16</td>\n      <td>17</td>\n      <td>18</td>\n      <td>19</td>\n      <td>20</td>\n      <td>21</td>\n      <td>22</td>\n      <td>23</td>\n      <td>24</td>\n      <td>25</td>\n    </tr>\n    <tr>\n      <th>Year</th>\n      <td>1980</td>\n      <td>1980</td>\n      <td>1980</td>\n      <td>1980</td>\n      <td>1980</td>\n      <td>1980</td>\n      <td>1980</td>\n      <td>1980</td>\n      <td>1980</td>\n      <td>1980</td>\n      <td>...</td>\n      <td>2013</td>\n      <td>2013</td>\n      <td>2013</td>\n      <td>2013</td>\n      <td>2013</td>\n      <td>2013</td>\n      <td>2013</td>\n      <td>2013</td>\n      <td>2013</td>\n      <td>2013</td>\n    </tr>\n    <tr>\n      <th>Name</th>\n      <td>Michael</td>\n      <td>Jason</td>\n      <td>Christopher</td>\n      <td>Matthew</td>\n      <td>David</td>\n      <td>James</td>\n      <td>Robert</td>\n      <td>Daniel</td>\n      <td>John</td>\n      <td>Joseph</td>\n      <td>...</td>\n      <td>LUCAS</td>\n      <td>JAMES</td>\n      <td>JOSEPH</td>\n      <td>JACKSON</td>\n      <td>ELIJAH</td>\n      <td>NATHAN</td>\n      <td>ANDREW</td>\n      <td>HENRY</td>\n      <td>DAVID</td>\n      <td>JACK</td>\n    </tr>\n    <tr>\n      <th>Frequency</th>\n      <td>3886</td>\n      <td>2389</td>\n      <td>2273</td>\n      <td>2112</td>\n      <td>2088</td>\n      <td>1925</td>\n      <td>1763</td>\n      <td>1724</td>\n      <td>1722</td>\n      <td>1710</td>\n      <td>...</td>\n      <td>489</td>\n      <td>482</td>\n      <td>482</td>\n      <td>476</td>\n      <td>471</td>\n      <td>470</td>\n      <td>468</td>\n      <td>463</td>\n      <td>461</td>\n      <td>440</td>\n    </tr>\n  </tbody>\n</table>\n<p>4 rows × 850 columns</p>\n</div>"
     },
     "execution_count": 2,
     "metadata": {},
     "output_type": "execute_result"
    }
   ],
   "source": [
    "boyNames = pd.read_json(f\"{dataDir}/BoyNames.json\")\n",
    "boyNames"
   ],
   "metadata": {
    "collapsed": false,
    "pycharm": {
     "name": "#%%\n"
    }
   }
  },
  {
   "cell_type": "code",
   "execution_count": 3,
   "outputs": [
    {
     "data": {
      "text/plain": "     Rank  Year         Name  Frequency\n0       1  1980      Michael       3886\n1       2  1980        Jason       2389\n2       3  1980  Christopher       2273\n3       4  1980      Matthew       2112\n4       5  1980        David       2088\n..    ...   ...          ...        ...\n845    21  2013       NATHAN        470\n846    22  2013       ANDREW        468\n847    23  2013        HENRY        463\n848    24  2013        DAVID        461\n849    25  2013         JACK        440\n\n[850 rows x 4 columns]",
      "text/html": "<div>\n<style scoped>\n    .dataframe tbody tr th:only-of-type {\n        vertical-align: middle;\n    }\n\n    .dataframe tbody tr th {\n        vertical-align: top;\n    }\n\n    .dataframe thead th {\n        text-align: right;\n    }\n</style>\n<table border=\"1\" class=\"dataframe\">\n  <thead>\n    <tr style=\"text-align: right;\">\n      <th></th>\n      <th>Rank</th>\n      <th>Year</th>\n      <th>Name</th>\n      <th>Frequency</th>\n    </tr>\n  </thead>\n  <tbody>\n    <tr>\n      <th>0</th>\n      <td>1</td>\n      <td>1980</td>\n      <td>Michael</td>\n      <td>3886</td>\n    </tr>\n    <tr>\n      <th>1</th>\n      <td>2</td>\n      <td>1980</td>\n      <td>Jason</td>\n      <td>2389</td>\n    </tr>\n    <tr>\n      <th>2</th>\n      <td>3</td>\n      <td>1980</td>\n      <td>Christopher</td>\n      <td>2273</td>\n    </tr>\n    <tr>\n      <th>3</th>\n      <td>4</td>\n      <td>1980</td>\n      <td>Matthew</td>\n      <td>2112</td>\n    </tr>\n    <tr>\n      <th>4</th>\n      <td>5</td>\n      <td>1980</td>\n      <td>David</td>\n      <td>2088</td>\n    </tr>\n    <tr>\n      <th>...</th>\n      <td>...</td>\n      <td>...</td>\n      <td>...</td>\n      <td>...</td>\n    </tr>\n    <tr>\n      <th>845</th>\n      <td>21</td>\n      <td>2013</td>\n      <td>NATHAN</td>\n      <td>470</td>\n    </tr>\n    <tr>\n      <th>846</th>\n      <td>22</td>\n      <td>2013</td>\n      <td>ANDREW</td>\n      <td>468</td>\n    </tr>\n    <tr>\n      <th>847</th>\n      <td>23</td>\n      <td>2013</td>\n      <td>HENRY</td>\n      <td>463</td>\n    </tr>\n    <tr>\n      <th>848</th>\n      <td>24</td>\n      <td>2013</td>\n      <td>DAVID</td>\n      <td>461</td>\n    </tr>\n    <tr>\n      <th>849</th>\n      <td>25</td>\n      <td>2013</td>\n      <td>JACK</td>\n      <td>440</td>\n    </tr>\n  </tbody>\n</table>\n<p>850 rows × 4 columns</p>\n</div>"
     },
     "execution_count": 3,
     "metadata": {},
     "output_type": "execute_result"
    }
   ],
   "source": [
    "boyNames = pd.read_json(f\"{dataDir}/BoyNames.json\", orient=\"index\")\n",
    "boyNames"
   ],
   "metadata": {
    "collapsed": false,
    "pycharm": {
     "name": "#%%\n"
    }
   }
  },
  {
   "cell_type": "markdown",
   "source": [
    "# Writing to disk\n",
    "Following the instructions on the documentation page, you can customize how things are saved.  A few options are below.  Be sure to look at the JSON file itself to get a better idea of what's going on."
   ],
   "metadata": {
    "collapsed": false,
    "pycharm": {
     "name": "#%% md\n"
    }
   }
  },
  {
   "cell_type": "code",
   "execution_count": 4,
   "outputs": [],
   "source": [
    "boyNames.to_json(f\"{exportDir}/boyNames.columns.json\", orient=\"columns\")\n",
    "boyNames.to_json(f\"{exportDir}/boyNames.values.json\", orient=\"values\")\n",
    "boyNames.to_json(f\"{exportDir}/boyNames.table.json\", orient=\"table\")"
   ],
   "metadata": {
    "collapsed": false,
    "pycharm": {
     "name": "#%%\n"
    }
   }
  },
  {
   "cell_type": "markdown",
   "source": [
    "Some closing notes include:\n",
    "\n",
    "1. JSON is becoming more and more popular over technologies like XML.  XML is used a lot though.\n",
    "2. Note the types of exports we can do.  Try playing with importing those same ones.  Are the column names retained in all cases?"
   ],
   "metadata": {
    "collapsed": false,
    "pycharm": {
     "name": "#%% md\n"
    }
   }
  }
 ],
 "metadata": {
  "kernelspec": {
   "display_name": "Python 3",
   "language": "python",
   "name": "python3"
  },
  "language_info": {
   "codemirror_mode": {
    "name": "ipython",
    "version": 2
   },
   "file_extension": ".py",
   "mimetype": "text/x-python",
   "name": "python",
   "nbconvert_exporter": "python",
   "pygments_lexer": "ipython2",
   "version": "2.7.6"
  }
 },
 "nbformat": 4,
 "nbformat_minor": 0
}