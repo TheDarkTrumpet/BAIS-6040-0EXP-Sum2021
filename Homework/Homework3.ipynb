{
 "cells": [
  {
   "cell_type": "markdown",
   "metadata": {
    "collapsed": true,
    "pycharm": {
     "name": "#%% md\n"
    }
   },
   "source": [
    "# Homework3.ipynb\n",
    "\n",
    "## Purpose\n",
    "\n",
    "The previous homework worked primarily with lists, iterating through them and picking elements.\n",
    "\n",
    "This homework will deal with the other types besides list, including conversion from one type to another.\n",
    "\n",
    "This particular homework will build on each other as one giant \"problem\" vs smaller individual problems.  If you end up getting stuck in any one spot in particular, then create the values by hand.  It's better to turn in what you can.\n",
    "\n",
    "## Requirements\n",
    "\n",
    "Readability will count more starting in this homework than in the previous ones.  Some tips, as a reminder:\n",
    "\n",
    "1. Name your variables to describe the use of it.\n",
    "2. When calling similar code (with minor changes), make a function.  You will find one case here where a function is valuable, if not more.\n",
    "3. Some documentation and 'chunking' up code is very useful.  Not everything should live in one cell, keep that in mind.\n",
    "\n",
    "One notebook will be required as a turn-in.  Please do not zip up the notebook before submitting, just turn it in.\n",
    "\n",
    "# Problem Description\n",
    "\n",
    "Lets assume we're balancing the books for a fish shop.  We want to generate fixture information that'll later be used for analysis.  We have the following properties we'll want to develop against in the future:\n",
    "\n",
    "- Date\n",
    "- Fish Sold\n",
    "- Gross Revenue\n",
    "- Expenses\n",
    "- Net Revenue\n",
    "\n",
    "Here, we'll generate the fixture information for these properties, which we'll show why it's useful at the very end."
   ]
  },
  {
   "cell_type": "code",
   "execution_count": null,
   "outputs": [],
   "source": [
    "# This space is for helper functions, do not put anything here til you figure out the helper functions to use"
   ],
   "metadata": {
    "collapsed": false,
    "pycharm": {
     "name": "#%%\n"
    }
   }
  },
  {
   "cell_type": "markdown",
   "source": [
    "# Step 1"
   ],
   "metadata": {
    "collapsed": false,
    "pycharm": {
     "name": "#%% md\n"
    }
   }
  }
 ],
 "metadata": {
  "kernelspec": {
   "display_name": "Python 3",
   "language": "python",
   "name": "python3"
  },
  "language_info": {
   "codemirror_mode": {
    "name": "ipython",
    "version": 2
   },
   "file_extension": ".py",
   "mimetype": "text/x-python",
   "name": "python",
   "nbconvert_exporter": "python",
   "pygments_lexer": "ipython2",
   "version": "2.7.6"
  }
 },
 "nbformat": 4,
 "nbformat_minor": 0
}